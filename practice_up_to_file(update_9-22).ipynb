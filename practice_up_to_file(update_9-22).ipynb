{
 "cells": [
  {
   "cell_type": "code",
   "execution_count": 2,
   "metadata": {},
   "outputs": [
    {
     "name": "stdout",
     "output_type": "stream",
     "text": [
      "HELLO WORLD\n"
     ]
    }
   ],
   "source": [
    "x = \"Hello World\"\n",
    "print(x.upper())\n"
   ]
  },
  {
   "cell_type": "code",
   "execution_count": 3,
   "metadata": {},
   "outputs": [
    {
     "name": "stdout",
     "output_type": "stream",
     "text": [
      "hello world\n"
     ]
    }
   ],
   "source": [
    "print(x.lower())"
   ]
  },
  {
   "cell_type": "code",
   "execution_count": 4,
   "metadata": {},
   "outputs": [
    {
     "name": "stdout",
     "output_type": "stream",
     "text": [
      "Hello World\n"
     ]
    }
   ],
   "source": [
    "print(x.title())"
   ]
  },
  {
   "cell_type": "code",
   "execution_count": 6,
   "metadata": {},
   "outputs": [
    {
     "name": "stdout",
     "output_type": "stream",
     "text": [
      "2\n"
     ]
    }
   ],
   "source": [
    "print(x.count('o'))"
   ]
  },
  {
   "cell_type": "code",
   "execution_count": 7,
   "metadata": {},
   "outputs": [
    {
     "name": "stdout",
     "output_type": "stream",
     "text": [
      "4\n"
     ]
    }
   ],
   "source": [
    "print(x.find('o'))"
   ]
  },
  {
   "cell_type": "code",
   "execution_count": 8,
   "metadata": {},
   "outputs": [
    {
     "data": {
      "text/plain": [
       "'alice/bob/cindy'"
      ]
     },
     "execution_count": 8,
     "metadata": {},
     "output_type": "execute_result"
    }
   ],
   "source": [
    "friends = ['alice', 'bob', 'cindy']\n",
    "slash = '/'\n",
    "slash.join(friends)"
   ]
  },
  {
   "cell_type": "code",
   "execution_count": 10,
   "metadata": {},
   "outputs": [
    {
     "data": {
      "text/plain": [
       "['alice', 'bob', 'cindy', 'david']"
      ]
     },
     "execution_count": 10,
     "metadata": {},
     "output_type": "execute_result"
    }
   ],
   "source": [
    "lists = 'alice bob cindy david'\n",
    "lists.split()"
   ]
  },
  {
   "cell_type": "code",
   "execution_count": 11,
   "metadata": {},
   "outputs": [],
   "source": [
    "L = [80, 90, 75, 88, 92]\n",
    "L.append(100)"
   ]
  },
  {
   "cell_type": "code",
   "execution_count": 12,
   "metadata": {},
   "outputs": [
    {
     "data": {
      "text/plain": [
       "6"
      ]
     },
     "execution_count": 12,
     "metadata": {},
     "output_type": "execute_result"
    }
   ],
   "source": [
    "len(L)"
   ]
  },
  {
   "cell_type": "code",
   "execution_count": 13,
   "metadata": {},
   "outputs": [
    {
     "name": "stdout",
     "output_type": "stream",
     "text": [
      "[80, 90, 200, 75, 88, 92, 100, 200]\n"
     ]
    }
   ],
   "source": [
    "L.insert(6,200)\n",
    "L.insert(2,200)\n",
    "print(L)"
   ]
  },
  {
   "cell_type": "code",
   "execution_count": 14,
   "metadata": {},
   "outputs": [
    {
     "data": {
      "text/plain": [
       "2"
      ]
     },
     "execution_count": 14,
     "metadata": {},
     "output_type": "execute_result"
    }
   ],
   "source": [
    "L.index(200)"
   ]
  },
  {
   "cell_type": "code",
   "execution_count": 15,
   "metadata": {},
   "outputs": [
    {
     "data": {
      "text/plain": [
       "2"
      ]
     },
     "execution_count": 15,
     "metadata": {},
     "output_type": "execute_result"
    }
   ],
   "source": [
    "L.count(200)"
   ]
  },
  {
   "cell_type": "code",
   "execution_count": 16,
   "metadata": {},
   "outputs": [
    {
     "data": {
      "text/plain": [
       "1"
      ]
     },
     "execution_count": 16,
     "metadata": {},
     "output_type": "execute_result"
    }
   ],
   "source": [
    "L.count(75)"
   ]
  },
  {
   "cell_type": "code",
   "execution_count": 18,
   "metadata": {},
   "outputs": [
    {
     "name": "stdout",
     "output_type": "stream",
     "text": [
      "[75, 80, 88, 90, 92, 100, 200, 200]\n"
     ]
    }
   ],
   "source": [
    "L.sort()\n",
    "print(L)"
   ]
  },
  {
   "cell_type": "code",
   "execution_count": 27,
   "metadata": {},
   "outputs": [
    {
     "name": "stdout",
     "output_type": "stream",
     "text": [
      "[200, 200, 100, 92, 90, 88, 80, 75, 50, 70]\n",
      "[200, 200, 100, 92, 90, 88, 80, 75, 50, 70, 50, 70]\n"
     ]
    }
   ],
   "source": [
    "print(L)\n",
    "L.extend([50,70])\n",
    "print(L)"
   ]
  },
  {
   "cell_type": "code",
   "execution_count": 34,
   "metadata": {},
   "outputs": [
    {
     "name": "stdout",
     "output_type": "stream",
     "text": [
      "{34, 70, 40, 80, 50, 60, 30}\n"
     ]
    }
   ],
   "source": [
    "set = {30,40,50,50,60,70,80}\n",
    "set.add(34)\n",
    "print(set)"
   ]
  },
  {
   "cell_type": "code",
   "execution_count": 35,
   "metadata": {},
   "outputs": [],
   "source": [
    "set.remove(30)"
   ]
  },
  {
   "cell_type": "code",
   "execution_count": 42,
   "metadata": {},
   "outputs": [
    {
     "name": "stdout",
     "output_type": "stream",
     "text": [
      "{40, 80, 50, 60}\n"
     ]
    },
    {
     "data": {
      "text/plain": [
       "80"
      ]
     },
     "execution_count": 42,
     "metadata": {},
     "output_type": "execute_result"
    }
   ],
   "source": [
    "print(set)\n",
    "set.discard(30)\n",
    "set.pop()\n",
    "set.pop()"
   ]
  },
  {
   "cell_type": "code",
   "execution_count": 43,
   "metadata": {},
   "outputs": [
    {
     "data": {
      "text/plain": [
       "{1, 2, 3, 5, 6, 7, 9}"
      ]
     },
     "execution_count": 43,
     "metadata": {},
     "output_type": "execute_result"
    }
   ],
   "source": [
    "A = {1,3,5,7,9}\n",
    "B = {1,2,3,5,6,7,9}\n",
    "A.union(B)"
   ]
  },
  {
   "cell_type": "code",
   "execution_count": 44,
   "metadata": {},
   "outputs": [
    {
     "data": {
      "text/plain": [
       "{1, 3, 5, 7, 9}"
      ]
     },
     "execution_count": 44,
     "metadata": {},
     "output_type": "execute_result"
    }
   ],
   "source": [
    "A.intersection(B)"
   ]
  },
  {
   "cell_type": "code",
   "execution_count": 45,
   "metadata": {},
   "outputs": [
    {
     "data": {
      "text/plain": [
       "set()"
      ]
     },
     "execution_count": 45,
     "metadata": {},
     "output_type": "execute_result"
    }
   ],
   "source": [
    "A.difference(B)"
   ]
  },
  {
   "cell_type": "code",
   "execution_count": 46,
   "metadata": {},
   "outputs": [
    {
     "data": {
      "text/plain": [
       "{2, 6}"
      ]
     },
     "execution_count": 46,
     "metadata": {},
     "output_type": "execute_result"
    }
   ],
   "source": [
    "B.difference(A)"
   ]
  },
  {
   "cell_type": "code",
   "execution_count": 47,
   "metadata": {},
   "outputs": [
    {
     "data": {
      "text/plain": [
       "{2, 6}"
      ]
     },
     "execution_count": 47,
     "metadata": {},
     "output_type": "execute_result"
    }
   ],
   "source": [
    "A.symmetric_difference(B)"
   ]
  },
  {
   "cell_type": "code",
   "execution_count": 48,
   "metadata": {},
   "outputs": [
    {
     "data": {
      "text/plain": [
       "False"
      ]
     },
     "execution_count": 48,
     "metadata": {},
     "output_type": "execute_result"
    }
   ],
   "source": [
    "A.isdisjoint(B)"
   ]
  },
  {
   "cell_type": "code",
   "execution_count": 49,
   "metadata": {},
   "outputs": [
    {
     "data": {
      "text/plain": [
       "True"
      ]
     },
     "execution_count": 49,
     "metadata": {},
     "output_type": "execute_result"
    }
   ],
   "source": [
    "A.issubset(B)"
   ]
  },
  {
   "cell_type": "code",
   "execution_count": 50,
   "metadata": {},
   "outputs": [],
   "source": [
    "D = {'one':1, 'two':2, 'three':3} "
   ]
  },
  {
   "cell_type": "code",
   "execution_count": 51,
   "metadata": {},
   "outputs": [],
   "source": [
    "D['one'] = 3"
   ]
  },
  {
   "cell_type": "code",
   "execution_count": 52,
   "metadata": {},
   "outputs": [
    {
     "name": "stdout",
     "output_type": "stream",
     "text": [
      "{'one': 3, 'two': 2, 'three': 3}\n"
     ]
    }
   ],
   "source": [
    "print(D)"
   ]
  },
  {
   "cell_type": "code",
   "execution_count": 53,
   "metadata": {},
   "outputs": [
    {
     "data": {
      "text/plain": [
       "3"
      ]
     },
     "execution_count": 53,
     "metadata": {},
     "output_type": "execute_result"
    }
   ],
   "source": [
    "D.get('one')"
   ]
  },
  {
   "cell_type": "code",
   "execution_count": 55,
   "metadata": {},
   "outputs": [
    {
     "data": {
      "text/plain": [
       "6"
      ]
     },
     "execution_count": 55,
     "metadata": {},
     "output_type": "execute_result"
    }
   ],
   "source": [
    "D.get('four',6)"
   ]
  },
  {
   "cell_type": "code",
   "execution_count": 56,
   "metadata": {},
   "outputs": [
    {
     "data": {
      "text/plain": [
       "dict_items([('one', 3), ('two', 2), ('three', 3)])"
      ]
     },
     "execution_count": 56,
     "metadata": {},
     "output_type": "execute_result"
    }
   ],
   "source": [
    "D.items()"
   ]
  },
  {
   "cell_type": "code",
   "execution_count": 57,
   "metadata": {},
   "outputs": [
    {
     "data": {
      "text/plain": [
       "dict_keys(['one', 'two', 'three'])"
      ]
     },
     "execution_count": 57,
     "metadata": {},
     "output_type": "execute_result"
    }
   ],
   "source": [
    "D.keys()"
   ]
  },
  {
   "cell_type": "code",
   "execution_count": 59,
   "metadata": {},
   "outputs": [
    {
     "data": {
      "text/plain": [
       "dict_values([3, 2, 3])"
      ]
     },
     "execution_count": 59,
     "metadata": {},
     "output_type": "execute_result"
    }
   ],
   "source": [
    "D.values()"
   ]
  },
  {
   "cell_type": "code",
   "execution_count": 60,
   "metadata": {},
   "outputs": [
    {
     "data": {
      "text/plain": [
       "3"
      ]
     },
     "execution_count": 60,
     "metadata": {},
     "output_type": "execute_result"
    }
   ],
   "source": [
    "D.pop('one')"
   ]
  },
  {
   "cell_type": "code",
   "execution_count": 61,
   "metadata": {},
   "outputs": [
    {
     "name": "stdout",
     "output_type": "stream",
     "text": [
      "{'two': 2, 'three': 3}\n"
     ]
    }
   ],
   "source": [
    "print(D)"
   ]
  },
  {
   "cell_type": "code",
   "execution_count": 62,
   "metadata": {},
   "outputs": [
    {
     "data": {
      "text/plain": [
       "('three', 3)"
      ]
     },
     "execution_count": 62,
     "metadata": {},
     "output_type": "execute_result"
    }
   ],
   "source": [
    "D.popitem()"
   ]
  },
  {
   "cell_type": "code",
   "execution_count": 64,
   "metadata": {},
   "outputs": [],
   "source": [
    "M = {'one':4 , 'four':7}\n",
    "D.update(M)"
   ]
  },
  {
   "cell_type": "code",
   "execution_count": 65,
   "metadata": {},
   "outputs": [
    {
     "name": "stdout",
     "output_type": "stream",
     "text": [
      "{'two': 2, 'one': 4, 'four': 7}\n"
     ]
    }
   ],
   "source": [
    "print(D)"
   ]
  },
  {
   "cell_type": "code",
   "execution_count": 67,
   "metadata": {},
   "outputs": [
    {
     "data": {
      "text/plain": [
       "5"
      ]
     },
     "execution_count": 67,
     "metadata": {},
     "output_type": "execute_result"
    }
   ],
   "source": [
    "D.setdefault('black',5)"
   ]
  },
  {
   "cell_type": "code",
   "execution_count": 68,
   "metadata": {},
   "outputs": [
    {
     "name": "stdout",
     "output_type": "stream",
     "text": [
      "{'two': 2, 'one': 4, 'four': 7, 'black': 5}\n"
     ]
    }
   ],
   "source": [
    "print(D)"
   ]
  },
  {
   "cell_type": "code",
   "execution_count": 69,
   "metadata": {},
   "outputs": [
    {
     "data": {
      "text/plain": [
       "5"
      ]
     },
     "execution_count": 69,
     "metadata": {},
     "output_type": "execute_result"
    }
   ],
   "source": [
    "D.setdefault('black',8)"
   ]
  },
  {
   "cell_type": "code",
   "execution_count": 70,
   "metadata": {},
   "outputs": [
    {
     "name": "stdout",
     "output_type": "stream",
     "text": [
      "{'two': 2, 'one': 4, 'four': 7, 'black': 5}\n"
     ]
    }
   ],
   "source": [
    "print(D)"
   ]
  },
  {
   "cell_type": "code",
   "execution_count": 1,
   "metadata": {},
   "outputs": [],
   "source": [
    "f = open('school.txt', 'w')\n",
    "data = \"\"\"공리적인 목적으로 전문직 교사가 집단으로서의 학생을 대상으로 교육을 실행하는 기관이자 기구 :구민선\n",
    "\n",
    "인류에게 늘 있어왔던 교육기관으로 과거부터 지금까지 항상 있어왔던것은 아니지만, 인류가 건축 기법을 깨우치며 세운 건축물에서 교육 행위를 구사한 것이 학교이다. 현대적인 의미로는 교육 목적만을 위해 지어진 건축물, 그 중에서도 '일정한 목적ㆍ교과 과정ㆍ설비ㆍ제도 및 법규에 의하여 교사가 지속적으로 학생에게 교육을 실시하는 기관'을 의미한다.\n",
    "\n",
    "교육의 역사를 되짚어보면, 고대 그리스 때부터 젊은 청년들의 교육을 담당한 시설은 신체를 단련할 수 있는 체육관이었다. 체육관에서는 우수한 군인들을 양성하는 것에 주된 목적이 있었으며 체조, 격투, 레슬링, 검술, 마장술 등을 익히는 것이었다. 대표적인 예로, 뜀틀은 말에 올라타는 기술을 익히기 위한 실내운동이었다.\n",
    "\n",
    "그렇게 체육관이 생기게 되자, 자연스레 땀을 씻을 수 있는 목욕탕 같은 시설과 책상이나 의자 같은 교육에 필요한 도구와 시설들도 같이 필요로 하게 되었으며, 숙련된 기술을 가르칠 수 있는 사람. 즉, 교사가 필요하게 된 것이다. 더욱 우수한 군인들을 양성하기 위해서 역사, 군사학, 철학, 예법, 언어, 문자, 과학 등등도 같이 교육해야 할 필요가 있었고, 오직 신체단련만 담당했었던 체육관은 어느샌가 아이들의 기초교육을 담당할 수 있는 교육시설인 학교로 기능이 확장하게 된다.\n",
    "\n",
    "학원과는 유사하지만, 학원과 학교의 결정적 차이점이라면 설립 조건의 차이. 수용 가능 인원도 학교 쪽이 훨씬 더 많으며, 각종 시설들의 종류 및 가짓수도 학교 쪽이 더 많다. 또 학원이 특정 과목 몇 개만을 교육하는 반면 학교는 학원에 비해 더 방대한 종류의 교육을 제공한다.\n",
    "\n",
    "많은 사람들이 당연하게 여기고 있는 것이지만, 인류의 역사에서 정치적으로나 사회적으로 공공교육의 정착은 커다란 의의를 지니고 있다.\n",
    "\n",
    "우선 학교는 인간이 태어나서 2번째로 겪는 사회 시스템이다.[5]\"\"\"\n",
    "\n",
    "f.write(data)\n",
    "f.close()"
   ]
  },
  {
   "cell_type": "code",
   "execution_count": 3,
   "metadata": {},
   "outputs": [
    {
     "name": "stdout",
     "output_type": "stream",
     "text": [
      "공리적인 목적으로 전문직 교사가 집단으로서의 학생을 대상으로 교육을 실행하는 기관이자 기구 :구민선\n",
      "\n",
      "인류에게 늘 있어왔던 교육기관으로 과거부터 지금까지 항상 있어왔던것은 아니지만, 인류가 건축 기법을 깨우치며 세운 건축물에서 교육 행위를 구사한 것이 학교이다. 현대적인 의미로는 교육 목적만을 위해 지어진 건축물, 그 중에서도 '일정한 목적ㆍ교과 과정ㆍ설비ㆍ제도 및 법규에 의하여 교사가 지속적으로 학생에게 교육을 실시하는 기관'을 의미한다.\n",
      "\n",
      "교육의 역사를 되짚어보면, 고대 그리스 때부터 젊은 청년들의 교육을 담당한 시설은 신체를 단련할 수 있는 체육관이었다. 체육관에서는 우수한 군인들을 양성하는 것에 주된 목적이 있었으며 체조, 격투, 레슬링, 검술, 마장술 등을 익히는 것이었다. 대표적인 예로, 뜀틀은 말에 올라타는 기술을 익히기 위한 실내운동이었다.\n",
      "\n",
      "그렇게 체육관이 생기게 되자, 자연스레 땀을 씻을 수 있는 목욕탕 같은 시설과 책상이나 의자 같은 교육에 필요한 도구와 시설들도 같이 필요로 하게 되었으며, 숙련된 기술을 가르칠 수 있는 사람. 즉, 교사가 필요하게 된 것이다. 더욱 우수한 군인들을 양성하기 위해서 역사, 군사학, 철학, 예법, 언어, 문자, 과학 등등도 같이 교육해야 할 필요가 있었고, 오직 신체단련만 담당했었던 체육관은 어느샌가 아이들의 기초교육을 담당할 수 있는 교육시설인 학교로 기능이 확장하게 된다.\n",
      "\n",
      "학원과는 유사하지만, 학원과 학교의 결정적 차이점이라면 설립 조건의 차이. 수용 가능 인원도 학교 쪽이 훨씬 더 많으며, 각종 시설들의 종류 및 가짓수도 학교 쪽이 더 많다. 또 학원이 특정 과목 몇 개만을 교육하는 반면 학교는 학원에 비해 더 방대한 종류의 교육을 제공한다.\n",
      "\n",
      "많은 사람들이 당연하게 여기고 있는 것이지만, 인류의 역사에서 정치적으로나 사회적으로 공공교육의 정착은 커다란 의의를 지니고 있다.\n",
      "\n",
      "우선 학교는 인간이 태어나서 2번째로 겪는 사회 시스템이다.[5]\n"
     ]
    }
   ],
   "source": [
    "with open('school.txt', 'r') as f:\n",
    "    d= f.read()\n",
    "    print(d)"
   ]
  },
  {
   "cell_type": "code",
   "execution_count": 4,
   "metadata": {},
   "outputs": [
    {
     "name": "stdout",
     "output_type": "stream",
     "text": [
      "공리적인 목적으로 전문직 교사가 집단으로서의 학생을 대상으로 교육을 실행하는 기관이자 기구 :구민선\n",
      "\n",
      "\n",
      "\n",
      "인류에게 늘 있어왔던 교육기관으로 과거부터 지금까지 항상 있어왔던것은 아니지만, 인류가 건축 기법을 깨우치며 세운 건축물에서 교육 행위를 구사한 것이 학교이다. 현대적인 의미로는 교육 목적만을 위해 지어진 건축물, 그 중에서도 '일정한 목적ㆍ교과 과정ㆍ설비ㆍ제도 및 법규에 의하여 교사가 지속적으로 학생에게 교육을 실시하는 기관'을 의미한다.\n",
      "\n",
      "\n",
      "\n",
      "교육의 역사를 되짚어보면, 고대 그리스 때부터 젊은 청년들의 교육을 담당한 시설은 신체를 단련할 수 있는 체육관이었다. 체육관에서는 우수한 군인들을 양성하는 것에 주된 목적이 있었으며 체조, 격투, 레슬링, 검술, 마장술 등을 익히는 것이었다. 대표적인 예로, 뜀틀은 말에 올라타는 기술을 익히기 위한 실내운동이었다.\n",
      "\n",
      "\n",
      "\n",
      "그렇게 체육관이 생기게 되자, 자연스레 땀을 씻을 수 있는 목욕탕 같은 시설과 책상이나 의자 같은 교육에 필요한 도구와 시설들도 같이 필요로 하게 되었으며, 숙련된 기술을 가르칠 수 있는 사람. 즉, 교사가 필요하게 된 것이다. 더욱 우수한 군인들을 양성하기 위해서 역사, 군사학, 철학, 예법, 언어, 문자, 과학 등등도 같이 교육해야 할 필요가 있었고, 오직 신체단련만 담당했었던 체육관은 어느샌가 아이들의 기초교육을 담당할 수 있는 교육시설인 학교로 기능이 확장하게 된다.\n",
      "\n",
      "\n",
      "\n",
      "학원과는 유사하지만, 학원과 학교의 결정적 차이점이라면 설립 조건의 차이. 수용 가능 인원도 학교 쪽이 훨씬 더 많으며, 각종 시설들의 종류 및 가짓수도 학교 쪽이 더 많다. 또 학원이 특정 과목 몇 개만을 교육하는 반면 학교는 학원에 비해 더 방대한 종류의 교육을 제공한다.\n",
      "\n",
      "\n",
      "\n",
      "많은 사람들이 당연하게 여기고 있는 것이지만, 인류의 역사에서 정치적으로나 사회적으로 공공교육의 정착은 커다란 의의를 지니고 있다.\n",
      "\n",
      "\n",
      "\n",
      "우선 학교는 인간이 태어나서 2번째로 겪는 사회 시스템이다.[5]\n"
     ]
    }
   ],
   "source": [
    "with open('school.txt', 'r') as f:\n",
    "    for line in f:\n",
    "        print(line)"
   ]
  },
  {
   "cell_type": "code",
   "execution_count": 6,
   "metadata": {},
   "outputs": [
    {
     "name": "stdout",
     "output_type": "stream",
     "text": [
      "['공리적인 목적으로 전문직 교사가 집단으로서의 학생을 대상으로 교육을 실행하는 기관이자 기구 :구민선\\n', '\\n', \"인류에게 늘 있어왔던 교육기관으로 과거부터 지금까지 항상 있어왔던것은 아니지만, 인류가 건축 기법을 깨우치며 세운 건축물에서 교육 행위를 구사한 것이 학교이다. 현대적인 의미로는 교육 목적만을 위해 지어진 건축물, 그 중에서도 '일정한 목적ㆍ교과 과정ㆍ설비ㆍ제도 및 법규에 의하여 교사가 지속적으로 학생에게 교육을 실시하는 기관'을 의미한다.\\n\", '\\n', '교육의 역사를 되짚어보면, 고대 그리스 때부터 젊은 청년들의 교육을 담당한 시설은 신체를 단련할 수 있는 체육관이었다. 체육관에서는 우수한 군인들을 양성하는 것에 주된 목적이 있었으며 체조, 격투, 레슬링, 검술, 마장술 등을 익히는 것이었다. 대표적인 예로, 뜀틀은 말에 올라타는 기술을 익히기 위한 실내운동이었다.\\n', '\\n', '그렇게 체육관이 생기게 되자, 자연스레 땀을 씻을 수 있는 목욕탕 같은 시설과 책상이나 의자 같은 교육에 필요한 도구와 시설들도 같이 필요로 하게 되었으며, 숙련된 기술을 가르칠 수 있는 사람. 즉, 교사가 필요하게 된 것이다. 더욱 우수한 군인들을 양성하기 위해서 역사, 군사학, 철학, 예법, 언어, 문자, 과학 등등도 같이 교육해야 할 필요가 있었고, 오직 신체단련만 담당했었던 체육관은 어느샌가 아이들의 기초교육을 담당할 수 있는 교육시설인 학교로 기능이 확장하게 된다.\\n', '\\n', '학원과는 유사하지만, 학원과 학교의 결정적 차이점이라면 설립 조건의 차이. 수용 가능 인원도 학교 쪽이 훨씬 더 많으며, 각종 시설들의 종류 및 가짓수도 학교 쪽이 더 많다. 또 학원이 특정 과목 몇 개만을 교육하는 반면 학교는 학원에 비해 더 방대한 종류의 교육을 제공한다.\\n', '\\n', '많은 사람들이 당연하게 여기고 있는 것이지만, 인류의 역사에서 정치적으로나 사회적으로 공공교육의 정착은 커다란 의의를 지니고 있다.\\n', '\\n', '우선 학교는 인간이 태어나서 2번째로 겪는 사회 시스템이다.[5]']\n"
     ]
    }
   ],
   "source": [
    "with open('school.txt', 'r') as f:\n",
    "    d = f.readlines()\n",
    "    print(d)"
   ]
  },
  {
   "cell_type": "code",
   "execution_count": 7,
   "metadata": {},
   "outputs": [
    {
     "name": "stdout",
     "output_type": "stream",
     "text": [
      "공리적인 목적으로 전문직 교사가 집단으로서의 학생을 대상으로 교육을 실행하는 기관이자 기구 :구민선\n",
      "\n",
      "\n",
      "\n",
      "인류에게 늘 있어왔던 교육기관으로 과거부터 지금까지 항상 있어왔던것은 아니지만, 인류가 건축 기법을 깨우치며 세운 건축물에서 교육 행위를 구사한 것이 학교이다. 현대적인 의미로는 교육 목적만을 위해 지어진 건축물, 그 중에서도 '일정한 목적ㆍ교과 과정ㆍ설비ㆍ제도 및 법규에 의하여 교사가 지속적으로 학생에게 교육을 실시하는 기관'을 의미한다.\n",
      "\n",
      "\n",
      "\n",
      "교육의 역사를 되짚어보면, 고대 그리스 때부터 젊은 청년들의 교육을 담당한 시설은 신체를 단련할 수 있는 체육관이었다. 체육관에서는 우수한 군인들을 양성하는 것에 주된 목적이 있었으며 체조, 격투, 레슬링, 검술, 마장술 등을 익히는 것이었다. 대표적인 예로, 뜀틀은 말에 올라타는 기술을 익히기 위한 실내운동이었다.\n",
      "\n",
      "\n",
      "\n",
      "그렇게 체육관이 생기게 되자, 자연스레 땀을 씻을 수 있는 목욕탕 같은 시설과 책상이나 의자 같은 교육에 필요한 도구와 시설들도 같이 필요로 하게 되었으며, 숙련된 기술을 가르칠 수 있는 사람. 즉, 교사가 필요하게 된 것이다. 더욱 우수한 군인들을 양성하기 위해서 역사, 군사학, 철학, 예법, 언어, 문자, 과학 등등도 같이 교육해야 할 필요가 있었고, 오직 신체단련만 담당했었던 체육관은 어느샌가 아이들의 기초교육을 담당할 수 있는 교육시설인 학교로 기능이 확장하게 된다.\n",
      "\n",
      "\n",
      "\n",
      "학원과는 유사하지만, 학원과 학교의 결정적 차이점이라면 설립 조건의 차이. 수용 가능 인원도 학교 쪽이 훨씬 더 많으며, 각종 시설들의 종류 및 가짓수도 학교 쪽이 더 많다. 또 학원이 특정 과목 몇 개만을 교육하는 반면 학교는 학원에 비해 더 방대한 종류의 교육을 제공한다.\n",
      "\n",
      "\n",
      "\n",
      "많은 사람들이 당연하게 여기고 있는 것이지만, 인류의 역사에서 정치적으로나 사회적으로 공공교육의 정착은 커다란 의의를 지니고 있다.\n",
      "\n",
      "\n",
      "\n",
      "우선 학교는 인간이 태어나서 2번째로 겪는 사회 시스템이다.[5]\n"
     ]
    }
   ],
   "source": [
    "with open('school.txt', 'r') as f:\n",
    "    line = f.readline()\n",
    "    while line:\n",
    "        print(line)\n",
    "        line=f.readline()"
   ]
  },
  {
   "cell_type": "code",
   "execution_count": 8,
   "metadata": {},
   "outputs": [
    {
     "data": {
      "text/plain": [
       "['[1,', '2,', '3,', '4,', '5,', '6,', '7]']"
      ]
     },
     "execution_count": 8,
     "metadata": {},
     "output_type": "execute_result"
    }
   ],
   "source": [
    "L = [1, 2, 3, 4, 5, 6, 7]\n",
    "str(L).split()"
   ]
  },
  {
   "cell_type": "code",
   "execution_count": 1,
   "metadata": {},
   "outputs": [
    {
     "name": "stdout",
     "output_type": "stream",
     "text": [
      "[('red', 1), ('red', 2), ('red', 3), ('green', 1), ('green', 2), ('green', 3), ('yellow', 1), ('yellow', 2), ('yellow', 3), ('blue', 1), ('blue', 2), ('blue', 3)]\n"
     ]
    }
   ],
   "source": [
    "colors = ['red', 'green', 'yellow', 'blue']\n",
    "things = [1,2,3]\n",
    "L =[(i,j) for i in colors for j in things]\n",
    "print(L)"
   ]
  },
  {
   "cell_type": "code",
   "execution_count": 2,
   "metadata": {},
   "outputs": [
    {
     "name": "stdout",
     "output_type": "stream",
     "text": [
      "I am super tired. So I need sleeping fuck\n"
     ]
    }
   ],
   "source": [
    "with open('octfith', 'w') as f:\n",
    "    f.write('I am super tired. So I need sleeping fuck')\n",
    "with open('octfith', 'r') as f:\n",
    "    for line in f:\n",
    "        print(line)"
   ]
  },
  {
   "cell_type": "code",
   "execution_count": 3,
   "metadata": {},
   "outputs": [
    {
     "name": "stdout",
     "output_type": "stream",
     "text": [
      " D 드라이브의 볼륨: 새 볼륨\n",
      " 볼륨 일련 번호: FEC5-DCF3\n",
      "\n",
      " D:\\python 디렉터리\n",
      "\n",
      "2020-10-05  오전 10:39    <DIR>          .\n",
      "2020-10-05  오전 10:39    <DIR>          ..\n",
      "2020-10-05  오전 10:33    <DIR>          .ipynb_checkpoints\n",
      "2020-09-25  오후 05:40               910 arrayList.ipynb\n",
      "2020-09-23  오후 02:16                22 ban.txt\n",
      "2020-09-29  오후 12:28                11 file.txt\n",
      "2020-09-29  오후 02:41                 6 file123.txt\n",
      "2020-09-24  오후 04:50                24 memo.txt\n",
      "2020-10-05  오전 10:33    <DIR>          newfolder\n",
      "2020-10-05  오전 10:39                41 octfith\n",
      "2020-09-23  오후 02:45               582 poem.txt\n",
      "2020-10-05  오전 10:39            27,983 practice_up_to_file(update_9-22).ipynb\n",
      "2020-09-29  오후 05:46             8,812 python_datatype_10_Regular Expression.ipynb\n",
      "2020-09-21  오후 04:13            45,387 python_datatype_2_sequential.ipynb\n",
      "2020-09-23  오전 10:43            48,195 python_datatype_3_sequential_tuple_set_dictionary.ipynb\n",
      "2020-09-22  오후 06:40            21,253 python_datatype_4_Loop (for, while).ipynb\n",
      "2020-10-05  오전 10:33    <DIR>          python_datatype_5_file\n",
      "2020-09-29  오전 10:39            67,305 python_datatype_6_function.ipynb\n",
      "2020-09-29  오전 09:50            18,403 python_datatype_7_class.ipynb\n",
      "2020-09-29  오후 02:13            10,604 python_datatype_8_exception.ipynb\n",
      "2020-09-29  오후 05:08            22,805 python_datatype_9_exception_Directory_File_Operation.ipynb\n",
      "2020-09-24  오후 12:27             5,749 python_datatype_test_1_review.ipynb\n",
      "2020-09-29  오전 10:16           102,085 python_function (1).ipynb\n",
      "2020-09-24  오전 09:53             1,668 school.txt\n",
      "2020-09-24  오후 04:21            16,339 stockcode.txt\n",
      "              20개 파일             398,184 바이트\n",
      "               5개 디렉터리  740,680,949,760 바이트 남음\n"
     ]
    }
   ],
   "source": [
    "ls"
   ]
  },
  {
   "cell_type": "code",
   "execution_count": 8,
   "metadata": {},
   "outputs": [
    {
     "name": "stdout",
     "output_type": "stream",
     "text": [
      "['초혼(招魂) / 김소월\\n', '\\n', '산산이 부서진 이름이여 !\\n', '허공 중에 헤어진 이름이여 !\\n', '불러도 주인 없는 이름이여!\\n', '부르다가 내가 죽을 이름이여 !\\n', '\\n', '心中(심중)에 남아 있는 말 한마디는\\n', '끝끝내 마저 하지 못하였구나.\\n', '사랑하던 그 사람이여 !\\n', '사랑하던 그 사람이여 !\\n', '\\n', '붉은 해는 서산마루에 걸리었다.\\n', '사슴의 무리도 슬피 운다.\\n', '떨어져 나가 앉은 산 위에서\\n', '나는 그대의 이름을 부르노라\\n', '\\n', '설움에 겹도록 부르노라\\n', '설움에 겹도록 부르노라\\n', '부르는 소리는 비껴가지만\\n', '하늘과 땅 사이가 너무 넓구나\\n', '\\n', '선 채로 이 자리에 돌이 되어도\\n', '부르다가 내가 죽을 이름이여\\n', '사랑하던 그 사람이여!\\n', '사랑하던 그 사람이여!']\n"
     ]
    }
   ],
   "source": [
    "with open('poem.txt', 'r') as f:\n",
    "    txt = f.readlines()\n",
    "    print(txt)"
   ]
  },
  {
   "cell_type": "code",
   "execution_count": 11,
   "metadata": {},
   "outputs": [],
   "source": [
    "def today():\n",
    "    try:\n",
    "        a=3\n",
    "        b=0\n",
    "        a/b\n",
    "    except Exception as e:\n",
    "        print(e)"
   ]
  },
  {
   "cell_type": "code",
   "execution_count": 12,
   "metadata": {},
   "outputs": [
    {
     "name": "stdout",
     "output_type": "stream",
     "text": [
      "division by zero\n"
     ]
    }
   ],
   "source": [
    "today()"
   ]
  },
  {
   "cell_type": "code",
   "execution_count": 13,
   "metadata": {},
   "outputs": [
    {
     "data": {
      "text/plain": [
       "582"
      ]
     },
     "execution_count": 13,
     "metadata": {},
     "output_type": "execute_result"
    }
   ],
   "source": [
    "from os.path import getsize\n",
    "getsize('poem.txt')"
   ]
  },
  {
   "cell_type": "code",
   "execution_count": 14,
   "metadata": {},
   "outputs": [],
   "source": [
    "from os import remove\n",
    "remove('octfith')"
   ]
  },
  {
   "cell_type": "code",
   "execution_count": 15,
   "metadata": {},
   "outputs": [
    {
     "name": "stdout",
     "output_type": "stream",
     "text": [
      " D 드라이브의 볼륨: 새 볼륨\n",
      " 볼륨 일련 번호: FEC5-DCF3\n",
      "\n",
      " D:\\python 디렉터리\n",
      "\n",
      "2020-10-05  오전 10:54    <DIR>          .\n",
      "2020-10-05  오전 10:54    <DIR>          ..\n",
      "2020-10-05  오전 10:33    <DIR>          .ipynb_checkpoints\n",
      "2020-09-25  오후 05:40               910 arrayList.ipynb\n",
      "2020-09-23  오후 02:16                22 ban.txt\n",
      "2020-09-29  오후 12:28                11 file.txt\n",
      "2020-09-29  오후 02:41                 6 file123.txt\n",
      "2020-09-24  오후 04:50                24 memo.txt\n",
      "2020-10-05  오전 10:33    <DIR>          newfolder\n",
      "2020-09-23  오후 02:45               582 poem.txt\n",
      "2020-10-05  오전 10:53            32,840 practice_up_to_file(update_9-22).ipynb\n",
      "2020-09-29  오후 05:46             8,812 python_datatype_10_Regular Expression.ipynb\n",
      "2020-09-21  오후 04:13            45,387 python_datatype_2_sequential.ipynb\n",
      "2020-09-23  오전 10:43            48,195 python_datatype_3_sequential_tuple_set_dictionary.ipynb\n",
      "2020-09-22  오후 06:40            21,253 python_datatype_4_Loop (for, while).ipynb\n",
      "2020-10-05  오전 10:33    <DIR>          python_datatype_5_file\n",
      "2020-09-29  오전 10:39            67,305 python_datatype_6_function.ipynb\n",
      "2020-09-29  오전 09:50            18,403 python_datatype_7_class.ipynb\n",
      "2020-09-29  오후 02:13            10,604 python_datatype_8_exception.ipynb\n",
      "2020-09-29  오후 05:08            22,805 python_datatype_9_exception_Directory_File_Operation.ipynb\n",
      "2020-09-24  오후 12:27             5,749 python_datatype_test_1_review.ipynb\n",
      "2020-09-29  오전 10:16           102,085 python_function (1).ipynb\n",
      "2020-09-24  오전 09:53             1,668 school.txt\n",
      "2020-09-24  오후 04:21            16,339 stockcode.txt\n",
      "              19개 파일             403,000 바이트\n",
      "               5개 디렉터리  740,680,941,568 바이트 남음\n"
     ]
    }
   ],
   "source": [
    "ls"
   ]
  },
  {
   "cell_type": "code",
   "execution_count": 16,
   "metadata": {},
   "outputs": [
    {
     "data": {
      "text/plain": [
       "'D:\\\\python'"
      ]
     },
     "execution_count": 16,
     "metadata": {},
     "output_type": "execute_result"
    }
   ],
   "source": [
    "pwd"
   ]
  },
  {
   "cell_type": "code",
   "execution_count": 17,
   "metadata": {},
   "outputs": [
    {
     "data": {
      "text/plain": [
       "['.ipynb_checkpoints',\n",
       " 'arrayList.ipynb',\n",
       " 'ban.txt',\n",
       " 'file.txt',\n",
       " 'file123.txt',\n",
       " 'memo.txt',\n",
       " 'newfolder',\n",
       " 'poem.txt',\n",
       " 'practice_up_to_file(update_9-22).ipynb',\n",
       " 'python_datatype_10_Regular Expression.ipynb',\n",
       " 'python_datatype_2_sequential.ipynb',\n",
       " 'python_datatype_3_sequential_tuple_set_dictionary.ipynb',\n",
       " 'python_datatype_4_Loop (for, while).ipynb',\n",
       " 'python_datatype_5_file',\n",
       " 'python_datatype_6_function.ipynb',\n",
       " 'python_datatype_7_class.ipynb',\n",
       " 'python_datatype_8_exception.ipynb',\n",
       " 'python_datatype_9_exception_Directory_File_Operation.ipynb',\n",
       " 'python_datatype_test_1_review.ipynb',\n",
       " 'python_function (1).ipynb',\n",
       " 'school.txt',\n",
       " 'stockcode.txt']"
      ]
     },
     "execution_count": 17,
     "metadata": {},
     "output_type": "execute_result"
    }
   ],
   "source": [
    "import os\n",
    "os.listdir('D:\\\\python')"
   ]
  },
  {
   "cell_type": "code",
   "execution_count": 18,
   "metadata": {},
   "outputs": [
    {
     "data": {
      "text/plain": [
       "'D:\\\\python'"
      ]
     },
     "execution_count": 18,
     "metadata": {},
     "output_type": "execute_result"
    }
   ],
   "source": [
    "os.getcwd()"
   ]
  },
  {
   "cell_type": "code",
   "execution_count": 19,
   "metadata": {},
   "outputs": [],
   "source": [
    "os.mkdir('tired.dir')"
   ]
  },
  {
   "cell_type": "code",
   "execution_count": 20,
   "metadata": {},
   "outputs": [
    {
     "name": "stdout",
     "output_type": "stream",
     "text": [
      " D 드라이브의 볼륨: 새 볼륨\n",
      " 볼륨 일련 번호: FEC5-DCF3\n",
      "\n",
      " D:\\python 디렉터리\n",
      "\n",
      "2020-10-05  오전 10:59    <DIR>          .\n",
      "2020-10-05  오전 10:59    <DIR>          ..\n",
      "2020-10-05  오전 10:33    <DIR>          .ipynb_checkpoints\n",
      "2020-09-25  오후 05:40               910 arrayList.ipynb\n",
      "2020-09-23  오후 02:16                22 ban.txt\n",
      "2020-09-29  오후 12:28                11 file.txt\n",
      "2020-09-29  오후 02:41                 6 file123.txt\n",
      "2020-09-24  오후 04:50                24 memo.txt\n",
      "2020-10-05  오전 10:33    <DIR>          newfolder\n",
      "2020-09-23  오후 02:45               582 poem.txt\n",
      "2020-10-05  오전 10:57            37,018 practice_up_to_file(update_9-22).ipynb\n",
      "2020-09-29  오후 05:46             8,812 python_datatype_10_Regular Expression.ipynb\n",
      "2020-09-21  오후 04:13            45,387 python_datatype_2_sequential.ipynb\n",
      "2020-09-23  오전 10:43            48,195 python_datatype_3_sequential_tuple_set_dictionary.ipynb\n",
      "2020-09-22  오후 06:40            21,253 python_datatype_4_Loop (for, while).ipynb\n",
      "2020-10-05  오전 10:33    <DIR>          python_datatype_5_file\n",
      "2020-09-29  오전 10:39            67,305 python_datatype_6_function.ipynb\n",
      "2020-09-29  오전 09:50            18,403 python_datatype_7_class.ipynb\n",
      "2020-09-29  오후 02:13            10,604 python_datatype_8_exception.ipynb\n",
      "2020-09-29  오후 05:08            22,805 python_datatype_9_exception_Directory_File_Operation.ipynb\n",
      "2020-09-24  오후 12:27             5,749 python_datatype_test_1_review.ipynb\n",
      "2020-09-29  오전 10:16           102,085 python_function (1).ipynb\n",
      "2020-09-24  오전 09:53             1,668 school.txt\n",
      "2020-09-24  오후 04:21            16,339 stockcode.txt\n",
      "2020-10-05  오전 10:59    <DIR>          tired.dir\n",
      "              19개 파일             407,178 바이트\n",
      "               6개 디렉터리  740,680,937,472 바이트 남음\n"
     ]
    }
   ],
   "source": [
    "ls"
   ]
  },
  {
   "cell_type": "code",
   "execution_count": 21,
   "metadata": {},
   "outputs": [
    {
     "name": "stdout",
     "output_type": "stream",
     "text": [
      "D:\\python\\tired.dir\n"
     ]
    }
   ],
   "source": [
    "cd tired.dir"
   ]
  },
  {
   "cell_type": "code",
   "execution_count": 22,
   "metadata": {},
   "outputs": [
    {
     "name": "stdout",
     "output_type": "stream",
     "text": [
      " D 드라이브의 볼륨: 새 볼륨\n",
      " 볼륨 일련 번호: FEC5-DCF3\n",
      "\n",
      " D:\\python\\tired.dir 디렉터리\n",
      "\n",
      "2020-10-05  오전 10:59    <DIR>          .\n",
      "2020-10-05  오전 10:59    <DIR>          ..\n",
      "               0개 파일                   0 바이트\n",
      "               2개 디렉터리  740,680,937,472 바이트 남음\n"
     ]
    }
   ],
   "source": [
    "ls"
   ]
  },
  {
   "cell_type": "code",
   "execution_count": 23,
   "metadata": {},
   "outputs": [
    {
     "name": "stdout",
     "output_type": "stream",
     "text": [
      "D:\\python\\tired.dir\n"
     ]
    }
   ],
   "source": [
    "cd ."
   ]
  },
  {
   "cell_type": "code",
   "execution_count": 24,
   "metadata": {},
   "outputs": [
    {
     "name": "stdout",
     "output_type": "stream",
     "text": [
      " D 드라이브의 볼륨: 새 볼륨\n",
      " 볼륨 일련 번호: FEC5-DCF3\n",
      "\n",
      " D:\\python\\tired.dir 디렉터리\n",
      "\n",
      "2020-10-05  오전 10:59    <DIR>          .\n",
      "2020-10-05  오전 10:59    <DIR>          ..\n",
      "               0개 파일                   0 바이트\n",
      "               2개 디렉터리  740,680,937,472 바이트 남음\n"
     ]
    }
   ],
   "source": [
    "ls"
   ]
  },
  {
   "cell_type": "code",
   "execution_count": 25,
   "metadata": {},
   "outputs": [
    {
     "name": "stdout",
     "output_type": "stream",
     "text": [
      "D:\\\n"
     ]
    }
   ],
   "source": [
    "cd /."
   ]
  },
  {
   "cell_type": "code",
   "execution_count": 26,
   "metadata": {},
   "outputs": [
    {
     "name": "stdout",
     "output_type": "stream",
     "text": [
      " D 드라이브의 볼륨: 새 볼륨\n",
      " 볼륨 일련 번호: FEC5-DCF3\n",
      "\n",
      " D:\\ 디렉터리\n",
      "\n",
      "2020-09-25  오전 10:15    <DIR>          bigdata\n",
      "2020-09-20  오후 01:55             2,427 board.war\n",
      "2020-09-29  오후 08:05    <DIR>          jgyang\n",
      "2020-09-27  오후 04:10    <DIR>          JSP\n",
      "2020-10-05  오전 10:59    <DIR>          python\n",
      "               1개 파일               2,427 바이트\n",
      "               4개 디렉터리  740,680,937,472 바이트 남음\n"
     ]
    }
   ],
   "source": [
    "ls\n"
   ]
  },
  {
   "cell_type": "code",
   "execution_count": 27,
   "metadata": {},
   "outputs": [
    {
     "name": "stdout",
     "output_type": "stream",
     "text": [
      "D:\\python\n"
     ]
    }
   ],
   "source": [
    "cd python"
   ]
  },
  {
   "cell_type": "code",
   "execution_count": 28,
   "metadata": {},
   "outputs": [
    {
     "name": "stdout",
     "output_type": "stream",
     "text": [
      " D 드라이브의 볼륨: 새 볼륨\n",
      " 볼륨 일련 번호: FEC5-DCF3\n",
      "\n",
      " D:\\python 디렉터리\n",
      "\n",
      "2020-10-05  오전 10:59    <DIR>          .\n",
      "2020-10-05  오전 10:59    <DIR>          ..\n",
      "2020-10-05  오전 10:33    <DIR>          .ipynb_checkpoints\n",
      "2020-09-25  오후 05:40               910 arrayList.ipynb\n",
      "2020-09-23  오후 02:16                22 ban.txt\n",
      "2020-09-29  오후 12:28                11 file.txt\n",
      "2020-09-29  오후 02:41                 6 file123.txt\n",
      "2020-09-24  오후 04:50                24 memo.txt\n",
      "2020-10-05  오전 10:33    <DIR>          newfolder\n",
      "2020-09-23  오후 02:45               582 poem.txt\n",
      "2020-10-05  오전 10:59            42,708 practice_up_to_file(update_9-22).ipynb\n",
      "2020-09-29  오후 05:46             8,812 python_datatype_10_Regular Expression.ipynb\n",
      "2020-09-21  오후 04:13            45,387 python_datatype_2_sequential.ipynb\n",
      "2020-09-23  오전 10:43            48,195 python_datatype_3_sequential_tuple_set_dictionary.ipynb\n",
      "2020-09-22  오후 06:40            21,253 python_datatype_4_Loop (for, while).ipynb\n",
      "2020-10-05  오전 10:33    <DIR>          python_datatype_5_file\n",
      "2020-09-29  오전 10:39            67,305 python_datatype_6_function.ipynb\n",
      "2020-09-29  오전 09:50            18,403 python_datatype_7_class.ipynb\n",
      "2020-09-29  오후 02:13            10,604 python_datatype_8_exception.ipynb\n",
      "2020-09-29  오후 05:08            22,805 python_datatype_9_exception_Directory_File_Operation.ipynb\n",
      "2020-09-24  오후 12:27             5,749 python_datatype_test_1_review.ipynb\n",
      "2020-09-29  오전 10:16           102,085 python_function (1).ipynb\n",
      "2020-09-24  오전 09:53             1,668 school.txt\n",
      "2020-09-24  오후 04:21            16,339 stockcode.txt\n",
      "2020-10-05  오전 10:59    <DIR>          tired.dir\n",
      "              19개 파일             412,868 바이트\n",
      "               6개 디렉터리  740,680,933,376 바이트 남음\n"
     ]
    }
   ],
   "source": [
    "ls"
   ]
  },
  {
   "cell_type": "code",
   "execution_count": null,
   "metadata": {},
   "outputs": [],
   "source": [
    "from os.path import getsize\n",
    "file1 = 'memo.txt'\n",
    "file2 = 'ban.txt'\n",
    "file1_size1 = os.getsize(file1)\n",
    "file1_size2 = os.getsize(file2)\n",
    "print('')"
   ]
  }
 ],
 "metadata": {
  "kernelspec": {
   "display_name": "Python 3",
   "language": "python",
   "name": "python3"
  },
  "language_info": {
   "codemirror_mode": {
    "name": "ipython",
    "version": 3
   },
   "file_extension": ".py",
   "mimetype": "text/x-python",
   "name": "python",
   "nbconvert_exporter": "python",
   "pygments_lexer": "ipython3",
   "version": "3.8.3"
  }
 },
 "nbformat": 4,
 "nbformat_minor": 4
}
