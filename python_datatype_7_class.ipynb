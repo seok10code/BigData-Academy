{
 "cells": [
  {
   "cell_type": "markdown",
   "metadata": {},
   "source": [
    "### Class\n",
    "    자주 사용하는 함수들과 변수들을 한 덩어리로 묶어서 관리\n",
    "    class를 사용할 때는 class를 복사해서 사용. \n",
    "    class를 복사한 것을 instance라고 함.\n",
    "    \n",
    "    속성(attribute): 클래스 내의 변수\n",
    "    메소드(method) : 클래스 내의 함수\n",
    "    \n",
    "    class는 설계도와 같음. class를 사용시 class를 복사해서 인스턴스로 사용..\n",
    "    \n",
    "    클래스 : 붕어빵 틀, 인스턴스 : 붕어빵"
   ]
  },
  {
   "cell_type": "code",
   "execution_count": null,
   "metadata": {},
   "outputs": [],
   "source": []
  },
  {
   "cell_type": "code",
   "execution_count": 2,
   "metadata": {},
   "outputs": [],
   "source": [
    "#명찰 만드는 함수"
   ]
  },
  {
   "cell_type": "code",
   "execution_count": 27,
   "metadata": {},
   "outputs": [
    {
     "name": "stdout",
     "output_type": "stream",
     "text": [
      "이름을 입력하세요 : x\n",
      "메일주소를 입력하세요 : \n",
      "핸드폰번호를 입력하세요 : d\n",
      "==============================\n",
      "Name  : x\n",
      "Email : \n",
      "Phone : d\n",
      "==============================\n"
     ]
    }
   ],
   "source": [
    "class name_card:\n",
    "    def __init__(self, name, email, phone):\n",
    "        self.name = name\n",
    "        self.email = email\n",
    "        self.phone = phone\n",
    "        \n",
    "    def pr(self):\n",
    "        print(\"=\"*30)\n",
    "        print('Name  : {}'.format(self.name))\n",
    "        print('Email : {}'.format(self.email))\n",
    "        print('Phone : {}'.format(self.phone))\n",
    "        print(\"=\"*30)\n",
    "        \n",
    "    def detail_info(self, job, age, address):\n",
    "        print(\"=\"*30)\n",
    "        print('Job  : {}'.format(self.job))\n",
    "        print('Age : {}'.format(self.age))\n",
    "        print('Address : {}'.format(self.address))\n",
    "        print(\"=\"*30)\n",
    "              \n",
    "    def __del__(self):\n",
    "        pass\n",
    "\n",
    "x = input(\"이름을 입력하세요 : \")\n",
    "y = input(\"메일주소를 입력하세요 : \")\n",
    "z = input(\"핸드폰번호를 입력하세요 : \")\n",
    "a1 = name_card(x,y,z)\n",
    "a1.pr()\n"
   ]
  },
  {
   "cell_type": "code",
   "execution_count": 34,
   "metadata": {},
   "outputs": [],
   "source": [
    "class BusinessCard:\n",
    "\n",
    "    def set_info(self,name, email, address, job, age, phone):\n",
    "        \n",
    "        self.name = name\n",
    "        self.email = email\n",
    "        self.address = address\n",
    "        self.job = job\n",
    "        self.age = age\n",
    "        self.phone = phone\n",
    "    def business_card(self):\n",
    "        \n",
    "        print(\"=\"*30)\n",
    "        print('Name  : {}'.format(self.name))\n",
    "        print('Email : {}'.format(self.email))\n",
    "        print('Phone : {}'.format(self.phone))\n",
    "        print(\"=\"*30)\n",
    "        \n",
    "    def detail_info(self):\n",
    "        print(\"=\"*30)\n",
    "        print('Job  : {}'.format(self.job))\n",
    "        print('Age : {}'.format(self.age))\n",
    "        print('Address : {}'.format(self.address))\n",
    "        print(\"=\"*30)\n"
   ]
  },
  {
   "cell_type": "code",
   "execution_count": 35,
   "metadata": {},
   "outputs": [],
   "source": [
    "# 클래스 사용 => 클래스를 복사 (인스턴스 생성)"
   ]
  },
  {
   "cell_type": "code",
   "execution_count": 37,
   "metadata": {},
   "outputs": [
    {
     "name": "stdout",
     "output_type": "stream",
     "text": [
      "==============================\n",
      "Name  : sukwon\n",
      "Email : sukwon0800@gmail.com\n",
      "Phone : 9253816211\n",
      "==============================\n",
      "==============================\n",
      "Job  : student\n",
      "Age : 30\n",
      "Address : seoul\n",
      "==============================\n"
     ]
    }
   ],
   "source": [
    "s1 =BusinessCard()\n",
    "s1.set_info('sukwon', 'sukwon0800@gmail.com', 'seoul', 'student', '30','9253816211')\n",
    "s1.business_card()\n",
    "s1.detail_info()"
   ]
  },
  {
   "cell_type": "code",
   "execution_count": 41,
   "metadata": {},
   "outputs": [
    {
     "name": "stdout",
     "output_type": "stream",
     "text": [
      "==============================\n",
      "Name  : yuna\n",
      "Email : yuna@gmail.com\n",
      "Phone : 8587453945\n",
      "==============================\n",
      "==============================\n",
      "Job  : student\n",
      "Age : 22\n",
      "Address : seoul\n",
      "==============================\n"
     ]
    }
   ],
   "source": [
    "s2 = BusinessCard()\n",
    "s2.set_info('yuna', 'yuna@gmail.com', 'seoul', 'student', '22','8587453945')\n",
    "s2.business_card()\n",
    "s2.detail_info()"
   ]
  },
  {
   "cell_type": "code",
   "execution_count": 44,
   "metadata": {},
   "outputs": [
    {
     "ename": "AttributeError",
     "evalue": "'BusinessCard' object has no attribute 'businessCard'",
     "output_type": "error",
     "traceback": [
      "\u001b[1;31m---------------------------------------------------------------------------\u001b[0m",
      "\u001b[1;31mAttributeError\u001b[0m                            Traceback (most recent call last)",
      "\u001b[1;32m<ipython-input-44-985381aa445f>\u001b[0m in \u001b[0;36m<module>\u001b[1;34m\u001b[0m\n\u001b[0;32m      1\u001b[0m \u001b[0ms3\u001b[0m \u001b[1;33m=\u001b[0m \u001b[0mBusinessCard\u001b[0m\u001b[1;33m(\u001b[0m\u001b[1;33m)\u001b[0m\u001b[1;33m\u001b[0m\u001b[1;33m\u001b[0m\u001b[0m\n\u001b[1;32m----> 2\u001b[1;33m \u001b[0ms3\u001b[0m\u001b[1;33m.\u001b[0m\u001b[0mbusinessCard\u001b[0m\u001b[1;33m(\u001b[0m\u001b[1;33m)\u001b[0m\u001b[1;33m\u001b[0m\u001b[1;33m\u001b[0m\u001b[0m\n\u001b[0m",
      "\u001b[1;31mAttributeError\u001b[0m: 'BusinessCard' object has no attribute 'businessCard'"
     ]
    }
   ],
   "source": [
    "s3 = BusinessCard()\n",
    "# s3.businessCard()  error - 클래스 내에 변수에 값을 입력하지 않고 출력"
   ]
  },
  {
   "cell_type": "code",
   "execution_count": 50,
   "metadata": {},
   "outputs": [],
   "source": [
    "class BusinessCard:\n",
    "\n",
    "    def __init__(self, name, email, address, job, age, phone):\n",
    "        \"\"\"\n",
    "        생성자 함수\n",
    "        클래스가 복사되어 인스턴스가 생성될 때, 무조건 실행되는 함수..\n",
    "        \"\"\"\n",
    "        self.name = name\n",
    "        self.email = email\n",
    "        self.address = address\n",
    "        self.job = job\n",
    "        self.age = age\n",
    "        self.phone = phone\n",
    "        \n",
    "    def business_card(self):\n",
    "        \n",
    "        print(\"=\"*30)\n",
    "        print('Name  : {}'.format(self.name))\n",
    "        print('Email : {}'.format(self.email))\n",
    "        print('Phone : {}'.format(self.phone))\n",
    "        print(\"=\"*30)\n",
    "        \n",
    "    def detail_info(self):\n",
    "        print(\"=\"*30)\n",
    "        print('Job  : {}'.format(self.job))\n",
    "        print('Age : {}'.format(self.age))\n",
    "        print('Address : {}'.format(self.address))\n",
    "        print(\"=\"*30)\n"
   ]
  },
  {
   "cell_type": "code",
   "execution_count": 51,
   "metadata": {},
   "outputs": [
    {
     "name": "stdout",
     "output_type": "stream",
     "text": [
      "==============================\n",
      "Name  : yuna\n",
      "Email : yuna@gmail.com\n",
      "Phone : 8587453945\n",
      "==============================\n"
     ]
    }
   ],
   "source": [
    "biz = BusinessCard('yuna', 'yuna@gmail.com', 'seoul', 'student', '22','8587453945')\n",
    "biz.business_card()"
   ]
  },
  {
   "cell_type": "code",
   "execution_count": null,
   "metadata": {},
   "outputs": [],
   "source": [
    "# class\n",
    "# 원의 면적과 원의 둘레길이를 계산하는, 함수(메서드)를 갖은 클래스\n",
    "# 속성(변수) - 반지름, pi"
   ]
  },
  {
   "cell_type": "code",
   "execution_count": 62,
   "metadata": {},
   "outputs": [],
   "source": [
    "class circle:\n",
    "    pi = 3.14   #클래스 변수 - 모든 클래스 내에서 공유되는 변수\n",
    "    def __init__(self, r):\n",
    "        self.r = r   #인스턴스 변수 - 각각의 인스턴스 공유되는 변수\n",
    "        \n",
    "    def area(self):\n",
    "        m = (self.r)*(self.r)\n",
    "        return circle.pi*m\n",
    "        \n",
    "    def len_cir(self):\n",
    "        return 2*(circle.pi)*self.r\n",
    "        "
   ]
  },
  {
   "cell_type": "code",
   "execution_count": 66,
   "metadata": {},
   "outputs": [
    {
     "name": "stdout",
     "output_type": "stream",
     "text": [
      "28.26\n",
      "18.84\n"
     ]
    }
   ],
   "source": [
    "c1 = circle(3)\n",
    "print(c1.area())\n",
    "print(c1.len_cir())"
   ]
  },
  {
   "cell_type": "code",
   "execution_count": null,
   "metadata": {},
   "outputs": [],
   "source": [
    "# 상속"
   ]
  },
  {
   "cell_type": "code",
   "execution_count": 67,
   "metadata": {},
   "outputs": [],
   "source": [
    "class Parent:\n",
    "    name = 'ddfs\n",
    "    def can_sing(self):\n",
    "        print('sing a song')"
   ]
  },
  {
   "cell_type": "code",
   "execution_count": 68,
   "metadata": {},
   "outputs": [
    {
     "name": "stdout",
     "output_type": "stream",
     "text": [
      "sing a song\n"
     ]
    }
   ],
   "source": [
    "a = Parent()\n",
    "a.can_sing()"
   ]
  },
  {
   "cell_type": "code",
   "execution_count": 69,
   "metadata": {},
   "outputs": [
    {
     "name": "stdout",
     "output_type": "stream",
     "text": [
      "sing a song\n"
     ]
    }
   ],
   "source": [
    "b = Parent()\n",
    "b.can_sing()"
   ]
  },
  {
   "cell_type": "code",
   "execution_count": 74,
   "metadata": {},
   "outputs": [],
   "source": [
    "class Child(Parent):\n",
    "    pass\n",
    "    "
   ]
  },
  {
   "cell_type": "code",
   "execution_count": 76,
   "metadata": {},
   "outputs": [
    {
     "name": "stdout",
     "output_type": "stream",
     "text": [
      "sing a song\n"
     ]
    }
   ],
   "source": [
    "ch1 = Child()\n",
    "ch1.can_sing()"
   ]
  },
  {
   "cell_type": "code",
   "execution_count": 81,
   "metadata": {},
   "outputs": [],
   "source": [
    "class Child1(Parent): #parent class 상속\n",
    "    def can_dance(self): # 자신의 메소드\n",
    "        print('can dance')\n"
   ]
  },
  {
   "cell_type": "code",
   "execution_count": 82,
   "metadata": {},
   "outputs": [],
   "source": [
    "chi2 = Child1()"
   ]
  },
  {
   "cell_type": "code",
   "execution_count": 83,
   "metadata": {},
   "outputs": [
    {
     "name": "stdout",
     "output_type": "stream",
     "text": [
      "sing a song\n"
     ]
    }
   ],
   "source": [
    "chi2.can_sing()"
   ]
  },
  {
   "cell_type": "code",
   "execution_count": 84,
   "metadata": {},
   "outputs": [
    {
     "name": "stdout",
     "output_type": "stream",
     "text": [
      "can dance\n"
     ]
    }
   ],
   "source": [
    "chi2.can_dance()"
   ]
  },
  {
   "cell_type": "code",
   "execution_count": null,
   "metadata": {},
   "outputs": [],
   "source": [
    "# class\n",
    "# 임의의 정수 2개를 인스턴스 변수로 가지고\n",
    "# 4칙연산 메서드 4개를 가진 클래스를 만드시오"
   ]
  },
  {
   "cell_type": "code",
   "execution_count": 98,
   "metadata": {},
   "outputs": [],
   "source": [
    "class calculator:\n",
    "    def __init__(self, a, b):\n",
    "        self.a =a\n",
    "        self.b = b\n",
    "        \n",
    "    def addf(self):\n",
    "        return self.a+self.b\n",
    "    def subf(self):\n",
    "        if self.a >= self.b:\n",
    "            return self.a-self.b\n",
    "        else:\n",
    "            return self.b-self.a\n",
    "    def mulf(self):\n",
    "        return self.a*self.b\n",
    "    def divf(self):\n",
    "        return self.a/self.b"
   ]
  },
  {
   "cell_type": "code",
   "execution_count": 99,
   "metadata": {},
   "outputs": [
    {
     "name": "stdout",
     "output_type": "stream",
     "text": [
      "9\n",
      "1\n",
      "20\n",
      "1.25\n"
     ]
    }
   ],
   "source": [
    "m1 = calculator(5,4)\n",
    "print(m1.add())\n",
    "print(m1.diff())\n",
    "print(m1.times())\n",
    "print(m1.div())"
   ]
  },
  {
   "cell_type": "code",
   "execution_count": 102,
   "metadata": {},
   "outputs": [],
   "source": [
    "class FourCal1(calculator):\n",
    "    def pow(self):\n",
    "        result = self.a ** self.b\n",
    "        return result"
   ]
  },
  {
   "cell_type": "code",
   "execution_count": 105,
   "metadata": {},
   "outputs": [
    {
     "data": {
      "text/plain": [
       "81"
      ]
     },
     "execution_count": 105,
     "metadata": {},
     "output_type": "execute_result"
    }
   ],
   "source": [
    "cal1 = FourCal1(3,4)\n",
    "cal1.pow()"
   ]
  },
  {
   "cell_type": "code",
   "execution_count": 107,
   "metadata": {},
   "outputs": [],
   "source": [
    "class SafeFourCal(calculator): # 상속을 받으면서 기존 메소드를 수정 ==> override\n",
    "    def divf(self):\n",
    "        if self.b == 0:\n",
    "            return 0\n",
    "        else:\n",
    "            return self.a/self.b"
   ]
  },
  {
   "cell_type": "code",
   "execution_count": 109,
   "metadata": {},
   "outputs": [],
   "source": [
    "cal3=SafeFourCal(2,0)"
   ]
  },
  {
   "cell_type": "code",
   "execution_count": 110,
   "metadata": {},
   "outputs": [
    {
     "data": {
      "text/plain": [
       "0"
      ]
     },
     "execution_count": 110,
     "metadata": {},
     "output_type": "execute_result"
    }
   ],
   "source": [
    "cal3.divf()"
   ]
  },
  {
   "cell_type": "code",
   "execution_count": 114,
   "metadata": {},
   "outputs": [],
   "source": [
    "class Sam:\n",
    "    data = 'python'   # 클래스 변수\n",
    "    \n",
    "    def __init__(self):\n",
    "        self.data1 = 'korea'   # 인스턴스 변수\n",
    "    \n",
    "    def instance_method(self):   # 매개변수 self를 가지는 메소드 : 인스턴스메소드\n",
    "        print('instance method:', self.data1)\n",
    "        \n",
    "    @classmethod\n",
    "    def class_method(cls):      # 매개변수 cls를 가지고, @classmethod : 클래스 메소드\n",
    "        print('class method:', cls.data)\n",
    "    \n",
    "    @staticmethod\n",
    "    def static_method():        # 매개변수 self, cls 를 가지지 않고, @staticmethod : 스테틱에\n",
    "        print('static method:', Sam.data)"
   ]
  },
  {
   "cell_type": "code",
   "execution_count": 115,
   "metadata": {},
   "outputs": [],
   "source": [
    "s=Sam()"
   ]
  },
  {
   "cell_type": "code",
   "execution_count": 116,
   "metadata": {},
   "outputs": [
    {
     "name": "stdout",
     "output_type": "stream",
     "text": [
      "instance method: korea\n"
     ]
    }
   ],
   "source": [
    "s.instance_method()"
   ]
  },
  {
   "cell_type": "code",
   "execution_count": 117,
   "metadata": {},
   "outputs": [
    {
     "name": "stdout",
     "output_type": "stream",
     "text": [
      "class method: python\n"
     ]
    }
   ],
   "source": [
    "s.class_method()  # 클래스메소드 : 인스턴스로 접근이 가능"
   ]
  },
  {
   "cell_type": "code",
   "execution_count": 119,
   "metadata": {},
   "outputs": [
    {
     "name": "stdout",
     "output_type": "stream",
     "text": [
      "class method: python\n"
     ]
    }
   ],
   "source": [
    "Sam.class_method() #클래스 메소드 : 클래스 명으로도 접근이 가능..."
   ]
  },
  {
   "cell_type": "code",
   "execution_count": 1,
   "metadata": {},
   "outputs": [],
   "source": [
    "# Sam.instance_method() -error   # 인스턴스메소드 : 인스턴스로만 접근이 가능"
   ]
  },
  {
   "cell_type": "code",
   "execution_count": 121,
   "metadata": {},
   "outputs": [
    {
     "name": "stdout",
     "output_type": "stream",
     "text": [
      "static method: python\n",
      "static method: python\n"
     ]
    }
   ],
   "source": [
    "s.static_method()   # 스테틱메소드 : 인스턴스로도 접근이 가능\n",
    "Sam.static_method()   # 스테틱 메소드 : 클래스로도 접근이 가능\n"
   ]
  },
  {
   "cell_type": "code",
   "execution_count": null,
   "metadata": {},
   "outputs": [],
   "source": [
    "# 객체를 만들어서 접근이 가능한 메소드 => 인스턴스 메소드, self를 매개변수로 가짐\n",
    "# 객체를 만들지 않고 접근이 가능한 메소드 => 클래스 메소드, cls를 매개변수로 가짐\n",
    "# 객체를 만들지 않고 접근이 가능한 메소드 => 스테틱 메소드, cls, self를 매개변수로 가지지 않음\n",
    "\n",
    "# 클래스메소드 : 클래스 변수를 사용, 인스턴스 메소드 사용 못 함.\n",
    "# 스테틱 메소드 : cls없이 클래스 변수를 사용, 인스턴스 변수 사용 못 함."
   ]
  },
  {
   "cell_type": "code",
   "execution_count": null,
   "metadata": {},
   "outputs": [],
   "source": []
  },
  {
   "cell_type": "code",
   "execution_count": null,
   "metadata": {},
   "outputs": [],
   "source": []
  },
  {
   "cell_type": "code",
   "execution_count": null,
   "metadata": {},
   "outputs": [],
   "source": []
  },
  {
   "cell_type": "code",
   "execution_count": null,
   "metadata": {},
   "outputs": [],
   "source": []
  }
 ],
 "metadata": {
  "kernelspec": {
   "display_name": "Python 3",
   "language": "python",
   "name": "python3"
  },
  "language_info": {
   "codemirror_mode": {
    "name": "ipython",
    "version": 3
   },
   "file_extension": ".py",
   "mimetype": "text/x-python",
   "name": "python",
   "nbconvert_exporter": "python",
   "pygments_lexer": "ipython3",
   "version": "3.8.3"
  }
 },
 "nbformat": 4,
 "nbformat_minor": 4
}
