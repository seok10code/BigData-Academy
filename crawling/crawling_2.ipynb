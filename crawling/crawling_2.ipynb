{
 "cells": [
  {
   "cell_type": "code",
   "execution_count": 2,
   "metadata": {},
   "outputs": [],
   "source": [
    "# 1. url주소를 가져옴\n",
    "# 2. html = requests(url)  # request를 통해 web html source를 가져옴\n",
    "# 3. soup = BeautifulSoup(html.text, 'html.parser') # BeautifulSoup html source 읽기\n",
    "# 4. res = soup.select(path)    # parsing - html 내에서 원하는 tag를 추출...\n",
    "# 5. res.text    # text 추출\n",
    "#     res.['속성'] # 속성값 추출\n",
    "\n",
    "# 4. 저장된 방대한 html에서 원하는 부분의 element를 가져오기 - 핵심\n",
    "# => chrome > 개발자도구 > select an element > 원하는 부분 선택 > script\n",
    "#  > copy selector > element path(경로)\n",
    "# => 위의 방식이 100% 작동하지 않는다 =>수동으로 경로를 찾아서 입력 => 노가다\n"
   ]
  },
  {
   "cell_type": "code",
   "execution_count": 3,
   "metadata": {},
   "outputs": [],
   "source": [
    "# select() - 태그, 속성, 경로를 통해서 원하는 element를 추출\n",
    "# find_all() - 태그 나 속성 중심으로 원하는 element를 추출\n"
   ]
  },
  {
   "cell_type": "code",
   "execution_count": 8,
   "metadata": {},
   "outputs": [],
   "source": [
    "# select('.title') - title class가 적용된 element를 모두 가져옴.\n",
    "# select('#search') - search라는 id가 적용된 element를 모두 가져옴\n",
    "# select('div > p') - div 태그 바로 아래 p 태그를 가져옴\n",
    "# select('div p') - div태그 아래 모든 p태그를 가져옴\n",
    "# select('a[;hert]') - a 태그에 href속성의 속성값을 가져옴\n",
    "\n"
   ]
  },
  {
   "cell_type": "code",
   "execution_count": null,
   "metadata": {},
   "outputs": [],
   "source": [
    "# Beaitofi;Soup(html.text, <parsing 방식)\n",
    "\n",
    "# * parsing 방식\n",
    "# => 'html.parser'  - 일반적으로\n",
    "# => 'html5lib' - \n",
    "# => 'lxml' - lxml을 파싱하는 경우, 속도가 가장 빠르다..\n",
    "\n"
   ]
  },
  {
   "cell_type": "code",
   "execution_count": 11,
   "metadata": {},
   "outputs": [],
   "source": [
    "\n",
    "html1 = '''\n",
    "<html>\n",
    "    <head>\n",
    "        <title> HTML 연습 </title>\n",
    "    </head>\n",
    "    <body>\n",
    "        <p align=\"center\"> text 1 </p>\n",
    "            <h2> python programming 1 </h2>\n",
    "            <h2 id='test3'> python programming 2 </h2>            \n",
    "        <p class=\"center\"> text 2 </p>\n",
    "            <h2> hello world </h2>\n",
    "        <p align=\"center\"> text 3 </p>\n",
    "        <div class='test1'> text 4 </div>\n",
    "        <div id='test2'> text 5 </div>\n",
    "        <span> text 6 </span>\n",
    "        <img src=\"c:\\\\temp\\\\image\\\\솔개.png\">\n",
    "    </body>\n",
    "</html> '''"
   ]
  },
  {
   "cell_type": "code",
   "execution_count": 13,
   "metadata": {},
   "outputs": [
    {
     "data": {
      "text/plain": [
       "[<p align=\"center\"> text 1 </p>,\n",
       " <p class=\"center\"> text 2 </p>,\n",
       " <p align=\"center\"> text 3 </p>]"
      ]
     },
     "execution_count": 13,
     "metadata": {},
     "output_type": "execute_result"
    }
   ],
   "source": [
    "from bs4 import BeautifulSoup as bs\n",
    "import requests\n",
    "soup = bs(html1, 'html.parser')\n",
    "soup.select('p')"
   ]
  },
  {
   "cell_type": "code",
   "execution_count": 14,
   "metadata": {},
   "outputs": [
    {
     "data": {
      "text/plain": [
       "[<p class=\"center\"> text 2 </p>]"
      ]
     },
     "execution_count": 14,
     "metadata": {},
     "output_type": "execute_result"
    }
   ],
   "source": [
    "soup.select('p.center')"
   ]
  },
  {
   "cell_type": "code",
   "execution_count": 17,
   "metadata": {},
   "outputs": [
    {
     "data": {
      "text/plain": [
       "'c:\\\\temp\\\\image\\\\솔개.png'"
      ]
     },
     "execution_count": 17,
     "metadata": {},
     "output_type": "execute_result"
    }
   ],
   "source": [
    "soup.select(\"img\")[0]['src']"
   ]
  },
  {
   "cell_type": "code",
   "execution_count": 21,
   "metadata": {},
   "outputs": [
    {
     "data": {
      "text/plain": [
       "' python programming 2 '"
      ]
     },
     "execution_count": 21,
     "metadata": {},
     "output_type": "execute_result"
    }
   ],
   "source": [
    "# \"python programming 2\"\n",
    "\n",
    "soup.select('h2#test3')[0].text"
   ]
  },
  {
   "cell_type": "code",
   "execution_count": 22,
   "metadata": {},
   "outputs": [
    {
     "data": {
      "text/plain": [
       "' text 2 '"
      ]
     },
     "execution_count": 22,
     "metadata": {},
     "output_type": "execute_result"
    }
   ],
   "source": [
    "# \"text2\"\n",
    "\n",
    "soup.select('p.center')[0].text"
   ]
  },
  {
   "cell_type": "code",
   "execution_count": 25,
   "metadata": {},
   "outputs": [
    {
     "data": {
      "text/plain": [
       "' text 6 '"
      ]
     },
     "execution_count": 25,
     "metadata": {},
     "output_type": "execute_result"
    }
   ],
   "source": [
    "# text6\n",
    "soup.select('span')[0].text"
   ]
  },
  {
   "cell_type": "code",
   "execution_count": 30,
   "metadata": {},
   "outputs": [],
   "source": [
    "html2 = '''\n",
    "<html> \n",
    "    <head> \n",
    "        <h1> 사야할 과일 \n",
    "    </head> \n",
    "    <body> \n",
    "        <h1> 시장가서 사야할 과일 목록</h1> \n",
    "            <div> <p id='fruits1' class='name1' title='바나나'> 바나나 \n",
    "                  <span class = 'price'> 3000원 </span> \n",
    "                  <span class = 'count'> 10개 </span> \n",
    "                  <span class = 'store'> 바나나가게 </span> \n",
    "                  <a href = 'www.banana.com'> banana.com </a> \n",
    "                  </p>\n",
    "            </div> \n",
    "            <div> <p id='fruits2' class='name2' title='체리'> 체리 \n",
    "                <span class = 'price'> 100원 </span> \n",
    "                <span class = 'count'> 50개 </span> \n",
    "                <span class = 'store'> 체리가게</span> \n",
    "                <a href = 'www.cherry.com'> cherry.com </a>\n",
    "                </p> \n",
    "            </div> \n",
    "            <div> <p id='fruits3' class='name3' title='오렌지'> 오렌지\n",
    "                <span class = 'price'> 500원 </span> \n",
    "                <span class = 'count'> 20개 </span> \n",
    "                <span class = 'store'> 오렌지가게</span> \n",
    "                <a href = 'www.orange.com'> orange.com </a>\n",
    "                </p> \n",
    "            <div> \n",
    "    </body> \n",
    "</html> \n",
    "'''"
   ]
  },
  {
   "cell_type": "code",
   "execution_count": 29,
   "metadata": {},
   "outputs": [],
   "source": [
    "soup = bs(html2, 'lxml')"
   ]
  },
  {
   "cell_type": "code",
   "execution_count": 31,
   "metadata": {},
   "outputs": [
    {
     "data": {
      "text/plain": [
       "[<span class=\"price\"> 3000원 </span>,\n",
       " <span class=\"count\"> 10개 </span>,\n",
       " <span class=\"store\"> 바나나가게 </span>,\n",
       " <span class=\"price\"> 100원 </span>,\n",
       " <span class=\"count\"> 50개 </span>,\n",
       " <span class=\"store\"> 체리가게</span>,\n",
       " <span class=\"price\"> 500원 </span>,\n",
       " <span class=\"count\"> 20개 </span>,\n",
       " <span class=\"store\"> 오렌지가게</span>]"
      ]
     },
     "execution_count": 31,
     "metadata": {},
     "output_type": "execute_result"
    }
   ],
   "source": [
    "soup.select('span')"
   ]
  },
  {
   "cell_type": "code",
   "execution_count": 56,
   "metadata": {},
   "outputs": [
    {
     "data": {
      "text/plain": [
       "[<a href=\"www.banana.com\"> banana.com </a>,\n",
       " <a href=\"www.cherry.com\"> cherry.com </a>,\n",
       " <a href=\"www.orange.com\"> orange.com </a>]"
      ]
     },
     "execution_count": 56,
     "metadata": {},
     "output_type": "execute_result"
    }
   ],
   "source": [
    "soup.select('p>a')"
   ]
  },
  {
   "cell_type": "code",
   "execution_count": 43,
   "metadata": {},
   "outputs": [
    {
     "name": "stdout",
     "output_type": "stream",
     "text": [
      " 바나나가게 \n",
      " 체리가게\n",
      " 오렌지가게\n"
     ]
    }
   ],
   "source": [
    "for i in range(0,3):\n",
    "    print(soup.select('p>span.store')[i].text)\n",
    "    "
   ]
  },
  {
   "cell_type": "code",
   "execution_count": 57,
   "metadata": {},
   "outputs": [
    {
     "name": "stdout",
     "output_type": "stream",
     "text": [
      " 바나나가게  : www.banana.com\n",
      " 체리가게 : www.cherry.com\n",
      " 오렌지가게 : www.orange.com\n"
     ]
    }
   ],
   "source": [
    "dic = {}\n",
    "for i in range(0,3):\n",
    "    print(soup.select('p>span.store')[i].text, ':', soup.select('div>p>a')[i]['href'])"
   ]
  },
  {
   "cell_type": "code",
   "execution_count": 62,
   "metadata": {},
   "outputs": [],
   "source": [
    "html =\"\"\"\n",
    "<!DOCTYPE html>\n",
    "<html>\n",
    "<head>\n",
    "    <meta charset=\"UTF-8\">\n",
    "    <title>파이썬 클래스</title>\n",
    "    <meta property=\"og:title\" content=\"페이스북이나 카톡 미리보기에서 보이는 제목입니다.\" />\n",
    "    <meta property=\"og:description\" content=\"og 설명\" />\n",
    "    <meta property=\"og:image\" content=\"og 이미지\" />\n",
    "    <style>\n",
    "        body {\n",
    "            background-color: #d0e4fe;\n",
    "        }\n",
    "\n",
    "        h1 {\n",
    "            color: orange;\n",
    "            text-align: center;\n",
    "        }\n",
    "\n",
    "        .desc-box {\n",
    "            text-align: center;\n",
    "        }\n",
    "\n",
    "        #desc-important {\n",
    "            color: blue;\n",
    "        }\n",
    "    </style>\n",
    "</head>\n",
    "<body>\n",
    "\n",
    "<h1>파이썬 2016 클래스입니다.</h1>\n",
    "\n",
    "<div class=\"desc-box\">\n",
    "    <p>오늘은 <b id=\"crawling\">크롤링</b>에 대해 배우고 있습니다.</p>\n",
    "\n",
    "    <div>\n",
    "        <img src=\"http://movement-as-medicine.com/wp-content/uploads/2014/01/baby-crawling.jpg\"/>\n",
    "    </div>\n",
    "\n",
    "    <span>크롤링에 대한 자세한 정의는 <a href=\"https://en.wikipedia.org/wiki/Web_crawler\">위키피디아</a>를 참고해보세요.</span>\n",
    "\n",
    "    <div class=\"desc-line first\">\n",
    "        <span>웹 크롤링을 하려면 html과 css에 대해 먼저 알아야 합니다.</span>\n",
    "        <a href=\"http://www.w3schools.com/html/\">w3school 페이지에서 HTML, CSS에 대해 알아볼 수 있어요</a>\n",
    "    </div>\n",
    "    <div class=\"desc-line second\">\n",
    "        <span><b id=\"desc-important\">Javascript</b>는 웹페이지를 동적으로 만들어주는 역할을 합니다.</span>\n",
    "    </div>\n",
    "</div>\n",
    "\n",
    "</body>\n",
    "</html>\"\"\""
   ]
  },
  {
   "cell_type": "code",
   "execution_count": 63,
   "metadata": {},
   "outputs": [],
   "source": [
    "soup= bs(html, 'html.parser')"
   ]
  },
  {
   "cell_type": "code",
   "execution_count": 77,
   "metadata": {},
   "outputs": [
    {
     "data": {
      "text/plain": [
       "'웹 크롤링을 하려면 html과 css에 대해 먼저 알아야 합니다.'"
      ]
     },
     "execution_count": 77,
     "metadata": {},
     "output_type": "execute_result"
    }
   ],
   "source": [
    "soup.select('div.desc-line.first > span')[0].text"
   ]
  },
  {
   "cell_type": "code",
   "execution_count": 78,
   "metadata": {},
   "outputs": [
    {
     "data": {
      "text/plain": [
       "'http://www.w3schools.com/html/'"
      ]
     },
     "execution_count": 78,
     "metadata": {},
     "output_type": "execute_result"
    }
   ],
   "source": [
    "soup.select('div.desc-line.first>a')[0]['href']"
   ]
  },
  {
   "cell_type": "code",
   "execution_count": null,
   "metadata": {},
   "outputs": [],
   "source": []
  },
  {
   "cell_type": "code",
   "execution_count": null,
   "metadata": {},
   "outputs": [],
   "source": []
  },
  {
   "cell_type": "code",
   "execution_count": null,
   "metadata": {},
   "outputs": [],
   "source": []
  },
  {
   "cell_type": "code",
   "execution_count": null,
   "metadata": {},
   "outputs": [],
   "source": []
  }
 ],
 "metadata": {
  "kernelspec": {
   "display_name": "Python 3",
   "language": "python",
   "name": "python3"
  },
  "language_info": {
   "codemirror_mode": {
    "name": "ipython",
    "version": 3
   },
   "file_extension": ".py",
   "mimetype": "text/x-python",
   "name": "python",
   "nbconvert_exporter": "python",
   "pygments_lexer": "ipython3",
   "version": "3.8.3"
  }
 },
 "nbformat": 4,
 "nbformat_minor": 4
}
