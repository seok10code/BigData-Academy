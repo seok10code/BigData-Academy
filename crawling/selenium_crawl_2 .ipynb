{
 "cells": [
  {
   "cell_type": "code",
   "execution_count": 1,
   "metadata": {},
   "outputs": [],
   "source": [
    "# https://korean.visitkorea.or.kr\n",
    "\n",
    "# 사이트에서 '여행'으로 검색한 결과페이지에서 첫 번째 콘텐츠의 텍스트를\n",
    "# 출력하시오."
   ]
  },
  {
   "cell_type": "code",
   "execution_count": 2,
   "metadata": {},
   "outputs": [
    {
     "name": "stdout",
     "output_type": "stream",
     "text": [
      "검색할 키워드를 입력하세요여행\n"
     ]
    }
   ],
   "source": [
    "from selenium import webdriver\n",
    "import time\n",
    "from bs4 import BeautifulSoup\n",
    "search_text = input('검색할 키워드를 입력하세요')"
   ]
  },
  {
   "cell_type": "code",
   "execution_count": 3,
   "metadata": {},
   "outputs": [],
   "source": [
    "driver = webdriver.Chrome('./chromedriver')\n",
    "driver.set_window_size(800,1000)\n",
    "driver.get('https://korean.visitkorea.or.kr')\n",
    "time.sleep(3)\n",
    "driver.find_element_by_id('chkForm01').click()\n",
    "elem = driver.find_element_by_class_name('inp_search')\n",
    "elem.send_keys(search_text)\n",
    "time.sleep(3)\n",
    "driver.find_element_by_class_name('btn_search2').click()\n",
    "# //*[@id=\"contents\"]/div/div[1]/ul/li[1]/div[2]/div/a\n",
    "driver.find_element_by_xpath('//*[@id=\"contents\"]/div/div[1]/ul/li[1]/div[2]/div/a').click()\n",
    "html = driver.page_source\n",
    "soup = BeautifulSoup(html, 'html.parser')\n",
    "title = driver.find_element_by_id('topTitle').text\n",
    "title\n",
    "for d in soup.select('div.txt_p'):\n",
    "    print()\n",
    "    print(d.text)"
   ]
  },
  {
   "cell_type": "code",
   "execution_count": null,
   "metadata": {},
   "outputs": [],
   "source": [
    "# print(title)\n",
    "# print()\n",
    "# elem = soup.select('div.txt_p')\n",
    "# for e in elem:\n",
    "#     print()\n",
    "#     print(e.text)"
   ]
  },
  {
   "cell_type": "code",
   "execution_count": 23,
   "metadata": {},
   "outputs": [],
   "source": []
  },
  {
   "cell_type": "code",
   "execution_count": null,
   "metadata": {},
   "outputs": [],
   "source": []
  }
 ],
 "metadata": {
  "kernelspec": {
   "display_name": "Python 3",
   "language": "python",
   "name": "python3"
  },
  "language_info": {
   "codemirror_mode": {
    "name": "ipython",
    "version": 3
   },
   "file_extension": ".py",
   "mimetype": "text/x-python",
   "name": "python",
   "nbconvert_exporter": "python",
   "pygments_lexer": "ipython3",
   "version": "3.8.3"
  }
 },
 "nbformat": 4,
 "nbformat_minor": 4
}
