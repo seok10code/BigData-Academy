{
 "cells": [
  {
   "cell_type": "code",
   "execution_count": 1,
   "metadata": {},
   "outputs": [],
   "source": [
    "# 대한민국 100대 통계지표\n",
    "# http://ecos.bok.or.kr//jsp/keystat/#/key\n",
    "# http://ecos.bok.or.kr/jsp/vis/keystat/#/key"
   ]
  },
  {
   "cell_type": "code",
   "execution_count": 2,
   "metadata": {},
   "outputs": [],
   "source": [
    "# 1. '국민소득,경기,기업경영' 항목의 경제지표 타이틀을 출력\n",
    "# 2. '국민소득,경기,기업경영' 항목의 경제지표 중 임의의 한 경제지표를 입력 받은 후 \n",
    "# 3. 선택한 경제지표의 상세 정보를 페이지로 이동..\n",
    "# 4. 연도별 경제지표 표를 크롤링해서 출력.."
   ]
  },
  {
   "cell_type": "code",
   "execution_count": 64,
   "metadata": {},
   "outputs": [],
   "source": [
    "from selenium import webdriver\n",
    "from bs4 import BeautifulSoup as bs\n",
    "import time\n",
    "import requests"
   ]
  },
  {
   "cell_type": "code",
   "execution_count": 65,
   "metadata": {},
   "outputs": [],
   "source": [
    "driver = webdriver.Chrome('./chromedriver')\n",
    "driver.get('http://ecos.bok.or.kr/jsp/vis/keystat/#/key')\n",
    "time.sleep(4)"
   ]
  },
  {
   "cell_type": "code",
   "execution_count": 66,
   "metadata": {},
   "outputs": [],
   "source": [
    "html = driver.page_source\n",
    "soup = bs(html, 'html.parser')\n",
    "tags = soup.select('body > div.HSwrap.ng-scope > div.HScontainer > div > div > div:nth-child(2) > div > div:nth-child(1) > div.HSthemeA > table > tbody >tr')"
   ]
  },
  {
   "cell_type": "code",
   "execution_count": 67,
   "metadata": {},
   "outputs": [
    {
     "name": "stdout",
     "output_type": "stream",
     "text": [
      "경제성장률(실질, 계절조정 전기대비)\n",
      "민간소비증감률(실질, 계절조정 전기대비)\n",
      "설비투자증감률(실질, 계절조정 전기대비)\n",
      "건설투자증감률(실질, 계절조정 전기대비)\n",
      "GDP(명목, 계절조정)\n",
      "GDP디플레이터\n",
      "1인당GNI\n",
      "총저축률\n",
      "국내총투자율\n",
      "수출입의 대 GNI 비율\n",
      "제조업업황실적BSI\n",
      "소비자심리지수\n",
      "경제심리지수\n",
      "경기동행지수순환변동치\n",
      "경기선행지수순환변동치\n",
      "제조업부채비율\n",
      "제조업매출액세전순이익률\n",
      "제조업매출액증감률\n"
     ]
    }
   ],
   "source": [
    "for i in range(len(tags)):\n",
    "    print(tags[i].select('.a-c1-list')[0].text.split('\\n')[0])"
   ]
  },
  {
   "cell_type": "code",
   "execution_count": 68,
   "metadata": {},
   "outputs": [
    {
     "name": "stdout",
     "output_type": "stream",
     "text": [
      "선택할 경제지표명을 입력하세요: GDP디플레이터\n"
     ]
    }
   ],
   "source": [
    "\n",
    "title = input('선택할 경제지표명을 입력하세요: ')\n",
    "for i in range(len(tags)):\n",
    "    if title == tags[i].select('.a-c1-list')[0].text.split('\\n')[0]:\n",
    "        driver.find_element_by_class_name('QQ').click()"
   ]
  },
  {
   "cell_type": "code",
   "execution_count": 69,
   "metadata": {},
   "outputs": [
    {
     "data": {
      "text/plain": [
       "'\\n2015.3/4\\n1.5\\n1.1\\n'"
      ]
     },
     "execution_count": 69,
     "metadata": {},
     "output_type": "execute_result"
    }
   ],
   "source": [
    "html = driver.page_source\n",
    "soup = bs(html, 'html.parser')\n",
    "charts = soup.select('body > div.HSwrap.ng-scope > div.HScontainer > div > div > div.HSw75p > div > div > div.HSchartlist > table > tbody > tr')\n",
    "charts[0].text\n"
   ]
  },
  {
   "cell_type": "code",
   "execution_count": 71,
   "metadata": {},
   "outputs": [
    {
     "name": "stdout",
     "output_type": "stream",
     "text": [
      "========================================\n",
      "시점 : 2015.3/4, 지표 : 1.5, 전기대비 증감 : 1.1\n",
      "========================================\n",
      "시점 : 2015.4/4, 지표 : 0.7, 전기대비 증감 : -0.8\n",
      "========================================\n",
      "시점 : 2016.1/4, 지표 : 0.3, 전기대비 증감 : -0.4\n",
      "========================================\n",
      "시점 : 2016.2/4, 지표 : 1.1, 전기대비 증감 : 0.8\n",
      "========================================\n",
      "시점 : 2016.3/4, 지표 : 0.4, 전기대비 증감 : -0.7\n",
      "========================================\n",
      "시점 : 2016.4/4, 지표 : 0.8, 전기대비 증감 : 0.4\n",
      "========================================\n",
      "시점 : 2017.1/4, 지표 : 0.8, 전기대비 증감 : 0.0\n",
      "========================================\n",
      "시점 : 2017.2/4, 지표 : 0.7, 전기대비 증감 : -0.1\n",
      "========================================\n",
      "시점 : 2017.3/4, 지표 : 1.5, 전기대비 증감 : 0.8\n",
      "========================================\n",
      "시점 : 2017.4/4, 지표 : -0.1, 전기대비 증감 : -1.6\n",
      "========================================\n",
      "시점 : 2018.1/4, 지표 : 1.1, 전기대비 증감 : 1.2\n",
      "========================================\n",
      "시점 : 2018.2/4, 지표 : 0.6, 전기대비 증감 : -0.5\n",
      "========================================\n",
      "시점 : 2018.3/4, 지표 : 0.6, 전기대비 증감 : 0.0\n",
      "========================================\n",
      "시점 : 2018.4/4, 지표 : 0.9, 전기대비 증감 : 0.3\n",
      "========================================\n",
      "시점 : 2019.1/4, 지표 : -0.3, 전기대비 증감 : -1.2\n",
      "========================================\n",
      "시점 : 2019.2/4, 지표 : 1.0, 전기대비 증감 : 1.3\n",
      "========================================\n",
      "시점 : 2019.3/4, 지표 : 0.4, 전기대비 증감 : -0.6\n",
      "========================================\n",
      "시점 : 2019.4/4, 지표 : 1.3, 전기대비 증감 : 0.9\n",
      "========================================\n",
      "시점 : 2020.1/4, 지표 : -1.3, 전기대비 증감 : -2.6\n",
      "========================================\n",
      "시점 : 2020.2/4, 지표 : -3.2, 전기대비 증감 : -1.9\n"
     ]
    }
   ],
   "source": [
    "for i in range(len(charts)):\n",
    "    date = charts[i].select('.ng-binding')[0].text\n",
    "    indicator = charts[i].select('.table-index')[0].text\n",
    "    variation = charts[i].select('.table-diff')[0].text\n",
    "    print('='*40)\n",
    "    print('시점 : {}, 지표 : {}, 전기대비 증감 : {}'.format(date, indicator, variation))\n",
    "\n",
    "driver.quit()"
   ]
  },
  {
   "cell_type": "code",
   "execution_count": 76,
   "metadata": {},
   "outputs": [],
   "source": [
    "# import pandas as pd\n",
    "# df = pd.DataFrame(result, columns = ['시점', '지표', '전기대비증감'])"
   ]
  },
  {
   "cell_type": "code",
   "execution_count": 75,
   "metadata": {},
   "outputs": [],
   "source": [
    "# import matplotlib.pyplot as plt\n",
    "# plt.plot(df['indicator'].values)"
   ]
  },
  {
   "cell_type": "code",
   "execution_count": null,
   "metadata": {},
   "outputs": [],
   "source": []
  },
  {
   "cell_type": "code",
   "execution_count": null,
   "metadata": {},
   "outputs": [],
   "source": []
  },
  {
   "cell_type": "code",
   "execution_count": null,
   "metadata": {},
   "outputs": [],
   "source": []
  },
  {
   "cell_type": "code",
   "execution_count": null,
   "metadata": {},
   "outputs": [],
   "source": []
  }
 ],
 "metadata": {
  "kernelspec": {
   "display_name": "Python 3",
   "language": "python",
   "name": "python3"
  },
  "language_info": {
   "codemirror_mode": {
    "name": "ipython",
    "version": 3
   },
   "file_extension": ".py",
   "mimetype": "text/x-python",
   "name": "python",
   "nbconvert_exporter": "python",
   "pygments_lexer": "ipython3",
   "version": "3.8.3"
  }
 },
 "nbformat": 4,
 "nbformat_minor": 4
}
