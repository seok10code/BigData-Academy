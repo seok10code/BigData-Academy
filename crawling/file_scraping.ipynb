{
 "cells": [
  {
   "cell_type": "code",
   "execution_count": 1,
   "metadata": {},
   "outputs": [],
   "source": [
    "import requests\n",
    "from bs4 import BeautifulSoup"
   ]
  },
  {
   "cell_type": "code",
   "execution_count": 2,
   "metadata": {},
   "outputs": [],
   "source": [
    "# http://www.xkcd.com"
   ]
  },
  {
   "cell_type": "code",
   "execution_count": 3,
   "metadata": {},
   "outputs": [],
   "source": [
    "url = 'http://www.xkcd.com'\n",
    "res = requests.get(url)\n",
    "soup = BeautifulSoup(res.text, 'html.parser')\n",
    "path = '#comic > img'\n"
   ]
  },
  {
   "cell_type": "code",
   "execution_count": 4,
   "metadata": {},
   "outputs": [
    {
     "data": {
      "text/plain": [
       "'http://imgs.xkcd.com/comics/election_screen_time.png'"
      ]
     },
     "execution_count": 4,
     "metadata": {},
     "output_type": "execute_result"
    }
   ],
   "source": [
    "img_url = 'http:'+soup.select(path)[0]['src']\n",
    "img_url"
   ]
  },
  {
   "cell_type": "code",
   "execution_count": 5,
   "metadata": {},
   "outputs": [],
   "source": [
    "img_file = requests.get(img_url)"
   ]
  },
  {
   "cell_type": "code",
   "execution_count": 6,
   "metadata": {},
   "outputs": [],
   "source": [
    "f= open('xkcd.png', 'wb')\n",
    "# f.write(img_file)\n",
    "for chunk in img_file.iter_content(100):\n",
    "    f.write(chunk)\n",
    "f.close()"
   ]
  },
  {
   "cell_type": "code",
   "execution_count": 7,
   "metadata": {},
   "outputs": [],
   "source": [
    "# www.xkcd.com에서 image 2301 ~ 2320번 까지 20개의 이미지를 새로운 xkcd_img라는 \n",
    "# 새로운 폴더에 저장.."
   ]
  },
  {
   "cell_type": "code",
   "execution_count": null,
   "metadata": {},
   "outputs": [],
   "source": [
    "import os\n",
    "\n",
    "os.mkdir('./xkcd_img/')\n",
    "for num in range(2301, 2321):\n",
    "    url = 'http://www.xkcd.com/{}'.format(num)\n",
    "    res = requests.get(url)    \n",
    "    soup = BeautifulSoup(res.text, 'html.parser')\n",
    "    path = '#comic > img'\n",
    "    img_url = 'http:'+soup.select(path)[0]['src']    \n",
    "    img_file = requests.get(img_url)    \n",
    "    file_name = './xkcd_img/xkcd_{}.png'.format(num)\n",
    "    f= open(file_name, 'wb')\n",
    "    for chunk in img_file.iter_content(100):\n",
    "        f.write(chunk)\n",
    "    f.close()"
   ]
  },
  {
   "cell_type": "code",
   "execution_count": null,
   "metadata": {},
   "outputs": [],
   "source": []
  }
 ],
 "metadata": {
  "kernelspec": {
   "display_name": "Python 3",
   "language": "python",
   "name": "python3"
  },
  "language_info": {
   "codemirror_mode": {
    "name": "ipython",
    "version": 3
   },
   "file_extension": ".py",
   "mimetype": "text/x-python",
   "name": "python",
   "nbconvert_exporter": "python",
   "pygments_lexer": "ipython3",
   "version": "3.8.3"
  }
 },
 "nbformat": 4,
 "nbformat_minor": 4
}
