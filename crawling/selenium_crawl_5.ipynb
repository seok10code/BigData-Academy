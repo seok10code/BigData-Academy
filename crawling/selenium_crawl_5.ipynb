{
 "cells": [
  {
   "cell_type": "code",
   "execution_count": 1,
   "metadata": {},
   "outputs": [],
   "source": [
    "# 다나와 사이트로 가서\n",
    "# 1. 메뉴 목록 출력\n",
    "# 2. 로그인...\n",
    "# 3. 최근 본 상품의 제목, 가격"
   ]
  },
  {
   "cell_type": "code",
   "execution_count": 6,
   "metadata": {
    "scrolled": true
   },
   "outputs": [],
   "source": [
    "from selenium import webdriver\n",
    "from bs4 import BeautifulSoup as bs\n",
    "import time\n",
    "import priv   # 다나와 아이디와 패스워드를 담은 파일\n",
    "id = priv.idpwd['id']\n",
    "pwd = priv.idpwd['pwd']\n",
    "# http://www.danawa.com/?src=adwords&kw=GA0000020&gclid=EAIaIQobChMIuJuV38uz7AIVFBdgCh3neQGdEAAYASAAEgICEPD_BwE"
   ]
  },
  {
   "cell_type": "code",
   "execution_count": 7,
   "metadata": {},
   "outputs": [],
   "source": [
    "driver = webdriver.Chrome('./chromedriver')\n",
    "driver.get('http://www.danawa.com/?src=adwords&kw=GA0000020&gclid=EAIaIQobChMIuJuV38uz7AIVFBdgCh3neQGdEAAYASAAEgICEPD_BwE')\n",
    "driver.find_element_by_class_name('nav_list')\n",
    "html = driver.page_source"
   ]
  },
  {
   "cell_type": "code",
   "execution_count": 107,
   "metadata": {},
   "outputs": [],
   "source": [
    "soup = bs(html, 'html.parser')\n",
    "tags = soup.select('#sectionLayer > li')"
   ]
  },
  {
   "cell_type": "code",
   "execution_count": 108,
   "metadata": {},
   "outputs": [
    {
     "name": "stdout",
     "output_type": "stream",
     "text": [
      "가전/TV카테고리로\n",
      "컴퓨터/노트북/조립PC카테고리로\n",
      "태블릿/모바일/디카카테고리로\n",
      "아웃도어/스포츠/골프카테고리로\n",
      "자동차\n",
      "가구/조명카테고리로\n",
      "식품/유아/완구카테고리로\n",
      "생활/주방/건강카테고리로\n",
      "패션/잡화/화장품카테고리로\n",
      "사무/취미/반려동물카테고리로\n"
     ]
    }
   ],
   "source": [
    "for i in range(10):\n",
    "    print(tags[i].text.split()[0])"
   ]
  },
  {
   "cell_type": "code",
   "execution_count": 8,
   "metadata": {},
   "outputs": [],
   "source": [
    "# 로그인 화면으로\n",
    "driver.find_element_by_class_name('my_page_service').click()\n",
    "time.sleep(3)"
   ]
  },
  {
   "cell_type": "code",
   "execution_count": 9,
   "metadata": {},
   "outputs": [],
   "source": [
    "log_id = driver.find_element_by_id('danawa-member-login-input-id')\n",
    "log_id.send_keys(id)\n",
    "log_pwd =driver.find_element_by_id('danawa-member-login-input-pwd')\n",
    "log_pwd.send_keys(pwd)\n",
    "driver.find_element_by_id('danawa-member-login-loginButton').click()\n",
    "time.sleep(4)\n"
   ]
  },
  {
   "cell_type": "code",
   "execution_count": 10,
   "metadata": {},
   "outputs": [],
   "source": [
    "driver.find_element_by_class_name('recently_seeing_goods').click()\n",
    "# driver.find_element_by_css_selector(recent_product_path).click() 이렇게도 쓸수있음\n",
    "# driver.find_element_by_class_name('mlp_item')\n"
   ]
  },
  {
   "cell_type": "code",
   "execution_count": 11,
   "metadata": {},
   "outputs": [],
   "source": [
    "html = driver.page_source\n"
   ]
  },
  {
   "cell_type": "code",
   "execution_count": 12,
   "metadata": {},
   "outputs": [],
   "source": [
    "soup = bs(html, 'html.parser')\n",
    "tags = soup.select('#mslLeft > div.ml_prod > div.mlp_list_wrap > ul > li')"
   ]
  },
  {
   "cell_type": "code",
   "execution_count": 13,
   "metadata": {},
   "outputs": [
    {
     "name": "stdout",
     "output_type": "stream",
     "text": [
      "1번째 상품 : \n",
      "상품명 : LG전자 2020 그램17 17ZD995-VX50K(SSD 256GB)\n",
      "가격 : 1,365,000\n",
      "2번째 상품 : \n",
      "상품명 : APPLE 2019 맥북프로16 MVVM2KH/A(SSD 1TB)\n",
      "가격 : 3,079,000\n",
      "3번째 상품 : \n",
      "상품명 : APPLE 2020 맥북에어 MWTJ2KH/A(SSD 256GB)\n",
      "가격 : 1,197,000\n",
      "4번째 상품 : \n",
      "상품명 : APPLE 2019 맥북프로16 MVVK2KH/A(SSD 1TB)\n",
      "가격 : 3,124,000\n",
      "5번째 상품 : \n",
      "상품명 : APPLE 2019 맥북프로16 MVVJ2KH/A(SSD 512GB)\n",
      "가격 : 2,688,000\n"
     ]
    }
   ],
   "source": [
    "for i in range(len(tags)):\n",
    "    print('{}번째 상품 : '.format(i+1))\n",
    "    title = tags[i].select('.title')[0].text\n",
    "    price = tags[i].select('.num')[0].text\n",
    "    print('상품명 : {}'.format(title))\n",
    "    print('가격 : {}'.format(price))"
   ]
  },
  {
   "cell_type": "code",
   "execution_count": null,
   "metadata": {},
   "outputs": [],
   "source": []
  }
 ],
 "metadata": {
  "kernelspec": {
   "display_name": "Python 3",
   "language": "python",
   "name": "python3"
  },
  "language_info": {
   "codemirror_mode": {
    "name": "ipython",
    "version": 3
   },
   "file_extension": ".py",
   "mimetype": "text/x-python",
   "name": "python",
   "nbconvert_exporter": "python",
   "pygments_lexer": "ipython3",
   "version": "3.8.3"
  }
 },
 "nbformat": 4,
 "nbformat_minor": 4
}
