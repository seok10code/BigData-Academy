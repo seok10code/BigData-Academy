{
 "cells": [
  {
   "cell_type": "code",
   "execution_count": 34,
   "metadata": {},
   "outputs": [],
   "source": [
    "from bs4 import BeautifulSoup as bs\n",
    "from selenium import webdriver\n",
    "import time\n"
   ]
  },
  {
   "cell_type": "code",
   "execution_count": 35,
   "metadata": {},
   "outputs": [],
   "source": [
    "url = 'https://news.naver.com/main/ranking/read.nhn?mid=etc&sid1=111&rankingType=popular_day&oid=081&aid=0003130934&date=20201013&type=1&rankingSeq=1&rankingSectionId=100'\n"
   ]
  },
  {
   "cell_type": "code",
   "execution_count": 36,
   "metadata": {},
   "outputs": [],
   "source": [
    "driver = webdriver.Chrome('./chromedriver')"
   ]
  },
  {
   "cell_type": "code",
   "execution_count": 37,
   "metadata": {},
   "outputs": [],
   "source": [
    "driver.get(url)\n",
    "time.sleep(2)  # 로딩시간 맞춰줌"
   ]
  },
  {
   "cell_type": "code",
   "execution_count": 38,
   "metadata": {},
   "outputs": [],
   "source": [
    "html = driver.page_source\n",
    "soup = bs(html, 'html.parser')"
   ]
  },
  {
   "cell_type": "code",
   "execution_count": 39,
   "metadata": {},
   "outputs": [],
   "source": [
    "tags = soup.select('ul.u_cbox_list')"
   ]
  },
  {
   "cell_type": "code",
   "execution_count": 40,
   "metadata": {},
   "outputs": [],
   "source": [
    "lis = tags[0].find_all('li')"
   ]
  },
  {
   "cell_type": "code",
   "execution_count": 41,
   "metadata": {},
   "outputs": [],
   "source": [
    "user_id = lis[0].select('span.u_cbox_nick')[0].text"
   ]
  },
  {
   "cell_type": "code",
   "execution_count": 42,
   "metadata": {},
   "outputs": [],
   "source": [
    "date = lis[0].select('span.u_cbox_date')[0].text"
   ]
  },
  {
   "cell_type": "code",
   "execution_count": 46,
   "metadata": {},
   "outputs": [],
   "source": [
    "comment = lis[0].select('span.u_cbox_contents')[0].text"
   ]
  },
  {
   "cell_type": "code",
   "execution_count": 47,
   "metadata": {},
   "outputs": [
    {
     "data": {
      "text/plain": [
       "'1563'"
      ]
     },
     "execution_count": 47,
     "metadata": {},
     "output_type": "execute_result"
    }
   ],
   "source": [
    "like = lis[0].select('em.u_cbox_cnt_recomm')[0].text\n",
    "dislike = lis[0].select('em.u_cbox_cnt_unrecomm')[0].text\n",
    "like"
   ]
  },
  {
   "cell_type": "code",
   "execution_count": 50,
   "metadata": {},
   "outputs": [
    {
     "name": "stdout",
     "output_type": "stream",
     "text": [
      "choc****\n",
      "2020.10.13. 15:34:52\n",
      "대한민국에서 연예 활동을 하면서 돈과 명예를 긁은넘 이라면 고마워서라도 군대를 자원입대해야 하거늘 군대를 가지 않으려고 국적을 버렀다는 것은 대한민국을 버린것으로서 이넘은 영원히 대한민국에 발을 들여 놓지 못하게 해야 할것이다\n",
      "1563\n",
      "52\n",
      "----------------------\n",
      "cool****\n",
      "2020.10.13. 15:38:13\n",
      "장병 상실감 큰 것은 추미애 아들만 할까??\n",
      "1646\n",
      "301\n",
      "----------------------\n",
      "xkdr****\n",
      "2020.10.13. 15:41:01\n",
      "울면서 방송찍고 카메라 켜진줄모르고 뒤에서 욕하던넘아냐? 꺼져라 한국올생각도말고\n",
      "828\n",
      "25\n",
      "----------------------\n",
      "inje****\n",
      "2020.10.13. 15:48:42\n",
      "추장관 아들 휴가처리부분도 상실감크다.\n",
      "484\n",
      "85\n",
      "----------------------\n",
      "0070****\n",
      "2020.10.13. 15:36:51\n",
      "근데얜 왜작꾸 온다는거야.그냥관광비자 받고 적당히 관광하고 드가\n",
      "299\n",
      "15\n",
      "----------------------\n",
      "skul****\n",
      "2020.10.13. 15:51:30\n",
      "상황이 그렇다면 스티브유를 받아들일게 아니라, 나머지 사람들도 입국금지 시키는게 맞지.\n",
      "121\n",
      "4\n",
      "----------------------\n",
      "seou****\n",
      "2020.10.13. 16:03:44\n",
      "솔직히 유승준보다는 추미애 아들 사건에 장병상실감이 더 크지 ㅋㅋ 저게 언제적 일이야\n",
      "139\n",
      "42\n",
      "----------------------\n",
      "rlaa****\n",
      "2020.10.13. 15:53:15\n",
      "한국말을 쓰는 중국인과 무엇이 다른가. 국적포기자들은 영구 입국금지 시켜라. 41세 이후 비자도 안된다. 나라를 쉽게 버리면 나라도 국민을 버릴수 있다는걸 보여라. 그리고 조선족들 귀화도 적극 막아라. 중국과 이중국적아닌가.. 한국말 잘하면 주는 귀화도 절대 반대다.\n",
      "98\n",
      "4\n",
      "----------------------\n",
      "lee7****\n",
      "2020.10.13. 15:44:36\n",
      "관광비자 단기체류? 에이 저렇게 오고 싶은 이유가 한국을 사랑하는 애국심이겠습니까? 다 돈벌이 하려고 들어오고 싶어하는거지... 아무튼 헌법상 국방의 의무를 장난으로 취급했으니 반국가범 입니다.\n",
      "65\n",
      "6\n",
      "----------------------\n",
      "abel****\n",
      "2020.10.13. 16:31:11\n",
      "해외공연  나갈때 병무청에서도 보증을 섰는데..갑자기 자긴 미국 국적이라 군대 안 가도 된다고 했으니..병무청에선 괘심 할만도 하지..알려진 연예인이라 믿고 보내 준건데...그리고 자기 입으로 자긴 스티븐 유라고 했잖아..그러니 스티븐 유씨가 버린 대한민국인데..이제와서 뭐가 아쉬운건지...\n",
      "47\n",
      "0\n",
      "----------------------\n"
     ]
    }
   ],
   "source": [
    "for li in lis:\n",
    "    user_id = li.select('span.u_cbox_nick')[0].text\n",
    "    date = li.select('span.u_cbox_date')[0].text\n",
    "    comments = li.select('span.u_cbox_contents')[0].text\n",
    "    like = li.select('em.u_cbox_cnt_recomm')[0].text\n",
    "    dislike = li.select('em.u_cbox_cnt_unrecomm')[0].text\n",
    "    \n",
    "    print(user_id)\n",
    "    print(date)\n",
    "    print(comments)\n",
    "    print(like)\n",
    "    print(dislike)\n",
    "    print('----------------------')\n",
    "    "
   ]
  },
  {
   "cell_type": "code",
   "execution_count": null,
   "metadata": {},
   "outputs": [],
   "source": []
  },
  {
   "cell_type": "code",
   "execution_count": null,
   "metadata": {},
   "outputs": [],
   "source": []
  }
 ],
 "metadata": {
  "kernelspec": {
   "display_name": "Python 3",
   "language": "python",
   "name": "python3"
  },
  "language_info": {
   "codemirror_mode": {
    "name": "ipython",
    "version": 3
   },
   "file_extension": ".py",
   "mimetype": "text/x-python",
   "name": "python",
   "nbconvert_exporter": "python",
   "pygments_lexer": "ipython3",
   "version": "3.8.3"
  }
 },
 "nbformat": 4,
 "nbformat_minor": 4
}
