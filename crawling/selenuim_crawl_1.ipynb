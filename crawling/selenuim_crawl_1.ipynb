{
 "cells": [
  {
   "cell_type": "code",
   "execution_count": 19,
   "metadata": {},
   "outputs": [],
   "source": [
    "from selenium import webdriver\n",
    "from bs4 import BeautifulSoup as bs\n",
    "import time"
   ]
  },
  {
   "cell_type": "code",
   "execution_count": 2,
   "metadata": {},
   "outputs": [],
   "source": [
    "# https://korean.visitkorea.or.kr"
   ]
  },
  {
   "cell_type": "code",
   "execution_count": 3,
   "metadata": {},
   "outputs": [
    {
     "name": "stdout",
     "output_type": "stream",
     "text": [
      "크롤링할 키워드를 입력하세요..\n"
     ]
    }
   ],
   "source": [
    "search_text = input('크롤링할 키워드를 입력하세요..')"
   ]
  },
  {
   "cell_type": "code",
   "execution_count": 5,
   "metadata": {},
   "outputs": [],
   "source": [
    "driver = webdriver.Chrome()\n",
    "driver.set_window_size(800, 1000)  # 윈도우창 크기 설정"
   ]
  },
  {
   "cell_type": "code",
   "execution_count": 6,
   "metadata": {},
   "outputs": [],
   "source": [
    "driver.get('https://korean.visitkorea.or.kr')\n",
    "time.sleep(3)"
   ]
  },
  {
   "cell_type": "code",
   "execution_count": 8,
   "metadata": {},
   "outputs": [],
   "source": [
    "driver.find_element_by_id('chkForm01').click()"
   ]
  },
  {
   "cell_type": "code",
   "execution_count": 10,
   "metadata": {},
   "outputs": [],
   "source": [
    "elem = driver.find_element_by_class_name('inp_search')"
   ]
  },
  {
   "cell_type": "code",
   "execution_count": null,
   "metadata": {},
   "outputs": [],
   "source": [
    "elem.send_keys(search_text)"
   ]
  },
  {
   "cell_type": "code",
   "execution_count": 17,
   "metadata": {},
   "outputs": [],
   "source": [
    "driver.find_element_by_class_name('btn_search2').click()\n",
    "time.sleep(3)"
   ]
  },
  {
   "cell_type": "code",
   "execution_count": 20,
   "metadata": {},
   "outputs": [],
   "source": [
    "html = driver.page_source\n",
    "soup = bs(html, 'html.parser')"
   ]
  },
  {
   "cell_type": "code",
   "execution_count": 43,
   "metadata": {},
   "outputs": [],
   "source": [
    "content_list = soup.select('#contents > div > div.box_leftType1 > ul')\n"
   ]
  },
  {
   "cell_type": "code",
   "execution_count": 54,
   "metadata": {
    "scrolled": true
   },
   "outputs": [
    {
     "name": "stdout",
     "output_type": "stream",
     "text": [
      "=============\n",
      "  [8월 걷기여행길9선] 금강 위에 피어나는 노을, 노을 위에 뜬 달, 충북 영동군 양산팔경금강둘레길  충청북도 영동군 #걷기여행길 더보기  즐겨찾기 공유하기 \n",
      "=============\n",
      "즐겨찾기\n",
      "=============\n",
      "공유하기\n",
      "=============\n",
      "  [일주일 살아보기 시즌 2] 은퇴 후 첫 여행, 아내와 단둘이 남해로  경상남도 남해군 #일주일살아보기여행#가족과함께#남해여행#남해가볼만한곳#일주일살아보기_시즌2#9월가볼만한곳 더보기  즐겨찾기 공유하기 \n",
      "=============\n",
      "즐겨찾기\n",
      "=============\n",
      "공유하기\n",
      "=============\n",
      "  시간 여행 하는 화산 돌멩이를 찾아서, 한탄강지질공원  경기도  #한탄강지질공원#재인폭포#고대산자연휴양림#당포성#임진강#주상절리#전곡리토층전시관#전곡선사박물관#산정호수#비둘기낭폭포#추천가볼만한곳#경기도가볼만한곳#경기도당일코스#경기도1박2일코스#포천가볼만한곳#연천가볼만한곳#가족여행#4월추천가볼만한곳#2018년4월추천가볼만한곳 더보기  즐겨찾기 공유하기 \n",
      "=============\n",
      "즐겨찾기\n",
      "=============\n",
      "공유하기\n",
      "=============\n",
      "  감각이 살아나는 정선 화암동굴 여행  강원도 정선군 #생태관광#생태여행코스#2020생태테마사업#2020생태테마관광지#생태테마사업#정선화암동굴#그림바위미술마을#정선향토박물관#천포금광촌 더보기  즐겨찾기 공유하기 \n",
      "=============\n",
      "즐겨찾기\n",
      "=============\n",
      "공유하기\n",
      "=============\n",
      "  봄이 아니어도 친하게 진해. 감성충만 진해여행 코스  경상남도 창원시 #진해여행코스#소사동마을#진해가볼만한곳#창원여행#진해여행#진해해양공원#진해보타닉뮤지엄#원해루#제황산#제황산모노레일#진해탑#안민고개#초여름_더욱_빛나는 더보기  즐겨찾기 공유하기 \n",
      "=============\n",
      "즐겨찾기\n",
      "=============\n",
      "공유하기\n",
      "=============\n",
      "  한국관광공사 추천 5월 걷기여행길, 유네스코 세계문화유산 산사 걷기길  전국 #걷기여행길#5월걷기여행길#트레킹코스#관광공사추천_5월걷기여행길#5월_걷기여행길 더보기  즐겨찾기 공유하기 \n",
      "=============\n",
      "즐겨찾기\n",
      "=============\n",
      "공유하기\n",
      "=============\n",
      "  [지역명사와 함께하는 문화여행] 고판화에 미친 사람, 한선학 명사  강원도 원주시 #지역명사와_함께하는_문화여행#원주#한선학명사 더보기  즐겨찾기 공유하기 \n",
      "=============\n",
      "즐겨찾기\n",
      "=============\n",
      "공유하기\n",
      "=============\n",
      "  전어·꽃게·대하 가을 별미 삼총사와 함께한 서해안 가을 여행  충청남도 서천군 #공공누리#가을축제/행사#가을제철먹거리#가을제철음식#가을가볼만한곳#서해안가볼만한곳#먹방여행#구석구석미식회 더보기  즐겨찾기 공유하기 \n",
      "=============\n",
      "즐겨찾기\n",
      "=============\n",
      "공유하기\n",
      "=============\n",
      "  [인천] 뚜벅이 알뜰여행의 베이스캠프, 인천 '호텔 아띠'  인천 중구 #한국관광품질인증#여행Q레이터#여행Q레이터체험기#추천숙박#체험기#호텔아띠#여행자의방 더보기  즐겨찾기 공유하기 \n",
      "=============\n",
      "즐겨찾기\n",
      "=============\n",
      "공유하기\n",
      "=============\n",
      "  가족여행으로 딱! 문경 겨울 여행  경상북도 문경시 #문경여행#문경가볼만한곳#가족여행#세구기매운탕#가나다라브루어리#고모산성#에코랄라 더보기  즐겨찾기 공유하기 \n",
      "=============\n",
      "즐겨찾기\n",
      "=============\n",
      "공유하기\n"
     ]
    }
   ],
   "source": [
    "for li in lis:\n",
    "    print('=============')\n",
    "    print(li.text)"
   ]
  },
  {
   "cell_type": "code",
   "execution_count": 52,
   "metadata": {
    "scrolled": true
   },
   "outputs": [
    {
     "name": "stdout",
     "output_type": "stream",
     "text": [
      "\n",
      "  [8월 걷기여행길9선] 금강 위에 피어나는 노을, 노을 위에 뜬 달, 충북 영동군 양산팔경금강둘레길  충청북도 영동군 #걷기여행길 더보기  즐겨찾기 공유하기 \n",
      "\n",
      "  [일주일 살아보기 시즌 2] 은퇴 후 첫 여행, 아내와 단둘이 남해로  경상남도 남해군 #일주일살아보기여행#가족과함께#남해여행#남해가볼만한곳#일주일살아보기_시즌2#9월가볼만한곳 더보기  즐겨찾기 공유하기 \n",
      "\n",
      "  시간 여행 하는 화산 돌멩이를 찾아서, 한탄강지질공원  경기도  #한탄강지질공원#재인폭포#고대산자연휴양림#당포성#임진강#주상절리#전곡리토층전시관#전곡선사박물관#산정호수#비둘기낭폭포#추천가볼만한곳#경기도가볼만한곳#경기도당일코스#경기도1박2일코스#포천가볼만한곳#연천가볼만한곳#가족여행#4월추천가볼만한곳#2018년4월추천가볼만한곳 더보기  즐겨찾기 공유하기 \n",
      "\n",
      "  감각이 살아나는 정선 화암동굴 여행  강원도 정선군 #생태관광#생태여행코스#2020생태테마사업#2020생태테마관광지#생태테마사업#정선화암동굴#그림바위미술마을#정선향토박물관#천포금광촌 더보기  즐겨찾기 공유하기 \n",
      "\n",
      "  봄이 아니어도 친하게 진해. 감성충만 진해여행 코스  경상남도 창원시 #진해여행코스#소사동마을#진해가볼만한곳#창원여행#진해여행#진해해양공원#진해보타닉뮤지엄#원해루#제황산#제황산모노레일#진해탑#안민고개#초여름_더욱_빛나는 더보기  즐겨찾기 공유하기 \n",
      "\n",
      "  한국관광공사 추천 5월 걷기여행길, 유네스코 세계문화유산 산사 걷기길  전국 #걷기여행길#5월걷기여행길#트레킹코스#관광공사추천_5월걷기여행길#5월_걷기여행길 더보기  즐겨찾기 공유하기 \n",
      "\n",
      "  [지역명사와 함께하는 문화여행] 고판화에 미친 사람, 한선학 명사  강원도 원주시 #지역명사와_함께하는_문화여행#원주#한선학명사 더보기  즐겨찾기 공유하기 \n",
      "\n",
      "  전어·꽃게·대하 가을 별미 삼총사와 함께한 서해안 가을 여행  충청남도 서천군 #공공누리#가을축제/행사#가을제철먹거리#가을제철음식#가을가볼만한곳#서해안가볼만한곳#먹방여행#구석구석미식회 더보기  즐겨찾기 공유하기 \n",
      "\n",
      "  [인천] 뚜벅이 알뜰여행의 베이스캠프, 인천 '호텔 아띠'  인천 중구 #한국관광품질인증#여행Q레이터#여행Q레이터체험기#추천숙박#체험기#호텔아띠#여행자의방 더보기  즐겨찾기 공유하기 \n",
      "\n",
      "  가족여행으로 딱! 문경 겨울 여행  경상북도 문경시 #문경여행#문경가볼만한곳#가족여행#세구기매운탕#가나다라브루어리#고모산성#에코랄라 더보기  즐겨찾기 공유하기 \n"
     ]
    }
   ],
   "source": [
    "for li in range(0,len(lis),3):\n",
    "    print()\n",
    "    print(lis[li].text)"
   ]
  },
  {
   "cell_type": "code",
   "execution_count": 55,
   "metadata": {
    "scrolled": true
   },
   "outputs": [
    {
     "name": "stdout",
     "output_type": "stream",
     "text": [
      "=============\n",
      "  [8월 걷기여행길9선] 금강 위에 피어나는 노을, 노을 위에 뜬 달, 충북 영동군 양산팔경금강둘레길  충청북도 영동군 #걷기여행길 더보기  즐겨찾기 공유하기 \n",
      "=============\n",
      "  [일주일 살아보기 시즌 2] 은퇴 후 첫 여행, 아내와 단둘이 남해로  경상남도 남해군 #일주일살아보기여행#가족과함께#남해여행#남해가볼만한곳#일주일살아보기_시즌2#9월가볼만한곳 더보기  즐겨찾기 공유하기 \n",
      "=============\n",
      "  시간 여행 하는 화산 돌멩이를 찾아서, 한탄강지질공원  경기도  #한탄강지질공원#재인폭포#고대산자연휴양림#당포성#임진강#주상절리#전곡리토층전시관#전곡선사박물관#산정호수#비둘기낭폭포#추천가볼만한곳#경기도가볼만한곳#경기도당일코스#경기도1박2일코스#포천가볼만한곳#연천가볼만한곳#가족여행#4월추천가볼만한곳#2018년4월추천가볼만한곳 더보기  즐겨찾기 공유하기 \n",
      "=============\n",
      "  감각이 살아나는 정선 화암동굴 여행  강원도 정선군 #생태관광#생태여행코스#2020생태테마사업#2020생태테마관광지#생태테마사업#정선화암동굴#그림바위미술마을#정선향토박물관#천포금광촌 더보기  즐겨찾기 공유하기 \n",
      "=============\n",
      "  봄이 아니어도 친하게 진해. 감성충만 진해여행 코스  경상남도 창원시 #진해여행코스#소사동마을#진해가볼만한곳#창원여행#진해여행#진해해양공원#진해보타닉뮤지엄#원해루#제황산#제황산모노레일#진해탑#안민고개#초여름_더욱_빛나는 더보기  즐겨찾기 공유하기 \n",
      "=============\n",
      "  한국관광공사 추천 5월 걷기여행길, 유네스코 세계문화유산 산사 걷기길  전국 #걷기여행길#5월걷기여행길#트레킹코스#관광공사추천_5월걷기여행길#5월_걷기여행길 더보기  즐겨찾기 공유하기 \n",
      "=============\n",
      "  [지역명사와 함께하는 문화여행] 고판화에 미친 사람, 한선학 명사  강원도 원주시 #지역명사와_함께하는_문화여행#원주#한선학명사 더보기  즐겨찾기 공유하기 \n",
      "=============\n",
      "  전어·꽃게·대하 가을 별미 삼총사와 함께한 서해안 가을 여행  충청남도 서천군 #공공누리#가을축제/행사#가을제철먹거리#가을제철음식#가을가볼만한곳#서해안가볼만한곳#먹방여행#구석구석미식회 더보기  즐겨찾기 공유하기 \n",
      "=============\n",
      "  [인천] 뚜벅이 알뜰여행의 베이스캠프, 인천 '호텔 아띠'  인천 중구 #한국관광품질인증#여행Q레이터#여행Q레이터체험기#추천숙박#체험기#호텔아띠#여행자의방 더보기  즐겨찾기 공유하기 \n",
      "=============\n",
      "  가족여행으로 딱! 문경 겨울 여행  경상북도 문경시 #문경여행#문경가볼만한곳#가족여행#세구기매운탕#가나다라브루어리#고모산성#에코랄라 더보기  즐겨찾기 공유하기 \n"
     ]
    }
   ],
   "source": [
    "for i in range(0, len(lis), 3):\n",
    "    print('=============')\n",
    "    print(lis[i].text)"
   ]
  },
  {
   "cell_type": "code",
   "execution_count": 56,
   "metadata": {
    "scrolled": true
   },
   "outputs": [
    {
     "name": "stdout",
     "output_type": "stream",
     "text": [
      "=============\n",
      "제목: [8월 걷기여행길9선] 금강 위에 피어나는 노을, 노을 위에 뜬 달, 충북 영동군 양산팔경금강둘레길\n",
      "지역: 충청북도 영동군\n",
      "=============\n",
      "제목: [일주일 살아보기 시즌 2] 은퇴 후 첫 여행, 아내와 단둘이 남해로\n",
      "지역: 경상남도 남해군\n",
      "=============\n",
      "제목: 시간 여행 하는 화산 돌멩이를 찾아서, 한탄강지질공원\n",
      "지역: 경기도 \n",
      "=============\n",
      "제목: 감각이 살아나는 정선 화암동굴 여행\n",
      "지역: 강원도 정선군\n",
      "=============\n",
      "제목: 봄이 아니어도 친하게 진해. 감성충만 진해여행 코스\n",
      "지역: 경상남도 창원시\n",
      "=============\n",
      "제목: 한국관광공사 추천 5월 걷기여행길, 유네스코 세계문화유산 산사 걷기길\n",
      "지역: 전국\n",
      "=============\n",
      "제목: [지역명사와 함께하는 문화여행] 고판화에 미친 사람, 한선학 명사\n",
      "지역: 강원도 원주시\n",
      "=============\n",
      "제목: 전어·꽃게·대하 가을 별미 삼총사와 함께한 서해안 가을 여행\n",
      "지역: 충청남도 서천군\n",
      "=============\n",
      "제목: [인천] 뚜벅이 알뜰여행의 베이스캠프, 인천 '호텔 아띠'\n",
      "지역: 인천 중구\n",
      "=============\n",
      "제목: 가족여행으로 딱! 문경 겨울 여행\n",
      "지역: 경상북도 문경시\n"
     ]
    }
   ],
   "source": [
    "for i in range(0, len(lis), 3):\n",
    "    print('=============')\n",
    "    print('제목:',lis[i].select('div.tit > a')[0].text)\n",
    "    print('지역:',lis[i].select('div.area_txt > p')[0].text)   "
   ]
  },
  {
   "cell_type": "code",
   "execution_count": null,
   "metadata": {},
   "outputs": [],
   "source": [
    "# 검색할 키워드를 입력받은 후, 관광공사 사이트에서 검색 결과의 제목과 지역, 태그 정보\n",
    "# 를 크롤링 하도록 함수를 만드세요.."
   ]
  },
  {
   "cell_type": "code",
   "execution_count": 57,
   "metadata": {},
   "outputs": [],
   "source": [
    "from selenium import webdriver\n",
    "from bs4 import BeautifulSoup as bs\n",
    "import time\n",
    "# https://korean.visitkorea.or.kr"
   ]
  },
  {
   "cell_type": "code",
   "execution_count": 68,
   "metadata": {},
   "outputs": [],
   "source": [
    "def visitkor_search():\n",
    "    \n",
    "    search_text = input('크롤링할 키워드를 입력하세요..')\n",
    "    \n",
    "    driver = webdriver.Chrome()\n",
    "    driver.set_window_size(800,1000)\n",
    "    driver.get('https://korean.visitkorea.or.kr')\n",
    "    time.sleep(3)\n",
    "    \n",
    "    driver.find_element_by_id('chkForm01').click()\n",
    "    elem = driver.find_element_by_class_name('inp_search')\n",
    "    elem.send_keys(search_text)\n",
    "    driver.find_element_by_class_name('btn_search2').click()\n",
    "    time.sleep(3)\n",
    "    \n",
    "    html = driver.page_source\n",
    "    soup = BeautifulSoup(html, 'html.parser')\n",
    "    \n",
    "    content_list = soup.select('#contents > div > div.box_leftType1 > ul')\n",
    "    lis = content_list[0].select('li')\n",
    "    \n",
    "    for i in range(0, len(lis), 3):\n",
    "        print('=============')\n",
    "        print('제목:',lis[i].select('div.tit > a')[0].text)\n",
    "        print('지역:',lis[i].select('div.area_txt > p')[0].text)   \n",
    "        print('태그:',lis[i].select('p.tag > span')[0].text)  \n",
    "        \n",
    "    title_list = []\n",
    "    area_list = []\n",
    "    tag_list = []\n",
    "    \n",
    "    for i in range(0, len(lis), 3):\n",
    "        title_list.append(lis[i].select('div.tit > a')[0].text)\n",
    "        area_list.append(lis[i].select('div.area_txt > p')[0].text)   \n",
    "        tag_list.append(lis[i].select('p.tag > span')[0].text) \n",
    "    \n",
    "    visit_dict = {}\n",
    "    visit_dict['title'] = title_list\n",
    "    visit_dict['area'] = area_list\n",
    "    visit_dict['tag'] = tag_list   \n",
    "    \n",
    "    f = open('visit_{}.txt'.format(search_text), 'w')\n",
    "    for i in range(0, len(lis), 3):\n",
    "        f.write(lis[i].select('div.tit > a')[0].text + '\\n')\n",
    "        f.write(lis[i].select('div.area_txt > p')[0].text + '\\n')   \n",
    "        f.write(lis[i].select('p.tag > span')[0].text + '\\n') \n",
    "    f.close()\n",
    "    \n",
    "    driver.quit()    \n",
    "    return visit_dict"
   ]
  },
  {
   "cell_type": "code",
   "execution_count": 69,
   "metadata": {},
   "outputs": [
    {
     "name": "stdout",
     "output_type": "stream",
     "text": [
      "크롤링할 키워드를 입력하세요..여행\n",
      "=============\n",
      "제목: [8월 걷기여행길9선] 금강 위에 피어나는 노을, 노을 위에 뜬 달, 충북 영동군 양산팔경금강둘레길\n",
      "지역: 충청북도 영동군\n",
      "태그: #걷기여행길\n",
      "=============\n",
      "제목: 시간 여행 하는 화산 돌멩이를 찾아서, 한탄강지질공원\n",
      "지역: 경기도 \n",
      "태그: #한탄강지질공원\n",
      "=============\n",
      "제목: [일주일 살아보기 시즌 2] 은퇴 후 첫 여행, 아내와 단둘이 남해로\n",
      "지역: 경상남도 남해군\n",
      "태그: #일주일살아보기여행\n",
      "=============\n",
      "제목: 감각이 살아나는 정선 화암동굴 여행\n",
      "지역: 강원도 정선군\n",
      "태그: #생태관광\n",
      "=============\n",
      "제목: 봄이 아니어도 친하게 진해. 감성충만 진해여행 코스\n",
      "지역: 경상남도 창원시\n",
      "태그: #진해여행코스\n",
      "=============\n",
      "제목: 한국관광공사 추천 5월 걷기여행길, 유네스코 세계문화유산 산사 걷기길\n",
      "지역: 전국\n",
      "태그: #걷기여행길\n",
      "=============\n",
      "제목: [지역명사와 함께하는 문화여행] 고판화에 미친 사람, 한선학 명사\n",
      "지역: 강원도 원주시\n",
      "태그: #지역명사와_함께하는_문화여행\n",
      "=============\n",
      "제목: [인천] 뚜벅이 알뜰여행의 베이스캠프, 인천 '호텔 아띠'\n",
      "지역: 인천 중구\n",
      "태그: #한국관광품질인증\n",
      "=============\n",
      "제목: 전어·꽃게·대하 가을 별미 삼총사와 함께한 서해안 가을 여행\n",
      "지역: 충청남도 서천군\n",
      "태그: #공공누리\n",
      "=============\n",
      "제목: 가족여행으로 딱! 문경 겨울 여행\n",
      "지역: 경상북도 문경시\n",
      "태그: #문경여행\n"
     ]
    }
   ],
   "source": [
    "visit_dict = visitkor_search()"
   ]
  },
  {
   "cell_type": "code",
   "execution_count": 70,
   "metadata": {},
   "outputs": [
    {
     "ename": "KeyboardInterrupt",
     "evalue": "Interrupted by user",
     "output_type": "error",
     "traceback": [
      "\u001b[1;31m---------------------------------------------------------------------------\u001b[0m",
      "\u001b[1;31mKeyboardInterrupt\u001b[0m                         Traceback (most recent call last)",
      "\u001b[1;32m<ipython-input-70-b7e7edc4cafc>\u001b[0m in \u001b[0;36m<module>\u001b[1;34m\u001b[0m\n\u001b[1;32m----> 1\u001b[1;33m \u001b[0mvisit_dict\u001b[0m \u001b[1;33m=\u001b[0m \u001b[0mvisitkor_search\u001b[0m\u001b[1;33m(\u001b[0m\u001b[1;33m)\u001b[0m\u001b[1;33m\u001b[0m\u001b[1;33m\u001b[0m\u001b[0m\n\u001b[0m",
      "\u001b[1;32m<ipython-input-68-465c419476ba>\u001b[0m in \u001b[0;36mvisitkor_search\u001b[1;34m()\u001b[0m\n\u001b[0;32m      1\u001b[0m \u001b[1;32mdef\u001b[0m \u001b[0mvisitkor_search\u001b[0m\u001b[1;33m(\u001b[0m\u001b[1;33m)\u001b[0m\u001b[1;33m:\u001b[0m\u001b[1;33m\u001b[0m\u001b[1;33m\u001b[0m\u001b[0m\n\u001b[0;32m      2\u001b[0m \u001b[1;33m\u001b[0m\u001b[0m\n\u001b[1;32m----> 3\u001b[1;33m     \u001b[0msearch_text\u001b[0m \u001b[1;33m=\u001b[0m \u001b[0minput\u001b[0m\u001b[1;33m(\u001b[0m\u001b[1;34m'크롤링할 키워드를 입력하세요..'\u001b[0m\u001b[1;33m)\u001b[0m\u001b[1;33m\u001b[0m\u001b[1;33m\u001b[0m\u001b[0m\n\u001b[0m\u001b[0;32m      4\u001b[0m \u001b[1;33m\u001b[0m\u001b[0m\n\u001b[0;32m      5\u001b[0m     \u001b[0mdriver\u001b[0m \u001b[1;33m=\u001b[0m \u001b[0mwebdriver\u001b[0m\u001b[1;33m.\u001b[0m\u001b[0mChrome\u001b[0m\u001b[1;33m(\u001b[0m\u001b[1;33m)\u001b[0m\u001b[1;33m\u001b[0m\u001b[1;33m\u001b[0m\u001b[0m\n",
      "\u001b[1;32m~\\anaconda3\\lib\\site-packages\\ipykernel\\kernelbase.py\u001b[0m in \u001b[0;36mraw_input\u001b[1;34m(self, prompt)\u001b[0m\n\u001b[0;32m    858\u001b[0m                 \u001b[1;34m\"raw_input was called, but this frontend does not support input requests.\"\u001b[0m\u001b[1;33m\u001b[0m\u001b[1;33m\u001b[0m\u001b[0m\n\u001b[0;32m    859\u001b[0m             )\n\u001b[1;32m--> 860\u001b[1;33m         return self._input_request(str(prompt),\n\u001b[0m\u001b[0;32m    861\u001b[0m             \u001b[0mself\u001b[0m\u001b[1;33m.\u001b[0m\u001b[0m_parent_ident\u001b[0m\u001b[1;33m,\u001b[0m\u001b[1;33m\u001b[0m\u001b[1;33m\u001b[0m\u001b[0m\n\u001b[0;32m    862\u001b[0m             \u001b[0mself\u001b[0m\u001b[1;33m.\u001b[0m\u001b[0m_parent_header\u001b[0m\u001b[1;33m,\u001b[0m\u001b[1;33m\u001b[0m\u001b[1;33m\u001b[0m\u001b[0m\n",
      "\u001b[1;32m~\\anaconda3\\lib\\site-packages\\ipykernel\\kernelbase.py\u001b[0m in \u001b[0;36m_input_request\u001b[1;34m(self, prompt, ident, parent, password)\u001b[0m\n\u001b[0;32m    902\u001b[0m             \u001b[1;32mexcept\u001b[0m \u001b[0mKeyboardInterrupt\u001b[0m\u001b[1;33m:\u001b[0m\u001b[1;33m\u001b[0m\u001b[1;33m\u001b[0m\u001b[0m\n\u001b[0;32m    903\u001b[0m                 \u001b[1;31m# re-raise KeyboardInterrupt, to truncate traceback\u001b[0m\u001b[1;33m\u001b[0m\u001b[1;33m\u001b[0m\u001b[1;33m\u001b[0m\u001b[0m\n\u001b[1;32m--> 904\u001b[1;33m                 \u001b[1;32mraise\u001b[0m \u001b[0mKeyboardInterrupt\u001b[0m\u001b[1;33m(\u001b[0m\u001b[1;34m\"Interrupted by user\"\u001b[0m\u001b[1;33m)\u001b[0m \u001b[1;32mfrom\u001b[0m \u001b[1;32mNone\u001b[0m\u001b[1;33m\u001b[0m\u001b[1;33m\u001b[0m\u001b[0m\n\u001b[0m\u001b[0;32m    905\u001b[0m             \u001b[1;32mexcept\u001b[0m \u001b[0mException\u001b[0m \u001b[1;32mas\u001b[0m \u001b[0me\u001b[0m\u001b[1;33m:\u001b[0m\u001b[1;33m\u001b[0m\u001b[1;33m\u001b[0m\u001b[0m\n\u001b[0;32m    906\u001b[0m                 \u001b[0mself\u001b[0m\u001b[1;33m.\u001b[0m\u001b[0mlog\u001b[0m\u001b[1;33m.\u001b[0m\u001b[0mwarning\u001b[0m\u001b[1;33m(\u001b[0m\u001b[1;34m\"Invalid Message:\"\u001b[0m\u001b[1;33m,\u001b[0m \u001b[0mexc_info\u001b[0m\u001b[1;33m=\u001b[0m\u001b[1;32mTrue\u001b[0m\u001b[1;33m)\u001b[0m\u001b[1;33m\u001b[0m\u001b[1;33m\u001b[0m\u001b[0m\n",
      "\u001b[1;31mKeyboardInterrupt\u001b[0m: Interrupted by user"
     ]
    }
   ],
   "source": [
    "visit_dict = visitkor_search()"
   ]
  },
  {
   "cell_type": "code",
   "execution_count": null,
   "metadata": {},
   "outputs": [],
   "source": [
    "import pandas as pd\n",
    "pd.DataFrame(visit_dict)"
   ]
  },
  {
   "cell_type": "code",
   "execution_count": 64,
   "metadata": {},
   "outputs": [
    {
     "name": "stdout",
     "output_type": "stream",
     "text": [
      "\n"
     ]
    }
   ],
   "source": [
    "f = open('visit_{}.txt'.format(search_text), 'r')\n",
    "data = f.read()\n",
    "print(data)\n",
    "f.close()"
   ]
  },
  {
   "cell_type": "code",
   "execution_count": null,
   "metadata": {},
   "outputs": [],
   "source": []
  },
  {
   "cell_type": "code",
   "execution_count": null,
   "metadata": {},
   "outputs": [],
   "source": []
  },
  {
   "cell_type": "code",
   "execution_count": null,
   "metadata": {},
   "outputs": [],
   "source": []
  }
 ],
 "metadata": {
  "kernelspec": {
   "display_name": "Python 3",
   "language": "python",
   "name": "python3"
  },
  "language_info": {
   "codemirror_mode": {
    "name": "ipython",
    "version": 3
   },
   "file_extension": ".py",
   "mimetype": "text/x-python",
   "name": "python",
   "nbconvert_exporter": "python",
   "pygments_lexer": "ipython3",
   "version": "3.8.3"
  }
 },
 "nbformat": 4,
 "nbformat_minor": 4
}
