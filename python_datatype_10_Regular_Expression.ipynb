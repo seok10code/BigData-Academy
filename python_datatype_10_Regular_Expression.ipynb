{
 "cells": [
  {
   "cell_type": "markdown",
   "metadata": {},
   "source": [
    "`### 문자열에서 원하는 텍스트를 찾거나 교체하거나 또는 변형시키는 방식..."
   ]
  },
  {
   "cell_type": "markdown",
   "metadata": {},
   "source": [
    "1. re.compile('정규표현식')\n",
    "    * 정규표현식 패턴 객체 형성"
   ]
  },
  {
   "cell_type": "code",
   "execution_count": null,
   "metadata": {},
   "outputs": [],
   "source": [
    "import re\n",
    "phonere = re.compile(r'\\d\\d\\d-\\d\\d\\d-\\d\\d\\d\\d')\n",
    "\n",
    "# re.compile(정규표현식) : 정규표현식을 컴퓨터에게 이해하도록 compile한다.\n",
    "# 정규표현식 컴파일 객체를 생성한다 => phonere\n",
    "# 정규표현식 search 메소드로 텍스트 문서를 적용한다.\n",
    "# search 메소드는 정규표현식에 일치하는 문자열을 리턴한다.\n",
    "# 정규표현식 ''\\d'는 숫자를 나타낸다."
   ]
  },
  {
   "cell_type": "markdown",
   "metadata": {},
   "source": [
    "### Search()"
   ]
  },
  {
   "cell_type": "code",
   "execution_count": 2,
   "metadata": {},
   "outputs": [
    {
     "name": "stdout",
     "output_type": "stream",
     "text": [
      "415-555-4242\n"
     ]
    }
   ],
   "source": [
    "mo = phonere.search('My number is 415-555-4242')\n",
    "print(mo.group())"
   ]
  },
  {
   "cell_type": "code",
   "execution_count": 5,
   "metadata": {},
   "outputs": [
    {
     "name": "stdout",
     "output_type": "stream",
     "text": [
      "Batman\n"
     ]
    }
   ],
   "source": [
    "herore = re.compile(r'Batman|Tina Fey')\n",
    "mo = herore.search('Batman and Tina Fey') # 패턴과 일치하는 첫 번째 문자열만 리턴...\n",
    "print(mo.group())"
   ]
  },
  {
   "cell_type": "code",
   "execution_count": 11,
   "metadata": {},
   "outputs": [
    {
     "name": "stdout",
     "output_type": "stream",
     "text": [
      "Batman\n"
     ]
    }
   ],
   "source": [
    "herore = re.compile(r'Bat(wo)?man')  # ? - 앞의 패턴이 0번 또는 1번 나오는 경우와 일치\n",
    "mo = herore.search('The Adventures of Batman') # 패턴과 일치하는 첫 번째 문자열만 리턴...\n",
    "print(mo.group())"
   ]
  },
  {
   "cell_type": "code",
   "execution_count": 19,
   "metadata": {},
   "outputs": [
    {
     "name": "stdout",
     "output_type": "stream",
     "text": [
      "Batwoman\n"
     ]
    }
   ],
   "source": [
    "herore = re.compile(r'Bat(wo)?man')  # ?- 앞의 패턴이 0번 또는 1번 나오는 경우와 일치\n",
    "mo = herore.search('The Adventures of Batwoman') # 패턴과 일치하는 첫 번째 문자열만 리턴...\n",
    "print(mo.group())"
   ]
  },
  {
   "cell_type": "code",
   "execution_count": 20,
   "metadata": {},
   "outputs": [
    {
     "name": "stdout",
     "output_type": "stream",
     "text": [
      "Batwowoman\n"
     ]
    }
   ],
   "source": [
    "herore = re.compile(r'Bat(wo)*man')  # * - 앞의 패턴이 0번 또는 1번 이상 나오는 경우와 일치\n",
    "mo = herore.search('The Adventures of Batwowoman') # 패턴과 일치하는 첫 번째 문자열만 리턴...\n",
    "print(mo.group())"
   ]
  },
  {
   "cell_type": "code",
   "execution_count": 23,
   "metadata": {},
   "outputs": [
    {
     "name": "stdout",
     "output_type": "stream",
     "text": [
      "Batwowowowowoman\n"
     ]
    }
   ],
   "source": [
    "herore = re.compile(r'Bat(wo)+man')  # + - 1번 이상 경우와 일치\n",
    "mo = herore.search('The Adventures of Batwowowowowoman') # 패턴과 일치하는 첫 번째 문자열만 리턴...\n",
    "print(mo.group())"
   ]
  },
  {
   "cell_type": "code",
   "execution_count": null,
   "metadata": {},
   "outputs": [],
   "source": [
    "# ? - 앞에 패턴이 0번 또는 1번 나오는 패턴과 일치\n",
    "# * - 앞에 패턴이 0번 또는 1번 이상 나오는 패턴과 일치\n",
    "# + - 앞의 패턴이 1번 이상 나오는 경우와 일치"
   ]
  },
  {
   "cell_type": "markdown",
   "metadata": {},
   "source": [
    "### Findall()"
   ]
  },
  {
   "cell_type": "code",
   "execution_count": 26,
   "metadata": {},
   "outputs": [
    {
     "data": {
      "text/plain": [
       "['415-555-9999', '221-555-0000']"
      ]
     },
     "execution_count": 26,
     "metadata": {},
     "output_type": "execute_result"
    }
   ],
   "source": [
    "phonere = re.compile(r'\\d\\d\\d-\\d\\d\\d-\\d\\d\\d\\d')\n",
    "phonere.findall('Call: 415-555-9999 Work: 221-555-0000')"
   ]
  },
  {
   "cell_type": "code",
   "execution_count": 27,
   "metadata": {},
   "outputs": [
    {
     "name": "stdout",
     "output_type": "stream",
     "text": [
      "415-555-9999\n"
     ]
    }
   ],
   "source": [
    "herore = re.compile(r'\\d\\d\\d-\\d\\d\\d-\\d\\d\\d\\d')\n",
    "mo = herore.search('Call: 415-555-9999 Work: 221-555-0000')\n",
    "print(mo.group())"
   ]
  },
  {
   "cell_type": "code",
   "execution_count": 28,
   "metadata": {},
   "outputs": [],
   "source": [
    "# \\d - 0~9까지 임의의 숫자\n",
    "# \\w - 문자, 숫자, 밑줄글자\n",
    "# \\s - 스페이스, 탭, 줄바꿈 문자.."
   ]
  },
  {
   "cell_type": "code",
   "execution_count": 30,
   "metadata": {},
   "outputs": [
    {
     "data": {
      "text/plain": [
       "['12 drummers', '11 pipers', '10 lords', '9 ladies', '8 maids']"
      ]
     },
     "execution_count": 30,
     "metadata": {},
     "output_type": "execute_result"
    }
   ],
   "source": [
    "tempre = re.compile(r'\\d+\\s\\w+')\n",
    "tempre.findall('12 drummers, 11 pipers, 10 lords, 9 ladies, 8 maids')"
   ]
  },
  {
   "cell_type": "code",
   "execution_count": 31,
   "metadata": {},
   "outputs": [],
   "source": [
    "# ^ - 시작부분과 일치\n",
    "# $ - 끝 부분과 일치"
   ]
  },
  {
   "cell_type": "code",
   "execution_count": 32,
   "metadata": {},
   "outputs": [
    {
     "data": {
      "text/plain": [
       "['Hello']"
      ]
     },
     "execution_count": 32,
     "metadata": {},
     "output_type": "execute_result"
    }
   ],
   "source": [
    "beginre = re.compile(r'^Hello')\n",
    "beginre.findall('Hello world!')"
   ]
  },
  {
   "cell_type": "code",
   "execution_count": 33,
   "metadata": {},
   "outputs": [
    {
     "data": {
      "text/plain": [
       "[]"
      ]
     },
     "execution_count": 33,
     "metadata": {},
     "output_type": "execute_result"
    }
   ],
   "source": [
    "beginre.findall('He said hello')"
   ]
  },
  {
   "cell_type": "code",
   "execution_count": 35,
   "metadata": {},
   "outputs": [
    {
     "data": {
      "text/plain": [
       "['5', '42']"
      ]
     },
     "execution_count": 35,
     "metadata": {},
     "output_type": "execute_result"
    }
   ],
   "source": [
    "endsre = re.compile(r'\\d+')\n",
    "endsre.findall('Your number5 is 42')"
   ]
  },
  {
   "cell_type": "code",
   "execution_count": 36,
   "metadata": {},
   "outputs": [
    {
     "data": {
      "text/plain": [
       "['5', '4', '2']"
      ]
     },
     "execution_count": 36,
     "metadata": {},
     "output_type": "execute_result"
    }
   ],
   "source": [
    "endsre = re.compile(r'\\d')\n",
    "endsre.findall('Your Number5 is 42')"
   ]
  },
  {
   "cell_type": "code",
   "execution_count": 37,
   "metadata": {},
   "outputs": [],
   "source": [
    "# . - 줄 바꿈 이외의 모든 한 개의 문자와 일치"
   ]
  },
  {
   "cell_type": "code",
   "execution_count": 38,
   "metadata": {},
   "outputs": [
    {
     "data": {
      "text/plain": [
       "['cat', 'hat', 'sat', 'lat', 'mat']"
      ]
     },
     "execution_count": 38,
     "metadata": {},
     "output_type": "execute_result"
    }
   ],
   "source": [
    "atre = re.compile(r'.at')\n",
    "atre.findall('The cat in the hat sat on the flat 3mat')"
   ]
  },
  {
   "cell_type": "code",
   "execution_count": 1,
   "metadata": {},
   "outputs": [],
   "source": [
    "# 반복\n",
    "### + : 앞 문자가 한 번 이상 나오는 패턴(1 ~)\n",
    "### * : 앞 문자가 등장하지 않아도 되고, 한 번 이상 등장하는 패턴(0 ~)\n",
    "### ? : 앞 문자가 등장하지 않거나 한 번 등장하는 패턴(0, 1)\n",
    "\n",
    "### 중괄호 - 특정 반복횟수를 구체적으로 명시\n",
    "### (ha){3} - 'ha'가 3번 등장하는 패턴..\n",
    "### (ha){3,5}  - 'ha'가 3~5회 등장하는 패턴..\n",
    "\n",
    "# 이스케이프\n",
    "### \\\\ - '\\'를 그대로 출력.\n",
    "### \\d - 숫자\n",
    "### \\w - 숫자와 문자\n",
    "### \\s - 공백문자 (\\t, \\n)\n",
    "\n",
    "### \\D - 숫자를 제외한 문자\n",
    "### \\W - 숫자와 문자를 제외한 문자\n",
    "### \\S - 공백문자를 제외한 문자\n",
    "\n",
    "# 매칭\n",
    "### . - 하나의 문자\n",
    "### ^ - 줄의 시작\n",
    "### $ - 줄의 끝\n",
    "\n",
    "# 사용자 정의 패턴 => [....]\n",
    "### [aeiou] - 나열된 문자 중 1개와 일치\n",
    "### [^aeiou] - 나열된 문자와 일치하는 문자를 찾는 패턴\n",
    "### [^aeiou] - 나열된 문자와 일치하지 않는 문자를 찾는 패턴\n",
    "### '-' - 문자나 숫자의 범위\n",
    "### [a-z A-Z 0-9] - 영문자 대소문자, 숫자와 일치하는 패턴\n",
    "\n",
    "#그룹\n",
    "### () - 그룹 묶기\n",
    "\n",
    "#주요 메서드\n",
    "### compile() - pattern을 컴파일하여 정규식 객체를 반환\n",
    "### select() - 패턴과 일치하는 문자열을 객체형식으로 반환, 처음 일치하는 하나만 리턴\n",
    "### findall() - 패턴과 일치하는 문자열을 모두 리스트에 담아서 리턴\n",
    "### sub() - 패턴과 일치하는 문자열을 새로운 문자열로 변경해서 리턴\n",
    "# text에서 pattern과 일치하는 문자열을 repl로 변경해서 리턴"
   ]
  },
  {
   "cell_type": "code",
   "execution_count": 2,
   "metadata": {},
   "outputs": [],
   "source": [
    "import re"
   ]
  },
  {
   "cell_type": "code",
   "execution_count": 9,
   "metadata": {},
   "outputs": [
    {
     "data": {
      "text/plain": [
       "[('02', '3454', '7381'), ('031', '5343', '6653')]"
      ]
     },
     "execution_count": 9,
     "metadata": {},
     "output_type": "execute_result"
    }
   ],
   "source": [
    "# 전화번호 추출\n",
    "text = '문의사항은 02-3454-7381으로 연락해주시기 바랍니다. 진 번호는 031-5343-6653'\n",
    "phonere = re.compile('(\\d{2,3})-(\\d+)-(\\d{4})')\n",
    "phonere.findall(text)"
   ]
  },
  {
   "cell_type": "code",
   "execution_count": 11,
   "metadata": {},
   "outputs": [
    {
     "data": {
      "text/plain": [
       "['ski7777@hanma', 'il.net', 'fio99@gmail']"
      ]
     },
     "execution_count": 11,
     "metadata": {},
     "output_type": "execute_result"
    }
   ],
   "source": [
    "# 이메일 추출 패턴\n",
    "text = '저의 이메일은 ski7777@hanmail.net이고 직원 이메일은 fio99@gmail.com'\n",
    "phonere = re.compile('[a-z0-9A-Z]+[a-z0-9A-Z]+.[a-z]{2,5}')\n",
    "phonere.findall(text)"
   ]
  },
  {
   "cell_type": "code",
   "execution_count": 12,
   "metadata": {},
   "outputs": [
    {
     "data": {
      "text/plain": [
       "['12345434325.6원']"
      ]
     },
     "execution_count": 12,
     "metadata": {},
     "output_type": "execute_result"
    }
   ],
   "source": [
    "# 금액만 추출\n",
    "text = '총 금액은 12345434325.6원 입니다.'\n",
    "re.findall('\\d+.\\d+원', text)"
   ]
  },
  {
   "cell_type": "code",
   "execution_count": 13,
   "metadata": {},
   "outputs": [
    {
     "data": {
      "text/plain": [
       "[('2015', '2', '15'), ('2017', '08', '22')]"
      ]
     },
     "execution_count": 13,
     "metadata": {},
     "output_type": "execute_result"
    }
   ],
   "source": [
    "# 날짜 패턴만 추출..\n",
    "\n",
    "text = '계약 시작일은 2015년 2월 15일, 계약 종료일 2017년 08월 22일입니다.'\n",
    "re.findall('(\\d+)년 (\\d+)월 (\\d+)일', text)"
   ]
  },
  {
   "cell_type": "code",
   "execution_count": 15,
   "metadata": {},
   "outputs": [
    {
     "data": {
      "text/plain": [
       "['https://www.homepage.com', 'https://www.yourhomepage.com']"
      ]
     },
     "execution_count": 15,
     "metadata": {},
     "output_type": "execute_result"
    }
   ],
   "source": [
    "# URL만 추출..\n",
    "\n",
    "text = '''\n",
    "저의 홈페이지 주소는 https://www.homepage.com입니다.\n",
    "당신의 홈페이지 주소는 https://www.yourhomepage.com입니다.\n",
    "'''\n",
    "urlre = re.compile('http[s]?://w{3}.[a-zA-Z0-9]+.[a-z]+')\n",
    "urlre.findall(text)"
   ]
  },
  {
   "cell_type": "code",
   "execution_count": 20,
   "metadata": {},
   "outputs": [
    {
     "ename": "NameError",
     "evalue": "name 'iplist' is not defined",
     "output_type": "error",
     "traceback": [
      "\u001b[1;31m---------------------------------------------------------------------------\u001b[0m",
      "\u001b[1;31mNameError\u001b[0m                                 Traceback (most recent call last)",
      "\u001b[1;32m<ipython-input-20-95ca172fafe0>\u001b[0m in \u001b[0;36m<module>\u001b[1;34m\u001b[0m\n\u001b[0;32m      9\u001b[0m \u001b[0mipre\u001b[0m \u001b[1;33m=\u001b[0m \u001b[0mre\u001b[0m\u001b[1;33m.\u001b[0m\u001b[0mcompile\u001b[0m\u001b[1;33m(\u001b[0m\u001b[1;34m'([(\\d\\.)]+)'\u001b[0m\u001b[1;33m)\u001b[0m\u001b[1;33m\u001b[0m\u001b[1;33m\u001b[0m\u001b[0m\n\u001b[0;32m     10\u001b[0m \u001b[0mipre\u001b[0m\u001b[1;33m.\u001b[0m\u001b[0mfindall\u001b[0m\u001b[1;33m(\u001b[0m\u001b[0mlog_text\u001b[0m\u001b[1;33m)\u001b[0m\u001b[1;33m\u001b[0m\u001b[1;33m\u001b[0m\u001b[0m\n\u001b[1;32m---> 11\u001b[1;33m \u001b[0miplist\u001b[0m\u001b[1;33m\u001b[0m\u001b[1;33m\u001b[0m\u001b[0m\n\u001b[0m\u001b[0;32m     12\u001b[0m \u001b[0miplist\u001b[0m\u001b[1;33m[\u001b[0m\u001b[1;36m0\u001b[0m\u001b[1;33m:\u001b[0m\u001b[1;36m100\u001b[0m\u001b[1;33m:\u001b[0m\u001b[1;36m11\u001b[0m\u001b[1;33m]\u001b[0m\u001b[1;33m\u001b[0m\u001b[1;33m\u001b[0m\u001b[0m\n",
      "\u001b[1;31mNameError\u001b[0m: name 'iplist' is not defined"
     ]
    }
   ],
   "source": [
    "# log data 추출\n",
    "\n",
    "log_text = \"\"\"\n",
    "223.62.180.95 -- [107/Mar/2014:00:00:06 +0900] 'GET /trapi/mts/Check.jsp HTTP/1.1'200\n",
    "211.244.131.169 -- [07/Mar/2014:00:00:19 +0900] 'GET /trapi/mts/Check.jsp HTTP/1.1'200\n",
    "\"\"\"\n",
    "\n",
    "# IP Address 추출\n",
    "ipre = re.compile('([(\\d\\.)]+)')\n",
    "ipre.findall(log_text)\n",
    "iplist\n",
    "# iplist [0:100:11]"
   ]
  },
  {
   "cell_type": "code",
   "execution_count": null,
   "metadata": {},
   "outputs": [],
   "source": []
  },
  {
   "cell_type": "code",
   "execution_count": null,
   "metadata": {},
   "outputs": [],
   "source": []
  },
  {
   "cell_type": "code",
   "execution_count": null,
   "metadata": {},
   "outputs": [],
   "source": []
  }
 ],
 "metadata": {
  "kernelspec": {
   "display_name": "Python 3",
   "language": "python",
   "name": "python3"
  },
  "language_info": {
   "codemirror_mode": {
    "name": "ipython",
    "version": 3
   },
   "file_extension": ".py",
   "mimetype": "text/x-python",
   "name": "python",
   "nbconvert_exporter": "python",
   "pygments_lexer": "ipython3",
   "version": "3.8.3"
  }
 },
 "nbformat": 4,
 "nbformat_minor": 4
}
