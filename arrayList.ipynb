{
 "cells": [
  {
   "cell_type": "code",
   "execution_count": null,
   "metadata": {},
   "outputs": [],
   "source": [
    "class Mylist:\n",
    "    def __init__(self, size = 10):\n",
    "        self.size = 10\n",
    "\n",
    "    def add(self, value):\n",
    "        \n",
    "        \n",
    "    def _increase_size(self):\n",
    "        \n",
    "        \n",
    "    def get(self, index : int):\n",
    "        \n",
    "    def delete(self, index):\n"
   ]
  }
 ],
 "metadata": {
  "kernelspec": {
   "display_name": "Python 3",
   "language": "python",
   "name": "python3"
  },
  "language_info": {
   "codemirror_mode": {
    "name": "ipython",
    "version": 3
   },
   "file_extension": ".py",
   "mimetype": "text/x-python",
   "name": "python",
   "nbconvert_exporter": "python",
   "pygments_lexer": "ipython3",
   "version": "3.8.3"
  }
 },
 "nbformat": 4,
 "nbformat_minor": 4
}
