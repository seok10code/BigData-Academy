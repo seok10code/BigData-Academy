{
 "cells": [
  {
   "cell_type": "code",
   "execution_count": 259,
   "metadata": {},
   "outputs": [],
   "source": [
    "import pandas as pd\n",
    "import numpy as np\n",
    "import matplotlib.pyplot as plt\n",
    "import seaborn as sns"
   ]
  },
  {
   "cell_type": "code",
   "execution_count": 260,
   "metadata": {},
   "outputs": [],
   "source": [
    "# http://www.kobis.or.kr\n",
    "mov = pd.read_csv('KOBIS_개봉일람_2019-10-26.csv', skiprows=5)"
   ]
  },
  {
   "cell_type": "code",
   "execution_count": 261,
   "metadata": {},
   "outputs": [],
   "source": [
    "import matplotlib as mpl\n",
    "import matplotlib.font_manager as fm\n",
    "\n",
    "mpl.rcParams['axes.unicode_minus']= False\n",
    "\n",
    "path = 'C:/Windows/Fonts/malgun.ttf'\n",
    "font_name = fm.FontProperties(fname = path, size = 50).get_name()\n",
    "plt.rc('font', family=font_name)"
   ]
  },
  {
   "cell_type": "code",
   "execution_count": 262,
   "metadata": {},
   "outputs": [
    {
     "name": "stdout",
     "output_type": "stream",
     "text": [
      "<class 'pandas.core.frame.DataFrame'>\n",
      "RangeIndex: 19705 entries, 0 to 19704\n",
      "Data columns (total 18 columns):\n",
      " #   Column  Non-Null Count  Dtype  \n",
      "---  ------  --------------  -----  \n",
      " 0   순번      19704 non-null  float64\n",
      " 1   영화명     19704 non-null  object \n",
      " 2   감독      19150 non-null  object \n",
      " 3   제작사     7966 non-null   object \n",
      " 4   수입사     13401 non-null  object \n",
      " 5   배급사     14244 non-null  object \n",
      " 6   개봉일     19686 non-null  object \n",
      " 7   영화유형    19704 non-null  object \n",
      " 8   영화형태    19690 non-null  object \n",
      " 9   국적      19695 non-null  object \n",
      " 10  전국      19705 non-null  object \n",
      " 11  전국.1    19478 non-null  object \n",
      " 12  전국.2    19705 non-null  object \n",
      " 13  서울      19472 non-null  object \n",
      " 14  서울.1    19705 non-null  object \n",
      " 15  장르      19603 non-null  object \n",
      " 16  등급      19654 non-null  object \n",
      " 17  영화구분    19704 non-null  object \n",
      "dtypes: float64(1), object(17)\n",
      "memory usage: 2.7+ MB\n"
     ]
    }
   ],
   "source": [
    "mov.info()"
   ]
  },
  {
   "cell_type": "code",
   "execution_count": 263,
   "metadata": {},
   "outputs": [],
   "source": [
    "mov.rename(columns = {'전국':'스크린수','전국.1':'매출액','전국.2':'관객수','서울':'서울매출액','서울.1':'서울관객수'}, inplace=True)"
   ]
  },
  {
   "cell_type": "code",
   "execution_count": 264,
   "metadata": {
    "scrolled": true
   },
   "outputs": [],
   "source": [
    "mov.drop(0, inplace=True)"
   ]
  },
  {
   "cell_type": "code",
   "execution_count": 265,
   "metadata": {
    "scrolled": true
   },
   "outputs": [],
   "source": [
    "mov.drop(['제작사', '서울매출액', '서울관객수', '순번', '영화유형', '등급' , '수입사', '배급사'] ,axis=1, inplace = True)"
   ]
  },
  {
   "cell_type": "code",
   "execution_count": 266,
   "metadata": {
    "scrolled": true
   },
   "outputs": [
    {
     "data": {
      "text/html": [
       "<div>\n",
       "<style scoped>\n",
       "    .dataframe tbody tr th:only-of-type {\n",
       "        vertical-align: middle;\n",
       "    }\n",
       "\n",
       "    .dataframe tbody tr th {\n",
       "        vertical-align: top;\n",
       "    }\n",
       "\n",
       "    .dataframe thead th {\n",
       "        text-align: right;\n",
       "    }\n",
       "</style>\n",
       "<table border=\"1\" class=\"dataframe\">\n",
       "  <thead>\n",
       "    <tr style=\"text-align: right;\">\n",
       "      <th></th>\n",
       "      <th>영화명</th>\n",
       "      <th>감독</th>\n",
       "      <th>개봉일</th>\n",
       "      <th>영화형태</th>\n",
       "      <th>국적</th>\n",
       "      <th>스크린수</th>\n",
       "      <th>매출액</th>\n",
       "      <th>관객수</th>\n",
       "      <th>장르</th>\n",
       "      <th>영화구분</th>\n",
       "    </tr>\n",
       "  </thead>\n",
       "  <tbody>\n",
       "    <tr>\n",
       "      <th>1</th>\n",
       "      <td>명량</td>\n",
       "      <td>김한민</td>\n",
       "      <td>2014-07-30</td>\n",
       "      <td>장편</td>\n",
       "      <td>한국</td>\n",
       "      <td>1,587</td>\n",
       "      <td>135,748,398,910</td>\n",
       "      <td>17,613,682</td>\n",
       "      <td>사극</td>\n",
       "      <td>일반영화</td>\n",
       "    </tr>\n",
       "    <tr>\n",
       "      <th>2</th>\n",
       "      <td>극한직업</td>\n",
       "      <td>이병헌</td>\n",
       "      <td>2019-01-23</td>\n",
       "      <td>장편</td>\n",
       "      <td>한국</td>\n",
       "      <td>1,978</td>\n",
       "      <td>139,647,979,516</td>\n",
       "      <td>16,264,944</td>\n",
       "      <td>코미디</td>\n",
       "      <td>일반영화</td>\n",
       "    </tr>\n",
       "    <tr>\n",
       "      <th>3</th>\n",
       "      <td>신과함께-죄와 벌</td>\n",
       "      <td>김용화</td>\n",
       "      <td>2017-12-20</td>\n",
       "      <td>장편</td>\n",
       "      <td>한국</td>\n",
       "      <td>1,912</td>\n",
       "      <td>115,698,654,137</td>\n",
       "      <td>14,410,754</td>\n",
       "      <td>판타지</td>\n",
       "      <td>일반영화</td>\n",
       "    </tr>\n",
       "  </tbody>\n",
       "</table>\n",
       "</div>"
      ],
      "text/plain": [
       "         영화명   감독         개봉일 영화형태  국적   스크린수              매출액         관객수  \\\n",
       "1         명량  김한민  2014-07-30   장편  한국  1,587  135,748,398,910  17,613,682   \n",
       "2       극한직업  이병헌  2019-01-23   장편  한국  1,978  139,647,979,516  16,264,944   \n",
       "3  신과함께-죄와 벌  김용화  2017-12-20   장편  한국  1,912  115,698,654,137  14,410,754   \n",
       "\n",
       "    장르  영화구분  \n",
       "1   사극  일반영화  \n",
       "2  코미디  일반영화  \n",
       "3  판타지  일반영화  "
      ]
     },
     "execution_count": 266,
     "metadata": {},
     "output_type": "execute_result"
    }
   ],
   "source": [
    "mov.head(3)"
   ]
  },
  {
   "cell_type": "code",
   "execution_count": 267,
   "metadata": {},
   "outputs": [
    {
     "data": {
      "text/plain": [
       "영화명       0\n",
       "감독      554\n",
       "개봉일      18\n",
       "영화형태     14\n",
       "국적        9\n",
       "스크린수      0\n",
       "매출액     227\n",
       "관객수       0\n",
       "장르      101\n",
       "영화구분      0\n",
       "dtype: int64"
      ]
     },
     "execution_count": 267,
     "metadata": {},
     "output_type": "execute_result"
    }
   ],
   "source": [
    "# 칼럼별 null값의 갯수 확인\n",
    "mov.isnull().sum()"
   ]
  },
  {
   "cell_type": "code",
   "execution_count": 268,
   "metadata": {},
   "outputs": [
    {
     "data": {
      "text/html": [
       "<div>\n",
       "<style scoped>\n",
       "    .dataframe tbody tr th:only-of-type {\n",
       "        vertical-align: middle;\n",
       "    }\n",
       "\n",
       "    .dataframe tbody tr th {\n",
       "        vertical-align: top;\n",
       "    }\n",
       "\n",
       "    .dataframe thead th {\n",
       "        text-align: right;\n",
       "    }\n",
       "</style>\n",
       "<table border=\"1\" class=\"dataframe\">\n",
       "  <thead>\n",
       "    <tr style=\"text-align: right;\">\n",
       "      <th></th>\n",
       "      <th>영화명</th>\n",
       "      <th>감독</th>\n",
       "      <th>개봉일</th>\n",
       "      <th>영화형태</th>\n",
       "      <th>국적</th>\n",
       "      <th>스크린수</th>\n",
       "      <th>매출액</th>\n",
       "      <th>관객수</th>\n",
       "      <th>장르</th>\n",
       "      <th>영화구분</th>\n",
       "    </tr>\n",
       "  </thead>\n",
       "  <tbody>\n",
       "    <tr>\n",
       "      <th>1</th>\n",
       "      <td>명량</td>\n",
       "      <td>김한민</td>\n",
       "      <td>2014-07-30</td>\n",
       "      <td>장편</td>\n",
       "      <td>한국</td>\n",
       "      <td>1,587</td>\n",
       "      <td>135,748,398,910</td>\n",
       "      <td>17,613,682</td>\n",
       "      <td>사극</td>\n",
       "      <td>일반영화</td>\n",
       "    </tr>\n",
       "    <tr>\n",
       "      <th>2</th>\n",
       "      <td>극한직업</td>\n",
       "      <td>이병헌</td>\n",
       "      <td>2019-01-23</td>\n",
       "      <td>장편</td>\n",
       "      <td>한국</td>\n",
       "      <td>1,978</td>\n",
       "      <td>139,647,979,516</td>\n",
       "      <td>16,264,944</td>\n",
       "      <td>코미디</td>\n",
       "      <td>일반영화</td>\n",
       "    </tr>\n",
       "  </tbody>\n",
       "</table>\n",
       "</div>"
      ],
      "text/plain": [
       "    영화명   감독         개봉일 영화형태  국적   스크린수              매출액         관객수   장르  \\\n",
       "1    명량  김한민  2014-07-30   장편  한국  1,587  135,748,398,910  17,613,682   사극   \n",
       "2  극한직업  이병헌  2019-01-23   장편  한국  1,978  139,647,979,516  16,264,944  코미디   \n",
       "\n",
       "   영화구분  \n",
       "1  일반영화  \n",
       "2  일반영화  "
      ]
     },
     "execution_count": 268,
     "metadata": {},
     "output_type": "execute_result"
    }
   ],
   "source": [
    "mov.head(2)"
   ]
  },
  {
   "cell_type": "code",
   "execution_count": null,
   "metadata": {},
   "outputs": [],
   "source": []
  },
  {
   "cell_type": "code",
   "execution_count": 269,
   "metadata": {},
   "outputs": [],
   "source": [
    "mov.fillna(0, inplace=True)"
   ]
  },
  {
   "cell_type": "code",
   "execution_count": 270,
   "metadata": {},
   "outputs": [],
   "source": [
    "# int(mov['매출액'].values[0].replace(',',''))"
   ]
  },
  {
   "cell_type": "code",
   "execution_count": 271,
   "metadata": {},
   "outputs": [],
   "source": [
    "mov['스크린수']=mov['스크린수'].apply(lambda x : int(str(x).replace(',','')))\n",
    "mov['매출액']=mov['매출액'].apply(lambda x : int(str(x).replace(',','')))\n",
    "mov['관객수']=mov['관객수'].apply(lambda x : int(str(x).replace(',','')))"
   ]
  },
  {
   "cell_type": "code",
   "execution_count": 272,
   "metadata": {},
   "outputs": [
    {
     "name": "stdout",
     "output_type": "stream",
     "text": [
      "<class 'pandas.core.frame.DataFrame'>\n",
      "Int64Index: 19704 entries, 1 to 19704\n",
      "Data columns (total 10 columns):\n",
      " #   Column  Non-Null Count  Dtype \n",
      "---  ------  --------------  ----- \n",
      " 0   영화명     19704 non-null  object\n",
      " 1   감독      19704 non-null  object\n",
      " 2   개봉일     19704 non-null  object\n",
      " 3   영화형태    19704 non-null  object\n",
      " 4   국적      19704 non-null  object\n",
      " 5   스크린수    19704 non-null  int64 \n",
      " 6   매출액     19704 non-null  int64 \n",
      " 7   관객수     19704 non-null  int64 \n",
      " 8   장르      19704 non-null  object\n",
      " 9   영화구분    19704 non-null  object\n",
      "dtypes: int64(3), object(7)\n",
      "memory usage: 1.7+ MB\n"
     ]
    }
   ],
   "source": [
    "mov.info()"
   ]
  },
  {
   "cell_type": "code",
   "execution_count": 273,
   "metadata": {},
   "outputs": [
    {
     "data": {
      "image/png": "[encoded data removed]",
      "text/plain": [
       "<Figure size 432x288 with 1 Axes>"
      ]
     },
     "metadata": {
      "needs_background": "light"
     },
     "output_type": "display_data"
    }
   ],
   "source": [
    "# 국적별 영화 매출액 합계 상위 10개국.. Bar Chart\n",
    "mov.groupby('국적')['매출액'].sum().sort_values(ascending=False)[:10].plot(kind='bar')\n",
    "plt.show()"
   ]
  },
  {
   "cell_type": "code",
   "execution_count": 274,
   "metadata": {},
   "outputs": [
    {
     "data": {
      "text/html": [
       "<div>\n",
       "<style scoped>\n",
       "    .dataframe tbody tr th:only-of-type {\n",
       "        vertical-align: middle;\n",
       "    }\n",
       "\n",
       "    .dataframe tbody tr th {\n",
       "        vertical-align: top;\n",
       "    }\n",
       "\n",
       "    .dataframe thead th {\n",
       "        text-align: right;\n",
       "    }\n",
       "</style>\n",
       "<table border=\"1\" class=\"dataframe\">\n",
       "  <thead>\n",
       "    <tr style=\"text-align: right;\">\n",
       "      <th></th>\n",
       "      <th>영화명</th>\n",
       "      <th>감독</th>\n",
       "      <th>개봉일</th>\n",
       "      <th>영화형태</th>\n",
       "      <th>국적</th>\n",
       "      <th>스크린수</th>\n",
       "      <th>매출액</th>\n",
       "      <th>관객수</th>\n",
       "      <th>장르</th>\n",
       "      <th>영화구분</th>\n",
       "    </tr>\n",
       "  </thead>\n",
       "  <tbody>\n",
       "    <tr>\n",
       "      <th>1</th>\n",
       "      <td>명량</td>\n",
       "      <td>김한민</td>\n",
       "      <td>2014-07-30</td>\n",
       "      <td>장편</td>\n",
       "      <td>한국</td>\n",
       "      <td>1587</td>\n",
       "      <td>135748398910</td>\n",
       "      <td>17613682</td>\n",
       "      <td>사극</td>\n",
       "      <td>일반영화</td>\n",
       "    </tr>\n",
       "    <tr>\n",
       "      <th>2</th>\n",
       "      <td>극한직업</td>\n",
       "      <td>이병헌</td>\n",
       "      <td>2019-01-23</td>\n",
       "      <td>장편</td>\n",
       "      <td>한국</td>\n",
       "      <td>1978</td>\n",
       "      <td>139647979516</td>\n",
       "      <td>16264944</td>\n",
       "      <td>코미디</td>\n",
       "      <td>일반영화</td>\n",
       "    </tr>\n",
       "    <tr>\n",
       "      <th>3</th>\n",
       "      <td>신과함께-죄와 벌</td>\n",
       "      <td>김용화</td>\n",
       "      <td>2017-12-20</td>\n",
       "      <td>장편</td>\n",
       "      <td>한국</td>\n",
       "      <td>1912</td>\n",
       "      <td>115698654137</td>\n",
       "      <td>14410754</td>\n",
       "      <td>판타지</td>\n",
       "      <td>일반영화</td>\n",
       "    </tr>\n",
       "  </tbody>\n",
       "</table>\n",
       "</div>"
      ],
      "text/plain": [
       "         영화명   감독         개봉일 영화형태  국적  스크린수           매출액       관객수   장르  \\\n",
       "1         명량  김한민  2014-07-30   장편  한국  1587  135748398910  17613682   사극   \n",
       "2       극한직업  이병헌  2019-01-23   장편  한국  1978  139647979516  16264944  코미디   \n",
       "3  신과함께-죄와 벌  김용화  2017-12-20   장편  한국  1912  115698654137  14410754  판타지   \n",
       "\n",
       "   영화구분  \n",
       "1  일반영화  \n",
       "2  일반영화  \n",
       "3  일반영화  "
      ]
     },
     "execution_count": 274,
     "metadata": {},
     "output_type": "execute_result"
    }
   ],
   "source": [
    "mov.head(3)"
   ]
  },
  {
   "cell_type": "code",
   "execution_count": 275,
   "metadata": {},
   "outputs": [
    {
     "data": {
      "text/plain": [
       "<matplotlib.axes._subplots.AxesSubplot at 0x27060d326d0>"
      ]
     },
     "execution_count": 275,
     "metadata": {},
     "output_type": "execute_result"
    },
    {
     "data": {
      "text/plain": [
       "<Figure size 360x216 with 0 Axes>"
      ]
     },
     "metadata": {},
     "output_type": "display_data"
    },
    {
     "data": {
      "image/png": "[encoded data removed]",
      "text/plain": [
       "<Figure size 432x288 with 1 Axes>"
      ]
     },
     "metadata": {
      "needs_background": "light"
     },
     "output_type": "display_data"
    }
   ],
   "source": [
    "# 스크린수와 매출액의 관계를 분포그래프로 표시 그리고 회귀직선을 나타내시오\n",
    "plt.figure(figsize=(5,3))\n",
    "mov.plot(kind='scatter', x='스크린수', y='매출액')\n",
    "# seaborn에 회귀직선 있음 sns."
   ]
  },
  {
   "cell_type": "code",
   "execution_count": 276,
   "metadata": {},
   "outputs": [
    {
     "data": {
      "text/plain": [
       "1    명량\n",
       "Name: 영화명, dtype: object"
      ]
     },
     "execution_count": 276,
     "metadata": {},
     "output_type": "execute_result"
    }
   ],
   "source": [
    "# 역대 관객수가 최대인 영화는 무엇인가?\n",
    "mov.loc[mov['관객수']==mov['관객수'].max()]['영화명']"
   ]
  },
  {
   "cell_type": "code",
   "execution_count": 277,
   "metadata": {},
   "outputs": [
    {
     "data": {
      "text/html": [
       "<div>\n",
       "<style scoped>\n",
       "    .dataframe tbody tr th:only-of-type {\n",
       "        vertical-align: middle;\n",
       "    }\n",
       "\n",
       "    .dataframe tbody tr th {\n",
       "        vertical-align: top;\n",
       "    }\n",
       "\n",
       "    .dataframe thead th {\n",
       "        text-align: right;\n",
       "    }\n",
       "</style>\n",
       "<table border=\"1\" class=\"dataframe\">\n",
       "  <thead>\n",
       "    <tr style=\"text-align: right;\">\n",
       "      <th></th>\n",
       "      <th>영화명</th>\n",
       "      <th>감독</th>\n",
       "      <th>개봉일</th>\n",
       "      <th>영화형태</th>\n",
       "      <th>국적</th>\n",
       "      <th>스크린수</th>\n",
       "      <th>매출액</th>\n",
       "      <th>관객수</th>\n",
       "      <th>장르</th>\n",
       "      <th>영화구분</th>\n",
       "    </tr>\n",
       "  </thead>\n",
       "  <tbody>\n",
       "    <tr>\n",
       "      <th>1</th>\n",
       "      <td>명량</td>\n",
       "      <td>김한민</td>\n",
       "      <td>2014-07-30</td>\n",
       "      <td>장편</td>\n",
       "      <td>한국</td>\n",
       "      <td>1587</td>\n",
       "      <td>135748398910</td>\n",
       "      <td>17613682</td>\n",
       "      <td>사극</td>\n",
       "      <td>일반영화</td>\n",
       "    </tr>\n",
       "    <tr>\n",
       "      <th>2</th>\n",
       "      <td>극한직업</td>\n",
       "      <td>이병헌</td>\n",
       "      <td>2019-01-23</td>\n",
       "      <td>장편</td>\n",
       "      <td>한국</td>\n",
       "      <td>1978</td>\n",
       "      <td>139647979516</td>\n",
       "      <td>16264944</td>\n",
       "      <td>코미디</td>\n",
       "      <td>일반영화</td>\n",
       "    </tr>\n",
       "    <tr>\n",
       "      <th>3</th>\n",
       "      <td>신과함께-죄와 벌</td>\n",
       "      <td>김용화</td>\n",
       "      <td>2017-12-20</td>\n",
       "      <td>장편</td>\n",
       "      <td>한국</td>\n",
       "      <td>1912</td>\n",
       "      <td>115698654137</td>\n",
       "      <td>14410754</td>\n",
       "      <td>판타지</td>\n",
       "      <td>일반영화</td>\n",
       "    </tr>\n",
       "  </tbody>\n",
       "</table>\n",
       "</div>"
      ],
      "text/plain": [
       "         영화명   감독         개봉일 영화형태  국적  스크린수           매출액       관객수   장르  \\\n",
       "1         명량  김한민  2014-07-30   장편  한국  1587  135748398910  17613682   사극   \n",
       "2       극한직업  이병헌  2019-01-23   장편  한국  1978  139647979516  16264944  코미디   \n",
       "3  신과함께-죄와 벌  김용화  2017-12-20   장편  한국  1912  115698654137  14410754  판타지   \n",
       "\n",
       "   영화구분  \n",
       "1  일반영화  \n",
       "2  일반영화  \n",
       "3  일반영화  "
      ]
     },
     "execution_count": 277,
     "metadata": {},
     "output_type": "execute_result"
    }
   ],
   "source": [
    "mov.head(3)"
   ]
  },
  {
   "cell_type": "code",
   "execution_count": 278,
   "metadata": {},
   "outputs": [
    {
     "data": {
      "text/html": [
       "<div>\n",
       "<style scoped>\n",
       "    .dataframe tbody tr th:only-of-type {\n",
       "        vertical-align: middle;\n",
       "    }\n",
       "\n",
       "    .dataframe tbody tr th {\n",
       "        vertical-align: top;\n",
       "    }\n",
       "\n",
       "    .dataframe thead th {\n",
       "        text-align: right;\n",
       "    }\n",
       "</style>\n",
       "<table border=\"1\" class=\"dataframe\">\n",
       "  <thead>\n",
       "    <tr style=\"text-align: right;\">\n",
       "      <th></th>\n",
       "      <th>영화명</th>\n",
       "      <th>감독</th>\n",
       "      <th>개봉일</th>\n",
       "      <th>영화형태</th>\n",
       "      <th>국적</th>\n",
       "      <th>스크린수</th>\n",
       "      <th>매출액</th>\n",
       "      <th>관객수</th>\n",
       "      <th>장르</th>\n",
       "      <th>영화구분</th>\n",
       "      <th>대비</th>\n",
       "    </tr>\n",
       "  </thead>\n",
       "  <tbody>\n",
       "    <tr>\n",
       "      <th>258</th>\n",
       "      <td>워낭소리</td>\n",
       "      <td>이충렬</td>\n",
       "      <td>2009-01-15</td>\n",
       "      <td>장편</td>\n",
       "      <td>한국</td>\n",
       "      <td>20</td>\n",
       "      <td>19259975032</td>\n",
       "      <td>2962897</td>\n",
       "      <td>다큐멘터리</td>\n",
       "      <td>독립/예술영화</td>\n",
       "      <td>962998751.6</td>\n",
       "    </tr>\n",
       "  </tbody>\n",
       "</table>\n",
       "</div>"
      ],
      "text/plain": [
       "      영화명   감독         개봉일 영화형태  국적  스크린수          매출액      관객수     장르  \\\n",
       "258  워낭소리  이충렬  2009-01-15   장편  한국    20  19259975032  2962897  다큐멘터리   \n",
       "\n",
       "        영화구분           대비  \n",
       "258  독립/예술영화  962998751.6  "
      ]
     },
     "execution_count": 278,
     "metadata": {},
     "output_type": "execute_result"
    }
   ],
   "source": [
    "# 스크린수 대비 매출액이 최대인 영화는 무엇인가?\n",
    "mov['대비']=mov['매출액']/mov['스크린수']\n",
    "mov[mov['스크린수'] !=0].sort_values('대비', ascending=False)[:1]"
   ]
  },
  {
   "cell_type": "code",
   "execution_count": 279,
   "metadata": {},
   "outputs": [
    {
     "data": {
      "text/plain": [
       "array(['사극', '코미디', '판타지', '드라마', '액션', 'SF', '어드벤처', '전쟁', '애니메이션', '범죄',\n",
       "       '미스터리', '서부극(웨스턴)', '멜로/로맨스', '스릴러', '다큐멘터리', '공포(호러)', '가족',\n",
       "       '뮤지컬', '공연', '기타', '성인물(에로)', 0], dtype=object)"
      ]
     },
     "execution_count": 279,
     "metadata": {},
     "output_type": "execute_result"
    }
   ],
   "source": [
    "mov['장르'].unique()"
   ]
  },
  {
   "cell_type": "code",
   "execution_count": 280,
   "metadata": {},
   "outputs": [
    {
     "data": {
      "text/plain": [
       "7981    공연\n",
       "Name: 장르, dtype: object"
      ]
     },
     "execution_count": 280,
     "metadata": {},
     "output_type": "execute_result"
    }
   ],
   "source": [
    "# 평균매출이 가장 높은 장르는 무엇인가?\n",
    "mov['평균매출액']=mov['매출액']/mov['관객수']\n",
    "mov.loc[mov['평균매출액']==mov['평균매출액'].max()]['장르']"
   ]
  },
  {
   "cell_type": "code",
   "execution_count": 281,
   "metadata": {},
   "outputs": [],
   "source": [
    "# 연도별 개봉영화수 추이를 line chart로 표시하시오."
   ]
  },
  {
   "cell_type": "code",
   "execution_count": 282,
   "metadata": {},
   "outputs": [
    {
     "data": {
      "text/plain": [
       "<matplotlib.axes._subplots.AxesSubplot at 0x2705f92fdf0>"
      ]
     },
     "execution_count": 282,
     "metadata": {},
     "output_type": "execute_result"
    },
    {
     "data": {
      "image/png": "[encoded data removed]",
      "text/plain": [
       "<Figure size 432x288 with 1 Axes>"
      ]
     },
     "metadata": {
      "needs_background": "light"
     },
     "output_type": "display_data"
    }
   ],
   "source": [
    "mov['개봉연도'] = mov['개봉일'].apply(lambda x : str(x).split('-')[0])\n",
    "mov.groupby('개봉연도')['영화명'].count().plot(kind='line')"
   ]
  },
  {
   "cell_type": "code",
   "execution_count": 283,
   "metadata": {},
   "outputs": [
    {
     "data": {
      "text/plain": [
       "11    1796\n",
       "09    1774\n",
       "08    1731\n",
       "07    1707\n",
       "12    1707\n",
       "04    1686\n",
       "05    1630\n",
       "03    1623\n",
       "06    1622\n",
       "10    1547\n",
       "01    1462\n",
       "02    1401\n",
       "        18\n",
       "Name: 개봉월, dtype: int64"
      ]
     },
     "execution_count": 283,
     "metadata": {},
     "output_type": "execute_result"
    }
   ],
   "source": [
    "# 12개월 중 영화 개봉수가 가장 많은 달과 적은 달을 표시하시오.\n",
    "mov.head(3)\n",
    "mov['개봉월'] = mov['개봉일'].apply(lambda x : str(x)[5:7])\n",
    "mov['개봉월'].value_counts()"
   ]
  },
  {
   "cell_type": "code",
   "execution_count": 284,
   "metadata": {},
   "outputs": [
    {
     "data": {
      "text/plain": [
       "11    1796\n",
       "Name: 개봉월, dtype: int64"
      ]
     },
     "execution_count": 284,
     "metadata": {},
     "output_type": "execute_result"
    }
   ],
   "source": [
    "mov['개봉월'].value_counts().head(1)"
   ]
  },
  {
   "cell_type": "code",
   "execution_count": 285,
   "metadata": {},
   "outputs": [
    {
     "data": {
      "text/plain": [
       "02    1401\n",
       "        18\n",
       "Name: 개봉월, dtype: int64"
      ]
     },
     "execution_count": 285,
     "metadata": {},
     "output_type": "execute_result"
    }
   ],
   "source": [
    "mov['개봉월'].value_counts().tail(2)"
   ]
  },
  {
   "cell_type": "code",
   "execution_count": 288,
   "metadata": {},
   "outputs": [
    {
     "data": {
      "text/plain": [
       "<matplotlib.axes._subplots.AxesSubplot at 0x2705c91e6d0>"
      ]
     },
     "execution_count": 288,
     "metadata": {},
     "output_type": "execute_result"
    },
    {
     "data": {
      "image/png": "[encoded data removed]",
      "text/plain": [
       "<Figure size 432x288 with 1 Axes>"
      ]
     },
     "metadata": {
      "needs_background": "light"
     },
     "output_type": "display_data"
    }
   ],
   "source": [
    "mov.groupby('개봉월')['국적'].count().plot(kind='bar')"
   ]
  },
  {
   "cell_type": "code",
   "execution_count": 256,
   "metadata": {},
   "outputs": [
    {
     "data": {
      "text/plain": [
       "감독\n",
       "크리스 벅,제니퍼 리    10296101.0\n",
       "Name: 관객수, dtype: float64"
      ]
     },
     "execution_count": 256,
     "metadata": {},
     "output_type": "execute_result"
    }
   ],
   "source": [
    "# 역대 평균 관객수가 가장 많은 감독은 누구인가?\n",
    "mov.groupby('감독')['관객수'].mean().sort_values()[-1:]"
   ]
  },
  {
   "cell_type": "code",
   "execution_count": null,
   "metadata": {},
   "outputs": [],
   "source": []
  }
 ],
 "metadata": {
  "kernelspec": {
   "display_name": "Python 3",
   "language": "python",
   "name": "python3"
  },
  "language_info": {
   "codemirror_mode": {
    "name": "ipython",
    "version": 3
   },
   "file_extension": ".py",
   "mimetype": "text/x-python",
   "name": "python",
   "nbconvert_exporter": "python",
   "pygments_lexer": "ipython3",
   "version": "3.8.3"
  }
 },
 "nbformat": 4,
 "nbformat_minor": 4
}
