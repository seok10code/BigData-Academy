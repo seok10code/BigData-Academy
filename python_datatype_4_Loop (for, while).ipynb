{
 "cells": [
  {
   "cell_type": "raw",
   "metadata": {},
   "source": []
  },
  {
   "cell_type": "code",
   "execution_count": 5,
   "metadata": {},
   "outputs": [
    {
     "name": "stdout",
     "output_type": "stream",
     "text": [
      "0\n",
      "1\n",
      "2\n",
      "3\n",
      "4\n"
     ]
    }
   ],
   "source": [
    "x= range(5)\n",
    "for i in x:   \n",
    "    print(i)"
   ]
  },
  {
   "cell_type": "code",
   "execution_count": 9,
   "metadata": {},
   "outputs": [
    {
     "name": "stdout",
     "output_type": "stream",
     "text": [
      "1\n",
      "2\n",
      "3\n",
      "4\n",
      "6\n",
      "7\n",
      "9\n"
     ]
    }
   ],
   "source": [
    "set_ex = {9,7,6,4,3,2,1}\n",
    "for i in set_ex:\n",
    "    print(i)"
   ]
  },
  {
   "cell_type": "code",
   "execution_count": 10,
   "metadata": {},
   "outputs": [
    {
     "name": "stdout",
     "output_type": "stream",
     "text": [
      "인덱스0, 벨류9\n",
      "인덱스1, 벨류8\n",
      "인덱스2, 벨류6\n",
      "인덱스3, 벨류54\n",
      "인덱스4, 벨류3\n",
      "인덱스5, 벨류2\n",
      "인덱스6, 벨류1\n"
     ]
    }
   ],
   "source": [
    "# enumerate()   #인덱스랑 함께 프린트함\n",
    "x = [9,8,6,54,3,2,1]\n",
    "for i, a in enumerate(x):\n",
    "    print(\"인덱스{}, 벨류{}\".format(i,a))"
   ]
  },
  {
   "cell_type": "code",
   "execution_count": 15,
   "metadata": {},
   "outputs": [
    {
     "name": "stdout",
     "output_type": "stream",
     "text": [
      "0,1 1,2 2,3 3,4 4,5 "
     ]
    }
   ],
   "source": [
    "L = [1,2,3,4,5]\n",
    "for i, j in enumerate(L):\n",
    "    print(\"{},{}\".format(i,j), end =' ')"
   ]
  },
  {
   "cell_type": "code",
   "execution_count": 17,
   "metadata": {},
   "outputs": [
    {
     "name": "stdout",
     "output_type": "stream",
     "text": [
      "[0, 1, 2, 3]\n",
      "[2, 5, 8, 11, 14, 17]\n"
     ]
    }
   ],
   "source": [
    "print(list(range(4)))\n",
    "print(list(range(2,20,3)))"
   ]
  },
  {
   "cell_type": "code",
   "execution_count": 18,
   "metadata": {},
   "outputs": [
    {
     "name": "stdout",
     "output_type": "stream",
     "text": [
      "2 2\n",
      "4 6\n",
      "6 10\n",
      "8 14\n",
      "10 18\n"
     ]
    }
   ],
   "source": [
    "for data in range(1,10,2):\n",
    "    print(data+1 , data*2)"
   ]
  },
  {
   "cell_type": "code",
   "execution_count": 19,
   "metadata": {},
   "outputs": [
    {
     "name": "stdout",
     "output_type": "stream",
     "text": [
      "p y t h o n "
     ]
    }
   ],
   "source": [
    "for i in 'python':\n",
    "    print(i, end=' ')"
   ]
  },
  {
   "cell_type": "code",
   "execution_count": 20,
   "metadata": {},
   "outputs": [
    {
     "name": "stdout",
     "output_type": "stream",
     "text": [
      "P Y T H O N "
     ]
    }
   ],
   "source": [
    "for i in 'python':\n",
    "    x= i.upper()\n",
    "    print(x, end=' ')"
   ]
  },
  {
   "cell_type": "code",
   "execution_count": 88,
   "metadata": {},
   "outputs": [
    {
     "data": {
      "text/plain": [
       "5"
      ]
     },
     "execution_count": 88,
     "metadata": {},
     "output_type": "execute_result"
    }
   ],
   "source": [
    "class student:\n",
    "    x = 5\n",
    "L = [1,2,3]\n",
    "s1 = student()\n",
    "s2 = student()\n",
    "L.append(s1)\n",
    "a = L[-1]\n",
    "a.x\n",
    "\n",
    "# print(L)\n",
    "\n"
   ]
  },
  {
   "cell_type": "code",
   "execution_count": 27,
   "metadata": {},
   "outputs": [
    {
     "name": "stdout",
     "output_type": "stream",
     "text": [
      "1 2 / 1 4 / 1 6 / 1 8 / 1 10 / \n",
      "2 2 / 2 4 / 2 6 / 2 8 / 2 10 / \n",
      "3 2 / 3 4 / 3 6 / 3 8 / 3 10 / \n",
      "4 2 / 4 4 / 4 6 / 4 8 / 4 10 / \n",
      "5 2 / 5 4 / 5 6 / 5 8 / 5 10 / \n"
     ]
    }
   ],
   "source": [
    "for x in [1,2,3,4,5]:\n",
    "    for y in [2,4,6,8,10]:\n",
    "        print(x,y, end = ' / ')\n",
    "    print()"
   ]
  },
  {
   "cell_type": "code",
   "execution_count": 28,
   "metadata": {},
   "outputs": [
    {
     "name": "stdout",
     "output_type": "stream",
     "text": [
      "1 4\n",
      "1 5\n",
      "2 4\n",
      "2 5\n",
      "3 4\n",
      "3 5\n"
     ]
    }
   ],
   "source": [
    "for a in {1,2,3}:\n",
    "    for b in {4,5}:\n",
    "        print(a,b)"
   ]
  },
  {
   "cell_type": "code",
   "execution_count": 30,
   "metadata": {},
   "outputs": [
    {
     "name": "stdout",
     "output_type": "stream",
     "text": [
      "4\n",
      "2\n",
      "1\n",
      "5\n",
      "3\n"
     ]
    }
   ],
   "source": [
    "score = {4:90, 2:80, 1:95, 5:88, 3:92}\n",
    "for x in score:\n",
    "    print(x)"
   ]
  },
  {
   "cell_type": "code",
   "execution_count": 37,
   "metadata": {},
   "outputs": [
    {
     "name": "stdout",
     "output_type": "stream",
     "text": [
      "55\n"
     ]
    }
   ],
   "source": [
    "sum2 = 0\n",
    "i=0\n",
    "while i <=10:\n",
    "    sum2 += i\n",
    "    i +=1\n",
    "print(sum2)"
   ]
  },
  {
   "cell_type": "code",
   "execution_count": 36,
   "metadata": {},
   "outputs": [
    {
     "name": "stdout",
     "output_type": "stream",
     "text": [
      "55\n"
     ]
    }
   ],
   "source": [
    "# 1부터 10까지 합을 구하시오\n",
    "sum1 = 0\n",
    "for i in range(1,11):\n",
    "    sum1 += i\n",
    "print(sum1)\n",
    "    "
   ]
  },
  {
   "cell_type": "code",
   "execution_count": 49,
   "metadata": {},
   "outputs": [
    {
     "name": "stdout",
     "output_type": "stream",
     "text": [
      "16\n"
     ]
    }
   ],
   "source": [
    "# 영어모음 ['a', 'e', 'i','o','u']\n",
    "# 아래 text에서 모음의 갯수를 구하시오.\n",
    "text = 'python programming is fun!'\n",
    "count = 0\n",
    "for i in text:\n",
    "    if i in ['a', 'e', 'i','o','u','!',' ']:\n",
    "        count +=1\n",
    "print(len(text) - count)\n",
    "        "
   ]
  },
  {
   "cell_type": "code",
   "execution_count": 53,
   "metadata": {},
   "outputs": [
    {
     "name": "stdout",
     "output_type": "stream",
     "text": [
      "[0, 1, 2, 3, 4]\n"
     ]
    }
   ],
   "source": [
    "#List Comprehension\n",
    "\n",
    "L1 = [i for i in range(5)]\n",
    "print(L1)"
   ]
  },
  {
   "cell_type": "code",
   "execution_count": 60,
   "metadata": {},
   "outputs": [
    {
     "data": {
      "text/plain": [
       "[3, 5, 6, 6, 10, 12, 12, 20, 24]"
      ]
     },
     "execution_count": 60,
     "metadata": {},
     "output_type": "execute_result"
    }
   ],
   "source": [
    "[i*j for i in [1,2,4] for j in [3,5,6]]"
   ]
  },
  {
   "cell_type": "code",
   "execution_count": 62,
   "metadata": {},
   "outputs": [
    {
     "name": "stdout",
     "output_type": "stream",
     "text": [
      "[2, 4, 6, 8, 10]\n"
     ]
    }
   ],
   "source": [
    "K1 = []\n",
    "for i in range(1,11):\n",
    "    if i%2 ==0:\n",
    "        K1.append(i)\n",
    "print(K1)"
   ]
  },
  {
   "cell_type": "code",
   "execution_count": 70,
   "metadata": {},
   "outputs": [
    {
     "name": "stdout",
     "output_type": "stream",
     "text": [
      "['o', 'i', 'u']\n"
     ]
    }
   ],
   "source": [
    "# text = \"python is fun!!\"에서 모음만 리스트에 담아서 리턴하시오..\n",
    "# =>for문, List Comprehension\n",
    "\n",
    "L1 = []\n",
    "text = \"python is fun!!\"\n",
    "for i in text:\n",
    "    if i in ['a', 'e', 'i','o','u']:\n",
    "        L1.append(i)\n",
    "print(L1)"
   ]
  },
  {
   "cell_type": "code",
   "execution_count": 73,
   "metadata": {},
   "outputs": [
    {
     "name": "stdout",
     "output_type": "stream",
     "text": [
      "['o', 'i', 'u']\n"
     ]
    }
   ],
   "source": [
    "L2 = [i for i in text if i in ['a', 'e', 'i','o','u']]\n",
    "print(L2)"
   ]
  },
  {
   "cell_type": "code",
   "execution_count": 80,
   "metadata": {},
   "outputs": [
    {
     "name": "stdout",
     "output_type": "stream",
     "text": [
      "[3, 6, 9]\n"
     ]
    }
   ],
   "source": [
    "# 1~10 사이 정수에서 3의 배수만 리스트에 담아서 리턴.\n",
    "\n",
    "L3= [ i for i in range(1,11) if i%3 ==0 ]\n",
    "print(L3)      "
   ]
  },
  {
   "cell_type": "code",
   "execution_count": 84,
   "metadata": {},
   "outputs": [
    {
     "name": "stdout",
     "output_type": "stream",
     "text": [
      "['p', 't', 'o', ' ', 's', 'f', 'n', '!']\n"
     ]
    }
   ],
   "source": [
    "# text에서 짝수번 인덱스만 리스트에 담아서 리턴하시오..\n",
    "L5 = [j for i, j in enumerate(text) if i%2 ==0]\n",
    "print(L5)"
   ]
  },
  {
   "cell_type": "code",
   "execution_count": 85,
   "metadata": {},
   "outputs": [
    {
     "name": "stdout",
     "output_type": "stream",
     "text": [
      "2550\n"
     ]
    }
   ],
   "source": [
    "# 1~100까지 정수의 짝수들의 합을 구하시오.\n",
    "summ=0\n",
    "for i in range(1,101):\n",
    "    if i%2==0:\n",
    "        summ+=i\n",
    "print(summ)"
   ]
  },
  {
   "cell_type": "code",
   "execution_count": 96,
   "metadata": {},
   "outputs": [
    {
     "name": "stdout",
     "output_type": "stream",
     "text": [
      "['be', 'pround', 'of', 'data', 'analyst']\n",
      "be : 2\n",
      "pround : 6\n",
      "of : 2\n",
      "data : 4\n",
      "analyst : 7\n"
     ]
    }
   ],
   "source": [
    "# text에서 각 단어의 길이를 \"단어 : 단어길이\" 형식으로 출력하시오..\n",
    "\n",
    "text = \"be pround of data analyst\"\n",
    "L = text.split()\n",
    "print(L)\n",
    "for i in L:\n",
    "    print(i ,':', len(i) )\n",
    "\n",
    "        "
   ]
  },
  {
   "cell_type": "code",
   "execution_count": 105,
   "metadata": {},
   "outputs": [
    {
     "name": "stdout",
     "output_type": "stream",
     "text": [
      "[('red', 'house'), ('red', 'car'), ('red', 'tree'), ('green', 'house'), ('green', 'car'), ('green', 'tree'), ('yellow', 'house'), ('yellow', 'car'), ('yellow', 'tree'), ('blue', 'house'), ('blue', 'car'), ('blue', 'tree')]\n"
     ]
    }
   ],
   "source": [
    "# colors와 things의 모든 요소의 튜플 조합을 리스트에 담으시오..\n",
    "# [('red, 'house'), ('red', 'car'), ('red', 'tree') ...]\n",
    "\n",
    "colors = ['red', 'green', 'yellow', 'blue']\n",
    "thing = ['house', 'car', 'tree']\n",
    "\n",
    "L=[(i,j) for i in colors for j in thing]\n",
    "print(L)"
   ]
  },
  {
   "cell_type": "code",
   "execution_count": 107,
   "metadata": {},
   "outputs": [],
   "source": [
    "#while 조건식: \n",
    "#     while 조건식 :\n",
    "#         실행코드1\n",
    "#         실행코드2\n",
    "#  조건식이 True이면 실행코드를 실행하고, 조건식이 False가 될때 종료"
   ]
  },
  {
   "cell_type": "code",
   "execution_count": 108,
   "metadata": {},
   "outputs": [],
   "source": [
    "# break, continue\n",
    "# 1. break\n",
    "#  반복문을 반복실행하다가 break가 실행되면 반복문을 빠져나오게 된다.\n",
    "\n",
    "# 2. continue\n",
    "#  반복문을 반복실행하다가 continue가 실행되면 continue 아래 코드를 실행하지 않고\n",
    "#  반복문의 처음으로 돌아와서 반복문을 계속 실행핟."
   ]
  },
  {
   "cell_type": "code",
   "execution_count": 111,
   "metadata": {},
   "outputs": [
    {
     "name": "stdout",
     "output_type": "stream",
     "text": [
      "0\n",
      "1\n",
      "2\n",
      "3\n",
      "4\n",
      "5\n"
     ]
    }
   ],
   "source": [
    "#break를 사용해서 0~5까지만 출력..\n",
    "i = 0\n",
    "while i <=10:\n",
    "    print(i)\n",
    "    if i >4:\n",
    "        break\n",
    "    i +=1"
   ]
  },
  {
   "cell_type": "code",
   "execution_count": 118,
   "metadata": {},
   "outputs": [
    {
     "name": "stdout",
     "output_type": "stream",
     "text": [
      "4\n",
      "5\n",
      "6\n",
      "7\n"
     ]
    }
   ],
   "source": [
    "# 아래의 1~10까지 출력하는 코드에서 break와 cotinue를 활용해서 4,5,6,7만 출력하도록 \n",
    "\n",
    "i=0\n",
    "while i <=10:\n",
    "    i+=1\n",
    "    if i<4:\n",
    "        continue\n",
    "    print(i)\n",
    "    if i >=7:\n",
    "        break"
   ]
  },
  {
   "cell_type": "code",
   "execution_count": 119,
   "metadata": {},
   "outputs": [
    {
     "name": "stdout",
     "output_type": "stream",
     "text": [
      "['mountain', 'river', 'cloud']\n"
     ]
    }
   ],
   "source": [
    "# 글자의 길이가 4 이상인 단어만 리스트에 담으시오.\n",
    "\n",
    "words = ['mountain', 'sea', 'sky', 'river', 'cloud']\n",
    "L2 = [i for i in words if len(i) >=4]\n",
    "print(L2)   "
   ]
  },
  {
   "cell_type": "code",
   "execution_count": 121,
   "metadata": {},
   "outputs": [
    {
     "name": "stdout",
     "output_type": "stream",
     "text": [
      "3\n"
     ]
    }
   ],
   "source": [
    "# 글자의 길이가 4 이상인 단어의 수는 몇인가.\n",
    "count = 0\n",
    "for i in words:\n",
    "    if len(i)>=4:\n",
    "        count+=1\n",
    "    \n",
    "print(count)"
   ]
  },
  {
   "cell_type": "code",
   "execution_count": 159,
   "metadata": {},
   "outputs": [
    {
     "name": "stdout",
     "output_type": "stream",
     "text": [
      "0번 : cloud\n",
      "1번 : mountain\n",
      "2번 : river\n"
     ]
    }
   ],
   "source": [
    "# words에서 알파벳순서에 따라\n",
    "#  => 1번 : cloud \n",
    "#  => 2번 : mountain\n",
    "#  => 3번 : river\n",
    "L =[]\n",
    "for i, a in enumerate(sorted(words)):\n",
    "    if len(a)>=4:\n",
    "        L.append(a)\n",
    "        print(\"{}번 : {}\".format(i,a))\n"
   ]
  },
  {
   "cell_type": "code",
   "execution_count": 153,
   "metadata": {},
   "outputs": [
    {
     "name": "stdout",
     "output_type": "stream",
     "text": [
      "1\n",
      "2\n",
      "3\n",
      "4\n",
      "5\n",
      "점수 평균은 3.0입니다.\n"
     ]
    }
   ],
   "source": [
    "# 점수를 5회 입력받은 후\n",
    "# \"점수 평균은 ***입니다\"\n",
    "sum1  = 0\n",
    "for i in range(5):\n",
    "    x =int(input())\n",
    "    sum1 +=x\n",
    "avg = sum1/5\n",
    "print(\"점수 평균은 {}입니다.\".format(avg))"
   ]
  },
  {
   "cell_type": "markdown",
   "metadata": {},
   "source": [
    "words = {'mountain':'산', 'sea': '바다', 'sky' : '하늘', 'river' : '강', 'cloud': '구름'}"
   ]
  },
  {
   "cell_type": "code",
   "execution_count": 163,
   "metadata": {},
   "outputs": [
    {
     "name": "stdout",
     "output_type": "stream",
     "text": [
      "{'mountain': '산', 'sea': '바다', 'sky': '하늘', 'river': '강', 'cloud': '구름'}\n"
     ]
    }
   ],
   "source": [
    "# words = {'mountain':'산', 'sea': '바다', 'sky' : '하늘', 'river' : '강', 'cloud': '구름'}\n",
    "# 전환해서 출력\n",
    "\n",
    "words = ['mountain', 'sea', 'sky', 'river', 'cloud']\n",
    "kor = ['산', '바다', '하늘', '강', '구름']\n",
    "di = {}\n",
    "for i, a in enumerate(words):\n",
    "    di.setdefault(a, kor[i])\n",
    "print(di)\n",
    "    "
   ]
  },
  {
   "cell_type": "code",
   "execution_count": 170,
   "metadata": {},
   "outputs": [
    {
     "name": "stdout",
     "output_type": "stream",
     "text": [
      "['o', 'o', 'a', 'i', 'i', 'u', 'e', 'u']\n",
      "['P', 'y', 't', 'h', 'n', ' ', 'p', 'r', 'g', 'r', 'm', 'm', 'n', 'g', ' ', 's', ' ', 's', 'f', 'l']\n"
     ]
    }
   ],
   "source": [
    "# 모음은 모음끼리, 모음이 아닌 문자열은 별도의 리스트에 각각 담아서 리턴하시오..\n",
    "# ['a', 'e', 'i','o','u']\n",
    "Text = \"Python programming is useful\"\n",
    "vowel = ['a', 'e', 'i','o','u']\n",
    "vlist=[]\n",
    "clist= []\n",
    "for i in Text:\n",
    "    if i in vowel:\n",
    "        vlist.append(i)\n",
    "    else:\n",
    "        clist.append(i)\n",
    "print(vlist)\n",
    "print(clist)"
   ]
  },
  {
   "cell_type": "code",
   "execution_count": 185,
   "metadata": {},
   "outputs": [
    {
     "name": "stdout",
     "output_type": "stream",
     "text": [
      "1 * 1= 1 1 * 2= 2 1 * 3= 3 1 * 4= 4 1 * 5= 5 1 * 6= 6 1 * 7= 7 1 * 8= 8 1 * 9= 9 \n",
      "2 * 1= 2 2 * 2= 4 2 * 3= 6 2 * 4= 8 2 * 5= 10 2 * 6= 12 2 * 7= 14 2 * 8= 16 2 * 9= 18 \n",
      "3 * 1= 3 3 * 2= 6 3 * 3= 9 3 * 4= 12 3 * 5= 15 3 * 6= 18 3 * 7= 21 3 * 8= 24 3 * 9= 27 \n",
      "4 * 1= 4 4 * 2= 8 4 * 3= 12 4 * 4= 16 4 * 5= 20 4 * 6= 24 4 * 7= 28 4 * 8= 32 4 * 9= 36 \n",
      "5 * 1= 5 5 * 2= 10 5 * 3= 15 5 * 4= 20 5 * 5= 25 5 * 6= 30 5 * 7= 35 5 * 8= 40 5 * 9= 45 \n",
      "6 * 1= 6 6 * 2= 12 6 * 3= 18 6 * 4= 24 6 * 5= 30 6 * 6= 36 6 * 7= 42 6 * 8= 48 6 * 9= 54 \n",
      "7 * 1= 7 7 * 2= 14 7 * 3= 21 7 * 4= 28 7 * 5= 35 7 * 6= 42 7 * 7= 49 7 * 8= 56 7 * 9= 63 \n",
      "8 * 1= 8 8 * 2= 16 8 * 3= 24 8 * 4= 32 8 * 5= 40 8 * 6= 48 8 * 7= 56 8 * 8= 64 8 * 9= 72 \n",
      "9 * 1= 9 9 * 2= 18 9 * 3= 27 9 * 4= 36 9 * 5= 45 9 * 6= 54 9 * 7= 63 9 * 8= 72 9 * 9= 81 \n"
     ]
    }
   ],
   "source": [
    "# 2중 for문을 이용하여 구구단을 출력하시오.\n",
    "\n",
    "for i in range(1,10):\n",
    "    for j in range(1,10):\n",
    "        result = int(i*j)\n",
    "        print(\"{} * {}= {}\".format(i,j,result), end = ' ')\n",
    "\n",
    "    print()\n",
    "        "
   ]
  },
  {
   "cell_type": "code",
   "execution_count": 188,
   "metadata": {},
   "outputs": [
    {
     "name": "stdout",
     "output_type": "stream",
     "text": [
      "\n",
      "*\n",
      "**\n",
      "***\n",
      "****\n",
      "*****\n"
     ]
    }
   ],
   "source": [
    "#\n",
    "\"\"\"\n",
    "*\n",
    "**\n",
    "***\n",
    "****\n",
    "*****\n",
    "\"\"\"\n",
    "for i in range(0,6):\n",
    "    print('*'*i)"
   ]
  },
  {
   "cell_type": "code",
   "execution_count": 190,
   "metadata": {},
   "outputs": [
    {
     "name": "stdout",
     "output_type": "stream",
     "text": [
      "******\n",
      "*****\n",
      "****\n",
      "***\n",
      "**\n",
      "*\n"
     ]
    }
   ],
   "source": [
    "for i in range(6,0,-1):\n",
    "    print('*'*i)"
   ]
  },
  {
   "cell_type": "code",
   "execution_count": 194,
   "metadata": {},
   "outputs": [
    {
     "name": "stdout",
     "output_type": "stream",
     "text": [
      "      \n",
      "     *\n",
      "    **\n",
      "   ***\n",
      "  ****\n"
     ]
    }
   ],
   "source": [
    "for i in range(0,5):\n",
    "    print(' '*(5-i), '*'*i)"
   ]
  },
  {
   "cell_type": "code",
   "execution_count": 195,
   "metadata": {},
   "outputs": [
    {
     "name": "stdout",
     "output_type": "stream",
     "text": [
      " ******\n",
      " *****\n",
      "  ****\n",
      "   ***\n",
      "    **\n",
      "     *\n"
     ]
    }
   ],
   "source": [
    "for i in range(6,0,-1):\n",
    "    print(' '*(5-i), '*'*i)"
   ]
  },
  {
   "cell_type": "code",
   "execution_count": 199,
   "metadata": {},
   "outputs": [
    {
     "data": {
      "text/plain": [
       "['1', '1', '1', '1']"
      ]
     },
     "execution_count": 199,
     "metadata": {},
     "output_type": "execute_result"
    }
   ],
   "source": [
    " address = \"1.1.1.1\"\n",
    "address.split('.')"
   ]
  },
  {
   "cell_type": "code",
   "execution_count": 202,
   "metadata": {},
   "outputs": [],
   "source": [
    "d = {4: 'c', 5: 'o', 6: 'd', 7: 'e', 0: 'l', 2: 'e', 1: 'e', 3: 't'}\n"
   ]
  },
  {
   "cell_type": "code",
   "execution_count": 203,
   "metadata": {},
   "outputs": [
    {
     "data": {
      "text/plain": [
       "[(0, 'l'),\n",
       " (1, 'e'),\n",
       " (2, 'e'),\n",
       " (3, 't'),\n",
       " (4, 'c'),\n",
       " (5, 'o'),\n",
       " (6, 'd'),\n",
       " (7, 'e')]"
      ]
     },
     "execution_count": 203,
     "metadata": {},
     "output_type": "execute_result"
    }
   ],
   "source": [
    "sorted(d.items(), key = lambda x:x[0])"
   ]
  },
  {
   "cell_type": "code",
   "execution_count": 205,
   "metadata": {},
   "outputs": [
    {
     "data": {
      "text/plain": [
       "[(4, 'c'),\n",
       " (6, 'd'),\n",
       " (7, 'e'),\n",
       " (2, 'e'),\n",
       " (1, 'e'),\n",
       " (0, 'l'),\n",
       " (5, 'o'),\n",
       " (3, 't')]"
      ]
     },
     "execution_count": 205,
     "metadata": {},
     "output_type": "execute_result"
    }
   ],
   "source": [
    "Lsorted(d.items(), key = lambda x:x[1])"
   ]
  },
  {
   "cell_type": "code",
   "execution_count": null,
   "metadata": {},
   "outputs": [],
   "source": []
  }
 ],
 "metadata": {
  "kernelspec": {
   "display_name": "Python 3",
   "language": "python",
   "name": "python3"
  },
  "language_info": {
   "codemirror_mode": {
    "name": "ipython",
    "version": 3
   },
   "file_extension": ".py",
   "mimetype": "text/x-python",
   "name": "python",
   "nbconvert_exporter": "python",
   "pygments_lexer": "ipython3",
   "version": "3.8.3"
  }
 },
 "nbformat": 4,
 "nbformat_minor": 4
}
