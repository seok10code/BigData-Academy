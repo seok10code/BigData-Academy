{
 "cells": [
  {
   "cell_type": "markdown",
   "metadata": {},
   "source": [
    "`### 문자열에서 원하는 텍스트를 찾거나 교체하거나 또는 변형시키는 방식..."
   ]
  },
  {
   "cell_type": "markdown",
   "metadata": {},
   "source": [
    "1. re.compile('정규표현식')\n",
    "    * 정규표현식 패턴 객체 형성"
   ]
  },
  {
   "cell_type": "code",
   "execution_count": null,
   "metadata": {},
   "outputs": [],
   "source": [
    "import re\n",
    "phonere = re.compile(r'\\d\\d\\d-\\d\\d\\d-\\d\\d\\d\\d')\n",
    "\n",
    "# re.compile(정규표현식) : 정규표현식을 컴퓨터에게 이해하도록 compile한다.\n",
    "# 정규표현식 컴파일 객체를 생성한다 => phonere\n",
    "# 정규표현식 search 메소드로 텍스트 문서를 적용한다.\n",
    "# search 메소드는 정규표현식에 일치하는 문자열을 리턴한다.\n",
    "# 정규표현식 ''\\d'는 숫자를 나타낸다."
   ]
  },
  {
   "cell_type": "markdown",
   "metadata": {},
   "source": [
    "### Search()"
   ]
  },
  {
   "cell_type": "code",
   "execution_count": 2,
   "metadata": {},
   "outputs": [
    {
     "name": "stdout",
     "output_type": "stream",
     "text": [
      "415-555-4242\n"
     ]
    }
   ],
   "source": [
    "mo = phonere.search('My number is 415-555-4242')\n",
    "print(mo.group())"
   ]
  },
  {
   "cell_type": "code",
   "execution_count": 5,
   "metadata": {},
   "outputs": [
    {
     "name": "stdout",
     "output_type": "stream",
     "text": [
      "Batman\n"
     ]
    }
   ],
   "source": [
    "herore = re.compile(r'Batman|Tina Fey')\n",
    "mo = herore.search('Batman and Tina Fey') # 패턴과 일치하는 첫 번째 문자열만 리턴...\n",
    "print(mo.group())"
   ]
  },
  {
   "cell_type": "code",
   "execution_count": 11,
   "metadata": {},
   "outputs": [
    {
     "name": "stdout",
     "output_type": "stream",
     "text": [
      "Batman\n"
     ]
    }
   ],
   "source": [
    "herore = re.compile(r'Bat(wo)?man')  # ? - 앞의 패턴이 0번 또는 1번 나오는 경우와 일치\n",
    "mo = herore.search('The Adventures of Batman') # 패턴과 일치하는 첫 번째 문자열만 리턴...\n",
    "print(mo.group())"
   ]
  },
  {
   "cell_type": "code",
   "execution_count": 19,
   "metadata": {},
   "outputs": [
    {
     "name": "stdout",
     "output_type": "stream",
     "text": [
      "Batwoman\n"
     ]
    }
   ],
   "source": [
    "herore = re.compile(r'Bat(wo)?man')  # ?- 앞의 패턴이 0번 또는 1번 나오는 경우와 일치\n",
    "mo = herore.search('The Adventures of Batwoman') # 패턴과 일치하는 첫 번째 문자열만 리턴...\n",
    "print(mo.group())"
   ]
  },
  {
   "cell_type": "code",
   "execution_count": 20,
   "metadata": {},
   "outputs": [
    {
     "name": "stdout",
     "output_type": "stream",
     "text": [
      "Batwowoman\n"
     ]
    }
   ],
   "source": [
    "herore = re.compile(r'Bat(wo)*man')  # * - 앞의 패턴이 0번 또는 1번 이상 나오는 경우와 일치\n",
    "mo = herore.search('The Adventures of Batwowoman') # 패턴과 일치하는 첫 번째 문자열만 리턴...\n",
    "print(mo.group())"
   ]
  },
  {
   "cell_type": "code",
   "execution_count": 23,
   "metadata": {},
   "outputs": [
    {
     "name": "stdout",
     "output_type": "stream",
     "text": [
      "Batwowowowowoman\n"
     ]
    }
   ],
   "source": [
    "herore = re.compile(r'Bat(wo)+man')  # + - 1번 이상 경우와 일치\n",
    "mo = herore.search('The Adventures of Batwowowowowoman') # 패턴과 일치하는 첫 번째 문자열만 리턴...\n",
    "print(mo.group())"
   ]
  },
  {
   "cell_type": "code",
   "execution_count": null,
   "metadata": {},
   "outputs": [],
   "source": [
    "# ? - 앞에 패턴이 0번 또는 1번 나오는 패턴과 일치\n",
    "# * - 앞에 패턴이 0번 또는 1번 이상 나오는 패턴과 일치\n",
    "# + - 앞의 패턴이 1번 이상 나오는 경우와 일치"
   ]
  },
  {
   "cell_type": "markdown",
   "metadata": {},
   "source": [
    "### Findall()"
   ]
  },
  {
   "cell_type": "code",
   "execution_count": 26,
   "metadata": {},
   "outputs": [
    {
     "data": {
      "text/plain": [
       "['415-555-9999', '221-555-0000']"
      ]
     },
     "execution_count": 26,
     "metadata": {},
     "output_type": "execute_result"
    }
   ],
   "source": [
    "phonere = re.compile(r'\\d\\d\\d-\\d\\d\\d-\\d\\d\\d\\d')\n",
    "phonere.findall('Call: 415-555-9999 Work: 221-555-0000')"
   ]
  },
  {
   "cell_type": "code",
   "execution_count": 27,
   "metadata": {},
   "outputs": [
    {
     "name": "stdout",
     "output_type": "stream",
     "text": [
      "415-555-9999\n"
     ]
    }
   ],
   "source": [
    "herore = re.compile(r'\\d\\d\\d-\\d\\d\\d-\\d\\d\\d\\d')\n",
    "mo = herore.search('Call: 415-555-9999 Work: 221-555-0000')\n",
    "print(mo.group())"
   ]
  },
  {
   "cell_type": "code",
   "execution_count": 28,
   "metadata": {},
   "outputs": [],
   "source": [
    "# \\d - 0~9까지 임의의 숫자\n",
    "# \\w - 문자, 숫자, 밑줄글자\n",
    "# \\s - 스페이스, 탭, 줄바꿈 문자.."
   ]
  },
  {
   "cell_type": "code",
   "execution_count": 30,
   "metadata": {},
   "outputs": [
    {
     "data": {
      "text/plain": [
       "['12 drummers', '11 pipers', '10 lords', '9 ladies', '8 maids']"
      ]
     },
     "execution_count": 30,
     "metadata": {},
     "output_type": "execute_result"
    }
   ],
   "source": [
    "tempre = re.compile(r'\\d+\\s\\w+')\n",
    "tempre.findall('12 drummers, 11 pipers, 10 lords, 9 ladies, 8 maids')"
   ]
  },
  {
   "cell_type": "code",
   "execution_count": 31,
   "metadata": {},
   "outputs": [],
   "source": [
    "# ^ - 시작부분과 일치\n",
    "# $ - 끝 부분과 일치"
   ]
  },
  {
   "cell_type": "code",
   "execution_count": 32,
   "metadata": {},
   "outputs": [
    {
     "data": {
      "text/plain": [
       "['Hello']"
      ]
     },
     "execution_count": 32,
     "metadata": {},
     "output_type": "execute_result"
    }
   ],
   "source": [
    "beginre = re.compile(r'^Hello')\n",
    "beginre.findall('Hello world!')"
   ]
  },
  {
   "cell_type": "code",
   "execution_count": 33,
   "metadata": {},
   "outputs": [
    {
     "data": {
      "text/plain": [
       "[]"
      ]
     },
     "execution_count": 33,
     "metadata": {},
     "output_type": "execute_result"
    }
   ],
   "source": [
    "beginre.findall('He said hello')"
   ]
  },
  {
   "cell_type": "code",
   "execution_count": 35,
   "metadata": {},
   "outputs": [
    {
     "data": {
      "text/plain": [
       "['5', '42']"
      ]
     },
     "execution_count": 35,
     "metadata": {},
     "output_type": "execute_result"
    }
   ],
   "source": [
    "endsre = re.compile(r'\\d+')\n",
    "endsre.findall('Your number5 is 42')"
   ]
  },
  {
   "cell_type": "code",
   "execution_count": 36,
   "metadata": {},
   "outputs": [
    {
     "data": {
      "text/plain": [
       "['5', '4', '2']"
      ]
     },
     "execution_count": 36,
     "metadata": {},
     "output_type": "execute_result"
    }
   ],
   "source": [
    "endsre = re.compile(r'\\d')\n",
    "endsre.findall('Your Number5 is 42')"
   ]
  },
  {
   "cell_type": "code",
   "execution_count": 37,
   "metadata": {},
   "outputs": [],
   "source": [
    "# . - 줄 바꿈 이외의 모든 한 개의 문자와 일치"
   ]
  },
  {
   "cell_type": "code",
   "execution_count": 38,
   "metadata": {},
   "outputs": [
    {
     "data": {
      "text/plain": [
       "['cat', 'hat', 'sat', 'lat', 'mat']"
      ]
     },
     "execution_count": 38,
     "metadata": {},
     "output_type": "execute_result"
    }
   ],
   "source": [
    "atre = re.compile(r'.at')\n",
    "atre.findall('The cat in the hat sat on the flat 3mat')"
   ]
  },
  {
   "cell_type": "code",
   "execution_count": null,
   "metadata": {},
   "outputs": [],
   "source": []
  },
  {
   "cell_type": "code",
   "execution_count": null,
   "metadata": {},
   "outputs": [],
   "source": []
  },
  {
   "cell_type": "code",
   "execution_count": null,
   "metadata": {},
   "outputs": [],
   "source": []
  },
  {
   "cell_type": "code",
   "execution_count": null,
   "metadata": {},
   "outputs": [],
   "source": []
  }
 ],
 "metadata": {
  "kernelspec": {
   "display_name": "Python 3",
   "language": "python",
   "name": "python3"
  },
  "language_info": {
   "codemirror_mode": {
    "name": "ipython",
    "version": 3
   },
   "file_extension": ".py",
   "mimetype": "text/x-python",
   "name": "python",
   "nbconvert_exporter": "python",
   "pygments_lexer": "ipython3",
   "version": "3.8.3"
  }
 },
 "nbformat": 4,
 "nbformat_minor": 4
}
