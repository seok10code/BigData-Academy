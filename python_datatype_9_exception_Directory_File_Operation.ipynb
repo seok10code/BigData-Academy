{
 "cells": [
  {
   "cell_type": "code",
   "execution_count": null,
   "metadata": {},
   "outputs": [],
   "source": [
    "pwd"
   ]
  },
  {
   "cell_type": "code",
   "execution_count": 7,
   "metadata": {},
   "outputs": [
    {
     "name": "stdout",
     "output_type": "stream",
     "text": [
      "[WinError 2] 지정된 파일을 찾을 수 없습니다: 'python'\n",
      "D:\\python\n"
     ]
    }
   ],
   "source": [
    "cd python\n"
   ]
  },
  {
   "cell_type": "code",
   "execution_count": 12,
   "metadata": {},
   "outputs": [
    {
     "data": {
      "text/plain": [
       "24"
      ]
     },
     "execution_count": 12,
     "metadata": {},
     "output_type": "execute_result"
    }
   ],
   "source": [
    "from os.path import getsize\n",
    "getsize('memo.txt')"
   ]
  },
  {
   "cell_type": "code",
   "execution_count": 3,
   "metadata": {},
   "outputs": [],
   "source": [
    "from os import remove\n",
    "#remove('score.txt')"
   ]
  },
  {
   "cell_type": "code",
   "execution_count": 11,
   "metadata": {},
   "outputs": [
    {
     "data": {
      "text/plain": [
       "['.ipynb_checkpoints',\n",
       " 'arrayList.ipynb',\n",
       " 'Directory_File_Operation.ipynb',\n",
       " 'file.txt',\n",
       " 'memo.txt',\n",
       " 'practice_up_to_file(update_9-22).ipynb',\n",
       " 'python_datatype_2_sequential.ipynb',\n",
       " 'python_datatype_3_sequential_tuple_set_dictionary.ipynb',\n",
       " 'python_datatype_4_Loop (for, while).ipynb',\n",
       " 'python_datatype_5_file',\n",
       " 'python_datatype_6_function.ipynb',\n",
       " 'python_datatype_7_class.ipynb',\n",
       " 'python_datatype_8_exception.ipynb',\n",
       " 'python_datatype_test_1_review.ipynb',\n",
       " 'python_function (1).ipynb',\n",
       " 'school.txt',\n",
       " 'stockcode.txt',\n",
       " 'text.dir']"
      ]
     },
     "execution_count": 11,
     "metadata": {},
     "output_type": "execute_result"
    }
   ],
   "source": [
    "import os\n",
    "os.listdir('D:\\\\python')"
   ]
  },
  {
   "cell_type": "code",
   "execution_count": 9,
   "metadata": {},
   "outputs": [
    {
     "data": {
      "text/plain": [
       "'D:\\\\python'"
      ]
     },
     "execution_count": 9,
     "metadata": {},
     "output_type": "execute_result"
    }
   ],
   "source": [
    "os.getcwd()"
   ]
  },
  {
   "cell_type": "code",
   "execution_count": 10,
   "metadata": {},
   "outputs": [],
   "source": [
    "os.mkdir('text.dir')"
   ]
  },
  {
   "cell_type": "code",
   "execution_count": 15,
   "metadata": {},
   "outputs": [
    {
     "name": "stdout",
     "output_type": "stream",
     "text": [
      " D 드라이브의 볼륨: 새 볼륨\n",
      " 볼륨 일련 번호: FEC5-DCF3\n",
      "\n",
      " D:\\python 디렉터리\n",
      "\n",
      "2020-09-29  오후 02:22    <DIR>          .\n",
      "2020-09-29  오후 02:22    <DIR>          ..\n",
      "2020-09-29  오후 02:18    <DIR>          .ipynb_checkpoints\n",
      "2020-09-25  오후 05:40               910 arrayList.ipynb\n",
      "2020-09-29  오후 02:22             3,059 Directory_File_Operation.ipynb\n",
      "2020-09-29  오후 12:28                11 file.txt\n",
      "2020-09-24  오후 04:50                24 memo.txt\n",
      "2020-09-24  오전 10:48            27,282 practice_up_to_file(update_9-22).ipynb\n",
      "2020-09-21  오후 04:13            45,387 python_datatype_2_sequential.ipynb\n",
      "2020-09-23  오전 10:43            48,195 python_datatype_3_sequential_tuple_set_dictionary.ipynb\n",
      "2020-09-22  오후 06:40            21,253 python_datatype_4_Loop (for, while).ipynb\n",
      "2020-09-29  오전 10:01    <DIR>          python_datatype_5_file\n",
      "2020-09-29  오전 10:39            67,305 python_datatype_6_function.ipynb\n",
      "2020-09-29  오전 09:50            18,403 python_datatype_7_class.ipynb\n",
      "2020-09-29  오후 02:13            10,604 python_datatype_8_exception.ipynb\n",
      "2020-09-24  오후 12:27             5,749 python_datatype_test_1_review.ipynb\n",
      "2020-09-29  오전 10:16           102,085 python_function (1).ipynb\n",
      "2020-09-24  오전 09:53             1,668 school.txt\n",
      "2020-09-24  오후 04:21            16,339 stockcode.txt\n",
      "2020-09-29  오후 02:21    <DIR>          text.dir\n",
      "              15개 파일             368,274 바이트\n",
      "               5개 디렉터리  740,685,303,808 바이트 남음\n"
     ]
    }
   ],
   "source": [
    "ls"
   ]
  },
  {
   "cell_type": "code",
   "execution_count": 24,
   "metadata": {},
   "outputs": [
    {
     "name": "stdout",
     "output_type": "stream",
     "text": [
      "\"ban.txt\" file size : 22\n",
      "\"poem.txt\" file size : 582\n"
     ]
    }
   ],
   "source": [
    "from os.path import getsize\n",
    "file1 = 'ban.txt'\n",
    "file2 = 'poem.txt'\n",
    "\n",
    "file_size1 = getsize(file1)\n",
    "file_size2 = getsize(file2)\n",
    "\n",
    "print('\"{}\" file size :'.format(file1), file_size1)\n",
    "print('\"{}\" file size :'.format(file2), file_size2)"
   ]
  },
  {
   "cell_type": "code",
   "execution_count": 39,
   "metadata": {},
   "outputs": [],
   "source": [
    "with open('new_file.txt', 'a') as f:\n",
    "    f.write('helllo')"
   ]
  },
  {
   "cell_type": "code",
   "execution_count": 35,
   "metadata": {},
   "outputs": [
    {
     "name": "stdout",
     "output_type": "stream",
     "text": [
      "memo.txt really want to remove the file? (y/n)Y\n",
      "memo.txt file removed\n",
      "file removed\n"
     ]
    }
   ],
   "source": [
    "from os import remove\n",
    "\n",
    "target_file = 'memo.txt'\n",
    "\n",
    "k = input('{} really want to remove the file? (y/n)'.format(target_file))\n",
    "try:\n",
    "    if k == 'y' or k == 'Y':\n",
    "        remove(target_file)\n",
    "        print('{} file removed'.format(target_file))\n",
    "    else:\n",
    "        pass\n",
    "except Exception as e:\n",
    "    print('error message :', e)\n",
    "else:\n",
    "    print('file removed')"
   ]
  },
  {
   "cell_type": "code",
   "execution_count": 23,
   "metadata": {},
   "outputs": [
    {
     "name": "stdout",
     "output_type": "stream",
     "text": [
      " D 드라이브의 볼륨: 새 볼륨\n",
      " 볼륨 일련 번호: FEC5-DCF3\n",
      "\n",
      " D:\\python 디렉터리\n",
      "\n",
      "2020-09-29  오후 02:29    <DIR>          .\n",
      "2020-09-29  오후 02:29    <DIR>          ..\n",
      "2020-09-29  오후 02:18    <DIR>          .ipynb_checkpoints\n",
      "2020-09-25  오후 05:40               910 arrayList.ipynb\n",
      "2020-09-23  오후 02:16                22 ban.txt\n",
      "2020-09-29  오후 02:28             6,207 Directory_File_Operation.ipynb\n",
      "2020-09-29  오후 12:28                11 file.txt\n",
      "2020-09-23  오후 02:45               582 poem.txt\n",
      "2020-09-24  오전 10:48            27,282 practice_up_to_file(update_9-22).ipynb\n",
      "2020-09-21  오후 04:13            45,387 python_datatype_2_sequential.ipynb\n",
      "2020-09-23  오전 10:43            48,195 python_datatype_3_sequential_tuple_set_dictionary.ipynb\n",
      "2020-09-22  오후 06:40            21,253 python_datatype_4_Loop (for, while).ipynb\n",
      "2020-09-29  오전 10:01    <DIR>          python_datatype_5_file\n",
      "2020-09-29  오전 10:39            67,305 python_datatype_6_function.ipynb\n",
      "2020-09-29  오전 09:50            18,403 python_datatype_7_class.ipynb\n",
      "2020-09-29  오후 02:13            10,604 python_datatype_8_exception.ipynb\n",
      "2020-09-24  오후 12:27             5,749 python_datatype_test_1_review.ipynb\n",
      "2020-09-29  오전 10:16           102,085 python_function (1).ipynb\n",
      "2020-09-24  오전 09:53             1,668 school.txt\n",
      "2020-09-24  오후 04:21            16,339 stockcode.txt\n",
      "2020-09-29  오후 02:21    <DIR>          text.dir\n",
      "              16개 파일             372,002 바이트\n",
      "               5개 디렉터리  740,685,299,712 바이트 남음\n"
     ]
    }
   ],
   "source": [
    "ls"
   ]
  },
  {
   "cell_type": "code",
   "execution_count": 40,
   "metadata": {},
   "outputs": [
    {
     "name": "stdout",
     "output_type": "stream",
     "text": [
      "이름을 바꾸고자 하는 파일을 입력하세요new_file.txt\n",
      "새로운 파일의 이름을 입력하세요file123.txt\n",
      "new_file.txt really want to rename the file? (y/n)y\n",
      "new_file.txt file is changed..\n"
     ]
    }
   ],
   "source": [
    "from os import rename\n",
    "\n",
    "target_file = input('이름을 바꾸고자 하는 파일을 입력하세요')\n",
    "new_target_file = input('새로운 파일의 이름을 입력하세요')\n",
    "\n",
    "k = input('{} really want to rename the file? (y/n)'.format(target_file))\n",
    "try:\n",
    "    if k == 'y' or k == 'Y':\n",
    "        rename(target_file, new_target_file)\n",
    "    else:\n",
    "        pass\n",
    "except Exception as e:\n",
    "    print('error message :', e)\n",
    "else:\n",
    "    print('{} file is changed..'.format(target_file))"
   ]
  },
  {
   "cell_type": "code",
   "execution_count": 41,
   "metadata": {},
   "outputs": [
    {
     "name": "stdout",
     "output_type": "stream",
     "text": [
      " D 드라이브의 볼륨: 새 볼륨\n",
      " 볼륨 일련 번호: FEC5-DCF3\n",
      "\n",
      " D:\\python 디렉터리\n",
      "\n",
      "2020-09-29  오후 02:41    <DIR>          .\n",
      "2020-09-29  오후 02:41    <DIR>          ..\n",
      "2020-09-29  오후 02:18    <DIR>          .ipynb_checkpoints\n",
      "2020-09-25  오후 05:40               910 arrayList.ipynb\n",
      "2020-09-23  오후 02:16                22 ban.txt\n",
      "2020-09-29  오후 02:40            10,524 Directory_File_Operation.ipynb\n",
      "2020-09-29  오후 12:28                11 file.txt\n",
      "2020-09-29  오후 02:41                 6 file123.txt\n",
      "2020-09-23  오후 02:45               582 poem.txt\n",
      "2020-09-24  오전 10:48            27,282 practice_up_to_file(update_9-22).ipynb\n",
      "2020-09-21  오후 04:13            45,387 python_datatype_2_sequential.ipynb\n",
      "2020-09-23  오전 10:43            48,195 python_datatype_3_sequential_tuple_set_dictionary.ipynb\n",
      "2020-09-22  오후 06:40            21,253 python_datatype_4_Loop (for, while).ipynb\n",
      "2020-09-29  오전 10:01    <DIR>          python_datatype_5_file\n",
      "2020-09-29  오전 10:39            67,305 python_datatype_6_function.ipynb\n",
      "2020-09-29  오전 09:50            18,403 python_datatype_7_class.ipynb\n",
      "2020-09-29  오후 02:13            10,604 python_datatype_8_exception.ipynb\n",
      "2020-09-24  오후 12:27             5,749 python_datatype_test_1_review.ipynb\n",
      "2020-09-29  오전 10:16           102,085 python_function (1).ipynb\n",
      "2020-09-24  오전 09:53             1,668 school.txt\n",
      "2020-09-24  오후 04:21            16,339 stockcode.txt\n",
      "2020-09-29  오후 02:21    <DIR>          text.dir\n",
      "              17개 파일             376,325 바이트\n",
      "               5개 디렉터리  740,685,295,616 바이트 남음\n"
     ]
    }
   ],
   "source": [
    "ls"
   ]
  },
  {
   "cell_type": "code",
   "execution_count": 48,
   "metadata": {},
   "outputs": [
    {
     "name": "stdout",
     "output_type": "stream",
     "text": [
      "['.ipynb_checkpoints', 'arrayList.ipynb', 'ban.txt', 'Directory_File_Operation.ipynb', 'file.txt', 'file123.txt', 'poem.txt', 'practice_up_to_file(update_9-22).ipynb', 'python_datatype_2_sequential.ipynb', 'python_datatype_3_sequential_tuple_set_dictionary.ipynb', 'python_datatype_4_Loop (for, while).ipynb', 'python_datatype_5_file', 'python_datatype_6_function.ipynb', 'python_datatype_7_class.ipynb', 'python_datatype_8_exception.ipynb', 'python_datatype_test_1_review.ipynb', 'python_function (1).ipynb', 'school.txt', 'stockcode.txt', 'text.dir']\n"
     ]
    }
   ],
   "source": [
    "import os\n",
    "pwd = os.getcwd()\n",
    "os.listdir(pwd)\n",
    "\n",
    "path = 'D:\\\\python'\n",
    "print(os.listdir(path))"
   ]
  },
  {
   "cell_type": "code",
   "execution_count": 50,
   "metadata": {},
   "outputs": [
    {
     "name": "stdout",
     "output_type": "stream",
     "text": [
      "D:\\python\n",
      "None\n",
      "D:\\jsp\n",
      "None\n",
      "D:\\python\n"
     ]
    }
   ],
   "source": [
    "import os\n",
    "pdir = os.getcwd()   # 현재 작업 폴도\n",
    "print(pdir)\n",
    "\n",
    "npath = 'D:\\\\jsp'\n",
    "os.chdir(npath)    # 작업 폴더를 변경\n",
    "print(os.getcwd())\n",
    "\n",
    "ppath = 'D:\\\\python'\n",
    "os.chdir(ppath)    # 작업 폴더를 원래 폴더로 변경\n",
    "\n",
    "pdir = os.getcwd()\n",
    "print(pdir)"
   ]
  },
  {
   "cell_type": "code",
   "execution_count": 62,
   "metadata": {},
   "outputs": [
    {
     "name": "stdout",
     "output_type": "stream",
     "text": [
      "new folder name?testfolder\n",
      "error message: [WinError 183] 파일이 이미 있으므로 만들 수 없습니다: 'testfolder'\n"
     ]
    }
   ],
   "source": [
    "# mkdir - 폴더를 새로이 생성\n",
    "\n",
    "import os\n",
    "\n",
    "newfolder = input('new folder name?')\n",
    "try:\n",
    "    os.mkdir(newfolder)\n",
    "except Exception as e:\n",
    "    print('error message:',e)\n"
   ]
  },
  {
   "cell_type": "code",
   "execution_count": 71,
   "metadata": {},
   "outputs": [
    {
     "name": "stdout",
     "output_type": "stream",
     "text": [
      "new folder name?d\n"
     ]
    }
   ],
   "source": [
    "newfolder = input('new folder name?')\n",
    "\n",
    "if newfolder in os.listdir():\n",
    "#     os.rmdir(newfolder)\n",
    "    os.mkdir(newfolder)\n",
    "    \n",
    "else:\n",
    "    os.mkdir(newfolder)\n",
    "    \n"
   ]
  },
  {
   "cell_type": "code",
   "execution_count": null,
   "metadata": {},
   "outputs": [],
   "source": [
    "import shutil\n",
    "target_dir = 'D:\\\\jsp'"
   ]
  },
  {
   "cell_type": "code",
   "execution_count": 80,
   "metadata": {},
   "outputs": [],
   "source": [
    "shutil"
   ]
  },
  {
   "cell_type": "code",
   "execution_count": 77,
   "metadata": {},
   "outputs": [],
   "source": [
    "path1 = 'D:\\\\python'\n",
    "os.chdir(path1)"
   ]
  },
  {
   "cell_type": "code",
   "execution_count": 2,
   "metadata": {},
   "outputs": [
    {
     "name": "stdout",
     "output_type": "stream",
     "text": [
      "['.ipynb_checkpoints', 'arrayList.ipynb', 'autumn.txt', 'ban.txt', 'file.txt', 'file123.txt', 'memo.txt', 'module.py', 'newfolder', 'poem.txt', 'practice_up_to_file(update_9-22).ipynb', 'python_datatype_10_Regular_Expression.ipynb', 'python_datatype_11_Module_Package.ipynb', 'python_datatype_2_sequential.ipynb', 'python_datatype_3_sequential_tuple_set_dictionary.ipynb', 'python_datatype_4_Loop (for, while).ipynb', 'python_datatype_5_file', 'python_datatype_6_function.ipynb', 'python_datatype_7_class.ipynb', 'python_datatype_8_exception.ipynb', 'python_datatype_9_exception_Directory_File_Operation.ipynb', 'python_datatype_test_1_review.ipynb', 'python_function (1).ipynb', 'python_practical_exercise.ipynb', 'school.txt', 'stockcode.txt', 'test_module.py', 'tired.dir', '__pycache__']\n"
     ]
    }
   ],
   "source": [
    "import os\n",
    "from os.path import exists, isdir, isfile\n",
    "\n",
    "folder_list = []\n",
    "file_list = []\n",
    "\n",
    "files = os.listdir()\n",
    "\n",
    "for file in files:\n",
    "    if isdir(file):\n",
    "        print(\"{}는 폴더입니다\".format(file))\n",
    "        folder_list.append(file)\n",
    "\n",
    "for file in files:\n",
    "    if isfile(file):\n",
    "        print(\"{}는 파일입니다.\".format(file))\n",
    "        file_list.append(file)"
   ]
  },
  {
   "cell_type": "code",
   "execution_count": 86,
   "metadata": {},
   "outputs": [
    {
     "name": "stdout",
     "output_type": "stream",
     "text": [
      "['arrayList.ipynb', 'ban.txt', 'Directory_File_Operation.ipynb', 'file.txt', 'file123.txt', 'poem.txt', 'practice_up_to_file(update_9-22).ipynb', 'python_datatype_2_sequential.ipynb', 'python_datatype_3_sequential_tuple_set_dictionary.ipynb', 'python_datatype_4_Loop (for, while).ipynb', 'python_datatype_6_function.ipynb', 'python_datatype_7_class.ipynb', 'python_datatype_8_exception.ipynb', 'python_datatype_test_1_review.ipynb', 'python_function (1).ipynb', 'school.txt', 'stockcode.txt']\n"
     ]
    }
   ],
   "source": [
    "print(file_list)"
   ]
  },
  {
   "cell_type": "code",
   "execution_count": 85,
   "metadata": {},
   "outputs": [
    {
     "name": "stdout",
     "output_type": "stream",
     "text": [
      "['.ipynb_checkpoints', 'd', 'newfolder', 'python_datatype_5_file', 'testfolder', 'text.dir']\n"
     ]
    }
   ],
   "source": [
    "print(folder_list)"
   ]
  },
  {
   "cell_type": "code",
   "execution_count": 87,
   "metadata": {},
   "outputs": [
    {
     "data": {
      "text/plain": [
       "True"
      ]
     },
     "execution_count": 87,
     "metadata": {},
     "output_type": "execute_result"
    }
   ],
   "source": [
    "exists('stockcode.txt')"
   ]
  },
  {
   "cell_type": "code",
   "execution_count": 88,
   "metadata": {},
   "outputs": [
    {
     "data": {
      "text/plain": [
       "'D:\\\\jsp'"
      ]
     },
     "execution_count": 88,
     "metadata": {},
     "output_type": "execute_result"
    }
   ],
   "source": [
    "pwd"
   ]
  },
  {
   "cell_type": "code",
   "execution_count": 91,
   "metadata": {},
   "outputs": [
    {
     "data": {
      "text/plain": [
       "False"
      ]
     },
     "execution_count": 91,
     "metadata": {},
     "output_type": "execute_result"
    }
   ],
   "source": [
    "exists('stockcode1.txt')"
   ]
  },
  {
   "cell_type": "code",
   "execution_count": 92,
   "metadata": {},
   "outputs": [
    {
     "data": {
      "text/plain": [
       "[]"
      ]
     },
     "execution_count": 92,
     "metadata": {},
     "output_type": "execute_result"
    }
   ],
   "source": [
    "os.listdir('./newfolder')"
   ]
  },
  {
   "cell_type": "code",
   "execution_count": null,
   "metadata": {},
   "outputs": [],
   "source": [
    "# 8,185"
   ]
  },
  {
   "cell_type": "code",
   "execution_count": 4,
   "metadata": {},
   "outputs": [
    {
     "name": "stdout",
     "output_type": "stream",
     "text": [
      "./newfolder/bird.jpg_0 완료\n",
      "./newfolder/bird.jpg_1 완료\n",
      "./newfolder/bird.jpg_2 완료\n",
      "./newfolder/bird.jpg_3 완료\n",
      "./newfolder/bird.jpg_4 완료\n"
     ]
    }
   ],
   "source": [
    "# 원본파일을 열어서 2000byte씩 읽어서 subfile에 기록..\n",
    "\n",
    "filename = './newfolder/bird.jpg'\n",
    "subsize =2000\n",
    "suffix = 0\n",
    "\n",
    "with open(filename, 'rb') as f:\n",
    "    buf = f.read(subsize)\n",
    "    while buf:\n",
    "        subfilename = filename + '_' +str(suffix)\n",
    "        with open(subfilename, 'wb') as h:\n",
    "            h.write(buf)\n",
    "            print('{} 완료'.format(subfilename))\n",
    "        buf = f.read(subsize)\n",
    "        suffix += 1\n",
    "        \n",
    "            "
   ]
  },
  {
   "cell_type": "code",
   "execution_count": 104,
   "metadata": {},
   "outputs": [
    {
     "data": {
      "text/plain": [
       "['bird.jpg',\n",
       " 'bird.jpg_0',\n",
       " 'bird.jpg_1',\n",
       " 'bird.jpg_2',\n",
       " 'bird.jpg_3',\n",
       " 'bird.jpg_4']"
      ]
     },
     "execution_count": 104,
     "metadata": {},
     "output_type": "execute_result"
    }
   ],
   "source": [
    "os.listdir('D:\\\\python\\\\newfolder')"
   ]
  },
  {
   "cell_type": "code",
   "execution_count": 105,
   "metadata": {},
   "outputs": [],
   "source": [
    "# subfile을 열고 읽어서 파일을 합해서 하나의 파일로 통합"
   ]
  },
  {
   "cell_type": "code",
   "execution_count": 133,
   "metadata": {},
   "outputs": [
    {
     "name": "stdout",
     "output_type": "stream",
     "text": [
      "['D:\\\\python\\\\newfolder\\\\bird.jpg_0', 'D:\\\\python\\\\newfolder\\\\bird.jpg_1', 'D:\\\\python\\\\newfolder\\\\bird.jpg_2', 'D:\\\\python\\\\newfolder\\\\bird.jpg_3', 'D:\\\\python\\\\newfolder\\\\bird.jpg_4']\n"
     ]
    }
   ],
   "source": [
    "merge_filename = 'D:\\\\python\\\\newfolder\\\\bird_new.jpg'\n",
    "\n",
    "path = 'D:\\\\python\\\\newfolder\\\\bird.jpg_'\n",
    "\n",
    "file_list = [path + str(x) for x in range(len(os.listdir('D:\\\\python\\\\newfolder')))]\n",
    "print(file_list)"
   ]
  },
  {
   "cell_type": "code",
   "execution_count": 134,
   "metadata": {},
   "outputs": [],
   "source": [
    "with open(merge_filename, 'wb') as f:\n",
    "    for filename in file_list:\n",
    "        with open(filename, 'rb') as h:\n",
    "            buf = h.read()\n",
    "            f.write(buf)"
   ]
  },
  {
   "cell_type": "code",
   "execution_count": 131,
   "metadata": {},
   "outputs": [
    {
     "data": {
      "text/plain": [
       "['bird.jpg',\n",
       " 'bird.jpg_0',\n",
       " 'bird.jpg_1',\n",
       " 'bird.jpg_2',\n",
       " 'bird.jpg_3',\n",
       " 'bird.jpg_4']"
      ]
     },
     "execution_count": 131,
     "metadata": {},
     "output_type": "execute_result"
    }
   ],
   "source": [
    "os.listdir('D:\\\\python\\\\newfolder')"
   ]
  },
  {
   "cell_type": "code",
   "execution_count": null,
   "metadata": {},
   "outputs": [],
   "source": []
  }
 ],
 "metadata": {
  "kernelspec": {
   "display_name": "Python 3",
   "language": "python",
   "name": "python3"
  },
  "language_info": {
   "codemirror_mode": {
    "name": "ipython",
    "version": 3
   },
   "file_extension": ".py",
   "mimetype": "text/x-python",
   "name": "python",
   "nbconvert_exporter": "python",
   "pygments_lexer": "ipython3",
   "version": "3.8.3"
  }
 },
 "nbformat": 4,
 "nbformat_minor": 4
}
