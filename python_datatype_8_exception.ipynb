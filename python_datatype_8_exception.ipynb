{
 "cells": [
  {
   "cell_type": "markdown",
   "metadata": {},
   "source": [
    "### Exception"
   ]
  },
  {
   "cell_type": "code",
   "execution_count": 6,
   "metadata": {},
   "outputs": [
    {
     "name": "stdout",
     "output_type": "stream",
     "text": [
      "안녕하세요\n",
      "hello python\n"
     ]
    }
   ],
   "source": [
    "print('안녕하세요')\n",
    "# print(param)  => NameError\n",
    "print('hello python')"
   ]
  },
  {
   "cell_type": "code",
   "execution_count": 7,
   "metadata": {},
   "outputs": [
    {
     "name": "stdout",
     "output_type": "stream",
     "text": [
      "안녕하세요\n",
      "예외가 발생했습니다\n"
     ]
    }
   ],
   "source": [
    "try:\n",
    "    print('안녕하세요')\n",
    "    print(param)\n",
    "    print('hello python')\n",
    "except:\n",
    "    print('예외가 발생했습니다')"
   ]
  },
  {
   "cell_type": "code",
   "execution_count": 8,
   "metadata": {},
   "outputs": [
    {
     "name": "stdout",
     "output_type": "stream",
     "text": [
      "안녕하세요\n",
      "예외가 발생했습니다\n",
      "Hello World\n"
     ]
    }
   ],
   "source": [
    "try:\n",
    "    print('안녕하세요')\n",
    "    print(param)\n",
    "    print('hello python')\n",
    "except:\n",
    "    print('예외가 발생했습니다')   # except : 예외가 발생할때 실행\n",
    "    \n",
    "print('Hello World')"
   ]
  },
  {
   "cell_type": "code",
   "execution_count": 11,
   "metadata": {},
   "outputs": [
    {
     "name": "stdout",
     "output_type": "stream",
     "text": [
      "안녕하세요\n",
      "예외가 발생했습니다\n",
      "Hello World\n"
     ]
    }
   ],
   "source": [
    "try:\n",
    "    print('안녕하세요')\n",
    "    print(param)\n",
    "    print('hello python')\n",
    "except:\n",
    "    print('예외가 발생했습니다')\n",
    "else:\n",
    "    print('예외가 발생하지 않았습니다..')  # else : 예외가 발생하지 않았을때 실행\n",
    "    \n",
    "print('Hello World')"
   ]
  },
  {
   "cell_type": "code",
   "execution_count": null,
   "metadata": {},
   "outputs": [],
   "source": [
    "try:\n",
    "    print('안녕하세요')\n",
    "    print(param)\n",
    "    print('hello python')\n",
    "except:\n",
    "    print('예외가 발생했습니다')\n",
    "finally:\n",
    "    print('예외가 발생하지 않았습니다..')   # finally : 예외의 여부와 상관없이 무조건 실행\n",
    "print('Hello World')"
   ]
  },
  {
   "cell_type": "code",
   "execution_count": 13,
   "metadata": {},
   "outputs": [
    {
     "name": "stdout",
     "output_type": "stream",
     "text": [
      "name 'param' is not defined\n"
     ]
    }
   ],
   "source": [
    "try:\n",
    "    print(param)\n",
    "except Exception as e:\n",
    "        print(e)"
   ]
  },
  {
   "cell_type": "code",
   "execution_count": 15,
   "metadata": {},
   "outputs": [
    {
     "name": "stdout",
     "output_type": "stream",
     "text": [
      "division by zero\n",
      "hello python\n"
     ]
    }
   ],
   "source": [
    "try:\n",
    "    c=a/b\n",
    "except Exception as e:    # error message를 기록할 수 있음.\n",
    "    print(e)\n",
    "finally:\n",
    "    print('hello python')"
   ]
  },
  {
   "cell_type": "code",
   "execution_count": 16,
   "metadata": {},
   "outputs": [
    {
     "name": "stdout",
     "output_type": "stream",
     "text": [
      "division by zero\n"
     ]
    }
   ],
   "source": [
    "a=1\n",
    "b=0\n",
    "try:\n",
    "    c=a/b\n",
    "except Exception as e:\n",
    "    print(e)"
   ]
  },
  {
   "cell_type": "code",
   "execution_count": 18,
   "metadata": {},
   "outputs": [
    {
     "name": "stdout",
     "output_type": "stream",
     "text": [
      "hello\n",
      "division by zero\n",
      "hello python\n"
     ]
    }
   ],
   "source": [
    "a = 5\n",
    "b = 0\n",
    "L = ('hello')\n",
    "print('hello')\n",
    "try:\n",
    "    c= a/b\n",
    "except Exception as e:\n",
    "    print(e)\n",
    "    \n",
    "print('hello python')"
   ]
  },
  {
   "cell_type": "code",
   "execution_count": 22,
   "metadata": {},
   "outputs": [
    {
     "name": "stdout",
     "output_type": "stream",
     "text": [
      "hello\n",
      "error message : list index out of range\n",
      "hello python\n"
     ]
    }
   ],
   "source": [
    "a = 5\n",
    "b = 0\n",
    "L = [1,2,3,]\n",
    "print('hello')\n",
    "try:\n",
    "    print(L[3])\n",
    "except Exception as e:\n",
    "    print('error message :',e)\n",
    "    \n",
    "print('hello python')"
   ]
  },
  {
   "cell_type": "code",
   "execution_count": 3,
   "metadata": {},
   "outputs": [
    {
     "name": "stdout",
     "output_type": "stream",
     "text": [
      "1\n",
      "2\n",
      "3\n",
      "4\n",
      "5\n",
      "사용자에 의해 중단되었습니다.\n",
      "hello python\n"
     ]
    }
   ],
   "source": [
    "import time\n",
    "count =1\n",
    "try:\n",
    "    while True:\n",
    "        print(count)\n",
    "        count +=1\n",
    "        time.sleep(1)\n",
    "except KeyboardInterrupt:    # 지정한 error가 발생한 경우에만 error처리\n",
    "    print('사용자에 의해 중단되었습니다.')\n",
    "print('hello python')"
   ]
  },
  {
   "cell_type": "code",
   "execution_count": 10,
   "metadata": {},
   "outputs": [
    {
     "name": "stdout",
     "output_type": "stream",
     "text": [
      "100\n",
      "3\n",
      "no error\n",
      "finally part\n",
      "hello python\n"
     ]
    }
   ],
   "source": [
    "# 각각의 발생 가능한 error에 대해 다른 예외처리도 가능..\n",
    "\n",
    "a = 5\n",
    "b = 1\n",
    "x=100\n",
    "L = [1,2,3]\n",
    "\n",
    "try:\n",
    "    c=a/b\n",
    "    print(x)\n",
    "    print(L[2])\n",
    "except ZeroDivisionError:    # 각각의 개별적인 예외에 대해서만 예외처리... \n",
    "    print('cannot divide by zero!!')\n",
    "except NameError:\n",
    "    print('no variable named X')\n",
    "except IndexError:\n",
    "    print('out of indexing in list')\n",
    "else:\n",
    "    print('no error')\n",
    "    \n",
    "finally:\n",
    "    print('finally part')\n",
    "print('hello python')"
   ]
  },
  {
   "cell_type": "code",
   "execution_count": 25,
   "metadata": {},
   "outputs": [
    {
     "name": "stdout",
     "output_type": "stream",
     "text": [
      "임의의 정수를 입력하세요..ㅜㅕㅡ\n",
      "정수 타입을 입력하세요..\n",
      "hello world\n"
     ]
    }
   ],
   "source": [
    "num = input('임의의 정수를 입력하세요..')\n",
    "try:\n",
    "    result = 10/int(num)\n",
    "except ZeroDivisionError:\n",
    "    print('0이 아닌 정수를 입력하세요..')\n",
    "except ValueError:\n",
    "    print('정수 타입을 입력하세요..')\n",
    "else:\n",
    "    print(result)\n",
    "print('hello world')"
   ]
  },
  {
   "cell_type": "code",
   "execution_count": 28,
   "metadata": {},
   "outputs": [
    {
     "name": "stdout",
     "output_type": "stream",
     "text": [
      "[Errno 2] No such file or directory: 'nofile'\n",
      "hello world\n"
     ]
    }
   ],
   "source": [
    "def openFile():\n",
    "    f = open('nofile')\n",
    "    line = f.readline()\n",
    "    print(line)\n",
    "    \n",
    "# 함수를 실행 시 발생할 오류를 예외처리 하시오..\n",
    "try:\n",
    "    openFile()\n",
    "except FileNotFoundError as e:\n",
    "    print(e)\n",
    "    \n",
    "print('hello world')"
   ]
  },
  {
   "cell_type": "code",
   "execution_count": 29,
   "metadata": {},
   "outputs": [
    {
     "name": "stdout",
     "output_type": "stream",
     "text": [
      "[Errno 2] No such file or directory: 'nofile'\n",
      "hello world\n"
     ]
    }
   ],
   "source": [
    "def openFile():\n",
    "    f = open('nofile')\n",
    "    line = f.readline()\n",
    "    print(line)\n",
    "    \n",
    "# 함수를 실행 시 발생할 오류를 예외처리 하시오..\n",
    "try:\n",
    "    openFile()\n",
    "except OSError as e:    # OSError : 시스템 에러...\n",
    "    print(e)\n",
    "print('hello world')"
   ]
  },
  {
   "cell_type": "code",
   "execution_count": 40,
   "metadata": {},
   "outputs": [],
   "source": [
    "def writeFile():\n",
    "    f = open('file.txt', 'w')\n",
    "    try:\n",
    "        f.write('hello world')\n",
    "    except IOError:\n",
    "        print('opps!')\n",
    "    finally:\n",
    "        f.close()\n",
    "        return 'file.txt'"
   ]
  },
  {
   "cell_type": "code",
   "execution_count": 41,
   "metadata": {},
   "outputs": [
    {
     "name": "stdout",
     "output_type": "stream",
     "text": [
      "file.txt\n"
     ]
    }
   ],
   "source": [
    "file=writeFile()\n",
    "print(file)"
   ]
  },
  {
   "cell_type": "code",
   "execution_count": 48,
   "metadata": {},
   "outputs": [],
   "source": [
    "\n",
    "def readFile(file):\n",
    "    try:\n",
    "        f = open(file, 'r')\n",
    "    except Exception as e:\n",
    "        print(e)\n",
    "    else:\n",
    "        text = f.read()\n",
    "        print(text)\n",
    "        f.close()\n",
    "    finally:\n",
    "        print('file reading is over!!')"
   ]
  },
  {
   "cell_type": "code",
   "execution_count": 52,
   "metadata": {},
   "outputs": [
    {
     "name": "stdout",
     "output_type": "stream",
     "text": [
      "[Errno 2] No such file or directory: 'file1.txt'\n",
      "file reading is over!!\n"
     ]
    }
   ],
   "source": [
    "file = 'file1.txt'\n",
    "readFile(file)"
   ]
  },
  {
   "cell_type": "code",
   "execution_count": null,
   "metadata": {},
   "outputs": [],
   "source": []
  },
  {
   "cell_type": "code",
   "execution_count": null,
   "metadata": {},
   "outputs": [],
   "source": []
  },
  {
   "cell_type": "code",
   "execution_count": null,
   "metadata": {},
   "outputs": [],
   "source": []
  }
 ],
 "metadata": {
  "kernelspec": {
   "display_name": "Python 3",
   "language": "python",
   "name": "python3"
  },
  "language_info": {
   "codemirror_mode": {
    "name": "ipython",
    "version": 3
   },
   "file_extension": ".py",
   "mimetype": "text/x-python",
   "name": "python",
   "nbconvert_exporter": "python",
   "pygments_lexer": "ipython3",
   "version": "3.8.3"
  }
 },
 "nbformat": 4,
 "nbformat_minor": 4
}
