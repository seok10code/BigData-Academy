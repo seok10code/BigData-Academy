{
 "cells": [
  {
   "cell_type": "code",
   "execution_count": 1,
   "metadata": {},
   "outputs": [],
   "source": [
    "# https://www.data.go.kr/data/3035522/fileData.do\n",
    "# https://www.data.go.kr/data/15061057/fileData.do"
   ]
  },
  {
   "cell_type": "code",
   "execution_count": 2,
   "metadata": {},
   "outputs": [],
   "source": [
    "import pandas as pd\n",
    "import numpy as np\n",
    "import matplotlib.pyplot as plt\n",
    "import seaborn as sns"
   ]
  },
  {
   "cell_type": "code",
   "execution_count": 3,
   "metadata": {},
   "outputs": [],
   "source": [
    "\n",
    "import matplotlib as mpl\n",
    "import matplotlib.font_manager as fm\n",
    "\n",
    "mpl.rcParams['axes.unicode_minus']= False\n",
    "\n",
    "path = 'C:/Windows/Fonts/malgun.ttf'\n",
    "font_name = fm.FontProperties(fname = path, size = 50).get_name()\n",
    "plt.rc('font', family=font_name)"
   ]
  },
  {
   "cell_type": "code",
   "execution_count": 5,
   "metadata": {},
   "outputs": [
    {
     "name": "stdout",
     "output_type": "stream",
     "text": [
      " D 드라이브의 볼륨: 새 볼륨\n",
      " 볼륨 일련 번호: 3689-8172\n",
      "\n",
      " D:\\BigData\\eda 디렉터리\n",
      "\n",
      "2020-11-02  오전 11:11    <DIR>          .\n",
      "2020-11-02  오전 11:11    <DIR>          ..\n",
      "2020-11-02  오전 10:57    <DIR>          .ipynb_checkpoints\n",
      "2020-10-26  오후 06:46           139,250 advertising_df.ipynb\n",
      "2020-11-02  오전 11:11             2,022 apt_price.ipynb\n",
      "2020-10-29  오후 05:29            92,799 bank_customer.ipynb\n",
      "2020-10-28  오후 04:59            25,129 chipotle.ipynb\n",
      "2020-09-01  오후 09:09         9,721,344 chromedriver.exe\n",
      "2020-10-30  오후 03:29           165,496 danawa_crawling_result.csv\n",
      "2020-10-30  오후 04:36            87,918 Danawa_product.ipynb\n",
      "2020-11-02  오전 10:56    <DIR>          data\n",
      "2020-10-30  오후 03:27               210 debug.log\n",
      "2020-10-27  오후 06:32            37,369 HighWay.ipynb\n",
      "2020-10-29  오후 05:29           113,878 korea_tourist_analysis.ipynb\n",
      "2020-10-23  오후 06:37            38,859 Missing_value.ipynb\n",
      "2020-10-23  오후 06:37           121,123 movie_df.ipynb\n",
      "2020-10-29  오후 05:29            87,503 Naver_search_ad.ipynb\n",
      "2020-10-30  오후 04:36           236,806 shopping_mall.ipynb\n",
      "2020-10-29  오후 04:31    <DIR>          tourist_files\n",
      "              14개 파일          10,869,706 바이트\n",
      "               5개 디렉터리  741,827,883,008 바이트 남음\n"
     ]
    }
   ],
   "source": [
    "!dir"
   ]
  },
  {
   "cell_type": "code",
   "execution_count": 10,
   "metadata": {},
   "outputs": [
    {
     "data": {
      "text/html": [
       "<div>\n",
       "<style scoped>\n",
       "    .dataframe tbody tr th:only-of-type {\n",
       "        vertical-align: middle;\n",
       "    }\n",
       "\n",
       "    .dataframe tbody tr th {\n",
       "        vertical-align: top;\n",
       "    }\n",
       "\n",
       "    .dataframe thead th {\n",
       "        text-align: right;\n",
       "    }\n",
       "</style>\n",
       "<table border=\"1\" class=\"dataframe\">\n",
       "  <thead>\n",
       "    <tr style=\"text-align: right;\">\n",
       "      <th></th>\n",
       "      <th>지역명</th>\n",
       "      <th>규모구분</th>\n",
       "      <th>연도</th>\n",
       "      <th>월</th>\n",
       "      <th>분양가격(㎡)</th>\n",
       "    </tr>\n",
       "  </thead>\n",
       "  <tbody>\n",
       "    <tr>\n",
       "      <th>0</th>\n",
       "      <td>서울</td>\n",
       "      <td>전체</td>\n",
       "      <td>2015</td>\n",
       "      <td>10</td>\n",
       "      <td>5841</td>\n",
       "    </tr>\n",
       "    <tr>\n",
       "      <th>1</th>\n",
       "      <td>서울</td>\n",
       "      <td>전용면적 60㎡이하</td>\n",
       "      <td>2015</td>\n",
       "      <td>10</td>\n",
       "      <td>5652</td>\n",
       "    </tr>\n",
       "    <tr>\n",
       "      <th>2</th>\n",
       "      <td>서울</td>\n",
       "      <td>전용면적 60㎡초과 85㎡이하</td>\n",
       "      <td>2015</td>\n",
       "      <td>10</td>\n",
       "      <td>5882</td>\n",
       "    </tr>\n",
       "    <tr>\n",
       "      <th>3</th>\n",
       "      <td>서울</td>\n",
       "      <td>전용면적 85㎡초과 102㎡이하</td>\n",
       "      <td>2015</td>\n",
       "      <td>10</td>\n",
       "      <td>5721</td>\n",
       "    </tr>\n",
       "    <tr>\n",
       "      <th>4</th>\n",
       "      <td>서울</td>\n",
       "      <td>전용면적 102㎡초과</td>\n",
       "      <td>2015</td>\n",
       "      <td>10</td>\n",
       "      <td>5879</td>\n",
       "    </tr>\n",
       "  </tbody>\n",
       "</table>\n",
       "</div>"
      ],
      "text/plain": [
       "  지역명               규모구분    연도   월 분양가격(㎡)\n",
       "0  서울                 전체  2015  10    5841\n",
       "1  서울         전용면적 60㎡이하  2015  10    5652\n",
       "2  서울   전용면적 60㎡초과 85㎡이하  2015  10    5882\n",
       "3  서울  전용면적 85㎡초과 102㎡이하  2015  10    5721\n",
       "4  서울        전용면적 102㎡초과  2015  10    5879"
      ]
     },
     "execution_count": 10,
     "metadata": {},
     "output_type": "execute_result"
    }
   ],
   "source": [
    "df_last = pd.read_csv('./data/주택도시보증공사_전국 평균 분양가격(2019년 12월).csv' ,\\\n",
    "           encoding='cp949')\n",
    "df_last.head()"
   ]
  },
  {
   "cell_type": "code",
   "execution_count": 15,
   "metadata": {
    "collapsed": true
   },
   "outputs": [
    {
     "data": {
      "text/html": [
       "<div>\n",
       "<style scoped>\n",
       "    .dataframe tbody tr th:only-of-type {\n",
       "        vertical-align: middle;\n",
       "    }\n",
       "\n",
       "    .dataframe tbody tr th {\n",
       "        vertical-align: top;\n",
       "    }\n",
       "\n",
       "    .dataframe thead th {\n",
       "        text-align: right;\n",
       "    }\n",
       "</style>\n",
       "<table border=\"1\" class=\"dataframe\">\n",
       "  <thead>\n",
       "    <tr style=\"text-align: right;\">\n",
       "      <th></th>\n",
       "      <th>지역명</th>\n",
       "      <th>규모구분</th>\n",
       "      <th>연도</th>\n",
       "      <th>월</th>\n",
       "      <th>분양가격(㎡)</th>\n",
       "    </tr>\n",
       "  </thead>\n",
       "  <tbody>\n",
       "    <tr>\n",
       "      <th>4330</th>\n",
       "      <td>제주</td>\n",
       "      <td>전체</td>\n",
       "      <td>2019</td>\n",
       "      <td>12</td>\n",
       "      <td>3882</td>\n",
       "    </tr>\n",
       "    <tr>\n",
       "      <th>4331</th>\n",
       "      <td>제주</td>\n",
       "      <td>전용면적 60㎡이하</td>\n",
       "      <td>2019</td>\n",
       "      <td>12</td>\n",
       "      <td>NaN</td>\n",
       "    </tr>\n",
       "    <tr>\n",
       "      <th>4332</th>\n",
       "      <td>제주</td>\n",
       "      <td>전용면적 60㎡초과 85㎡이하</td>\n",
       "      <td>2019</td>\n",
       "      <td>12</td>\n",
       "      <td>3898</td>\n",
       "    </tr>\n",
       "    <tr>\n",
       "      <th>4333</th>\n",
       "      <td>제주</td>\n",
       "      <td>전용면적 85㎡초과 102㎡이하</td>\n",
       "      <td>2019</td>\n",
       "      <td>12</td>\n",
       "      <td>NaN</td>\n",
       "    </tr>\n",
       "    <tr>\n",
       "      <th>4334</th>\n",
       "      <td>제주</td>\n",
       "      <td>전용면적 102㎡초과</td>\n",
       "      <td>2019</td>\n",
       "      <td>12</td>\n",
       "      <td>3601</td>\n",
       "    </tr>\n",
       "  </tbody>\n",
       "</table>\n",
       "</div>"
      ],
      "text/plain": [
       "     지역명               규모구분    연도   월 분양가격(㎡)\n",
       "4330  제주                 전체  2019  12    3882\n",
       "4331  제주         전용면적 60㎡이하  2019  12     NaN\n",
       "4332  제주   전용면적 60㎡초과 85㎡이하  2019  12    3898\n",
       "4333  제주  전용면적 85㎡초과 102㎡이하  2019  12     NaN\n",
       "4334  제주        전용면적 102㎡초과  2019  12    3601"
      ]
     },
     "execution_count": 15,
     "metadata": {},
     "output_type": "execute_result"
    }
   ],
   "source": [
    "df_last.tail()"
   ]
  },
  {
   "cell_type": "code",
   "execution_count": 14,
   "metadata": {
    "collapsed": true
   },
   "outputs": [
    {
     "data": {
      "text/html": [
       "<div>\n",
       "<style scoped>\n",
       "    .dataframe tbody tr th:only-of-type {\n",
       "        vertical-align: middle;\n",
       "    }\n",
       "\n",
       "    .dataframe tbody tr th {\n",
       "        vertical-align: top;\n",
       "    }\n",
       "\n",
       "    .dataframe thead th {\n",
       "        text-align: right;\n",
       "    }\n",
       "</style>\n",
       "<table border=\"1\" class=\"dataframe\">\n",
       "  <thead>\n",
       "    <tr style=\"text-align: right;\">\n",
       "      <th></th>\n",
       "      <th>지역</th>\n",
       "      <th>2013년12월</th>\n",
       "      <th>2014년1월</th>\n",
       "      <th>2014년2월</th>\n",
       "      <th>2014년3월</th>\n",
       "      <th>2014년4월</th>\n",
       "      <th>2014년5월</th>\n",
       "      <th>2014년6월</th>\n",
       "      <th>2014년7월</th>\n",
       "      <th>2014년8월</th>\n",
       "      <th>...</th>\n",
       "      <th>2014년11월</th>\n",
       "      <th>2014년12월</th>\n",
       "      <th>2015년1월</th>\n",
       "      <th>2015년2월</th>\n",
       "      <th>2015년3월</th>\n",
       "      <th>2015년4월</th>\n",
       "      <th>2015년5월</th>\n",
       "      <th>2015년6월</th>\n",
       "      <th>2015년7월</th>\n",
       "      <th>2015년8월</th>\n",
       "    </tr>\n",
       "  </thead>\n",
       "  <tbody>\n",
       "    <tr>\n",
       "      <th>0</th>\n",
       "      <td>서울</td>\n",
       "      <td>18189</td>\n",
       "      <td>17925</td>\n",
       "      <td>17925</td>\n",
       "      <td>18016</td>\n",
       "      <td>18098</td>\n",
       "      <td>19446</td>\n",
       "      <td>18867</td>\n",
       "      <td>18742</td>\n",
       "      <td>19274</td>\n",
       "      <td>...</td>\n",
       "      <td>20242</td>\n",
       "      <td>20269</td>\n",
       "      <td>20670</td>\n",
       "      <td>20670</td>\n",
       "      <td>19415</td>\n",
       "      <td>18842</td>\n",
       "      <td>18367</td>\n",
       "      <td>18374</td>\n",
       "      <td>18152</td>\n",
       "      <td>18443</td>\n",
       "    </tr>\n",
       "    <tr>\n",
       "      <th>1</th>\n",
       "      <td>부산</td>\n",
       "      <td>8111</td>\n",
       "      <td>8111</td>\n",
       "      <td>9078</td>\n",
       "      <td>8965</td>\n",
       "      <td>9402</td>\n",
       "      <td>9501</td>\n",
       "      <td>9453</td>\n",
       "      <td>9457</td>\n",
       "      <td>9411</td>\n",
       "      <td>...</td>\n",
       "      <td>9208</td>\n",
       "      <td>9208</td>\n",
       "      <td>9204</td>\n",
       "      <td>9235</td>\n",
       "      <td>9279</td>\n",
       "      <td>9327</td>\n",
       "      <td>9345</td>\n",
       "      <td>9515</td>\n",
       "      <td>9559</td>\n",
       "      <td>9581</td>\n",
       "    </tr>\n",
       "    <tr>\n",
       "      <th>2</th>\n",
       "      <td>대구</td>\n",
       "      <td>8080</td>\n",
       "      <td>8080</td>\n",
       "      <td>8077</td>\n",
       "      <td>8101</td>\n",
       "      <td>8267</td>\n",
       "      <td>8274</td>\n",
       "      <td>8360</td>\n",
       "      <td>8360</td>\n",
       "      <td>8370</td>\n",
       "      <td>...</td>\n",
       "      <td>8439</td>\n",
       "      <td>8253</td>\n",
       "      <td>8327</td>\n",
       "      <td>8416</td>\n",
       "      <td>8441</td>\n",
       "      <td>8446</td>\n",
       "      <td>8568</td>\n",
       "      <td>8542</td>\n",
       "      <td>8542</td>\n",
       "      <td>8795</td>\n",
       "    </tr>\n",
       "    <tr>\n",
       "      <th>3</th>\n",
       "      <td>인천</td>\n",
       "      <td>10204</td>\n",
       "      <td>10204</td>\n",
       "      <td>10408</td>\n",
       "      <td>10408</td>\n",
       "      <td>10000</td>\n",
       "      <td>9844</td>\n",
       "      <td>10058</td>\n",
       "      <td>9974</td>\n",
       "      <td>9973</td>\n",
       "      <td>...</td>\n",
       "      <td>10020</td>\n",
       "      <td>10020</td>\n",
       "      <td>10017</td>\n",
       "      <td>9876</td>\n",
       "      <td>9876</td>\n",
       "      <td>9938</td>\n",
       "      <td>10551</td>\n",
       "      <td>10443</td>\n",
       "      <td>10443</td>\n",
       "      <td>10449</td>\n",
       "    </tr>\n",
       "    <tr>\n",
       "      <th>4</th>\n",
       "      <td>광주</td>\n",
       "      <td>6098</td>\n",
       "      <td>7326</td>\n",
       "      <td>7611</td>\n",
       "      <td>7346</td>\n",
       "      <td>7346</td>\n",
       "      <td>7523</td>\n",
       "      <td>7659</td>\n",
       "      <td>7612</td>\n",
       "      <td>7622</td>\n",
       "      <td>...</td>\n",
       "      <td>7752</td>\n",
       "      <td>7748</td>\n",
       "      <td>7752</td>\n",
       "      <td>7756</td>\n",
       "      <td>7861</td>\n",
       "      <td>7914</td>\n",
       "      <td>7877</td>\n",
       "      <td>7881</td>\n",
       "      <td>8089</td>\n",
       "      <td>8231</td>\n",
       "    </tr>\n",
       "  </tbody>\n",
       "</table>\n",
       "<p>5 rows × 22 columns</p>\n",
       "</div>"
      ],
      "text/plain": [
       "   지역  2013년12월  2014년1월  2014년2월  2014년3월  2014년4월  2014년5월  2014년6월  \\\n",
       "0  서울     18189    17925    17925    18016    18098    19446    18867   \n",
       "1  부산      8111     8111     9078     8965     9402     9501     9453   \n",
       "2  대구      8080     8080     8077     8101     8267     8274     8360   \n",
       "3  인천     10204    10204    10408    10408    10000     9844    10058   \n",
       "4  광주      6098     7326     7611     7346     7346     7523     7659   \n",
       "\n",
       "   2014년7월  2014년8월  ...  2014년11월  2014년12월  2015년1월  2015년2월  2015년3월  \\\n",
       "0    18742    19274  ...     20242     20269    20670    20670    19415   \n",
       "1     9457     9411  ...      9208      9208     9204     9235     9279   \n",
       "2     8360     8370  ...      8439      8253     8327     8416     8441   \n",
       "3     9974     9973  ...     10020     10020    10017     9876     9876   \n",
       "4     7612     7622  ...      7752      7748     7752     7756     7861   \n",
       "\n",
       "   2015년4월  2015년5월  2015년6월  2015년7월  2015년8월  \n",
       "0    18842    18367    18374    18152    18443  \n",
       "1     9327     9345     9515     9559     9581  \n",
       "2     8446     8568     8542     8542     8795  \n",
       "3     9938    10551    10443    10443    10449  \n",
       "4     7914     7877     7881     8089     8231  \n",
       "\n",
       "[5 rows x 22 columns]"
      ]
     },
     "execution_count": 14,
     "metadata": {},
     "output_type": "execute_result"
    }
   ],
   "source": [
    "df_first = pd.read_csv('./data/전국 평균 분양가격(2013년 9월부터 2015년 8월까지).csv' ,\\\n",
    "           encoding='cp949')\n",
    "df_first.head()"
   ]
  },
  {
   "cell_type": "code",
   "execution_count": null,
   "metadata": {},
   "outputs": [],
   "source": []
  },
  {
   "cell_type": "code",
   "execution_count": 16,
   "metadata": {
    "collapsed": true
   },
   "outputs": [
    {
     "name": "stdout",
     "output_type": "stream",
     "text": [
      "<class 'pandas.core.frame.DataFrame'>\n",
      "RangeIndex: 4335 entries, 0 to 4334\n",
      "Data columns (total 5 columns):\n",
      " #   Column   Non-Null Count  Dtype \n",
      "---  ------   --------------  ----- \n",
      " 0   지역명      4335 non-null   object\n",
      " 1   규모구분     4335 non-null   object\n",
      " 2   연도       4335 non-null   int64 \n",
      " 3   월        4335 non-null   int64 \n",
      " 4   분양가격(㎡)  4058 non-null   object\n",
      "dtypes: int64(2), object(3)\n",
      "memory usage: 169.5+ KB\n"
     ]
    }
   ],
   "source": [
    "df_last.info()"
   ]
  },
  {
   "cell_type": "code",
   "execution_count": 18,
   "metadata": {
    "collapsed": true
   },
   "outputs": [
    {
     "name": "stdout",
     "output_type": "stream",
     "text": [
      "<class 'pandas.core.frame.DataFrame'>\n",
      "RangeIndex: 17 entries, 0 to 16\n",
      "Data columns (total 22 columns):\n",
      " #   Column    Non-Null Count  Dtype \n",
      "---  ------    --------------  ----- \n",
      " 0   지역        17 non-null     object\n",
      " 1   2013년12월  17 non-null     int64 \n",
      " 2   2014년1월   17 non-null     int64 \n",
      " 3   2014년2월   17 non-null     int64 \n",
      " 4   2014년3월   17 non-null     int64 \n",
      " 5   2014년4월   17 non-null     int64 \n",
      " 6   2014년5월   17 non-null     int64 \n",
      " 7   2014년6월   17 non-null     int64 \n",
      " 8   2014년7월   17 non-null     int64 \n",
      " 9   2014년8월   17 non-null     int64 \n",
      " 10  2014년9월   17 non-null     int64 \n",
      " 11  2014년10월  17 non-null     int64 \n",
      " 12  2014년11월  17 non-null     int64 \n",
      " 13  2014년12월  17 non-null     int64 \n",
      " 14  2015년1월   17 non-null     int64 \n",
      " 15  2015년2월   17 non-null     int64 \n",
      " 16  2015년3월   17 non-null     int64 \n",
      " 17  2015년4월   17 non-null     int64 \n",
      " 18  2015년5월   17 non-null     int64 \n",
      " 19  2015년6월   17 non-null     int64 \n",
      " 20  2015년7월   17 non-null     int64 \n",
      " 21  2015년8월   17 non-null     int64 \n",
      "dtypes: int64(21), object(1)\n",
      "memory usage: 3.0+ KB\n"
     ]
    }
   ],
   "source": [
    "df_first.info()"
   ]
  },
  {
   "cell_type": "code",
   "execution_count": 20,
   "metadata": {
    "collapsed": true
   },
   "outputs": [
    {
     "data": {
      "text/plain": [
       "지역명          0\n",
       "규모구분         0\n",
       "연도           0\n",
       "월            0\n",
       "분양가격(㎡)    277\n",
       "dtype: int64"
      ]
     },
     "execution_count": 20,
     "metadata": {},
     "output_type": "execute_result"
    }
   ],
   "source": [
    "df_last.isnull().sum()"
   ]
  },
  {
   "cell_type": "code",
   "execution_count": 22,
   "metadata": {
    "collapsed": true
   },
   "outputs": [
    {
     "data": {
      "text/html": [
       "<div>\n",
       "<style scoped>\n",
       "    .dataframe tbody tr th:only-of-type {\n",
       "        vertical-align: middle;\n",
       "    }\n",
       "\n",
       "    .dataframe tbody tr th {\n",
       "        vertical-align: top;\n",
       "    }\n",
       "\n",
       "    .dataframe thead th {\n",
       "        text-align: right;\n",
       "    }\n",
       "</style>\n",
       "<table border=\"1\" class=\"dataframe\">\n",
       "  <thead>\n",
       "    <tr style=\"text-align: right;\">\n",
       "      <th></th>\n",
       "      <th>지역명</th>\n",
       "      <th>규모구분</th>\n",
       "      <th>연도</th>\n",
       "      <th>월</th>\n",
       "      <th>분양가격(㎡)</th>\n",
       "    </tr>\n",
       "  </thead>\n",
       "  <tbody>\n",
       "    <tr>\n",
       "      <th>0</th>\n",
       "      <td>서울</td>\n",
       "      <td>전체</td>\n",
       "      <td>2015</td>\n",
       "      <td>10</td>\n",
       "      <td>5841</td>\n",
       "    </tr>\n",
       "    <tr>\n",
       "      <th>1</th>\n",
       "      <td>서울</td>\n",
       "      <td>전용면적 60㎡이하</td>\n",
       "      <td>2015</td>\n",
       "      <td>10</td>\n",
       "      <td>5652</td>\n",
       "    </tr>\n",
       "    <tr>\n",
       "      <th>2</th>\n",
       "      <td>서울</td>\n",
       "      <td>전용면적 60㎡초과 85㎡이하</td>\n",
       "      <td>2015</td>\n",
       "      <td>10</td>\n",
       "      <td>5882</td>\n",
       "    </tr>\n",
       "    <tr>\n",
       "      <th>3</th>\n",
       "      <td>서울</td>\n",
       "      <td>전용면적 85㎡초과 102㎡이하</td>\n",
       "      <td>2015</td>\n",
       "      <td>10</td>\n",
       "      <td>5721</td>\n",
       "    </tr>\n",
       "    <tr>\n",
       "      <th>4</th>\n",
       "      <td>서울</td>\n",
       "      <td>전용면적 102㎡초과</td>\n",
       "      <td>2015</td>\n",
       "      <td>10</td>\n",
       "      <td>5879</td>\n",
       "    </tr>\n",
       "  </tbody>\n",
       "</table>\n",
       "</div>"
      ],
      "text/plain": [
       "  지역명               규모구분    연도   월 분양가격(㎡)\n",
       "0  서울                 전체  2015  10    5841\n",
       "1  서울         전용면적 60㎡이하  2015  10    5652\n",
       "2  서울   전용면적 60㎡초과 85㎡이하  2015  10    5882\n",
       "3  서울  전용면적 85㎡초과 102㎡이하  2015  10    5721\n",
       "4  서울        전용면적 102㎡초과  2015  10    5879"
      ]
     },
     "execution_count": 22,
     "metadata": {},
     "output_type": "execute_result"
    }
   ],
   "source": [
    "df_last.head()"
   ]
  },
  {
   "cell_type": "code",
   "execution_count": 26,
   "metadata": {},
   "outputs": [],
   "source": [
    "df_last['분양가격(㎡)'] = pd.to_numeric(df_last['분양가격(㎡)'], errors='coerce' )"
   ]
  },
  {
   "cell_type": "code",
   "execution_count": 27,
   "metadata": {},
   "outputs": [],
   "source": [
    "df_last['평당분양가격'] = df_last['분양가격(㎡)']*3.3"
   ]
  },
  {
   "cell_type": "code",
   "execution_count": 28,
   "metadata": {
    "collapsed": true
   },
   "outputs": [
    {
     "data": {
      "text/html": [
       "<div>\n",
       "<style scoped>\n",
       "    .dataframe tbody tr th:only-of-type {\n",
       "        vertical-align: middle;\n",
       "    }\n",
       "\n",
       "    .dataframe tbody tr th {\n",
       "        vertical-align: top;\n",
       "    }\n",
       "\n",
       "    .dataframe thead th {\n",
       "        text-align: right;\n",
       "    }\n",
       "</style>\n",
       "<table border=\"1\" class=\"dataframe\">\n",
       "  <thead>\n",
       "    <tr style=\"text-align: right;\">\n",
       "      <th></th>\n",
       "      <th>지역명</th>\n",
       "      <th>규모구분</th>\n",
       "      <th>연도</th>\n",
       "      <th>월</th>\n",
       "      <th>분양가격(㎡)</th>\n",
       "      <th>평당분양가격</th>\n",
       "    </tr>\n",
       "  </thead>\n",
       "  <tbody>\n",
       "    <tr>\n",
       "      <th>0</th>\n",
       "      <td>서울</td>\n",
       "      <td>전체</td>\n",
       "      <td>2015</td>\n",
       "      <td>10</td>\n",
       "      <td>5841.0</td>\n",
       "      <td>19275.3</td>\n",
       "    </tr>\n",
       "    <tr>\n",
       "      <th>1</th>\n",
       "      <td>서울</td>\n",
       "      <td>전용면적 60㎡이하</td>\n",
       "      <td>2015</td>\n",
       "      <td>10</td>\n",
       "      <td>5652.0</td>\n",
       "      <td>18651.6</td>\n",
       "    </tr>\n",
       "  </tbody>\n",
       "</table>\n",
       "</div>"
      ],
      "text/plain": [
       "  지역명        규모구분    연도   월  분양가격(㎡)   평당분양가격\n",
       "0  서울          전체  2015  10   5841.0  19275.3\n",
       "1  서울  전용면적 60㎡이하  2015  10   5652.0  18651.6"
      ]
     },
     "execution_count": 28,
     "metadata": {},
     "output_type": "execute_result"
    }
   ],
   "source": [
    "df_last.head(2)"
   ]
  },
  {
   "cell_type": "code",
   "execution_count": 31,
   "metadata": {},
   "outputs": [
    {
     "data": {
      "text/plain": [
       "array(['전체', '전용면적 60㎡이하', '전용면적 60㎡초과 85㎡이하', '전용면적 85㎡초과 102㎡이하',\n",
       "       '전용면적 102㎡초과'], dtype=object)"
      ]
     },
     "execution_count": 31,
     "metadata": {},
     "output_type": "execute_result"
    }
   ],
   "source": [
    "df_last['규모구분'].unique()"
   ]
  },
  {
   "cell_type": "code",
   "execution_count": 35,
   "metadata": {},
   "outputs": [],
   "source": [
    "df_last['전용면적'] = df_last['규모구분'].str.replace('전용면적', '')"
   ]
  },
  {
   "cell_type": "code",
   "execution_count": 37,
   "metadata": {},
   "outputs": [
    {
     "data": {
      "text/html": [
       "<div>\n",
       "<style scoped>\n",
       "    .dataframe tbody tr th:only-of-type {\n",
       "        vertical-align: middle;\n",
       "    }\n",
       "\n",
       "    .dataframe tbody tr th {\n",
       "        vertical-align: top;\n",
       "    }\n",
       "\n",
       "    .dataframe thead th {\n",
       "        text-align: right;\n",
       "    }\n",
       "</style>\n",
       "<table border=\"1\" class=\"dataframe\">\n",
       "  <thead>\n",
       "    <tr style=\"text-align: right;\">\n",
       "      <th></th>\n",
       "      <th>지역명</th>\n",
       "      <th>규모구분</th>\n",
       "      <th>연도</th>\n",
       "      <th>월</th>\n",
       "      <th>분양가격(㎡)</th>\n",
       "      <th>평당분양가격</th>\n",
       "      <th>전용면적</th>\n",
       "    </tr>\n",
       "  </thead>\n",
       "  <tbody>\n",
       "    <tr>\n",
       "      <th>0</th>\n",
       "      <td>서울</td>\n",
       "      <td>전체</td>\n",
       "      <td>2015</td>\n",
       "      <td>10</td>\n",
       "      <td>5841.0</td>\n",
       "      <td>19275.3</td>\n",
       "      <td>전체</td>\n",
       "    </tr>\n",
       "    <tr>\n",
       "      <th>1</th>\n",
       "      <td>서울</td>\n",
       "      <td>전용면적 60㎡이하</td>\n",
       "      <td>2015</td>\n",
       "      <td>10</td>\n",
       "      <td>5652.0</td>\n",
       "      <td>18651.6</td>\n",
       "      <td>60㎡</td>\n",
       "    </tr>\n",
       "    <tr>\n",
       "      <th>2</th>\n",
       "      <td>서울</td>\n",
       "      <td>전용면적 60㎡초과 85㎡이하</td>\n",
       "      <td>2015</td>\n",
       "      <td>10</td>\n",
       "      <td>5882.0</td>\n",
       "      <td>19410.6</td>\n",
       "      <td>60㎡85㎡</td>\n",
       "    </tr>\n",
       "    <tr>\n",
       "      <th>3</th>\n",
       "      <td>서울</td>\n",
       "      <td>전용면적 85㎡초과 102㎡이하</td>\n",
       "      <td>2015</td>\n",
       "      <td>10</td>\n",
       "      <td>5721.0</td>\n",
       "      <td>18879.3</td>\n",
       "      <td>85㎡102㎡</td>\n",
       "    </tr>\n",
       "    <tr>\n",
       "      <th>4</th>\n",
       "      <td>서울</td>\n",
       "      <td>전용면적 102㎡초과</td>\n",
       "      <td>2015</td>\n",
       "      <td>10</td>\n",
       "      <td>5879.0</td>\n",
       "      <td>19400.7</td>\n",
       "      <td>102㎡</td>\n",
       "    </tr>\n",
       "  </tbody>\n",
       "</table>\n",
       "</div>"
      ],
      "text/plain": [
       "  지역명               규모구분    연도   월  분양가격(㎡)   평당분양가격     전용면적\n",
       "0  서울                 전체  2015  10   5841.0  19275.3       전체\n",
       "1  서울         전용면적 60㎡이하  2015  10   5652.0  18651.6      60㎡\n",
       "2  서울   전용면적 60㎡초과 85㎡이하  2015  10   5882.0  19410.6   60㎡85㎡\n",
       "3  서울  전용면적 85㎡초과 102㎡이하  2015  10   5721.0  18879.3  85㎡102㎡\n",
       "4  서울        전용면적 102㎡초과  2015  10   5879.0  19400.7     102㎡"
      ]
     },
     "execution_count": 37,
     "metadata": {},
     "output_type": "execute_result"
    }
   ],
   "source": [
    "# '초과','이하', ' ' 라는 텍스트 제거..\n",
    "df_last['전용면적'] = df_last['전용면적'].str.replace('초과','')\n",
    "df_last['전용면적'] = df_last['전용면적'].str.replace('이하','')\n",
    "df_last['전용면적'] = df_last['전용면적'].str.replace(' ','')\n",
    "df_last.head()"
   ]
  },
  {
   "cell_type": "code",
   "execution_count": 39,
   "metadata": {},
   "outputs": [],
   "source": [
    "# '규모구분', '분양가격(㎡)' 칼럼 삭제..\n",
    "\n",
    "df_last = df_last.drop(['규모구분', '분양가격(㎡)'], axis=1)"
   ]
  },
  {
   "cell_type": "code",
   "execution_count": 41,
   "metadata": {},
   "outputs": [
    {
     "data": {
      "text/html": [
       "<div>\n",
       "<style scoped>\n",
       "    .dataframe tbody tr th:only-of-type {\n",
       "        vertical-align: middle;\n",
       "    }\n",
       "\n",
       "    .dataframe tbody tr th {\n",
       "        vertical-align: top;\n",
       "    }\n",
       "\n",
       "    .dataframe thead th {\n",
       "        text-align: right;\n",
       "    }\n",
       "</style>\n",
       "<table border=\"1\" class=\"dataframe\">\n",
       "  <thead>\n",
       "    <tr style=\"text-align: right;\">\n",
       "      <th></th>\n",
       "      <th>지역명</th>\n",
       "      <th>연도</th>\n",
       "      <th>월</th>\n",
       "      <th>평당분양가격</th>\n",
       "      <th>전용면적</th>\n",
       "    </tr>\n",
       "  </thead>\n",
       "  <tbody>\n",
       "    <tr>\n",
       "      <th>0</th>\n",
       "      <td>서울</td>\n",
       "      <td>2015</td>\n",
       "      <td>10</td>\n",
       "      <td>19275.3</td>\n",
       "      <td>전체</td>\n",
       "    </tr>\n",
       "    <tr>\n",
       "      <th>1</th>\n",
       "      <td>서울</td>\n",
       "      <td>2015</td>\n",
       "      <td>10</td>\n",
       "      <td>18651.6</td>\n",
       "      <td>60㎡</td>\n",
       "    </tr>\n",
       "  </tbody>\n",
       "</table>\n",
       "</div>"
      ],
      "text/plain": [
       "  지역명    연도   월   평당분양가격 전용면적\n",
       "0  서울  2015  10  19275.3   전체\n",
       "1  서울  2015  10  18651.6  60㎡"
      ]
     },
     "execution_count": 41,
     "metadata": {},
     "output_type": "execute_result"
    }
   ],
   "source": [
    "df_last.head(2)"
   ]
  },
  {
   "cell_type": "code",
   "execution_count": 42,
   "metadata": {
    "collapsed": true
   },
   "outputs": [
    {
     "data": {
      "text/plain": [
       "지역명\n",
       "강원     7890.750000\n",
       "경기    13356.895200\n",
       "경남     9268.778138\n",
       "경북     8376.536515\n",
       "광주     9951.535821\n",
       "대구    11980.895455\n",
       "대전    10253.333333\n",
       "부산    12087.121200\n",
       "서울    23599.976400\n",
       "세종     9796.516456\n",
       "울산    10014.902013\n",
       "인천    11915.320732\n",
       "전남     7565.316532\n",
       "전북     7724.235484\n",
       "제주    11241.276712\n",
       "충남     8233.651883\n",
       "충북     7634.655600\n",
       "Name: 평당분양가격, dtype: float64"
      ]
     },
     "execution_count": 42,
     "metadata": {},
     "output_type": "execute_result"
    }
   ],
   "source": [
    "# 지역별 평균분양가격 => 지역별 데이터를 묶는다 => groupby\n",
    "df_last.groupby('지역명')['평당분양가격'].mean()"
   ]
  },
  {
   "cell_type": "code",
   "execution_count": 43,
   "metadata": {},
   "outputs": [
    {
     "data": {
      "text/plain": [
       "<matplotlib.axes._subplots.AxesSubplot at 0x18251478820>"
      ]
     },
     "execution_count": 43,
     "metadata": {},
     "output_type": "execute_result"
    },
    {
     "data": {
      "image/png": "[encoded data removed]",
      "text/plain": [
       "<Figure size 432x288 with 1 Axes>"
      ]
     },
     "metadata": {
      "needs_background": "light"
     },
     "output_type": "display_data"
    }
   ],
   "source": [
    "df_last.groupby('지역명')['평당분양가격'].mean().plot(kind='bar')"
   ]
  },
  {
   "cell_type": "code",
   "execution_count": 44,
   "metadata": {
    "collapsed": true
   },
   "outputs": [
    {
     "data": {
      "text/plain": [
       "<matplotlib.axes._subplots.AxesSubplot at 0x18251c06640>"
      ]
     },
     "execution_count": 44,
     "metadata": {},
     "output_type": "execute_result"
    },
    {
     "data": {
      "image/png": "[encoded data removed]",
      "text/plain": [
       "<Figure size 432x288 with 1 Axes>"
      ]
     },
     "metadata": {
      "needs_background": "light"
     },
     "output_type": "display_data"
    }
   ],
   "source": [
    "df_last.groupby('지역명')['평당분양가격'].mean().sort_values().plot(kind='bar')"
   ]
  },
  {
   "cell_type": "code",
   "execution_count": 46,
   "metadata": {},
   "outputs": [
    {
     "data": {
      "text/html": [
       "<div>\n",
       "<style scoped>\n",
       "    .dataframe tbody tr th:only-of-type {\n",
       "        vertical-align: middle;\n",
       "    }\n",
       "\n",
       "    .dataframe tbody tr th {\n",
       "        vertical-align: top;\n",
       "    }\n",
       "\n",
       "    .dataframe thead th {\n",
       "        text-align: right;\n",
       "    }\n",
       "</style>\n",
       "<table border=\"1\" class=\"dataframe\">\n",
       "  <thead>\n",
       "    <tr style=\"text-align: right;\">\n",
       "      <th></th>\n",
       "      <th>지역명</th>\n",
       "      <th>연도</th>\n",
       "      <th>월</th>\n",
       "      <th>평당분양가격</th>\n",
       "      <th>전용면적</th>\n",
       "    </tr>\n",
       "  </thead>\n",
       "  <tbody>\n",
       "    <tr>\n",
       "      <th>0</th>\n",
       "      <td>서울</td>\n",
       "      <td>2015</td>\n",
       "      <td>10</td>\n",
       "      <td>19275.3</td>\n",
       "      <td>전체</td>\n",
       "    </tr>\n",
       "    <tr>\n",
       "      <th>1</th>\n",
       "      <td>서울</td>\n",
       "      <td>2015</td>\n",
       "      <td>10</td>\n",
       "      <td>18651.6</td>\n",
       "      <td>60㎡</td>\n",
       "    </tr>\n",
       "  </tbody>\n",
       "</table>\n",
       "</div>"
      ],
      "text/plain": [
       "  지역명    연도   월   평당분양가격 전용면적\n",
       "0  서울  2015  10  19275.3   전체\n",
       "1  서울  2015  10  18651.6  60㎡"
      ]
     },
     "execution_count": 46,
     "metadata": {},
     "output_type": "execute_result"
    }
   ],
   "source": [
    "df_last.head(2)"
   ]
  },
  {
   "cell_type": "code",
   "execution_count": 53,
   "metadata": {},
   "outputs": [
    {
     "data": {
      "text/plain": [
       "<matplotlib.axes._subplots.AxesSubplot at 0x18251dd2850>"
      ]
     },
     "execution_count": 53,
     "metadata": {},
     "output_type": "execute_result"
    },
    {
     "data": {
      "image/png": "[encoded data removed]",
      "text/plain": [
       "<Figure size 216x216 with 1 Axes>"
      ]
     },
     "metadata": {
      "needs_background": "light"
     },
     "output_type": "display_data"
    }
   ],
   "source": [
    "# 전용면적당 분양가격\n",
    "plt.figure(figsize=(3,3))\n",
    "df_last.groupby('전용면적')['평당분양가격'].mean().plot(kind='bar')"
   ]
  },
  {
   "cell_type": "code",
   "execution_count": 54,
   "metadata": {
    "collapsed": true
   },
   "outputs": [
    {
     "data": {
      "text/plain": [
       "전용면적  지역명\n",
       "102㎡  강원      8311.380000\n",
       "      경기     14771.790000\n",
       "      경남     10358.363265\n",
       "      경북      9157.302000\n",
       "      광주     11041.532432\n",
       "                 ...     \n",
       "전체    전남      7283.562000\n",
       "      전북      7292.604000\n",
       "      제주     10784.994000\n",
       "      충남      7815.324000\n",
       "      충북      7219.014000\n",
       "Name: 평당분양가격, Length: 85, dtype: float64"
      ]
     },
     "execution_count": 54,
     "metadata": {},
     "output_type": "execute_result"
    }
   ],
   "source": [
    "# 지역과 전용면적 두 기준으로 데이터를 묶는다\n",
    "\n",
    "df_last.groupby(['전용면적','지역명'])['평당분양가격'].mean()"
   ]
  },
  {
   "cell_type": "code",
   "execution_count": 55,
   "metadata": {
    "collapsed": true
   },
   "outputs": [
    {
     "data": {
      "text/html": [
       "<div>\n",
       "<style scoped>\n",
       "    .dataframe tbody tr th:only-of-type {\n",
       "        vertical-align: middle;\n",
       "    }\n",
       "\n",
       "    .dataframe tbody tr th {\n",
       "        vertical-align: top;\n",
       "    }\n",
       "\n",
       "    .dataframe thead th {\n",
       "        text-align: right;\n",
       "    }\n",
       "</style>\n",
       "<table border=\"1\" class=\"dataframe\">\n",
       "  <thead>\n",
       "    <tr style=\"text-align: right;\">\n",
       "      <th>지역명</th>\n",
       "      <th>강원</th>\n",
       "      <th>경기</th>\n",
       "      <th>경남</th>\n",
       "      <th>경북</th>\n",
       "      <th>광주</th>\n",
       "      <th>대구</th>\n",
       "      <th>대전</th>\n",
       "      <th>부산</th>\n",
       "      <th>서울</th>\n",
       "      <th>세종</th>\n",
       "      <th>울산</th>\n",
       "      <th>인천</th>\n",
       "      <th>전남</th>\n",
       "      <th>전북</th>\n",
       "      <th>제주</th>\n",
       "      <th>충남</th>\n",
       "      <th>충북</th>\n",
       "    </tr>\n",
       "    <tr>\n",
       "      <th>전용면적</th>\n",
       "      <th></th>\n",
       "      <th></th>\n",
       "      <th></th>\n",
       "      <th></th>\n",
       "      <th></th>\n",
       "      <th></th>\n",
       "      <th></th>\n",
       "      <th></th>\n",
       "      <th></th>\n",
       "      <th></th>\n",
       "      <th></th>\n",
       "      <th></th>\n",
       "      <th></th>\n",
       "      <th></th>\n",
       "      <th></th>\n",
       "      <th></th>\n",
       "      <th></th>\n",
       "    </tr>\n",
       "  </thead>\n",
       "  <tbody>\n",
       "    <tr>\n",
       "      <th>102㎡</th>\n",
       "      <td>8311.380000</td>\n",
       "      <td>14771.790</td>\n",
       "      <td>10358.363265</td>\n",
       "      <td>9157.302000</td>\n",
       "      <td>11041.532432</td>\n",
       "      <td>13087.338000</td>\n",
       "      <td>14876.871429</td>\n",
       "      <td>13208.250</td>\n",
       "      <td>23446.038</td>\n",
       "      <td>10106.976000</td>\n",
       "      <td>9974.448000</td>\n",
       "      <td>14362.030435</td>\n",
       "      <td>8168.4900</td>\n",
       "      <td>8193.57000</td>\n",
       "      <td>10522.787234</td>\n",
       "      <td>8689.169388</td>\n",
       "      <td>8195.352</td>\n",
       "    </tr>\n",
       "    <tr>\n",
       "      <th>60㎡</th>\n",
       "      <td>7567.098000</td>\n",
       "      <td>13251.744</td>\n",
       "      <td>8689.175000</td>\n",
       "      <td>7883.172000</td>\n",
       "      <td>9430.666667</td>\n",
       "      <td>11992.068000</td>\n",
       "      <td>9176.475000</td>\n",
       "      <td>11353.782</td>\n",
       "      <td>23212.794</td>\n",
       "      <td>9323.927027</td>\n",
       "      <td>9202.106897</td>\n",
       "      <td>11241.318000</td>\n",
       "      <td>7210.1700</td>\n",
       "      <td>7609.93200</td>\n",
       "      <td>14022.221053</td>\n",
       "      <td>7911.156000</td>\n",
       "      <td>7103.118</td>\n",
       "    </tr>\n",
       "    <tr>\n",
       "      <th>60㎡85㎡</th>\n",
       "      <td>7485.588000</td>\n",
       "      <td>12523.566</td>\n",
       "      <td>8618.676000</td>\n",
       "      <td>8061.372000</td>\n",
       "      <td>9910.692000</td>\n",
       "      <td>11778.690000</td>\n",
       "      <td>9711.372000</td>\n",
       "      <td>11864.820</td>\n",
       "      <td>22786.830</td>\n",
       "      <td>9775.458000</td>\n",
       "      <td>10502.531707</td>\n",
       "      <td>11384.406000</td>\n",
       "      <td>7269.2400</td>\n",
       "      <td>7271.35200</td>\n",
       "      <td>10621.314000</td>\n",
       "      <td>7818.954000</td>\n",
       "      <td>7264.488</td>\n",
       "    </tr>\n",
       "    <tr>\n",
       "      <th>85㎡102㎡</th>\n",
       "      <td>8749.557143</td>\n",
       "      <td>13677.774</td>\n",
       "      <td>10017.612000</td>\n",
       "      <td>8773.814634</td>\n",
       "      <td>9296.100000</td>\n",
       "      <td>11140.642857</td>\n",
       "      <td>9037.430769</td>\n",
       "      <td>12072.588</td>\n",
       "      <td>25943.874</td>\n",
       "      <td>9847.926000</td>\n",
       "      <td>8861.007692</td>\n",
       "      <td>11527.560000</td>\n",
       "      <td>7908.8625</td>\n",
       "      <td>8275.78125</td>\n",
       "      <td>10709.082353</td>\n",
       "      <td>9120.045000</td>\n",
       "      <td>8391.306</td>\n",
       "    </tr>\n",
       "    <tr>\n",
       "      <th>전체</th>\n",
       "      <td>7477.536000</td>\n",
       "      <td>12559.602</td>\n",
       "      <td>8658.672000</td>\n",
       "      <td>8078.532000</td>\n",
       "      <td>9903.630000</td>\n",
       "      <td>11771.298000</td>\n",
       "      <td>9786.018000</td>\n",
       "      <td>11936.166</td>\n",
       "      <td>22610.346</td>\n",
       "      <td>9805.422000</td>\n",
       "      <td>10492.712195</td>\n",
       "      <td>11257.026000</td>\n",
       "      <td>7283.5620</td>\n",
       "      <td>7292.60400</td>\n",
       "      <td>10784.994000</td>\n",
       "      <td>7815.324000</td>\n",
       "      <td>7219.014</td>\n",
       "    </tr>\n",
       "  </tbody>\n",
       "</table>\n",
       "</div>"
      ],
      "text/plain": [
       "지역명               강원         경기            경남           경북            광주  \\\n",
       "전용면적                                                                       \n",
       "102㎡     8311.380000  14771.790  10358.363265  9157.302000  11041.532432   \n",
       "60㎡      7567.098000  13251.744   8689.175000  7883.172000   9430.666667   \n",
       "60㎡85㎡   7485.588000  12523.566   8618.676000  8061.372000   9910.692000   \n",
       "85㎡102㎡  8749.557143  13677.774  10017.612000  8773.814634   9296.100000   \n",
       "전체       7477.536000  12559.602   8658.672000  8078.532000   9903.630000   \n",
       "\n",
       "지역명                대구            대전         부산         서울            세종  \\\n",
       "전용면적                                                                      \n",
       "102㎡     13087.338000  14876.871429  13208.250  23446.038  10106.976000   \n",
       "60㎡      11992.068000   9176.475000  11353.782  23212.794   9323.927027   \n",
       "60㎡85㎡   11778.690000   9711.372000  11864.820  22786.830   9775.458000   \n",
       "85㎡102㎡  11140.642857   9037.430769  12072.588  25943.874   9847.926000   \n",
       "전체       11771.298000   9786.018000  11936.166  22610.346   9805.422000   \n",
       "\n",
       "지역명                울산            인천         전남          전북            제주  \\\n",
       "전용면적                                                                       \n",
       "102㎡      9974.448000  14362.030435  8168.4900  8193.57000  10522.787234   \n",
       "60㎡       9202.106897  11241.318000  7210.1700  7609.93200  14022.221053   \n",
       "60㎡85㎡   10502.531707  11384.406000  7269.2400  7271.35200  10621.314000   \n",
       "85㎡102㎡   8861.007692  11527.560000  7908.8625  8275.78125  10709.082353   \n",
       "전체       10492.712195  11257.026000  7283.5620  7292.60400  10784.994000   \n",
       "\n",
       "지역명               충남        충북  \n",
       "전용면적                            \n",
       "102㎡     8689.169388  8195.352  \n",
       "60㎡      7911.156000  7103.118  \n",
       "60㎡85㎡   7818.954000  7264.488  \n",
       "85㎡102㎡  9120.045000  8391.306  \n",
       "전체       7815.324000  7219.014  "
      ]
     },
     "execution_count": 55,
     "metadata": {},
     "output_type": "execute_result"
    }
   ],
   "source": [
    "df_last.groupby(['전용면적','지역명'])['평당분양가격'].mean().unstack()"
   ]
  },
  {
   "cell_type": "code",
   "execution_count": null,
   "metadata": {},
   "outputs": [],
   "source": [
    "# 지역별 연도에 따른 평당분양가격의 변화를 line chart로 나타내시오."
   ]
  },
  {
   "cell_type": "code",
   "execution_count": 58,
   "metadata": {
    "collapsed": true
   },
   "outputs": [
    {
     "data": {
      "text/html": [
       "<div>\n",
       "<style scoped>\n",
       "    .dataframe tbody tr th:only-of-type {\n",
       "        vertical-align: middle;\n",
       "    }\n",
       "\n",
       "    .dataframe tbody tr th {\n",
       "        vertical-align: top;\n",
       "    }\n",
       "\n",
       "    .dataframe thead th {\n",
       "        text-align: right;\n",
       "    }\n",
       "</style>\n",
       "<table border=\"1\" class=\"dataframe\">\n",
       "  <thead>\n",
       "    <tr style=\"text-align: right;\">\n",
       "      <th>지역명</th>\n",
       "      <th>강원</th>\n",
       "      <th>경기</th>\n",
       "      <th>경남</th>\n",
       "      <th>경북</th>\n",
       "      <th>광주</th>\n",
       "      <th>대구</th>\n",
       "      <th>대전</th>\n",
       "      <th>부산</th>\n",
       "      <th>서울</th>\n",
       "      <th>세종</th>\n",
       "      <th>울산</th>\n",
       "      <th>인천</th>\n",
       "      <th>전남</th>\n",
       "      <th>전북</th>\n",
       "      <th>제주</th>\n",
       "      <th>충남</th>\n",
       "      <th>충북</th>\n",
       "    </tr>\n",
       "    <tr>\n",
       "      <th>연도</th>\n",
       "      <th></th>\n",
       "      <th></th>\n",
       "      <th></th>\n",
       "      <th></th>\n",
       "      <th></th>\n",
       "      <th></th>\n",
       "      <th></th>\n",
       "      <th></th>\n",
       "      <th></th>\n",
       "      <th></th>\n",
       "      <th></th>\n",
       "      <th></th>\n",
       "      <th></th>\n",
       "      <th></th>\n",
       "      <th></th>\n",
       "      <th></th>\n",
       "      <th></th>\n",
       "    </tr>\n",
       "  </thead>\n",
       "  <tbody>\n",
       "    <tr>\n",
       "      <th>2015</th>\n",
       "      <td>7188.060000</td>\n",
       "      <td>11060.94</td>\n",
       "      <td>8459.220000</td>\n",
       "      <td>7464.160000</td>\n",
       "      <td>7916.700000</td>\n",
       "      <td>9018.900000</td>\n",
       "      <td>8190.600000</td>\n",
       "      <td>10377.400</td>\n",
       "      <td>20315.680</td>\n",
       "      <td>8765.020000</td>\n",
       "      <td>9367.600000</td>\n",
       "      <td>10976.020000</td>\n",
       "      <td>6798.880000</td>\n",
       "      <td>7110.400000</td>\n",
       "      <td>7951.075000</td>\n",
       "      <td>7689.880000</td>\n",
       "      <td>6828.800</td>\n",
       "    </tr>\n",
       "    <tr>\n",
       "      <th>2016</th>\n",
       "      <td>7162.903846</td>\n",
       "      <td>11684.97</td>\n",
       "      <td>8496.730000</td>\n",
       "      <td>7753.405000</td>\n",
       "      <td>9190.683333</td>\n",
       "      <td>10282.030000</td>\n",
       "      <td>8910.733333</td>\n",
       "      <td>10743.535</td>\n",
       "      <td>21753.435</td>\n",
       "      <td>8857.805000</td>\n",
       "      <td>9582.574138</td>\n",
       "      <td>11099.055000</td>\n",
       "      <td>6936.600000</td>\n",
       "      <td>6906.625000</td>\n",
       "      <td>9567.480000</td>\n",
       "      <td>7958.225000</td>\n",
       "      <td>7133.335</td>\n",
       "    </tr>\n",
       "    <tr>\n",
       "      <th>2017</th>\n",
       "      <td>7273.560000</td>\n",
       "      <td>12304.98</td>\n",
       "      <td>8786.760000</td>\n",
       "      <td>8280.800000</td>\n",
       "      <td>9613.977551</td>\n",
       "      <td>12206.700000</td>\n",
       "      <td>9957.158491</td>\n",
       "      <td>11560.680</td>\n",
       "      <td>21831.060</td>\n",
       "      <td>9132.505556</td>\n",
       "      <td>10666.935714</td>\n",
       "      <td>11640.600000</td>\n",
       "      <td>7372.920000</td>\n",
       "      <td>7398.973585</td>\n",
       "      <td>12566.730000</td>\n",
       "      <td>8198.422222</td>\n",
       "      <td>7473.120</td>\n",
       "    </tr>\n",
       "    <tr>\n",
       "      <th>2018</th>\n",
       "      <td>8219.255000</td>\n",
       "      <td>14258.42</td>\n",
       "      <td>9327.670000</td>\n",
       "      <td>8680.776923</td>\n",
       "      <td>9526.953333</td>\n",
       "      <td>12139.252632</td>\n",
       "      <td>10234.106667</td>\n",
       "      <td>12889.965</td>\n",
       "      <td>23202.245</td>\n",
       "      <td>10340.463158</td>\n",
       "      <td>10241.400000</td>\n",
       "      <td>11881.532143</td>\n",
       "      <td>7929.845000</td>\n",
       "      <td>8174.595000</td>\n",
       "      <td>11935.968000</td>\n",
       "      <td>8201.820000</td>\n",
       "      <td>8149.295</td>\n",
       "    </tr>\n",
       "    <tr>\n",
       "      <th>2019</th>\n",
       "      <td>8934.475000</td>\n",
       "      <td>15665.54</td>\n",
       "      <td>10697.615789</td>\n",
       "      <td>9050.250000</td>\n",
       "      <td>12111.675000</td>\n",
       "      <td>14081.650000</td>\n",
       "      <td>12619.200000</td>\n",
       "      <td>13537.865</td>\n",
       "      <td>28286.830</td>\n",
       "      <td>11299.394118</td>\n",
       "      <td>10216.250000</td>\n",
       "      <td>13249.775000</td>\n",
       "      <td>8219.275862</td>\n",
       "      <td>8532.260000</td>\n",
       "      <td>11828.469231</td>\n",
       "      <td>8748.840000</td>\n",
       "      <td>7970.875</td>\n",
       "    </tr>\n",
       "  </tbody>\n",
       "</table>\n",
       "</div>"
      ],
      "text/plain": [
       "지역명            강원        경기            경남           경북            광주  \\\n",
       "연도                                                                     \n",
       "2015  7188.060000  11060.94   8459.220000  7464.160000   7916.700000   \n",
       "2016  7162.903846  11684.97   8496.730000  7753.405000   9190.683333   \n",
       "2017  7273.560000  12304.98   8786.760000  8280.800000   9613.977551   \n",
       "2018  8219.255000  14258.42   9327.670000  8680.776923   9526.953333   \n",
       "2019  8934.475000  15665.54  10697.615789  9050.250000  12111.675000   \n",
       "\n",
       "지역명             대구            대전         부산         서울            세종  \\\n",
       "연도                                                                     \n",
       "2015   9018.900000   8190.600000  10377.400  20315.680   8765.020000   \n",
       "2016  10282.030000   8910.733333  10743.535  21753.435   8857.805000   \n",
       "2017  12206.700000   9957.158491  11560.680  21831.060   9132.505556   \n",
       "2018  12139.252632  10234.106667  12889.965  23202.245  10340.463158   \n",
       "2019  14081.650000  12619.200000  13537.865  28286.830  11299.394118   \n",
       "\n",
       "지역명             울산            인천           전남           전북            제주  \\\n",
       "연도                                                                         \n",
       "2015   9367.600000  10976.020000  6798.880000  7110.400000   7951.075000   \n",
       "2016   9582.574138  11099.055000  6936.600000  6906.625000   9567.480000   \n",
       "2017  10666.935714  11640.600000  7372.920000  7398.973585  12566.730000   \n",
       "2018  10241.400000  11881.532143  7929.845000  8174.595000  11935.968000   \n",
       "2019  10216.250000  13249.775000  8219.275862  8532.260000  11828.469231   \n",
       "\n",
       "지역명            충남        충북  \n",
       "연도                           \n",
       "2015  7689.880000  6828.800  \n",
       "2016  7958.225000  7133.335  \n",
       "2017  8198.422222  7473.120  \n",
       "2018  8201.820000  8149.295  \n",
       "2019  8748.840000  7970.875  "
      ]
     },
     "execution_count": 58,
     "metadata": {},
     "output_type": "execute_result"
    }
   ],
   "source": [
    "df_last.groupby(['연도', '지역명'])['평당분양가격'].mean().unstack()"
   ]
  },
  {
   "cell_type": "code",
   "execution_count": 59,
   "metadata": {
    "collapsed": true
   },
   "outputs": [
    {
     "data": {
      "text/plain": [
       "<matplotlib.axes._subplots.AxesSubplot at 0x18251cb3f70>"
      ]
     },
     "execution_count": 59,
     "metadata": {},
     "output_type": "execute_result"
    },
    {
     "data": {
      "image/png": "[encoded data removed]",
      "text/plain": [
       "<Figure size 432x288 with 1 Axes>"
      ]
     },
     "metadata": {
      "needs_background": "light"
     },
     "output_type": "display_data"
    }
   ],
   "source": [
    "df_last.groupby(['연도', '지역명'])['평당분양가격'].mean().unstack().plot()"
   ]
  },
  {
   "cell_type": "code",
   "execution_count": 60,
   "metadata": {},
   "outputs": [],
   "source": [
    "# pivot_table을 활용"
   ]
  },
  {
   "cell_type": "code",
   "execution_count": 61,
   "metadata": {
    "collapsed": true
   },
   "outputs": [
    {
     "data": {
      "text/html": [
       "<div>\n",
       "<style scoped>\n",
       "    .dataframe tbody tr th:only-of-type {\n",
       "        vertical-align: middle;\n",
       "    }\n",
       "\n",
       "    .dataframe tbody tr th {\n",
       "        vertical-align: top;\n",
       "    }\n",
       "\n",
       "    .dataframe thead th {\n",
       "        text-align: right;\n",
       "    }\n",
       "</style>\n",
       "<table border=\"1\" class=\"dataframe\">\n",
       "  <thead>\n",
       "    <tr style=\"text-align: right;\">\n",
       "      <th></th>\n",
       "      <th></th>\n",
       "      <th>평당분양가격</th>\n",
       "    </tr>\n",
       "    <tr>\n",
       "      <th>연도</th>\n",
       "      <th>지역명</th>\n",
       "      <th></th>\n",
       "    </tr>\n",
       "  </thead>\n",
       "  <tbody>\n",
       "    <tr>\n",
       "      <th rowspan=\"5\" valign=\"top\">2015</th>\n",
       "      <th>강원</th>\n",
       "      <td>7188.060000</td>\n",
       "    </tr>\n",
       "    <tr>\n",
       "      <th>경기</th>\n",
       "      <td>11060.940000</td>\n",
       "    </tr>\n",
       "    <tr>\n",
       "      <th>경남</th>\n",
       "      <td>8459.220000</td>\n",
       "    </tr>\n",
       "    <tr>\n",
       "      <th>경북</th>\n",
       "      <td>7464.160000</td>\n",
       "    </tr>\n",
       "    <tr>\n",
       "      <th>광주</th>\n",
       "      <td>7916.700000</td>\n",
       "    </tr>\n",
       "    <tr>\n",
       "      <th>...</th>\n",
       "      <th>...</th>\n",
       "      <td>...</td>\n",
       "    </tr>\n",
       "    <tr>\n",
       "      <th rowspan=\"5\" valign=\"top\">2019</th>\n",
       "      <th>전남</th>\n",
       "      <td>8219.275862</td>\n",
       "    </tr>\n",
       "    <tr>\n",
       "      <th>전북</th>\n",
       "      <td>8532.260000</td>\n",
       "    </tr>\n",
       "    <tr>\n",
       "      <th>제주</th>\n",
       "      <td>11828.469231</td>\n",
       "    </tr>\n",
       "    <tr>\n",
       "      <th>충남</th>\n",
       "      <td>8748.840000</td>\n",
       "    </tr>\n",
       "    <tr>\n",
       "      <th>충북</th>\n",
       "      <td>7970.875000</td>\n",
       "    </tr>\n",
       "  </tbody>\n",
       "</table>\n",
       "<p>85 rows × 1 columns</p>\n",
       "</div>"
      ],
      "text/plain": [
       "                평당분양가격\n",
       "연도   지역명              \n",
       "2015 강원    7188.060000\n",
       "     경기   11060.940000\n",
       "     경남    8459.220000\n",
       "     경북    7464.160000\n",
       "     광주    7916.700000\n",
       "...                ...\n",
       "2019 전남    8219.275862\n",
       "     전북    8532.260000\n",
       "     제주   11828.469231\n",
       "     충남    8748.840000\n",
       "     충북    7970.875000\n",
       "\n",
       "[85 rows x 1 columns]"
      ]
     },
     "execution_count": 61,
     "metadata": {},
     "output_type": "execute_result"
    }
   ],
   "source": [
    "p = pd.pivot_table(df_last, index=['연도','지역명'], values='평당분양가격')\n",
    "p"
   ]
  },
  {
   "cell_type": "code",
   "execution_count": 63,
   "metadata": {
    "collapsed": true
   },
   "outputs": [
    {
     "data": {
      "text/plain": [
       "<matplotlib.axes._subplots.AxesSubplot at 0x18251f47910>"
      ]
     },
     "execution_count": 63,
     "metadata": {},
     "output_type": "execute_result"
    },
    {
     "data": {
      "image/png": "[encoded data removed]",
      "text/plain": [
       "<Figure size 432x288 with 1 Axes>"
      ]
     },
     "metadata": {
      "needs_background": "light"
     },
     "output_type": "display_data"
    }
   ],
   "source": [
    "p.unstack().plot()"
   ]
  },
  {
   "cell_type": "code",
   "execution_count": 64,
   "metadata": {},
   "outputs": [],
   "source": [
    "# boxplot - 데이터의 분포를 파악.."
   ]
  },
  {
   "cell_type": "code",
   "execution_count": 66,
   "metadata": {
    "collapsed": true
   },
   "outputs": [
    {
     "data": {
      "text/html": [
       "<div>\n",
       "<style scoped>\n",
       "    .dataframe tbody tr th:only-of-type {\n",
       "        vertical-align: middle;\n",
       "    }\n",
       "\n",
       "    .dataframe tbody tr th {\n",
       "        vertical-align: top;\n",
       "    }\n",
       "\n",
       "    .dataframe thead th {\n",
       "        text-align: right;\n",
       "    }\n",
       "</style>\n",
       "<table border=\"1\" class=\"dataframe\">\n",
       "  <thead>\n",
       "    <tr style=\"text-align: right;\">\n",
       "      <th>연도</th>\n",
       "      <th>2015</th>\n",
       "      <th>2016</th>\n",
       "      <th>2017</th>\n",
       "      <th>2018</th>\n",
       "      <th>2019</th>\n",
       "    </tr>\n",
       "    <tr>\n",
       "      <th>월</th>\n",
       "      <th></th>\n",
       "      <th></th>\n",
       "      <th></th>\n",
       "      <th></th>\n",
       "      <th></th>\n",
       "    </tr>\n",
       "  </thead>\n",
       "  <tbody>\n",
       "    <tr>\n",
       "      <th>1</th>\n",
       "      <td>NaN</td>\n",
       "      <td>9334.029630</td>\n",
       "      <td>10095.132143</td>\n",
       "      <td>10719.148000</td>\n",
       "      <td>11535.540789</td>\n",
       "    </tr>\n",
       "    <tr>\n",
       "      <th>2</th>\n",
       "      <td>NaN</td>\n",
       "      <td>9361.440000</td>\n",
       "      <td>10110.885714</td>\n",
       "      <td>10766.668000</td>\n",
       "      <td>11574.793421</td>\n",
       "    </tr>\n",
       "    <tr>\n",
       "      <th>3</th>\n",
       "      <td>NaN</td>\n",
       "      <td>9423.276923</td>\n",
       "      <td>10107.428571</td>\n",
       "      <td>10905.488000</td>\n",
       "      <td>11610.094737</td>\n",
       "    </tr>\n",
       "    <tr>\n",
       "      <th>4</th>\n",
       "      <td>NaN</td>\n",
       "      <td>9601.993902</td>\n",
       "      <td>10217.232143</td>\n",
       "      <td>10920.728571</td>\n",
       "      <td>11777.876000</td>\n",
       "    </tr>\n",
       "    <tr>\n",
       "      <th>5</th>\n",
       "      <td>NaN</td>\n",
       "      <td>9602.396341</td>\n",
       "      <td>10358.819277</td>\n",
       "      <td>11087.485714</td>\n",
       "      <td>11976.394737</td>\n",
       "    </tr>\n",
       "    <tr>\n",
       "      <th>6</th>\n",
       "      <td>NaN</td>\n",
       "      <td>9676.042683</td>\n",
       "      <td>10431.618072</td>\n",
       "      <td>10921.928571</td>\n",
       "      <td>12401.884000</td>\n",
       "    </tr>\n",
       "    <tr>\n",
       "      <th>7</th>\n",
       "      <td>NaN</td>\n",
       "      <td>9700.551220</td>\n",
       "      <td>10549.536585</td>\n",
       "      <td>10868.376316</td>\n",
       "      <td>12424.852000</td>\n",
       "    </tr>\n",
       "    <tr>\n",
       "      <th>8</th>\n",
       "      <td>NaN</td>\n",
       "      <td>9719.023171</td>\n",
       "      <td>10564.869512</td>\n",
       "      <td>10811.147368</td>\n",
       "      <td>12523.896000</td>\n",
       "    </tr>\n",
       "    <tr>\n",
       "      <th>9</th>\n",
       "      <td>NaN</td>\n",
       "      <td>9737.656098</td>\n",
       "      <td>10583.601266</td>\n",
       "      <td>10915.257692</td>\n",
       "      <td>12527.571429</td>\n",
       "    </tr>\n",
       "    <tr>\n",
       "      <th>10</th>\n",
       "      <td>9086.488889</td>\n",
       "      <td>9924.225882</td>\n",
       "      <td>10399.845570</td>\n",
       "      <td>11133.269231</td>\n",
       "      <td>12619.073077</td>\n",
       "    </tr>\n",
       "    <tr>\n",
       "      <th>11</th>\n",
       "      <td>9218.122222</td>\n",
       "      <td>9972.757143</td>\n",
       "      <td>NaN</td>\n",
       "      <td>11224.762025</td>\n",
       "      <td>12647.785714</td>\n",
       "    </tr>\n",
       "    <tr>\n",
       "      <th>12</th>\n",
       "      <td>9303.596296</td>\n",
       "      <td>10092.264286</td>\n",
       "      <td>10597.620000</td>\n",
       "      <td>11453.822368</td>\n",
       "      <td>12622.847368</td>\n",
       "    </tr>\n",
       "  </tbody>\n",
       "</table>\n",
       "</div>"
      ],
      "text/plain": [
       "연도         2015          2016          2017          2018          2019\n",
       "월                                                                      \n",
       "1           NaN   9334.029630  10095.132143  10719.148000  11535.540789\n",
       "2           NaN   9361.440000  10110.885714  10766.668000  11574.793421\n",
       "3           NaN   9423.276923  10107.428571  10905.488000  11610.094737\n",
       "4           NaN   9601.993902  10217.232143  10920.728571  11777.876000\n",
       "5           NaN   9602.396341  10358.819277  11087.485714  11976.394737\n",
       "6           NaN   9676.042683  10431.618072  10921.928571  12401.884000\n",
       "7           NaN   9700.551220  10549.536585  10868.376316  12424.852000\n",
       "8           NaN   9719.023171  10564.869512  10811.147368  12523.896000\n",
       "9           NaN   9737.656098  10583.601266  10915.257692  12527.571429\n",
       "10  9086.488889   9924.225882  10399.845570  11133.269231  12619.073077\n",
       "11  9218.122222   9972.757143           NaN  11224.762025  12647.785714\n",
       "12  9303.596296  10092.264286  10597.620000  11453.822368  12622.847368"
      ]
     },
     "execution_count": 66,
     "metadata": {},
     "output_type": "execute_result"
    }
   ],
   "source": [
    "p = df_last.pivot_table(index='월', columns='연도', values='평당분양가격')\n",
    "p"
   ]
  },
  {
   "cell_type": "code",
   "execution_count": 67,
   "metadata": {
    "collapsed": true
   },
   "outputs": [
    {
     "data": {
      "text/plain": [
       "<matplotlib.axes._subplots.AxesSubplot at 0x182520296a0>"
      ]
     },
     "execution_count": 67,
     "metadata": {},
     "output_type": "execute_result"
    },
    {
     "data": {
      "image/png": "[encoded data removed]",
      "text/plain": [
       "<Figure size 432x288 with 1 Axes>"
      ]
     },
     "metadata": {
      "needs_background": "light"
     },
     "output_type": "display_data"
    }
   ],
   "source": [
    "p.plot(kind='box')"
   ]
  },
  {
   "cell_type": "code",
   "execution_count": 68,
   "metadata": {},
   "outputs": [
    {
     "data": {
      "text/html": [
       "<div>\n",
       "<style scoped>\n",
       "    .dataframe tbody tr th:only-of-type {\n",
       "        vertical-align: middle;\n",
       "    }\n",
       "\n",
       "    .dataframe tbody tr th {\n",
       "        vertical-align: top;\n",
       "    }\n",
       "\n",
       "    .dataframe thead tr th {\n",
       "        text-align: left;\n",
       "    }\n",
       "\n",
       "    .dataframe thead tr:last-of-type th {\n",
       "        text-align: right;\n",
       "    }\n",
       "</style>\n",
       "<table border=\"1\" class=\"dataframe\">\n",
       "  <thead>\n",
       "    <tr>\n",
       "      <th>연도</th>\n",
       "      <th colspan=\"5\" halign=\"left\">2015</th>\n",
       "      <th colspan=\"5\" halign=\"left\">2016</th>\n",
       "      <th>...</th>\n",
       "      <th colspan=\"5\" halign=\"left\">2018</th>\n",
       "      <th colspan=\"5\" halign=\"left\">2019</th>\n",
       "    </tr>\n",
       "    <tr>\n",
       "      <th>전용면적</th>\n",
       "      <th>102㎡</th>\n",
       "      <th>60㎡</th>\n",
       "      <th>60㎡85㎡</th>\n",
       "      <th>85㎡102㎡</th>\n",
       "      <th>전체</th>\n",
       "      <th>102㎡</th>\n",
       "      <th>60㎡</th>\n",
       "      <th>60㎡85㎡</th>\n",
       "      <th>85㎡102㎡</th>\n",
       "      <th>전체</th>\n",
       "      <th>...</th>\n",
       "      <th>102㎡</th>\n",
       "      <th>60㎡</th>\n",
       "      <th>60㎡85㎡</th>\n",
       "      <th>85㎡102㎡</th>\n",
       "      <th>전체</th>\n",
       "      <th>102㎡</th>\n",
       "      <th>60㎡</th>\n",
       "      <th>60㎡85㎡</th>\n",
       "      <th>85㎡102㎡</th>\n",
       "      <th>전체</th>\n",
       "    </tr>\n",
       "    <tr>\n",
       "      <th>월</th>\n",
       "      <th></th>\n",
       "      <th></th>\n",
       "      <th></th>\n",
       "      <th></th>\n",
       "      <th></th>\n",
       "      <th></th>\n",
       "      <th></th>\n",
       "      <th></th>\n",
       "      <th></th>\n",
       "      <th></th>\n",
       "      <th></th>\n",
       "      <th></th>\n",
       "      <th></th>\n",
       "      <th></th>\n",
       "      <th></th>\n",
       "      <th></th>\n",
       "      <th></th>\n",
       "      <th></th>\n",
       "      <th></th>\n",
       "      <th></th>\n",
       "      <th></th>\n",
       "    </tr>\n",
       "  </thead>\n",
       "  <tbody>\n",
       "    <tr>\n",
       "      <th>1</th>\n",
       "      <td>NaN</td>\n",
       "      <td>NaN</td>\n",
       "      <td>NaN</td>\n",
       "      <td>NaN</td>\n",
       "      <td>NaN</td>\n",
       "      <td>9915.840000</td>\n",
       "      <td>9195.243750</td>\n",
       "      <td>9035.205882</td>\n",
       "      <td>9554.118750</td>\n",
       "      <td>9042.970588</td>\n",
       "      <td>...</td>\n",
       "      <td>11220.220000</td>\n",
       "      <td>10839.40000</td>\n",
       "      <td>10160.505882</td>\n",
       "      <td>11286.000000</td>\n",
       "      <td>10362.776471</td>\n",
       "      <td>12322.64000</td>\n",
       "      <td>11130.900000</td>\n",
       "      <td>11375.100000</td>\n",
       "      <td>11640.514286</td>\n",
       "      <td>11245.575000</td>\n",
       "    </tr>\n",
       "    <tr>\n",
       "      <th>2</th>\n",
       "      <td>NaN</td>\n",
       "      <td>NaN</td>\n",
       "      <td>NaN</td>\n",
       "      <td>NaN</td>\n",
       "      <td>NaN</td>\n",
       "      <td>9861.060000</td>\n",
       "      <td>9228.243750</td>\n",
       "      <td>9033.070588</td>\n",
       "      <td>9725.980000</td>\n",
       "      <td>9052.676471</td>\n",
       "      <td>...</td>\n",
       "      <td>11243.100000</td>\n",
       "      <td>10852.16000</td>\n",
       "      <td>10281.052941</td>\n",
       "      <td>11292.600000</td>\n",
       "      <td>10416.158824</td>\n",
       "      <td>12398.32000</td>\n",
       "      <td>11190.520000</td>\n",
       "      <td>11394.075000</td>\n",
       "      <td>11667.150000</td>\n",
       "      <td>11262.900000</td>\n",
       "    </tr>\n",
       "    <tr>\n",
       "      <th>3</th>\n",
       "      <td>NaN</td>\n",
       "      <td>NaN</td>\n",
       "      <td>NaN</td>\n",
       "      <td>NaN</td>\n",
       "      <td>NaN</td>\n",
       "      <td>9952.092857</td>\n",
       "      <td>9218.756250</td>\n",
       "      <td>9059.276471</td>\n",
       "      <td>10006.778571</td>\n",
       "      <td>9063.741176</td>\n",
       "      <td>...</td>\n",
       "      <td>11320.320000</td>\n",
       "      <td>10970.74000</td>\n",
       "      <td>10430.717647</td>\n",
       "      <td>11505.600000</td>\n",
       "      <td>10568.347059</td>\n",
       "      <td>12491.38000</td>\n",
       "      <td>11161.920000</td>\n",
       "      <td>11456.156250</td>\n",
       "      <td>11644.050000</td>\n",
       "      <td>11328.281250</td>\n",
       "    </tr>\n",
       "    <tr>\n",
       "      <th>4</th>\n",
       "      <td>NaN</td>\n",
       "      <td>NaN</td>\n",
       "      <td>NaN</td>\n",
       "      <td>NaN</td>\n",
       "      <td>NaN</td>\n",
       "      <td>10282.181250</td>\n",
       "      <td>9260.382353</td>\n",
       "      <td>9173.805882</td>\n",
       "      <td>10230.000000</td>\n",
       "      <td>9177.494118</td>\n",
       "      <td>...</td>\n",
       "      <td>11125.840000</td>\n",
       "      <td>11002.20000</td>\n",
       "      <td>10496.523529</td>\n",
       "      <td>11575.575000</td>\n",
       "      <td>10625.029412</td>\n",
       "      <td>12980.22000</td>\n",
       "      <td>11243.807143</td>\n",
       "      <td>11505.037500</td>\n",
       "      <td>11777.464286</td>\n",
       "      <td>11391.187500</td>\n",
       "    </tr>\n",
       "    <tr>\n",
       "      <th>5</th>\n",
       "      <td>NaN</td>\n",
       "      <td>NaN</td>\n",
       "      <td>NaN</td>\n",
       "      <td>NaN</td>\n",
       "      <td>NaN</td>\n",
       "      <td>10177.200000</td>\n",
       "      <td>9343.270588</td>\n",
       "      <td>9210.105882</td>\n",
       "      <td>10161.800000</td>\n",
       "      <td>9219.229412</td>\n",
       "      <td>...</td>\n",
       "      <td>11536.800000</td>\n",
       "      <td>11027.98125</td>\n",
       "      <td>10641.141176</td>\n",
       "      <td>11727.100000</td>\n",
       "      <td>10741.888235</td>\n",
       "      <td>13371.80625</td>\n",
       "      <td>11420.828571</td>\n",
       "      <td>11582.175000</td>\n",
       "      <td>11930.207143</td>\n",
       "      <td>11501.737500</td>\n",
       "    </tr>\n",
       "    <tr>\n",
       "      <th>6</th>\n",
       "      <td>NaN</td>\n",
       "      <td>NaN</td>\n",
       "      <td>NaN</td>\n",
       "      <td>NaN</td>\n",
       "      <td>NaN</td>\n",
       "      <td>10181.118750</td>\n",
       "      <td>9302.117647</td>\n",
       "      <td>9340.164706</td>\n",
       "      <td>10349.900000</td>\n",
       "      <td>9315.900000</td>\n",
       "      <td>...</td>\n",
       "      <td>11101.907143</td>\n",
       "      <td>11038.50000</td>\n",
       "      <td>10618.429412</td>\n",
       "      <td>11340.069231</td>\n",
       "      <td>10647.741176</td>\n",
       "      <td>13674.32000</td>\n",
       "      <td>11489.940000</td>\n",
       "      <td>11771.100000</td>\n",
       "      <td>13655.653846</td>\n",
       "      <td>11676.018750</td>\n",
       "    </tr>\n",
       "    <tr>\n",
       "      <th>7</th>\n",
       "      <td>NaN</td>\n",
       "      <td>NaN</td>\n",
       "      <td>NaN</td>\n",
       "      <td>NaN</td>\n",
       "      <td>NaN</td>\n",
       "      <td>10225.050000</td>\n",
       "      <td>9310.076471</td>\n",
       "      <td>9368.311765</td>\n",
       "      <td>10377.400000</td>\n",
       "      <td>9332.400000</td>\n",
       "      <td>...</td>\n",
       "      <td>11079.750000</td>\n",
       "      <td>10628.20000</td>\n",
       "      <td>10617.264706</td>\n",
       "      <td>11624.376923</td>\n",
       "      <td>10579.217647</td>\n",
       "      <td>13533.91875</td>\n",
       "      <td>11513.040000</td>\n",
       "      <td>11780.793750</td>\n",
       "      <td>13904.550000</td>\n",
       "      <td>11704.893750</td>\n",
       "    </tr>\n",
       "    <tr>\n",
       "      <th>8</th>\n",
       "      <td>NaN</td>\n",
       "      <td>NaN</td>\n",
       "      <td>NaN</td>\n",
       "      <td>NaN</td>\n",
       "      <td>NaN</td>\n",
       "      <td>10355.193750</td>\n",
       "      <td>9290.664706</td>\n",
       "      <td>9380.152941</td>\n",
       "      <td>10315.800000</td>\n",
       "      <td>9360.935294</td>\n",
       "      <td>...</td>\n",
       "      <td>10994.185714</td>\n",
       "      <td>10609.94000</td>\n",
       "      <td>10604.841176</td>\n",
       "      <td>11440.592308</td>\n",
       "      <td>10562.911765</td>\n",
       "      <td>13702.01250</td>\n",
       "      <td>11694.100000</td>\n",
       "      <td>11818.537500</td>\n",
       "      <td>13951.575000</td>\n",
       "      <td>11758.312500</td>\n",
       "    </tr>\n",
       "    <tr>\n",
       "      <th>9</th>\n",
       "      <td>NaN</td>\n",
       "      <td>NaN</td>\n",
       "      <td>NaN</td>\n",
       "      <td>NaN</td>\n",
       "      <td>NaN</td>\n",
       "      <td>10361.175000</td>\n",
       "      <td>9449.841176</td>\n",
       "      <td>9338.417647</td>\n",
       "      <td>10295.560000</td>\n",
       "      <td>9345.600000</td>\n",
       "      <td>...</td>\n",
       "      <td>11529.540000</td>\n",
       "      <td>10539.54000</td>\n",
       "      <td>10813.905882</td>\n",
       "      <td>10983.814286</td>\n",
       "      <td>10749.652941</td>\n",
       "      <td>13854.01875</td>\n",
       "      <td>11756.140000</td>\n",
       "      <td>11740.041176</td>\n",
       "      <td>14043.700000</td>\n",
       "      <td>11677.147059</td>\n",
       "    </tr>\n",
       "    <tr>\n",
       "      <th>10</th>\n",
       "      <td>9631.82</td>\n",
       "      <td>8794.91250</td>\n",
       "      <td>8831.964706</td>\n",
       "      <td>9416.96250</td>\n",
       "      <td>8823.229412</td>\n",
       "      <td>10791.582353</td>\n",
       "      <td>9651.529412</td>\n",
       "      <td>9554.664706</td>\n",
       "      <td>10082.664706</td>\n",
       "      <td>9540.688235</td>\n",
       "      <td>...</td>\n",
       "      <td>11827.860000</td>\n",
       "      <td>10679.02000</td>\n",
       "      <td>10921.447059</td>\n",
       "      <td>11488.950000</td>\n",
       "      <td>10840.111765</td>\n",
       "      <td>13801.01250</td>\n",
       "      <td>11919.820000</td>\n",
       "      <td>11942.700000</td>\n",
       "      <td>13801.615385</td>\n",
       "      <td>11895.723529</td>\n",
       "    </tr>\n",
       "    <tr>\n",
       "      <th>11</th>\n",
       "      <td>9932.78</td>\n",
       "      <td>8903.60625</td>\n",
       "      <td>8875.641176</td>\n",
       "      <td>9586.50000</td>\n",
       "      <td>8879.329412</td>\n",
       "      <td>11061.405882</td>\n",
       "      <td>9673.852941</td>\n",
       "      <td>9498.952941</td>\n",
       "      <td>10147.912500</td>\n",
       "      <td>9491.964706</td>\n",
       "      <td>...</td>\n",
       "      <td>12028.940000</td>\n",
       "      <td>10827.91875</td>\n",
       "      <td>10986.476471</td>\n",
       "      <td>11495.078571</td>\n",
       "      <td>10904.364706</td>\n",
       "      <td>13873.40625</td>\n",
       "      <td>11744.700000</td>\n",
       "      <td>11881.358824</td>\n",
       "      <td>14298.625000</td>\n",
       "      <td>11892.229412</td>\n",
       "    </tr>\n",
       "    <tr>\n",
       "      <th>12</th>\n",
       "      <td>9947.08</td>\n",
       "      <td>9156.05625</td>\n",
       "      <td>8967.847059</td>\n",
       "      <td>9552.05625</td>\n",
       "      <td>8976.582353</td>\n",
       "      <td>11261.929412</td>\n",
       "      <td>9829.923529</td>\n",
       "      <td>9559.711765</td>\n",
       "      <td>10245.881250</td>\n",
       "      <td>9572.911765</td>\n",
       "      <td>...</td>\n",
       "      <td>12261.040000</td>\n",
       "      <td>11082.72000</td>\n",
       "      <td>11271.562500</td>\n",
       "      <td>11554.714286</td>\n",
       "      <td>11138.943750</td>\n",
       "      <td>13832.06000</td>\n",
       "      <td>11792.660000</td>\n",
       "      <td>11836.129412</td>\n",
       "      <td>14369.025000</td>\n",
       "      <td>11842.535294</td>\n",
       "    </tr>\n",
       "  </tbody>\n",
       "</table>\n",
       "<p>12 rows × 25 columns</p>\n",
       "</div>"
      ],
      "text/plain": [
       "연도       2015                                                            2016  \\\n",
       "전용면적     102㎡         60㎡       60㎡85㎡     85㎡102㎡           전체          102㎡   \n",
       "월                                                                               \n",
       "1         NaN         NaN          NaN         NaN          NaN   9915.840000   \n",
       "2         NaN         NaN          NaN         NaN          NaN   9861.060000   \n",
       "3         NaN         NaN          NaN         NaN          NaN   9952.092857   \n",
       "4         NaN         NaN          NaN         NaN          NaN  10282.181250   \n",
       "5         NaN         NaN          NaN         NaN          NaN  10177.200000   \n",
       "6         NaN         NaN          NaN         NaN          NaN  10181.118750   \n",
       "7         NaN         NaN          NaN         NaN          NaN  10225.050000   \n",
       "8         NaN         NaN          NaN         NaN          NaN  10355.193750   \n",
       "9         NaN         NaN          NaN         NaN          NaN  10361.175000   \n",
       "10    9631.82  8794.91250  8831.964706  9416.96250  8823.229412  10791.582353   \n",
       "11    9932.78  8903.60625  8875.641176  9586.50000  8879.329412  11061.405882   \n",
       "12    9947.08  9156.05625  8967.847059  9552.05625  8976.582353  11261.929412   \n",
       "\n",
       "연도                                                         ...          2018  \\\n",
       "전용면적          60㎡       60㎡85㎡       85㎡102㎡           전체  ...          102㎡   \n",
       "월                                                          ...                 \n",
       "1     9195.243750  9035.205882   9554.118750  9042.970588  ...  11220.220000   \n",
       "2     9228.243750  9033.070588   9725.980000  9052.676471  ...  11243.100000   \n",
       "3     9218.756250  9059.276471  10006.778571  9063.741176  ...  11320.320000   \n",
       "4     9260.382353  9173.805882  10230.000000  9177.494118  ...  11125.840000   \n",
       "5     9343.270588  9210.105882  10161.800000  9219.229412  ...  11536.800000   \n",
       "6     9302.117647  9340.164706  10349.900000  9315.900000  ...  11101.907143   \n",
       "7     9310.076471  9368.311765  10377.400000  9332.400000  ...  11079.750000   \n",
       "8     9290.664706  9380.152941  10315.800000  9360.935294  ...  10994.185714   \n",
       "9     9449.841176  9338.417647  10295.560000  9345.600000  ...  11529.540000   \n",
       "10    9651.529412  9554.664706  10082.664706  9540.688235  ...  11827.860000   \n",
       "11    9673.852941  9498.952941  10147.912500  9491.964706  ...  12028.940000   \n",
       "12    9829.923529  9559.711765  10245.881250  9572.911765  ...  12261.040000   \n",
       "\n",
       "연도                                                                  2019  \\\n",
       "전용면적          60㎡        60㎡85㎡       85㎡102㎡            전체         102㎡   \n",
       "월                                                                          \n",
       "1     10839.40000  10160.505882  11286.000000  10362.776471  12322.64000   \n",
       "2     10852.16000  10281.052941  11292.600000  10416.158824  12398.32000   \n",
       "3     10970.74000  10430.717647  11505.600000  10568.347059  12491.38000   \n",
       "4     11002.20000  10496.523529  11575.575000  10625.029412  12980.22000   \n",
       "5     11027.98125  10641.141176  11727.100000  10741.888235  13371.80625   \n",
       "6     11038.50000  10618.429412  11340.069231  10647.741176  13674.32000   \n",
       "7     10628.20000  10617.264706  11624.376923  10579.217647  13533.91875   \n",
       "8     10609.94000  10604.841176  11440.592308  10562.911765  13702.01250   \n",
       "9     10539.54000  10813.905882  10983.814286  10749.652941  13854.01875   \n",
       "10    10679.02000  10921.447059  11488.950000  10840.111765  13801.01250   \n",
       "11    10827.91875  10986.476471  11495.078571  10904.364706  13873.40625   \n",
       "12    11082.72000  11271.562500  11554.714286  11138.943750  13832.06000   \n",
       "\n",
       "연도                                                            \n",
       "전용면적           60㎡        60㎡85㎡       85㎡102㎡            전체  \n",
       "월                                                             \n",
       "1     11130.900000  11375.100000  11640.514286  11245.575000  \n",
       "2     11190.520000  11394.075000  11667.150000  11262.900000  \n",
       "3     11161.920000  11456.156250  11644.050000  11328.281250  \n",
       "4     11243.807143  11505.037500  11777.464286  11391.187500  \n",
       "5     11420.828571  11582.175000  11930.207143  11501.737500  \n",
       "6     11489.940000  11771.100000  13655.653846  11676.018750  \n",
       "7     11513.040000  11780.793750  13904.550000  11704.893750  \n",
       "8     11694.100000  11818.537500  13951.575000  11758.312500  \n",
       "9     11756.140000  11740.041176  14043.700000  11677.147059  \n",
       "10    11919.820000  11942.700000  13801.615385  11895.723529  \n",
       "11    11744.700000  11881.358824  14298.625000  11892.229412  \n",
       "12    11792.660000  11836.129412  14369.025000  11842.535294  \n",
       "\n",
       "[12 rows x 25 columns]"
      ]
     },
     "execution_count": 68,
     "metadata": {},
     "output_type": "execute_result"
    }
   ],
   "source": [
    "p = df_last.pivot_table(index='월', columns=['연도','전용면적'],\\\n",
    "                        values='평당분양가격')\n",
    "p"
   ]
  },
  {
   "cell_type": "code",
   "execution_count": 73,
   "metadata": {},
   "outputs": [
    {
     "data": {
      "text/plain": [
       "<matplotlib.axes._subplots.AxesSubplot at 0x182537ff310>"
      ]
     },
     "execution_count": 73,
     "metadata": {},
     "output_type": "execute_result"
    },
    {
     "data": {
      "text/plain": [
       "<Figure size 1440x216 with 0 Axes>"
      ]
     },
     "metadata": {},
     "output_type": "display_data"
    },
    {
     "data": {
      "image/png": "[encoded data removed]",
      "text/plain": [
       "<Figure size 432x288 with 1 Axes>"
      ]
     },
     "metadata": {
      "needs_background": "light"
     },
     "output_type": "display_data"
    }
   ],
   "source": [
    "plt.figure(figsize=(20,3))\n",
    "p.plot(kind='box', rot=30)"
   ]
  },
  {
   "cell_type": "code",
   "execution_count": 74,
   "metadata": {},
   "outputs": [],
   "source": [
    "# seaborn"
   ]
  },
  {
   "cell_type": "code",
   "execution_count": 75,
   "metadata": {
    "collapsed": true
   },
   "outputs": [
    {
     "data": {
      "text/plain": [
       "<matplotlib.axes._subplots.AxesSubplot at 0x18251c968b0>"
      ]
     },
     "execution_count": 75,
     "metadata": {},
     "output_type": "execute_result"
    },
    {
     "data": {
      "image/png": "[encoded data removed]",
      "text/plain": [
       "<Figure size 720x216 with 1 Axes>"
      ]
     },
     "metadata": {
      "needs_background": "light"
     },
     "output_type": "display_data"
    }
   ],
   "source": [
    "plt.figure(figsize=(10,3))\n",
    "sns.barplot(data=df_last, x='지역명', y='평당분양가격')"
   ]
  },
  {
   "cell_type": "code",
   "execution_count": 78,
   "metadata": {},
   "outputs": [],
   "source": [
    "df_2019 = df_last[df_last['연도'] == 2019]"
   ]
  },
  {
   "cell_type": "code",
   "execution_count": 79,
   "metadata": {
    "collapsed": true
   },
   "outputs": [
    {
     "data": {
      "text/plain": [
       "<matplotlib.axes._subplots.AxesSubplot at 0x18251bc4d60>"
      ]
     },
     "execution_count": 79,
     "metadata": {},
     "output_type": "execute_result"
    },
    {
     "data": {
      "image/png": "[encoded data removed]",
      "text/plain": [
       "<Figure size 720x216 with 1 Axes>"
      ]
     },
     "metadata": {
      "needs_background": "light"
     },
     "output_type": "display_data"
    }
   ],
   "source": [
    "plt.figure(figsize=(10,3))\n",
    "sns.barplot(data=df_2019, x='지역명', y='평당분양가격')"
   ]
  },
  {
   "cell_type": "code",
   "execution_count": 80,
   "metadata": {
    "collapsed": true
   },
   "outputs": [
    {
     "data": {
      "text/plain": [
       "<matplotlib.axes._subplots.AxesSubplot at 0x18253bbcfa0>"
      ]
     },
     "execution_count": 80,
     "metadata": {},
     "output_type": "execute_result"
    },
    {
     "data": {
      "image/png": "[encoded data removed]",
      "text/plain": [
       "<Figure size 432x288 with 1 Axes>"
      ]
     },
     "metadata": {
      "needs_background": "light"
     },
     "output_type": "display_data"
    }
   ],
   "source": [
    "# 연도별 평균분양가\n",
    "sns.barplot(data=df_last, x='연도', y='평당분양가격')"
   ]
  },
  {
   "cell_type": "code",
   "execution_count": 82,
   "metadata": {
    "collapsed": true
   },
   "outputs": [
    {
     "data": {
      "text/plain": [
       "<seaborn.axisgrid.FacetGrid at 0x18254b11d60>"
      ]
     },
     "execution_count": 82,
     "metadata": {},
     "output_type": "execute_result"
    },
    {
     "data": {
      "image/png": "[encoded data removed]",
      "text/plain": [
       "<Figure size 1440x1800 with 17 Axes>"
      ]
     },
     "metadata": {
      "needs_background": "light"
     },
     "output_type": "display_data"
    }
   ],
   "source": [
    "sns.catplot(data=df_last, x='연도', y='평당분양가격', kind='bar',\\\n",
    "           col='지역명', col_wrap=4)"
   ]
  },
  {
   "cell_type": "code",
   "execution_count": 86,
   "metadata": {},
   "outputs": [
    {
     "data": {
      "text/plain": [
       "<seaborn.axisgrid.FacetGrid at 0x182525789d0>"
      ]
     },
     "execution_count": 86,
     "metadata": {},
     "output_type": "execute_result"
    },
    {
     "data": {
      "text/plain": [
       "<Figure size 720x360 with 0 Axes>"
      ]
     },
     "metadata": {},
     "output_type": "display_data"
    },
    {
     "data": {
      "image/png": "[encoded data removed]",
      "text/plain": [
       "<Figure size 426x360 with 1 Axes>"
      ]
     },
     "metadata": {
      "needs_background": "light"
     },
     "output_type": "display_data"
    }
   ],
   "source": [
    "plt.figure(figsize=(10,5))\n",
    "sns.relplot(data=df_last, x='연도', y='평당분양가격', kind='line', \\\n",
    "             hue='지역명')"
   ]
  },
  {
   "cell_type": "code",
   "execution_count": 87,
   "metadata": {
    "collapsed": true
   },
   "outputs": [
    {
     "data": {
      "text/plain": [
       "<seaborn.axisgrid.FacetGrid at 0x18256337fd0>"
      ]
     },
     "execution_count": 87,
     "metadata": {},
     "output_type": "execute_result"
    },
    {
     "data": {
      "text/plain": [
       "<Figure size 720x360 with 0 Axes>"
      ]
     },
     "metadata": {},
     "output_type": "display_data"
    },
    {
     "data": {
      "image/png": "[encoded data removed]",
      "text/plain": [
       "<Figure size 1440x1800 with 17 Axes>"
      ]
     },
     "metadata": {
      "needs_background": "light"
     },
     "output_type": "display_data"
    }
   ],
   "source": [
    "plt.figure(figsize=(10,5))\n",
    "sns.relplot(data=df_last, x='연도', y='평당분양가격',col='지역명', \\\n",
    "            col_wrap=4, kind='line')"
   ]
  },
  {
   "cell_type": "code",
   "execution_count": null,
   "metadata": {},
   "outputs": [],
   "source": []
  },
  {
   "cell_type": "markdown",
   "metadata": {},
   "source": [
    "##### 2015년 8월 이전 데이터 보기"
   ]
  },
  {
   "cell_type": "code",
   "execution_count": 88,
   "metadata": {
    "collapsed": true
   },
   "outputs": [
    {
     "data": {
      "text/html": [
       "<div>\n",
       "<style scoped>\n",
       "    .dataframe tbody tr th:only-of-type {\n",
       "        vertical-align: middle;\n",
       "    }\n",
       "\n",
       "    .dataframe tbody tr th {\n",
       "        vertical-align: top;\n",
       "    }\n",
       "\n",
       "    .dataframe thead th {\n",
       "        text-align: right;\n",
       "    }\n",
       "</style>\n",
       "<table border=\"1\" class=\"dataframe\">\n",
       "  <thead>\n",
       "    <tr style=\"text-align: right;\">\n",
       "      <th></th>\n",
       "      <th>지역</th>\n",
       "      <th>2013년12월</th>\n",
       "      <th>2014년1월</th>\n",
       "      <th>2014년2월</th>\n",
       "      <th>2014년3월</th>\n",
       "      <th>2014년4월</th>\n",
       "      <th>2014년5월</th>\n",
       "      <th>2014년6월</th>\n",
       "      <th>2014년7월</th>\n",
       "      <th>2014년8월</th>\n",
       "      <th>...</th>\n",
       "      <th>2014년11월</th>\n",
       "      <th>2014년12월</th>\n",
       "      <th>2015년1월</th>\n",
       "      <th>2015년2월</th>\n",
       "      <th>2015년3월</th>\n",
       "      <th>2015년4월</th>\n",
       "      <th>2015년5월</th>\n",
       "      <th>2015년6월</th>\n",
       "      <th>2015년7월</th>\n",
       "      <th>2015년8월</th>\n",
       "    </tr>\n",
       "  </thead>\n",
       "  <tbody>\n",
       "    <tr>\n",
       "      <th>0</th>\n",
       "      <td>서울</td>\n",
       "      <td>18189</td>\n",
       "      <td>17925</td>\n",
       "      <td>17925</td>\n",
       "      <td>18016</td>\n",
       "      <td>18098</td>\n",
       "      <td>19446</td>\n",
       "      <td>18867</td>\n",
       "      <td>18742</td>\n",
       "      <td>19274</td>\n",
       "      <td>...</td>\n",
       "      <td>20242</td>\n",
       "      <td>20269</td>\n",
       "      <td>20670</td>\n",
       "      <td>20670</td>\n",
       "      <td>19415</td>\n",
       "      <td>18842</td>\n",
       "      <td>18367</td>\n",
       "      <td>18374</td>\n",
       "      <td>18152</td>\n",
       "      <td>18443</td>\n",
       "    </tr>\n",
       "    <tr>\n",
       "      <th>1</th>\n",
       "      <td>부산</td>\n",
       "      <td>8111</td>\n",
       "      <td>8111</td>\n",
       "      <td>9078</td>\n",
       "      <td>8965</td>\n",
       "      <td>9402</td>\n",
       "      <td>9501</td>\n",
       "      <td>9453</td>\n",
       "      <td>9457</td>\n",
       "      <td>9411</td>\n",
       "      <td>...</td>\n",
       "      <td>9208</td>\n",
       "      <td>9208</td>\n",
       "      <td>9204</td>\n",
       "      <td>9235</td>\n",
       "      <td>9279</td>\n",
       "      <td>9327</td>\n",
       "      <td>9345</td>\n",
       "      <td>9515</td>\n",
       "      <td>9559</td>\n",
       "      <td>9581</td>\n",
       "    </tr>\n",
       "    <tr>\n",
       "      <th>2</th>\n",
       "      <td>대구</td>\n",
       "      <td>8080</td>\n",
       "      <td>8080</td>\n",
       "      <td>8077</td>\n",
       "      <td>8101</td>\n",
       "      <td>8267</td>\n",
       "      <td>8274</td>\n",
       "      <td>8360</td>\n",
       "      <td>8360</td>\n",
       "      <td>8370</td>\n",
       "      <td>...</td>\n",
       "      <td>8439</td>\n",
       "      <td>8253</td>\n",
       "      <td>8327</td>\n",
       "      <td>8416</td>\n",
       "      <td>8441</td>\n",
       "      <td>8446</td>\n",
       "      <td>8568</td>\n",
       "      <td>8542</td>\n",
       "      <td>8542</td>\n",
       "      <td>8795</td>\n",
       "    </tr>\n",
       "    <tr>\n",
       "      <th>3</th>\n",
       "      <td>인천</td>\n",
       "      <td>10204</td>\n",
       "      <td>10204</td>\n",
       "      <td>10408</td>\n",
       "      <td>10408</td>\n",
       "      <td>10000</td>\n",
       "      <td>9844</td>\n",
       "      <td>10058</td>\n",
       "      <td>9974</td>\n",
       "      <td>9973</td>\n",
       "      <td>...</td>\n",
       "      <td>10020</td>\n",
       "      <td>10020</td>\n",
       "      <td>10017</td>\n",
       "      <td>9876</td>\n",
       "      <td>9876</td>\n",
       "      <td>9938</td>\n",
       "      <td>10551</td>\n",
       "      <td>10443</td>\n",
       "      <td>10443</td>\n",
       "      <td>10449</td>\n",
       "    </tr>\n",
       "    <tr>\n",
       "      <th>4</th>\n",
       "      <td>광주</td>\n",
       "      <td>6098</td>\n",
       "      <td>7326</td>\n",
       "      <td>7611</td>\n",
       "      <td>7346</td>\n",
       "      <td>7346</td>\n",
       "      <td>7523</td>\n",
       "      <td>7659</td>\n",
       "      <td>7612</td>\n",
       "      <td>7622</td>\n",
       "      <td>...</td>\n",
       "      <td>7752</td>\n",
       "      <td>7748</td>\n",
       "      <td>7752</td>\n",
       "      <td>7756</td>\n",
       "      <td>7861</td>\n",
       "      <td>7914</td>\n",
       "      <td>7877</td>\n",
       "      <td>7881</td>\n",
       "      <td>8089</td>\n",
       "      <td>8231</td>\n",
       "    </tr>\n",
       "  </tbody>\n",
       "</table>\n",
       "<p>5 rows × 22 columns</p>\n",
       "</div>"
      ],
      "text/plain": [
       "   지역  2013년12월  2014년1월  2014년2월  2014년3월  2014년4월  2014년5월  2014년6월  \\\n",
       "0  서울     18189    17925    17925    18016    18098    19446    18867   \n",
       "1  부산      8111     8111     9078     8965     9402     9501     9453   \n",
       "2  대구      8080     8080     8077     8101     8267     8274     8360   \n",
       "3  인천     10204    10204    10408    10408    10000     9844    10058   \n",
       "4  광주      6098     7326     7611     7346     7346     7523     7659   \n",
       "\n",
       "   2014년7월  2014년8월  ...  2014년11월  2014년12월  2015년1월  2015년2월  2015년3월  \\\n",
       "0    18742    19274  ...     20242     20269    20670    20670    19415   \n",
       "1     9457     9411  ...      9208      9208     9204     9235     9279   \n",
       "2     8360     8370  ...      8439      8253     8327     8416     8441   \n",
       "3     9974     9973  ...     10020     10020    10017     9876     9876   \n",
       "4     7612     7622  ...      7752      7748     7752     7756     7861   \n",
       "\n",
       "   2015년4월  2015년5월  2015년6월  2015년7월  2015년8월  \n",
       "0    18842    18367    18374    18152    18443  \n",
       "1     9327     9345     9515     9559     9581  \n",
       "2     8446     8568     8542     8542     8795  \n",
       "3     9938    10551    10443    10443    10449  \n",
       "4     7914     7877     7881     8089     8231  \n",
       "\n",
       "[5 rows x 22 columns]"
      ]
     },
     "execution_count": 88,
     "metadata": {},
     "output_type": "execute_result"
    }
   ],
   "source": [
    "df_first.head()"
   ]
  },
  {
   "cell_type": "code",
   "execution_count": 89,
   "metadata": {
    "collapsed": true
   },
   "outputs": [
    {
     "name": "stdout",
     "output_type": "stream",
     "text": [
      "<class 'pandas.core.frame.DataFrame'>\n",
      "RangeIndex: 17 entries, 0 to 16\n",
      "Data columns (total 22 columns):\n",
      " #   Column    Non-Null Count  Dtype \n",
      "---  ------    --------------  ----- \n",
      " 0   지역        17 non-null     object\n",
      " 1   2013년12월  17 non-null     int64 \n",
      " 2   2014년1월   17 non-null     int64 \n",
      " 3   2014년2월   17 non-null     int64 \n",
      " 4   2014년3월   17 non-null     int64 \n",
      " 5   2014년4월   17 non-null     int64 \n",
      " 6   2014년5월   17 non-null     int64 \n",
      " 7   2014년6월   17 non-null     int64 \n",
      " 8   2014년7월   17 non-null     int64 \n",
      " 9   2014년8월   17 non-null     int64 \n",
      " 10  2014년9월   17 non-null     int64 \n",
      " 11  2014년10월  17 non-null     int64 \n",
      " 12  2014년11월  17 non-null     int64 \n",
      " 13  2014년12월  17 non-null     int64 \n",
      " 14  2015년1월   17 non-null     int64 \n",
      " 15  2015년2월   17 non-null     int64 \n",
      " 16  2015년3월   17 non-null     int64 \n",
      " 17  2015년4월   17 non-null     int64 \n",
      " 18  2015년5월   17 non-null     int64 \n",
      " 19  2015년6월   17 non-null     int64 \n",
      " 20  2015년7월   17 non-null     int64 \n",
      " 21  2015년8월   17 non-null     int64 \n",
      "dtypes: int64(21), object(1)\n",
      "memory usage: 3.0+ KB\n"
     ]
    }
   ],
   "source": [
    "df_first.info()"
   ]
  },
  {
   "cell_type": "code",
   "execution_count": 91,
   "metadata": {
    "collapsed": true
   },
   "outputs": [
    {
     "data": {
      "text/plain": [
       "지역          0\n",
       "2013년12월    0\n",
       "2014년1월     0\n",
       "2014년2월     0\n",
       "2014년3월     0\n",
       "2014년4월     0\n",
       "2014년5월     0\n",
       "2014년6월     0\n",
       "2014년7월     0\n",
       "2014년8월     0\n",
       "2014년9월     0\n",
       "2014년10월    0\n",
       "2014년11월    0\n",
       "2014년12월    0\n",
       "2015년1월     0\n",
       "2015년2월     0\n",
       "2015년3월     0\n",
       "2015년4월     0\n",
       "2015년5월     0\n",
       "2015년6월     0\n",
       "2015년7월     0\n",
       "2015년8월     0\n",
       "dtype: int64"
      ]
     },
     "execution_count": 91,
     "metadata": {},
     "output_type": "execute_result"
    }
   ],
   "source": [
    "df_first.isnull().sum()"
   ]
  },
  {
   "cell_type": "code",
   "execution_count": 92,
   "metadata": {},
   "outputs": [],
   "source": [
    "# df_first와 유사한 형태로 df를 변형.. - melt"
   ]
  },
  {
   "cell_type": "code",
   "execution_count": 94,
   "metadata": {},
   "outputs": [
    {
     "data": {
      "text/html": [
       "<div>\n",
       "<style scoped>\n",
       "    .dataframe tbody tr th:only-of-type {\n",
       "        vertical-align: middle;\n",
       "    }\n",
       "\n",
       "    .dataframe tbody tr th {\n",
       "        vertical-align: top;\n",
       "    }\n",
       "\n",
       "    .dataframe thead th {\n",
       "        text-align: right;\n",
       "    }\n",
       "</style>\n",
       "<table border=\"1\" class=\"dataframe\">\n",
       "  <thead>\n",
       "    <tr style=\"text-align: right;\">\n",
       "      <th></th>\n",
       "      <th>지역</th>\n",
       "      <th>2013년12월</th>\n",
       "      <th>2014년1월</th>\n",
       "      <th>2014년2월</th>\n",
       "      <th>2014년3월</th>\n",
       "      <th>2014년4월</th>\n",
       "      <th>2014년5월</th>\n",
       "      <th>2014년6월</th>\n",
       "      <th>2014년7월</th>\n",
       "      <th>2014년8월</th>\n",
       "      <th>...</th>\n",
       "      <th>2014년11월</th>\n",
       "      <th>2014년12월</th>\n",
       "      <th>2015년1월</th>\n",
       "      <th>2015년2월</th>\n",
       "      <th>2015년3월</th>\n",
       "      <th>2015년4월</th>\n",
       "      <th>2015년5월</th>\n",
       "      <th>2015년6월</th>\n",
       "      <th>2015년7월</th>\n",
       "      <th>2015년8월</th>\n",
       "    </tr>\n",
       "  </thead>\n",
       "  <tbody>\n",
       "    <tr>\n",
       "      <th>0</th>\n",
       "      <td>서울</td>\n",
       "      <td>18189</td>\n",
       "      <td>17925</td>\n",
       "      <td>17925</td>\n",
       "      <td>18016</td>\n",
       "      <td>18098</td>\n",
       "      <td>19446</td>\n",
       "      <td>18867</td>\n",
       "      <td>18742</td>\n",
       "      <td>19274</td>\n",
       "      <td>...</td>\n",
       "      <td>20242</td>\n",
       "      <td>20269</td>\n",
       "      <td>20670</td>\n",
       "      <td>20670</td>\n",
       "      <td>19415</td>\n",
       "      <td>18842</td>\n",
       "      <td>18367</td>\n",
       "      <td>18374</td>\n",
       "      <td>18152</td>\n",
       "      <td>18443</td>\n",
       "    </tr>\n",
       "    <tr>\n",
       "      <th>1</th>\n",
       "      <td>부산</td>\n",
       "      <td>8111</td>\n",
       "      <td>8111</td>\n",
       "      <td>9078</td>\n",
       "      <td>8965</td>\n",
       "      <td>9402</td>\n",
       "      <td>9501</td>\n",
       "      <td>9453</td>\n",
       "      <td>9457</td>\n",
       "      <td>9411</td>\n",
       "      <td>...</td>\n",
       "      <td>9208</td>\n",
       "      <td>9208</td>\n",
       "      <td>9204</td>\n",
       "      <td>9235</td>\n",
       "      <td>9279</td>\n",
       "      <td>9327</td>\n",
       "      <td>9345</td>\n",
       "      <td>9515</td>\n",
       "      <td>9559</td>\n",
       "      <td>9581</td>\n",
       "    </tr>\n",
       "  </tbody>\n",
       "</table>\n",
       "<p>2 rows × 22 columns</p>\n",
       "</div>"
      ],
      "text/plain": [
       "   지역  2013년12월  2014년1월  2014년2월  2014년3월  2014년4월  2014년5월  2014년6월  \\\n",
       "0  서울     18189    17925    17925    18016    18098    19446    18867   \n",
       "1  부산      8111     8111     9078     8965     9402     9501     9453   \n",
       "\n",
       "   2014년7월  2014년8월  ...  2014년11월  2014년12월  2015년1월  2015년2월  2015년3월  \\\n",
       "0    18742    19274  ...     20242     20269    20670    20670    19415   \n",
       "1     9457     9411  ...      9208      9208     9204     9235     9279   \n",
       "\n",
       "   2015년4월  2015년5월  2015년6월  2015년7월  2015년8월  \n",
       "0    18842    18367    18374    18152    18443  \n",
       "1     9327     9345     9515     9559     9581  \n",
       "\n",
       "[2 rows x 22 columns]"
      ]
     },
     "execution_count": 94,
     "metadata": {},
     "output_type": "execute_result"
    }
   ],
   "source": [
    "df_first.head(2)"
   ]
  },
  {
   "cell_type": "code",
   "execution_count": 96,
   "metadata": {},
   "outputs": [
    {
     "data": {
      "text/html": [
       "<div>\n",
       "<style scoped>\n",
       "    .dataframe tbody tr th:only-of-type {\n",
       "        vertical-align: middle;\n",
       "    }\n",
       "\n",
       "    .dataframe tbody tr th {\n",
       "        vertical-align: top;\n",
       "    }\n",
       "\n",
       "    .dataframe thead th {\n",
       "        text-align: right;\n",
       "    }\n",
       "</style>\n",
       "<table border=\"1\" class=\"dataframe\">\n",
       "  <thead>\n",
       "    <tr style=\"text-align: right;\">\n",
       "      <th></th>\n",
       "      <th>지역</th>\n",
       "      <th>기간</th>\n",
       "      <th>평당분양가격</th>\n",
       "    </tr>\n",
       "  </thead>\n",
       "  <tbody>\n",
       "    <tr>\n",
       "      <th>0</th>\n",
       "      <td>서울</td>\n",
       "      <td>2013년12월</td>\n",
       "      <td>18189</td>\n",
       "    </tr>\n",
       "  </tbody>\n",
       "</table>\n",
       "</div>"
      ],
      "text/plain": [
       "   지역        기간  평당분양가격\n",
       "0  서울  2013년12월   18189"
      ]
     },
     "execution_count": 96,
     "metadata": {},
     "output_type": "execute_result"
    }
   ],
   "source": [
    "# id_var는 특정 칼럼을 남기고 나머지는 모두 하나의 칼럼의 row 값으로\n",
    "# 바꾼다..\n",
    "\n",
    "df_first_melt = df_first.melt(id_vars='지역', var_name='기간', \\\n",
    "                              value_name='평당분양가격')\n",
    "df_first_melt.head(1)"
   ]
  },
  {
   "cell_type": "code",
   "execution_count": 104,
   "metadata": {},
   "outputs": [],
   "source": [
    "df_first_melt.columns = ['지역명','기간','평당분양가격']"
   ]
  },
  {
   "cell_type": "code",
   "execution_count": 105,
   "metadata": {},
   "outputs": [
    {
     "data": {
      "text/html": [
       "<div>\n",
       "<style scoped>\n",
       "    .dataframe tbody tr th:only-of-type {\n",
       "        vertical-align: middle;\n",
       "    }\n",
       "\n",
       "    .dataframe tbody tr th {\n",
       "        vertical-align: top;\n",
       "    }\n",
       "\n",
       "    .dataframe thead th {\n",
       "        text-align: right;\n",
       "    }\n",
       "</style>\n",
       "<table border=\"1\" class=\"dataframe\">\n",
       "  <thead>\n",
       "    <tr style=\"text-align: right;\">\n",
       "      <th></th>\n",
       "      <th>지역명</th>\n",
       "      <th>기간</th>\n",
       "      <th>평당분양가격</th>\n",
       "    </tr>\n",
       "  </thead>\n",
       "  <tbody>\n",
       "    <tr>\n",
       "      <th>0</th>\n",
       "      <td>서울</td>\n",
       "      <td>2013년12월</td>\n",
       "      <td>18189</td>\n",
       "    </tr>\n",
       "    <tr>\n",
       "      <th>1</th>\n",
       "      <td>부산</td>\n",
       "      <td>2013년12월</td>\n",
       "      <td>8111</td>\n",
       "    </tr>\n",
       "  </tbody>\n",
       "</table>\n",
       "</div>"
      ],
      "text/plain": [
       "  지역명        기간  평당분양가격\n",
       "0  서울  2013년12월   18189\n",
       "1  부산  2013년12월    8111"
      ]
     },
     "execution_count": 105,
     "metadata": {},
     "output_type": "execute_result"
    }
   ],
   "source": [
    "df_first_melt.head(2)"
   ]
  },
  {
   "cell_type": "code",
   "execution_count": 103,
   "metadata": {},
   "outputs": [
    {
     "data": {
      "text/html": [
       "<div>\n",
       "<style scoped>\n",
       "    .dataframe tbody tr th:only-of-type {\n",
       "        vertical-align: middle;\n",
       "    }\n",
       "\n",
       "    .dataframe tbody tr th {\n",
       "        vertical-align: top;\n",
       "    }\n",
       "\n",
       "    .dataframe thead th {\n",
       "        text-align: right;\n",
       "    }\n",
       "</style>\n",
       "<table border=\"1\" class=\"dataframe\">\n",
       "  <thead>\n",
       "    <tr style=\"text-align: right;\">\n",
       "      <th></th>\n",
       "      <th>지역명</th>\n",
       "      <th>연도</th>\n",
       "      <th>월</th>\n",
       "      <th>평당분양가격</th>\n",
       "      <th>전용면적</th>\n",
       "    </tr>\n",
       "  </thead>\n",
       "  <tbody>\n",
       "    <tr>\n",
       "      <th>0</th>\n",
       "      <td>서울</td>\n",
       "      <td>2015</td>\n",
       "      <td>10</td>\n",
       "      <td>19275.3</td>\n",
       "      <td>전체</td>\n",
       "    </tr>\n",
       "  </tbody>\n",
       "</table>\n",
       "</div>"
      ],
      "text/plain": [
       "  지역명    연도   월   평당분양가격 전용면적\n",
       "0  서울  2015  10  19275.3   전체"
      ]
     },
     "execution_count": 103,
     "metadata": {},
     "output_type": "execute_result"
    }
   ],
   "source": [
    "df_last.head(1)"
   ]
  },
  {
   "cell_type": "code",
   "execution_count": null,
   "metadata": {},
   "outputs": [],
   "source": [
    "# df_first_melt의 '기간' 칼럼값을 '연도','월'로 칼럼을 나눈다.."
   ]
  },
  {
   "cell_type": "code",
   "execution_count": 118,
   "metadata": {},
   "outputs": [
    {
     "data": {
      "text/plain": [
       "2013"
      ]
     },
     "execution_count": 118,
     "metadata": {},
     "output_type": "execute_result"
    }
   ],
   "source": [
    "int(df_first_melt.기간[0].split('년')[0])"
   ]
  },
  {
   "cell_type": "code",
   "execution_count": 121,
   "metadata": {},
   "outputs": [
    {
     "data": {
      "text/plain": [
       "'12'"
      ]
     },
     "execution_count": 121,
     "metadata": {},
     "output_type": "execute_result"
    }
   ],
   "source": [
    "df_first_melt.기간[0].split('년')[1][:-1]"
   ]
  },
  {
   "cell_type": "code",
   "execution_count": 114,
   "metadata": {},
   "outputs": [],
   "source": [
    "month_list = []\n",
    "year_list = []\n",
    "\n",
    "for i in df_first_melt.기간:\n",
    "    year_list.append(int(i.split('년')[0]))\n",
    "    month_list.append(int(i.split('년')[1][:-1]))\n",
    "    \n",
    "df_first_melt['연도'] = year_list\n",
    "df_first_melt['월'] = month_list"
   ]
  },
  {
   "cell_type": "code",
   "execution_count": 115,
   "metadata": {
    "collapsed": true
   },
   "outputs": [
    {
     "data": {
      "text/html": [
       "<div>\n",
       "<style scoped>\n",
       "    .dataframe tbody tr th:only-of-type {\n",
       "        vertical-align: middle;\n",
       "    }\n",
       "\n",
       "    .dataframe tbody tr th {\n",
       "        vertical-align: top;\n",
       "    }\n",
       "\n",
       "    .dataframe thead th {\n",
       "        text-align: right;\n",
       "    }\n",
       "</style>\n",
       "<table border=\"1\" class=\"dataframe\">\n",
       "  <thead>\n",
       "    <tr style=\"text-align: right;\">\n",
       "      <th></th>\n",
       "      <th>지역명</th>\n",
       "      <th>기간</th>\n",
       "      <th>평당분양가격</th>\n",
       "      <th>연도</th>\n",
       "      <th>월</th>\n",
       "    </tr>\n",
       "  </thead>\n",
       "  <tbody>\n",
       "    <tr>\n",
       "      <th>0</th>\n",
       "      <td>서울</td>\n",
       "      <td>2013년12월</td>\n",
       "      <td>18189</td>\n",
       "      <td>2013</td>\n",
       "      <td>12</td>\n",
       "    </tr>\n",
       "    <tr>\n",
       "      <th>1</th>\n",
       "      <td>부산</td>\n",
       "      <td>2013년12월</td>\n",
       "      <td>8111</td>\n",
       "      <td>2013</td>\n",
       "      <td>12</td>\n",
       "    </tr>\n",
       "    <tr>\n",
       "      <th>2</th>\n",
       "      <td>대구</td>\n",
       "      <td>2013년12월</td>\n",
       "      <td>8080</td>\n",
       "      <td>2013</td>\n",
       "      <td>12</td>\n",
       "    </tr>\n",
       "    <tr>\n",
       "      <th>3</th>\n",
       "      <td>인천</td>\n",
       "      <td>2013년12월</td>\n",
       "      <td>10204</td>\n",
       "      <td>2013</td>\n",
       "      <td>12</td>\n",
       "    </tr>\n",
       "    <tr>\n",
       "      <th>4</th>\n",
       "      <td>광주</td>\n",
       "      <td>2013년12월</td>\n",
       "      <td>6098</td>\n",
       "      <td>2013</td>\n",
       "      <td>12</td>\n",
       "    </tr>\n",
       "  </tbody>\n",
       "</table>\n",
       "</div>"
      ],
      "text/plain": [
       "  지역명        기간  평당분양가격    연도   월\n",
       "0  서울  2013년12월   18189  2013  12\n",
       "1  부산  2013년12월    8111  2013  12\n",
       "2  대구  2013년12월    8080  2013  12\n",
       "3  인천  2013년12월   10204  2013  12\n",
       "4  광주  2013년12월    6098  2013  12"
      ]
     },
     "execution_count": 115,
     "metadata": {},
     "output_type": "execute_result"
    }
   ],
   "source": [
    "df_first_melt.head()"
   ]
  },
  {
   "cell_type": "code",
   "execution_count": 123,
   "metadata": {},
   "outputs": [
    {
     "data": {
      "text/html": [
       "<div>\n",
       "<style scoped>\n",
       "    .dataframe tbody tr th:only-of-type {\n",
       "        vertical-align: middle;\n",
       "    }\n",
       "\n",
       "    .dataframe tbody tr th {\n",
       "        vertical-align: top;\n",
       "    }\n",
       "\n",
       "    .dataframe thead th {\n",
       "        text-align: right;\n",
       "    }\n",
       "</style>\n",
       "<table border=\"1\" class=\"dataframe\">\n",
       "  <thead>\n",
       "    <tr style=\"text-align: right;\">\n",
       "      <th></th>\n",
       "      <th>지역명</th>\n",
       "      <th>기간</th>\n",
       "      <th>평당분양가격</th>\n",
       "      <th>연도</th>\n",
       "      <th>월</th>\n",
       "    </tr>\n",
       "  </thead>\n",
       "  <tbody>\n",
       "    <tr>\n",
       "      <th>0</th>\n",
       "      <td>서울</td>\n",
       "      <td>2013년12월</td>\n",
       "      <td>18189</td>\n",
       "      <td>2013</td>\n",
       "      <td>12</td>\n",
       "    </tr>\n",
       "    <tr>\n",
       "      <th>1</th>\n",
       "      <td>부산</td>\n",
       "      <td>2013년12월</td>\n",
       "      <td>8111</td>\n",
       "      <td>2013</td>\n",
       "      <td>12</td>\n",
       "    </tr>\n",
       "  </tbody>\n",
       "</table>\n",
       "</div>"
      ],
      "text/plain": [
       "  지역명        기간  평당분양가격    연도   월\n",
       "0  서울  2013년12월   18189  2013  12\n",
       "1  부산  2013년12월    8111  2013  12"
      ]
     },
     "execution_count": 123,
     "metadata": {},
     "output_type": "execute_result"
    }
   ],
   "source": [
    "df_first_melt.head(2)"
   ]
  },
  {
   "cell_type": "code",
   "execution_count": 124,
   "metadata": {},
   "outputs": [
    {
     "data": {
      "text/html": [
       "<div>\n",
       "<style scoped>\n",
       "    .dataframe tbody tr th:only-of-type {\n",
       "        vertical-align: middle;\n",
       "    }\n",
       "\n",
       "    .dataframe tbody tr th {\n",
       "        vertical-align: top;\n",
       "    }\n",
       "\n",
       "    .dataframe thead th {\n",
       "        text-align: right;\n",
       "    }\n",
       "</style>\n",
       "<table border=\"1\" class=\"dataframe\">\n",
       "  <thead>\n",
       "    <tr style=\"text-align: right;\">\n",
       "      <th></th>\n",
       "      <th>지역명</th>\n",
       "      <th>연도</th>\n",
       "      <th>월</th>\n",
       "      <th>평당분양가격</th>\n",
       "      <th>전용면적</th>\n",
       "    </tr>\n",
       "  </thead>\n",
       "  <tbody>\n",
       "    <tr>\n",
       "      <th>0</th>\n",
       "      <td>서울</td>\n",
       "      <td>2015</td>\n",
       "      <td>10</td>\n",
       "      <td>19275.3</td>\n",
       "      <td>전체</td>\n",
       "    </tr>\n",
       "    <tr>\n",
       "      <th>1</th>\n",
       "      <td>서울</td>\n",
       "      <td>2015</td>\n",
       "      <td>10</td>\n",
       "      <td>18651.6</td>\n",
       "      <td>60㎡</td>\n",
       "    </tr>\n",
       "  </tbody>\n",
       "</table>\n",
       "</div>"
      ],
      "text/plain": [
       "  지역명    연도   월   평당분양가격 전용면적\n",
       "0  서울  2015  10  19275.3   전체\n",
       "1  서울  2015  10  18651.6  60㎡"
      ]
     },
     "execution_count": 124,
     "metadata": {},
     "output_type": "execute_result"
    }
   ],
   "source": [
    "df_last.head(2)"
   ]
  },
  {
   "cell_type": "code",
   "execution_count": 125,
   "metadata": {},
   "outputs": [],
   "source": [
    "# 'df_first_melt', 'df_last'를 concat으로 병합..\n",
    "# 1.  'df_first_melt' - '기간' col을 삭제\n",
    "# 2. df_last - 전용면적 '전체'인 데이터만 남기고 '전용면적' 칼럼 삭제..\n",
    "# 3. df로 병합..."
   ]
  },
  {
   "cell_type": "code",
   "execution_count": 128,
   "metadata": {},
   "outputs": [],
   "source": [
    "#1 기간' col을 삭제\n",
    "df_first_melt.drop('기간', axis=1, inplace=True)"
   ]
  },
  {
   "cell_type": "code",
   "execution_count": 133,
   "metadata": {},
   "outputs": [],
   "source": [
    "#2-1 전용면적 '전체'인 데이터만 남기고\n",
    "df_last = df_last[df_last['전용면적']=='전체'].copy()"
   ]
  },
  {
   "cell_type": "code",
   "execution_count": 136,
   "metadata": {},
   "outputs": [],
   "source": [
    "#2-2 전용면적' 칼럼 삭제\n",
    "df_last.drop('전용면적', axis=1, inplace=True)"
   ]
  },
  {
   "cell_type": "code",
   "execution_count": 147,
   "metadata": {},
   "outputs": [
    {
     "name": "stdout",
     "output_type": "stream",
     "text": [
      "<class 'pandas.core.frame.DataFrame'>\n",
      "Int64Index: 867 entries, 0 to 4330\n",
      "Data columns (total 4 columns):\n",
      " #   Column  Non-Null Count  Dtype  \n",
      "---  ------  --------------  -----  \n",
      " 0   지역명     867 non-null    object \n",
      " 1   연도      867 non-null    int64  \n",
      " 2   월       867 non-null    int64  \n",
      " 3   평당분양가격  841 non-null    float64\n",
      "dtypes: float64(1), int64(2), object(1)\n",
      "memory usage: 33.9+ KB\n"
     ]
    }
   ],
   "source": [
    "#3 df로 병합\n",
    "df_last.info()"
   ]
  },
  {
   "cell_type": "code",
   "execution_count": 148,
   "metadata": {},
   "outputs": [
    {
     "name": "stdout",
     "output_type": "stream",
     "text": [
      "<class 'pandas.core.frame.DataFrame'>\n",
      "RangeIndex: 357 entries, 0 to 356\n",
      "Data columns (total 4 columns):\n",
      " #   Column  Non-Null Count  Dtype  \n",
      "---  ------  --------------  -----  \n",
      " 0   지역명     357 non-null    object \n",
      " 1   평당분양가격  357 non-null    float64\n",
      " 2   연도      357 non-null    int64  \n",
      " 3   월       357 non-null    int64  \n",
      "dtypes: float64(1), int64(2), object(1)\n",
      "memory usage: 11.3+ KB\n"
     ]
    }
   ],
   "source": [
    "df_first_melt.info()"
   ]
  },
  {
   "cell_type": "code",
   "execution_count": 151,
   "metadata": {},
   "outputs": [],
   "source": [
    "df = pd.concat([df_last, df_first_melt])"
   ]
  },
  {
   "cell_type": "code",
   "execution_count": 152,
   "metadata": {},
   "outputs": [],
   "source": [
    "# 연도별 데이터의 갯수.."
   ]
  },
  {
   "cell_type": "code",
   "execution_count": 154,
   "metadata": {},
   "outputs": [
    {
     "data": {
      "text/html": [
       "<div>\n",
       "<style scoped>\n",
       "    .dataframe tbody tr th:only-of-type {\n",
       "        vertical-align: middle;\n",
       "    }\n",
       "\n",
       "    .dataframe tbody tr th {\n",
       "        vertical-align: top;\n",
       "    }\n",
       "\n",
       "    .dataframe thead th {\n",
       "        text-align: right;\n",
       "    }\n",
       "</style>\n",
       "<table border=\"1\" class=\"dataframe\">\n",
       "  <thead>\n",
       "    <tr style=\"text-align: right;\">\n",
       "      <th></th>\n",
       "      <th>지역명</th>\n",
       "      <th>연도</th>\n",
       "      <th>월</th>\n",
       "      <th>평당분양가격</th>\n",
       "    </tr>\n",
       "  </thead>\n",
       "  <tbody>\n",
       "    <tr>\n",
       "      <th>0</th>\n",
       "      <td>서울</td>\n",
       "      <td>2015</td>\n",
       "      <td>10</td>\n",
       "      <td>19275.3</td>\n",
       "    </tr>\n",
       "  </tbody>\n",
       "</table>\n",
       "</div>"
      ],
      "text/plain": [
       "  지역명    연도   월   평당분양가격\n",
       "0  서울  2015  10  19275.3"
      ]
     },
     "execution_count": 154,
     "metadata": {},
     "output_type": "execute_result"
    }
   ],
   "source": [
    "df.head(1)"
   ]
  },
  {
   "cell_type": "code",
   "execution_count": 155,
   "metadata": {},
   "outputs": [
    {
     "data": {
      "text/plain": [
       "연도\n",
       "2013     17\n",
       "2014    204\n",
       "2015    187\n",
       "2016    204\n",
       "2017    204\n",
       "2018    204\n",
       "2019    204\n",
       "Name: 월, dtype: int64"
      ]
     },
     "execution_count": 155,
     "metadata": {},
     "output_type": "execute_result"
    }
   ],
   "source": [
    "df.groupby('연도')['월'].count()"
   ]
  },
  {
   "cell_type": "code",
   "execution_count": 156,
   "metadata": {
    "collapsed": true
   },
   "outputs": [
    {
     "data": {
      "text/plain": [
       "<matplotlib.axes._subplots.AxesSubplot at 0x1825aa5c160>"
      ]
     },
     "execution_count": 156,
     "metadata": {},
     "output_type": "execute_result"
    },
    {
     "data": {
      "image/png": "[encoded data removed]",
      "text/plain": [
       "<Figure size 432x288 with 1 Axes>"
      ]
     },
     "metadata": {
      "needs_background": "light"
     },
     "output_type": "display_data"
    }
   ],
   "source": [
    "df.groupby('연도')['월'].count().plot(kind='bar')"
   ]
  },
  {
   "cell_type": "code",
   "execution_count": 158,
   "metadata": {
    "collapsed": true
   },
   "outputs": [
    {
     "data": {
      "text/plain": [
       "<matplotlib.axes._subplots.AxesSubplot at 0x1825b634df0>"
      ]
     },
     "execution_count": 158,
     "metadata": {},
     "output_type": "execute_result"
    },
    {
     "data": {
      "image/png": "[encoded data removed]",
      "text/plain": [
       "<Figure size 432x288 with 1 Axes>"
      ]
     },
     "metadata": {
      "needs_background": "light"
     },
     "output_type": "display_data"
    }
   ],
   "source": [
    "df.groupby('연도')['평당분양가격'].mean().plot(kind='bar')"
   ]
  },
  {
   "cell_type": "code",
   "execution_count": 159,
   "metadata": {},
   "outputs": [],
   "source": [
    "# 지역별로 연간 분양평균가격의 변화추세를 table과 chart로 표시하시오."
   ]
  },
  {
   "cell_type": "code",
   "execution_count": 166,
   "metadata": {
    "collapsed": true
   },
   "outputs": [
    {
     "data": {
      "text/plain": [
       "<matplotlib.axes._subplots.AxesSubplot at 0x1825b774ac0>"
      ]
     },
     "execution_count": 166,
     "metadata": {},
     "output_type": "execute_result"
    },
    {
     "data": {
      "image/png": "[encoded data removed]",
      "text/plain": [
       "<Figure size 432x288 with 1 Axes>"
      ]
     },
     "metadata": {
      "needs_background": "light"
     },
     "output_type": "display_data"
    }
   ],
   "source": [
    "df.groupby(['연도','지역명'])['평당분양가격'].mean().unstack().plot()"
   ]
  },
  {
   "cell_type": "code",
   "execution_count": 168,
   "metadata": {
    "collapsed": true
   },
   "outputs": [
    {
     "data": {
      "text/html": [
       "<div>\n",
       "<style scoped>\n",
       "    .dataframe tbody tr th:only-of-type {\n",
       "        vertical-align: middle;\n",
       "    }\n",
       "\n",
       "    .dataframe tbody tr th {\n",
       "        vertical-align: top;\n",
       "    }\n",
       "\n",
       "    .dataframe thead th {\n",
       "        text-align: right;\n",
       "    }\n",
       "</style>\n",
       "<table border=\"1\" class=\"dataframe\">\n",
       "  <thead>\n",
       "    <tr style=\"text-align: right;\">\n",
       "      <th>지역명</th>\n",
       "      <th>강원</th>\n",
       "      <th>경기</th>\n",
       "      <th>경남</th>\n",
       "      <th>경북</th>\n",
       "      <th>광주</th>\n",
       "      <th>대구</th>\n",
       "      <th>대전</th>\n",
       "      <th>부산</th>\n",
       "      <th>서울</th>\n",
       "      <th>세종</th>\n",
       "      <th>울산</th>\n",
       "      <th>인천</th>\n",
       "      <th>전남</th>\n",
       "      <th>전북</th>\n",
       "      <th>제주</th>\n",
       "      <th>충남</th>\n",
       "      <th>충북</th>\n",
       "    </tr>\n",
       "    <tr>\n",
       "      <th>연도</th>\n",
       "      <th></th>\n",
       "      <th></th>\n",
       "      <th></th>\n",
       "      <th></th>\n",
       "      <th></th>\n",
       "      <th></th>\n",
       "      <th></th>\n",
       "      <th></th>\n",
       "      <th></th>\n",
       "      <th></th>\n",
       "      <th></th>\n",
       "      <th></th>\n",
       "      <th></th>\n",
       "      <th></th>\n",
       "      <th></th>\n",
       "      <th></th>\n",
       "      <th></th>\n",
       "    </tr>\n",
       "  </thead>\n",
       "  <tbody>\n",
       "    <tr>\n",
       "      <th>2013</th>\n",
       "      <td>6230.000000</td>\n",
       "      <td>10855.000000</td>\n",
       "      <td>6473.000000</td>\n",
       "      <td>6168.000000</td>\n",
       "      <td>6098.000000</td>\n",
       "      <td>8080.000000</td>\n",
       "      <td>8321.000000</td>\n",
       "      <td>8111.000000</td>\n",
       "      <td>18189.00</td>\n",
       "      <td>7601.000000</td>\n",
       "      <td>8090.000000</td>\n",
       "      <td>10204.000000</td>\n",
       "      <td>5678.000000</td>\n",
       "      <td>6282.000000</td>\n",
       "      <td>7674.000000</td>\n",
       "      <td>6365.000000</td>\n",
       "      <td>6589.000000</td>\n",
       "    </tr>\n",
       "    <tr>\n",
       "      <th>2014</th>\n",
       "      <td>6332.500000</td>\n",
       "      <td>10509.083333</td>\n",
       "      <td>6728.750000</td>\n",
       "      <td>6536.500000</td>\n",
       "      <td>7587.833333</td>\n",
       "      <td>8286.083333</td>\n",
       "      <td>8240.333333</td>\n",
       "      <td>9180.166667</td>\n",
       "      <td>18997.25</td>\n",
       "      <td>8085.333333</td>\n",
       "      <td>8361.666667</td>\n",
       "      <td>10074.833333</td>\n",
       "      <td>5718.916667</td>\n",
       "      <td>6362.333333</td>\n",
       "      <td>7855.166667</td>\n",
       "      <td>6681.583333</td>\n",
       "      <td>6620.000000</td>\n",
       "    </tr>\n",
       "    <tr>\n",
       "      <th>2015</th>\n",
       "      <td>6831.154545</td>\n",
       "      <td>10489.109091</td>\n",
       "      <td>7646.163636</td>\n",
       "      <td>7035.063636</td>\n",
       "      <td>7956.090909</td>\n",
       "      <td>8706.718182</td>\n",
       "      <td>8104.509091</td>\n",
       "      <td>9633.272727</td>\n",
       "      <td>19282.60</td>\n",
       "      <td>8641.227273</td>\n",
       "      <td>9273.336364</td>\n",
       "      <td>10276.845455</td>\n",
       "      <td>6109.263636</td>\n",
       "      <td>6623.290909</td>\n",
       "      <td>7465.327273</td>\n",
       "      <td>7024.490909</td>\n",
       "      <td>6699.572727</td>\n",
       "    </tr>\n",
       "    <tr>\n",
       "      <th>2016</th>\n",
       "      <td>7011.125000</td>\n",
       "      <td>11220.000000</td>\n",
       "      <td>7847.950000</td>\n",
       "      <td>7360.650000</td>\n",
       "      <td>8898.725000</td>\n",
       "      <td>10310.025000</td>\n",
       "      <td>8501.625000</td>\n",
       "      <td>10429.925000</td>\n",
       "      <td>20663.50</td>\n",
       "      <td>8860.500000</td>\n",
       "      <td>10208.550000</td>\n",
       "      <td>10532.500000</td>\n",
       "      <td>6488.625000</td>\n",
       "      <td>6417.950000</td>\n",
       "      <td>9129.175000</td>\n",
       "      <td>7330.675000</td>\n",
       "      <td>6770.225000</td>\n",
       "    </tr>\n",
       "    <tr>\n",
       "      <th>2017</th>\n",
       "      <td>7126.800000</td>\n",
       "      <td>11850.000000</td>\n",
       "      <td>8119.800000</td>\n",
       "      <td>7794.900000</td>\n",
       "      <td>9463.500000</td>\n",
       "      <td>11455.800000</td>\n",
       "      <td>9044.700000</td>\n",
       "      <td>11577.900000</td>\n",
       "      <td>21375.90</td>\n",
       "      <td>9135.300000</td>\n",
       "      <td>11345.100000</td>\n",
       "      <td>10736.700000</td>\n",
       "      <td>7187.700000</td>\n",
       "      <td>7057.800000</td>\n",
       "      <td>10830.900000</td>\n",
       "      <td>7456.200000</td>\n",
       "      <td>6762.600000</td>\n",
       "    </tr>\n",
       "    <tr>\n",
       "      <th>2018</th>\n",
       "      <td>7680.750000</td>\n",
       "      <td>13185.975000</td>\n",
       "      <td>9019.450000</td>\n",
       "      <td>8505.200000</td>\n",
       "      <td>9855.725000</td>\n",
       "      <td>12075.800000</td>\n",
       "      <td>10180.225000</td>\n",
       "      <td>12997.875000</td>\n",
       "      <td>22889.35</td>\n",
       "      <td>10354.850000</td>\n",
       "      <td>10241.400000</td>\n",
       "      <td>11273.900000</td>\n",
       "      <td>7789.100000</td>\n",
       "      <td>7625.750000</td>\n",
       "      <td>11890.725000</td>\n",
       "      <td>8012.675000</td>\n",
       "      <td>7874.075000</td>\n",
       "    </tr>\n",
       "    <tr>\n",
       "      <th>2019</th>\n",
       "      <td>8141.650000</td>\n",
       "      <td>14468.850000</td>\n",
       "      <td>9870.850000</td>\n",
       "      <td>8856.650000</td>\n",
       "      <td>11822.800000</td>\n",
       "      <td>13852.025000</td>\n",
       "      <td>11777.700000</td>\n",
       "      <td>13116.400000</td>\n",
       "      <td>26131.05</td>\n",
       "      <td>11078.925000</td>\n",
       "      <td>10022.100000</td>\n",
       "      <td>12634.875000</td>\n",
       "      <td>7902.400000</td>\n",
       "      <td>8196.650000</td>\n",
       "      <td>12137.950000</td>\n",
       "      <td>8606.950000</td>\n",
       "      <td>7574.600000</td>\n",
       "    </tr>\n",
       "  </tbody>\n",
       "</table>\n",
       "</div>"
      ],
      "text/plain": [
       "지역명            강원            경기           경남           경북            광주  \\\n",
       "연도                                                                        \n",
       "2013  6230.000000  10855.000000  6473.000000  6168.000000   6098.000000   \n",
       "2014  6332.500000  10509.083333  6728.750000  6536.500000   7587.833333   \n",
       "2015  6831.154545  10489.109091  7646.163636  7035.063636   7956.090909   \n",
       "2016  7011.125000  11220.000000  7847.950000  7360.650000   8898.725000   \n",
       "2017  7126.800000  11850.000000  8119.800000  7794.900000   9463.500000   \n",
       "2018  7680.750000  13185.975000  9019.450000  8505.200000   9855.725000   \n",
       "2019  8141.650000  14468.850000  9870.850000  8856.650000  11822.800000   \n",
       "\n",
       "지역명             대구            대전            부산        서울            세종  \\\n",
       "연도                                                                       \n",
       "2013   8080.000000   8321.000000   8111.000000  18189.00   7601.000000   \n",
       "2014   8286.083333   8240.333333   9180.166667  18997.25   8085.333333   \n",
       "2015   8706.718182   8104.509091   9633.272727  19282.60   8641.227273   \n",
       "2016  10310.025000   8501.625000  10429.925000  20663.50   8860.500000   \n",
       "2017  11455.800000   9044.700000  11577.900000  21375.90   9135.300000   \n",
       "2018  12075.800000  10180.225000  12997.875000  22889.35  10354.850000   \n",
       "2019  13852.025000  11777.700000  13116.400000  26131.05  11078.925000   \n",
       "\n",
       "지역명             울산            인천           전남           전북            제주  \\\n",
       "연도                                                                         \n",
       "2013   8090.000000  10204.000000  5678.000000  6282.000000   7674.000000   \n",
       "2014   8361.666667  10074.833333  5718.916667  6362.333333   7855.166667   \n",
       "2015   9273.336364  10276.845455  6109.263636  6623.290909   7465.327273   \n",
       "2016  10208.550000  10532.500000  6488.625000  6417.950000   9129.175000   \n",
       "2017  11345.100000  10736.700000  7187.700000  7057.800000  10830.900000   \n",
       "2018  10241.400000  11273.900000  7789.100000  7625.750000  11890.725000   \n",
       "2019  10022.100000  12634.875000  7902.400000  8196.650000  12137.950000   \n",
       "\n",
       "지역명            충남           충북  \n",
       "연도                              \n",
       "2013  6365.000000  6589.000000  \n",
       "2014  6681.583333  6620.000000  \n",
       "2015  7024.490909  6699.572727  \n",
       "2016  7330.675000  6770.225000  \n",
       "2017  7456.200000  6762.600000  \n",
       "2018  8012.675000  7874.075000  \n",
       "2019  8606.950000  7574.600000  "
      ]
     },
     "execution_count": 168,
     "metadata": {},
     "output_type": "execute_result"
    }
   ],
   "source": [
    "t = df.groupby(['연도','지역명'])['평당분양가격'].mean().unstack()\n",
    "t"
   ]
  },
  {
   "cell_type": "code",
   "execution_count": 176,
   "metadata": {
    "collapsed": true
   },
   "outputs": [
    {
     "data": {
      "text/plain": [
       "<matplotlib.axes._subplots.AxesSubplot at 0x1825caaaca0>"
      ]
     },
     "execution_count": 176,
     "metadata": {},
     "output_type": "execute_result"
    },
    {
     "data": {
      "image/png": "[encoded data removed]",
      "text/plain": [
       "<Figure size 1080x504 with 2 Axes>"
      ]
     },
     "metadata": {
      "needs_background": "light"
     },
     "output_type": "display_data"
    }
   ],
   "source": [
    "plt.figure(figsize=(15,7))\n",
    "sns.heatmap(t, cmap='Blues', annot=True, fmt='.0f')"
   ]
  },
  {
   "cell_type": "code",
   "execution_count": 177,
   "metadata": {},
   "outputs": [],
   "source": [
    "# 연도별 평균 분양가격 boxplot그리기.."
   ]
  },
  {
   "cell_type": "code",
   "execution_count": 178,
   "metadata": {},
   "outputs": [
    {
     "data": {
      "text/plain": [
       "<matplotlib.axes._subplots.AxesSubplot at 0x1825d71bfa0>"
      ]
     },
     "execution_count": 178,
     "metadata": {},
     "output_type": "execute_result"
    },
    {
     "data": {
      "image/png": "[encoded data removed]",
      "text/plain": [
       "<Figure size 432x288 with 1 Axes>"
      ]
     },
     "metadata": {
      "needs_background": "light"
     },
     "output_type": "display_data"
    }
   ],
   "source": [
    "sns.boxplot(data=df, x='연도', y = '평당분양가격')"
   ]
  },
  {
   "cell_type": "code",
   "execution_count": 179,
   "metadata": {},
   "outputs": [
    {
     "data": {
      "text/plain": [
       "<matplotlib.axes._subplots.AxesSubplot at 0x1825d92d5b0>"
      ]
     },
     "execution_count": 179,
     "metadata": {},
     "output_type": "execute_result"
    },
    {
     "data": {
      "image/png": "[encoded data removed]",
      "text/plain": [
       "<Figure size 432x288 with 1 Axes>"
      ]
     },
     "metadata": {
      "needs_background": "light"
     },
     "output_type": "display_data"
    }
   ],
   "source": [
    "sns.boxplot(data=df, x='지역명', y = '평당분양가격')"
   ]
  },
  {
   "cell_type": "code",
   "execution_count": null,
   "metadata": {},
   "outputs": [],
   "source": []
  }
 ],
 "metadata": {
  "kernelspec": {
   "display_name": "Python 3",
   "language": "python",
   "name": "python3"
  },
  "language_info": {
   "codemirror_mode": {
    "name": "ipython",
    "version": 3
   },
   "file_extension": ".py",
   "mimetype": "text/x-python",
   "name": "python",
   "nbconvert_exporter": "python",
   "pygments_lexer": "ipython3",
   "version": "3.8.3"
  }
 },
 "nbformat": 4,
 "nbformat_minor": 4
}
